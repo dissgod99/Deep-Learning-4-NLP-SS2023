{
  "cells": [
    {
      "cell_type": "code",
      "execution_count": null,
      "metadata": {
        "colab": {
          "base_uri": "https://localhost:8080/"
        },
        "id": "QiYEF-Fy92ky",
        "outputId": "d2f2b4fe-8c8e-4efc-dcad-ddc5d38831a3"
      },
      "outputs": [
        {
          "name": "stdout",
          "output_type": "stream",
          "text": [
            "Mounted at /content/drive\n",
            "/content/drive/My Drive/Colab Notebooks/hw3\n"
          ]
        }
      ],
      "source": [
        "from google.colab import drive\n",
        "drive.mount('/content/drive')\n",
        "%cd /content/drive/My Drive/Colab Notebooks/hw3"
      ]
    },
    {
      "attachments": {},
      "cell_type": "markdown",
      "metadata": {
        "id": "7g3LeIyQ9-kj"
      },
      "source": [
        "# **Task 1:  Sequence Tagging with RNNs**\n",
        "\n",
        "In this task, you will implement LSTM and Bi-LSTM architectures with PyTorch to perform part-of-speech tagging (a sequence tagging task).\n",
        "\n",
        "### **Data**\n",
        "We use a subset of the data from the CoNLL-2003 shared task on Named Entity Recognition (provided in the zip). It is pre-partioned into a training, development and test set.\n",
        "\n",
        "The dataset consists of pre-tokenized sentences where every token is annotated with a part-of-speech tag, a syntactic chunk tag and a named entity tag. In this home exercise, we only use the IOB named entity recognition tag."
      ]
    },
    {
      "cell_type": "code",
      "execution_count": null,
      "metadata": {
        "id": "zEJqyHIV3bC2"
      },
      "outputs": [],
      "source": [
        "import torch\n",
        "import torch.nn as nn\n",
        "import os\n",
        "import re\n",
        "import numpy as np\n",
        "from collections import defaultdict\n",
        "from sklearn.metrics import f1_score\n",
        "import matplotlib.pyplot as plt\n",
        "import random"
      ]
    },
    {
      "cell_type": "code",
      "execution_count": null,
      "metadata": {
        "id": "_KWHF5f8MXgo"
      },
      "outputs": [],
      "source": [
        "def seed_everything(seed: int):\n",
        "\n",
        "    random.seed(seed)\n",
        "    os.environ['PYTHONHASHSEED'] = str(seed)\n",
        "    np.random.seed(seed)\n",
        "    torch.manual_seed(seed)\n",
        "    torch.cuda.manual_seed(seed)\n",
        "    torch.backends.cudnn.deterministic = True\n",
        "    torch.backends.cudnn.benchmark = True\n",
        "    torch.set_default_tensor_type(torch.FloatTensor) #added to avoid datatype problems\n",
        "\n",
        "seed_everything(seed=999)"
      ]
    },
    {
      "attachments": {},
      "cell_type": "markdown",
      "metadata": {
        "id": "Nb1gCI-f-mJ5"
      },
      "source": [
        "## **Task 1.1: Pretrained Embeddings (5p)**\n",
        "\n",
        "Download the pretrained, uncased GloVe embeddings with 6B tokens [glove.6B.zip](https://nlp.stanford.edu/projects/glove/) from Stanford.\n",
        "\n",
        "For performance reasons, we will only use the 50-dimensional embeddings **glove.6B.50d.txt**.\n",
        "\n",
        "Implement a function to read the embedding and another function to read the dataset."
      ]
    },
    {
      "cell_type": "code",
      "execution_count": null,
      "metadata": {
        "id": "z4L2qEqct9KE"
      },
      "outputs": [],
      "source": [
        "# https://medium.com/analytics-vidhya/ner-tensorflow-2-2-0-9f10dcf5a0a\n",
        "\"\"\"\n",
        "  Store each sentence seperately. Each token of the sentences is stored with its corresponding IOB named entity recognition tag\n",
        "\"\"\"\n",
        "\n",
        "def split_text_label(filename):\n",
        "  f = open(filename)\n",
        "  split_labeled_text = []\n",
        "  sentence = []\n",
        "  for line in f:\n",
        "    if len(line)==0 or line.startswith('-DOCSTART') or line[0]==\"\\n\":\n",
        "       if len(sentence) > 0:\n",
        "         split_labeled_text.append(sentence)\n",
        "         sentence = []\n",
        "       continue\n",
        "    splits = line.split(' ')\n",
        "    sentence.append([splits[0],splits[-1].rstrip(\"\\n\")])\n",
        "  if len(sentence) > 0:\n",
        "    split_labeled_text.append(sentence)\n",
        "    sentence = []\n",
        "  return split_labeled_text"
      ]
    },
    {
      "cell_type": "code",
      "execution_count": null,
      "metadata": {
        "id": "gmpt_ya90sJw"
      },
      "outputs": [],
      "source": [
        "def read_data(path):\n",
        "    data = defaultdict(list)\n",
        "    label = defaultdict(list)\n",
        "    # TODO: YOUR CODE HERE\n",
        "\n",
        "    text_label = split_text_label(filename=path)\n",
        "    for idx, sent in enumerate(text_label):\n",
        "      words = []\n",
        "      iob_labels = []\n",
        "      for word_iob in sent:\n",
        "        words.append(word_iob[0]) #add word\n",
        "        iob_labels.append(word_iob[1]) #add iob tag\n",
        "\n",
        "      data[idx] = words\n",
        "      label[idx] = iob_labels\n",
        "\n",
        "    return data, label\n",
        "\n",
        "def get_pretrained_embeddings(embedding_path):\n",
        "    embeddings = defaultdict(list)\n",
        "    # TODO: YOUR CODE HERE\n",
        "    with open(\"glove.6B.50d.txt\", \"r\") as file:\n",
        "      for line in file:\n",
        "        line = line.strip()\n",
        "        word = line.split(\" \")[0]\n",
        "        vector = np.array([float(n) for n in line.split(\" \")[1:]])\n",
        "\n",
        "        embeddings[word] = vector\n",
        "\n",
        "    return embeddings"
      ]
    },
    {
      "attachments": {},
      "cell_type": "markdown",
      "metadata": {
        "id": "fCdGcnwv_f7o"
      },
      "source": [
        "## **Task 1.2: LSTM and Bi-LSTM Model (10p)**\n",
        "\n",
        "We will use PyTorch to build our LSTM. Complete the `__init__()` and the `forward()` function of the CustomLSTM class. The model will have the following components:\n",
        "- A single [LSTM](https://pytorch.org/docs/stable/generated/torch.nn.LSTM.html) layer which takes the embeddings as input and has 100-dimensional hidden layer. The LSTM is **not** bidirectional.\n",
        "- A dropout layer with probability 0.1\n",
        "- A linear layer with input size of 100 (the hidden layer size of the LSTM layer) and output size of the number of labels\n",
        "- A [Sigmoid](https://pytorch.org/docs/stable/generated/torch.nn.Sigmoid.html) activation function"
      ]
    },
    {
      "cell_type": "code",
      "execution_count": 30,
      "metadata": {
        "id": "Z9QoXzQSoiBS"
      },
      "outputs": [],
      "source": [
        "from torch.nn.modules import dropout\n",
        "class CustomLSTM(nn.Module):\n",
        "    def __init__(self, input_size, hidden_size, num_layers, num_labels):\n",
        "        super(CustomLSTM, self).__init__()\n",
        "        # TODO: YOUR CODE HERE\n",
        "        self.input_size = input_size\n",
        "        self.hidden_size = hidden_size\n",
        "        self.num_layers = num_layers\n",
        "        self.num_labels = num_labels\n",
        "\n",
        "        self.lstm = nn.LSTM(input_size=input_size, hidden_size=hidden_size, num_layers=num_layers, dropout=0.1, bidirectional=False)\n",
        "        self.linear = nn.Linear(in_features=100, out_features=num_labels) # replace 100 with hidden_size maybe\n",
        "        self.sigmoid = nn.Sigmoid()\n",
        "\n",
        "    def forward(self, x):\n",
        "        # TODO: YOUR CODE HERE\n",
        "        #LSTM’s output corresponding to all timesteps\n",
        "        output, (h_n, c_n) = self.lstm(x)\n",
        "        last_hidden_state = output[-1] # can also be h_n   see https://towardsdatascience.com/implementation-differences-in-lstm-layers-tensorflow-vs-pytorch-77a31d742f74#:~:text=The%20output%20of%20the%20Pytorch,another%20tuple%20with%20two%20elements.\n",
        "        linear_output = self.linear(last_hidden_state)\n",
        "        \"\"\"removing the sigmoid layer resulted in far better loss and f1 score values\"\"\"\n",
        "        #output = self.sigmoid(linear_output)\n",
        "\n",
        "        return linear_output"
      ]
    },
    {
      "attachments": {},
      "cell_type": "markdown",
      "metadata": {
        "id": "egNWahhpoiu_"
      },
      "source": [
        "## **Task 1.3: Training Model (10p)**\n",
        "\n",
        "Complete the function `train` to train your model. The model will train with batch size of 1 (each sentence split by \"\\n\" is a sample) for 10 epochs. You will train the model with the train dataset and use dev dataset to check the model's performance after each epoch. Calculate the macro f1 score of the model on the dev set. Return the losses and f1 scores for plotting.\n",
        "\n",
        "**Hint**: you can check out this [link](https://pytorch.org/tutorials/beginner/introyt/trainingyt.html#the-training-loop) to get to know more about how to train model with pytorch. For the f1 score you can use `sklearn.metrics.f1_score`, remember to set the `average` parameter to \"macro\".\n"
      ]
    },
    {
      "cell_type": "code",
      "execution_count": 31,
      "metadata": {
        "id": "fQLhObb_HJn0"
      },
      "outputs": [],
      "source": [
        "def label_encode(labels):\n",
        "    labels_list = {'B-LOC': 0, 'B-MISC': 1, 'B-ORG': 2, 'B-PER': 3, 'I-LOC': 4, 'I-MISC': 5, 'I-ORG': 6, 'I-PER': 7,\n",
        "                   'O': 8}\n",
        "    labels_encode = [labels_list[label] for label in labels]\n",
        "    return labels_encode"
      ]
    },
    {
      "cell_type": "code",
      "execution_count": 32,
      "metadata": {
        "id": "Jg4WnZx2dej3"
      },
      "outputs": [],
      "source": [
        "# Change this to your path to the dataset\n",
        "train = \"data/ner_eng_bio.train\"\n",
        "test = \"data/ner_eng_bio.test\"\n",
        "dev = \"data/ner_eng_bio.dev\"\n",
        "\n",
        "embeddings = get_pretrained_embeddings(\"embeddings/glove.6B.50d.txt\")\n",
        "\n",
        "train_data, train_label = read_data(train)\n",
        "test_data, test_label = read_data(test)\n",
        "dev_data, dev_label = read_data(dev)\n",
        "\n",
        "EMBEDDING_SIZE = embeddings[\"get\"].shape[0]\n",
        "\n",
        "# Change the Hyperparameters here\n",
        "input_size = EMBEDDING_SIZE\n",
        "hidden_size = 100\n",
        "num_layers = 2\n",
        "num_labels = 9\n",
        "epochs = 10"
      ]
    },
    {
      "cell_type": "code",
      "execution_count": 33,
      "metadata": {
        "colab": {
          "base_uri": "https://localhost:8080/"
        },
        "id": "i4l9yECBGYU7",
        "outputId": "e29001c1-d59d-4f06-97fe-a5361f382ed4"
      },
      "outputs": [
        {
          "name": "stdout",
          "output_type": "stream",
          "text": [
            "Train Data == 4434\n",
            "Dev Data == 1317\n",
            "Test Data == 1140\n"
          ]
        }
      ],
      "source": [
        "print(f\"Train Data == {len(train_data)}\")\n",
        "print(f\"Dev Data == {len(dev_data)}\")\n",
        "print(f\"Test Data == {len(test_data)}\")"
      ]
    },
    {
      "cell_type": "code",
      "execution_count": 34,
      "metadata": {
        "id": "9YSRGd8M0eG3"
      },
      "outputs": [],
      "source": [
        "def get_sentence_embeddings(sent: list, embeddings_dict: dict):\n",
        "  out_sentence = []\n",
        "  for token in sent:\n",
        "    if token.lower() in embeddings_dict.keys():\n",
        "      out_sentence.append(embeddings_dict[token.lower()])\n",
        "    else:\n",
        "      out_sentence.append(np.array([0]*50))\n",
        "  return out_sentence"
      ]
    },
    {
      "cell_type": "code",
      "execution_count": 35,
      "metadata": {
        "colab": {
          "base_uri": "https://localhost:8080/"
        },
        "id": "WJreNFlF18BK",
        "outputId": "03e36d0b-00c3-47b2-f57f-fa6ff9ea5c89"
      },
      "outputs": [
        {
          "name": "stdout",
          "output_type": "stream",
          "text": [
            "EPOCH 1:\n",
            "Finished epoch 1\n",
            "Epoch 1/10: Train Loss: 0.4392 | Dev Loss: 0.4761 | Macro F1 Score: 0.3859\n",
            "EPOCH 2:\n",
            "Finished epoch 2\n",
            "Epoch 2/10: Train Loss: 0.3005 | Dev Loss: 0.4424 | Macro F1 Score: 0.4577\n",
            "EPOCH 3:\n",
            "Finished epoch 3\n",
            "Epoch 3/10: Train Loss: 0.2660 | Dev Loss: 0.4329 | Macro F1 Score: 0.5017\n",
            "EPOCH 4:\n",
            "Finished epoch 4\n",
            "Epoch 4/10: Train Loss: 0.2444 | Dev Loss: 0.4060 | Macro F1 Score: 0.5670\n",
            "EPOCH 5:\n",
            "Finished epoch 5\n",
            "Epoch 5/10: Train Loss: 0.2288 | Dev Loss: 0.3964 | Macro F1 Score: 0.5980\n",
            "EPOCH 6:\n",
            "Finished epoch 6\n",
            "Epoch 6/10: Train Loss: 0.2154 | Dev Loss: 0.3898 | Macro F1 Score: 0.6086\n",
            "EPOCH 7:\n",
            "Finished epoch 7\n",
            "Epoch 7/10: Train Loss: 0.2050 | Dev Loss: 0.3847 | Macro F1 Score: 0.6106\n",
            "EPOCH 8:\n",
            "Finished epoch 8\n",
            "Epoch 8/10: Train Loss: 0.1969 | Dev Loss: 0.3847 | Macro F1 Score: 0.6186\n",
            "EPOCH 9:\n",
            "Finished epoch 9\n",
            "Epoch 9/10: Train Loss: 0.1898 | Dev Loss: 0.3926 | Macro F1 Score: 0.6159\n",
            "EPOCH 10:\n",
            "Finished epoch 10\n",
            "Epoch 10/10: Train Loss: 0.1849 | Dev Loss: 0.3939 | Macro F1 Score: 0.6166\n"
          ]
        }
      ],
      "source": [
        "model = CustomLSTM(input_size, hidden_size, num_layers, num_labels)\n",
        "loss_fn = nn.CrossEntropyLoss()\n",
        "optimizer = torch.optim.Adam(model.parameters(), lr=0.001)\n",
        "\n",
        "def train(model, loss_fn, optimizer, train_data, dev_data, train_label, dev_label, epochs):\n",
        "    logs_loss = []\n",
        "    logs_f1_score = []\n",
        "\n",
        "    # Training\n",
        "    for epoch in range(epochs):\n",
        "        # Train with train set\n",
        "        model.train()\n",
        "        # TODO: YOUR CODE HERE\n",
        "        print('EPOCH {}:'.format(epoch + 1))\n",
        "        train_loss = 0.0\n",
        "\n",
        "        for k, sent in train_data.items():\n",
        "          optimizer.zero_grad()\n",
        "\n",
        "\n",
        "          sent_embedding = get_sentence_embeddings(sent=sent, embeddings_dict=embeddings)\n",
        "          input_data = torch.tensor(np.array([sent_embedding]), dtype=torch.float32)\n",
        "          targets = torch.tensor(label_encode(train_label[k]))\n",
        "\n",
        "          # Forward pass\n",
        "          outputs = model(input_data)\n",
        "          loss = loss_fn(outputs, targets)\n",
        "\n",
        "          # Backward pass and optimization\n",
        "          loss.backward()\n",
        "          optimizer.step()\n",
        "\n",
        "          train_loss += loss.item()\n",
        "        average_loss = train_loss / len(train_data) #calculate average loss value of the whole dataset\n",
        "        logs_loss.append(average_loss)\n",
        "\n",
        "        print(f\"Finished epoch {epoch+1}\")\n",
        "\n",
        "        # Evaluate with dev set\n",
        "\n",
        "        with torch.no_grad():\n",
        "            model.eval()\n",
        "            single_dev_loss = 0.0\n",
        "            dev_preds = []\n",
        "            dev_targets = []\n",
        "\n",
        "            for k_dev, sent_dev in dev_data.items():\n",
        "                sent_embedding_dev = get_sentence_embeddings(sent=sent_dev, embeddings_dict=embeddings)\n",
        "                input_data_dev = torch.tensor(np.array([sent_embedding_dev]), dtype=torch.float32)\n",
        "                targets_dev = torch.tensor(label_encode(dev_label[k_dev]))\n",
        "\n",
        "                # Forward pass\n",
        "                outputs_dev = model(input_data_dev)\n",
        "                loss_dev = loss_fn(outputs_dev, targets_dev)\n",
        "                single_dev_loss += loss_dev.item()\n",
        "\n",
        "                # Convert predictions and targets to numpy arrays\n",
        "                predictions = torch.argmax(outputs_dev, dim=1).numpy()\n",
        "                targets_dev = targets_dev.numpy()\n",
        "\n",
        "                #Add predictions and targets into a lists for future f1 score computation\n",
        "                dev_preds.extend(predictions)\n",
        "                dev_targets.extend(targets_dev)\n",
        "\n",
        "            average_dev_loss = single_dev_loss / len(dev_data)\n",
        "\n",
        "            # Calculate macro F1 score\n",
        "            f1 = f1_score(dev_targets, dev_preds, average='macro')\n",
        "            logs_f1_score.append(f1)\n",
        "\n",
        "            print(f\"Epoch {epoch+1}/{epochs}: Train Loss: {average_loss:.4f} | Dev Loss: {average_dev_loss:.4f} | Macro F1 Score: {f1:.4f}\")\n",
        "\n",
        "    return logs_loss, logs_f1_score\n",
        "\n",
        "logs_loss, logs_f1_score = train(model, loss_fn, optimizer, train_data, dev_data, train_label, dev_label, epochs)"
      ]
    },
    {
      "attachments": {},
      "cell_type": "markdown",
      "metadata": {
        "id": "xz6uyUXFWnAe"
      },
      "source": [
        "## **Task 1.4: Visualizing (5p)**\n",
        "\n",
        "Check the performance of the model on the test set and plot the training loss using `matplotlib.pyplot.plot`."
      ]
    },
    {
      "cell_type": "code",
      "execution_count": 36,
      "metadata": {
        "id": "QJ3eG5i6eayp"
      },
      "outputs": [],
      "source": [
        "# Plot with matplotlib\n",
        "def plot_metric_epochs(metric_values:list, x_label_name=\"epochs\" , y_label_name=\"Training Loss\") -> None:\n",
        "  epochs = list(range(len(metric_values)))\n",
        "  plt.plot(epochs, metric_values,  \"-o\")\n",
        "  plt.xticks(list(range(len(metric_values))))\n",
        "  plt.xlabel(x_label_name)\n",
        "  plt.ylabel(y_label_name)\n",
        "  plt.show()"
      ]
    },
    {
      "cell_type": "code",
      "execution_count": 40,
      "metadata": {
        "colab": {
          "base_uri": "https://localhost:8080/"
        },
        "id": "enRLWn887ytw",
        "outputId": "f9e39929-4227-467c-be22-82d5dcb1e7a7"
      },
      "outputs": [
        {
          "name": "stdout",
          "output_type": "stream",
          "text": [
            "PREDICTIONS :10 == [8, 8, 2, 8, 8, 8, 8, 8, 8, 8]\n",
            "TARGETS :10 == [8, 8, 2, 8, 8, 8, 8, 8, 8, 8]\n",
            "**************************************************\n",
            "F1 TEST Score == 0.6094657836087545\n"
          ]
        }
      ],
      "source": [
        "# Evaluate with test set\n",
        "with torch.no_grad():\n",
        "    model.eval()\n",
        "    preds = []\n",
        "    targets = []\n",
        "    # TODO: YOUR CODE HERE\n",
        "    for idx, sent in test_data.items():\n",
        "      sent_embeddings = get_sentence_embeddings(sent=sent, embeddings_dict=embeddings)\n",
        "      input_data_test = torch.tensor(np.array([sent_embeddings]), dtype=torch.float32)\n",
        "      targets_test = torch.tensor(label_encode(test_label[idx]))\n",
        "\n",
        "      out_test = model(input_data_test)\n",
        "\n",
        "      prediction_numpy = torch.argmax(out_test, dim=1).numpy()\n",
        "      targets_test_numpy = targets_test.numpy()\n",
        "\n",
        "      preds.extend(prediction_numpy)\n",
        "      targets.extend(targets_test_numpy)\n",
        "\n",
        "    print(f\"PREDICTIONS :10 == {preds[:10]}\")\n",
        "    print(f\"TARGETS :10 == {targets[:10]}\")\n",
        "    print(\"*\" * 50)\n",
        "    print(f\"F1 TEST Score == {f1_score(targets, preds, average='macro')}\")"
      ]
    },
    {
      "cell_type": "code",
      "execution_count": 41,
      "metadata": {
        "colab": {
          "base_uri": "https://localhost:8080/",
          "height": 452
        },
        "id": "qW4wOg9ceZ--",
        "outputId": "9736e826-615f-4145-d385-cc22a2d093ad"
      },
      "outputs": [
        {
          "data": {
            "image/png": "[encoded data removed]",
            "text/plain": [
              "<Figure size 640x480 with 1 Axes>"
            ]
          },
          "metadata": {},
          "output_type": "display_data"
        }
      ],
      "source": [
        "plot_metric_epochs(metric_values=logs_loss)"
      ]
    },
    {
      "cell_type": "code",
      "execution_count": 42,
      "metadata": {
        "colab": {
          "base_uri": "https://localhost:8080/",
          "height": 449
        },
        "id": "baG3vabCegbL",
        "outputId": "c20c5c7b-a4ad-4028-bf75-50d857f35087"
      },
      "outputs": [
        {
          "data": {
            "image/png": "[encoded data removed]",
            "text/plain": [
              "<Figure size 640x480 with 1 Axes>"
            ]
          },
          "metadata": {},
          "output_type": "display_data"
        }
      ],
      "source": [
        "plot_metric_epochs(metric_values=logs_f1_score, y_label_name=\"macro f1-score\")"
      ]
    }
  ],
  "metadata": {
    "accelerator": "GPU",
    "colab": {
      "gpuType": "T4",
      "provenance": []
    },
    "kernelspec": {
      "display_name": "Python 3",
      "name": "python3"
    },
    "language_info": {
      "name": "python"
    }
  },
  "nbformat": 4,
  "nbformat_minor": 0
}
