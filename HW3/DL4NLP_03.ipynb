{
  "nbformat": 4,
  "nbformat_minor": 0,
  "metadata": {
    "colab": {
      "provenance": [],
      "gpuType": "T4"
    },
    "kernelspec": {
      "name": "python3",
      "display_name": "Python 3"
    },
    "language_info": {
      "name": "python"
    },
    "accelerator": "GPU"
  },
  "cells": [
    {
      "cell_type": "code",
      "source": [
        "from google.colab import drive\n",
        "drive.mount('/content/drive')\n",
        "%cd /content/drive/My Drive/Colab Notebooks/hw3"
      ],
      "metadata": {
        "id": "QiYEF-Fy92ky",
        "colab": {
          "base_uri": "https://localhost:8080/"
        },
        "outputId": "000a879a-899a-4d70-cf82-e423d1dc89d8"
      },
      "execution_count": 1,
      "outputs": [
        {
          "output_type": "stream",
          "name": "stdout",
          "text": [
            "Mounted at /content/drive\n",
            "/content/drive/My Drive/Colab Notebooks/hw3\n"
          ]
        }
      ]
    },
    {
      "cell_type": "markdown",
      "source": [
        "# **Task 1:  Sequence Tagging with RNNs**\n",
        "\n",
        "In this task, you will implement LSTM and Bi-LSTM architectures with PyTorch to perform part-of-speech tagging (a sequence tagging task).\n",
        "\n",
        "### **Data**\n",
        "We use a subset of the data from the CoNLL-2003 shared task on Named Entity Recognition (provided in the zip). It is pre-partioned into a training, development and test set.\n",
        "\n",
        "The dataset consists of pre-tokenized sentences where every token is annotated with a part-of-speech tag, a syntactic chunk tag and a named entity tag. In this home exercise, we only use the IOB named entity recognition tag."
      ],
      "metadata": {
        "id": "7g3LeIyQ9-kj"
      }
    },
    {
      "cell_type": "code",
      "source": [
        "import torch\n",
        "import torch.nn as nn\n",
        "import os\n",
        "import re\n",
        "import numpy as np\n",
        "from collections import defaultdict\n",
        "from sklearn.metrics import f1_score\n",
        "import matplotlib.pyplot as plt\n",
        "import random"
      ],
      "metadata": {
        "id": "zEJqyHIV3bC2"
      },
      "execution_count": 2,
      "outputs": []
    },
    {
      "cell_type": "code",
      "source": [
        "def seed_everything(seed: int):\n",
        "\n",
        "    random.seed(seed)\n",
        "    os.environ['PYTHONHASHSEED'] = str(seed)\n",
        "    np.random.seed(seed)\n",
        "    torch.manual_seed(seed)\n",
        "    torch.cuda.manual_seed(seed)\n",
        "    torch.backends.cudnn.deterministic = True\n",
        "    torch.backends.cudnn.benchmark = True\n",
        "    torch.set_default_tensor_type(torch.FloatTensor) #added to avoid datatype problems"
      ],
      "metadata": {
        "id": "BRSIDcsXMSu4"
      },
      "execution_count": 3,
      "outputs": []
    },
    {
      "cell_type": "code",
      "source": [
        "seed_everything(seed=999)"
      ],
      "metadata": {
        "id": "_KWHF5f8MXgo"
      },
      "execution_count": 4,
      "outputs": []
    },
    {
      "cell_type": "markdown",
      "source": [
        "## **Task 1.1: Pretrained Embeddings (5p)**\n",
        "\n",
        "Download the pretrained, uncased GloVe embeddings with 6B tokens [glove.6B.zip](https://nlp.stanford.edu/projects/glove/) from Stanford.\n",
        "\n",
        "For performance reasons, we will only use the 50-dimensional embeddings **glove.6B.50d.txt**.\n",
        "\n",
        "Implement a function to read the embedding and another function to read the dataset."
      ],
      "metadata": {
        "id": "Nb1gCI-f-mJ5"
      }
    },
    {
      "cell_type": "code",
      "source": [
        "# https://medium.com/analytics-vidhya/ner-tensorflow-2-2-0-9f10dcf5a0a\n",
        "\"\"\"\n",
        "  Store each sentence seperately. Each token of the sentences is stored with its corresponding IOB named entity recognition tag\n",
        "\"\"\"\n",
        "\n",
        "def split_text_label(filename):\n",
        "  f = open(filename)\n",
        "  split_labeled_text = []\n",
        "  sentence = []\n",
        "  for line in f:\n",
        "    if len(line)==0 or line.startswith('-DOCSTART') or line[0]==\"\\n\":\n",
        "       if len(sentence) > 0:\n",
        "         split_labeled_text.append(sentence)\n",
        "         sentence = []\n",
        "       continue\n",
        "    splits = line.split(' ')\n",
        "    sentence.append([splits[0],splits[-1].rstrip(\"\\n\")])\n",
        "  if len(sentence) > 0:\n",
        "    split_labeled_text.append(sentence)\n",
        "    sentence = []\n",
        "  return split_labeled_text"
      ],
      "metadata": {
        "id": "z4L2qEqct9KE"
      },
      "execution_count": 5,
      "outputs": []
    },
    {
      "cell_type": "code",
      "source": [
        "def read_data(path):\n",
        "    data = defaultdict(list)\n",
        "    label = defaultdict(list)\n",
        "    # TODO: YOUR CODE HERE\n",
        "\n",
        "    text_label = split_text_label(filename=path)\n",
        "    for idx, sent in enumerate(text_label):\n",
        "      words = []\n",
        "      iob_labels = []\n",
        "      for word_iob in sent:\n",
        "        words.append(word_iob[0]) #add word\n",
        "        iob_labels.append(word_iob[1]) #add iob tag\n",
        "\n",
        "      data[idx] = words\n",
        "      label[idx] = iob_labels\n",
        "\n",
        "    return data, label\n",
        "\n",
        "def get_pretrained_embeddings(embedding_path):\n",
        "    embeddings = defaultdict(list)\n",
        "    # TODO: YOUR CODE HERE\n",
        "    with open(\"glove.6B.50d.txt\", \"r\") as file:\n",
        "      for line in file:\n",
        "        line = line.strip()\n",
        "        word = line.split(\" \")[0]\n",
        "        vector = np.array([float(n) for n in line.split(\" \")[1:]])\n",
        "\n",
        "        embeddings[word] = vector\n",
        "\n",
        "    return embeddings"
      ],
      "metadata": {
        "id": "gmpt_ya90sJw"
      },
      "execution_count": 6,
      "outputs": []
    },
    {
      "cell_type": "code",
      "source": [
        "embed = get_pretrained_embeddings(embedding_path=\"glove.6B.50d.txt\")"
      ],
      "metadata": {
        "id": "0xB0-Gc9mQXU"
      },
      "execution_count": 7,
      "outputs": []
    },
    {
      "cell_type": "code",
      "source": [
        "embed[\"get\"].shape[0]"
      ],
      "metadata": {
        "colab": {
          "base_uri": "https://localhost:8080/"
        },
        "id": "KItfD8d-mZhn",
        "outputId": "f953b567-9427-4e0f-9fea-433df1293047"
      },
      "execution_count": 8,
      "outputs": [
        {
          "output_type": "execute_result",
          "data": {
            "text/plain": [
              "50"
            ]
          },
          "metadata": {},
          "execution_count": 8
        }
      ]
    },
    {
      "cell_type": "code",
      "source": [
        "out= split_text_label(\"data/ner_eng_bio.train\")"
      ],
      "metadata": {
        "id": "L5TTPibcuKNS"
      },
      "execution_count": 9,
      "outputs": []
    },
    {
      "cell_type": "code",
      "source": [
        "out[2]"
      ],
      "metadata": {
        "colab": {
          "base_uri": "https://localhost:8080/"
        },
        "id": "BJIb2BsHuPvm",
        "outputId": "d5bd3dc9-2e5a-44ca-e886-e73e365dc7ac"
      },
      "execution_count": 10,
      "outputs": [
        {
          "output_type": "execute_result",
          "data": {
            "text/plain": [
              "[['BRUSSELS', 'B-LOC'], ['1996-08-22', 'O']]"
            ]
          },
          "metadata": {},
          "execution_count": 10
        }
      ]
    },
    {
      "cell_type": "code",
      "source": [
        "data, label = read_data(\"data/ner_eng_bio.train\")"
      ],
      "metadata": {
        "id": "UeK8Sad-xvW2"
      },
      "execution_count": 11,
      "outputs": []
    },
    {
      "cell_type": "code",
      "source": [
        "data[0]"
      ],
      "metadata": {
        "colab": {
          "base_uri": "https://localhost:8080/"
        },
        "id": "7k8llI_Dx0iX",
        "outputId": "92a6015d-20bd-497e-e11b-0debc4c6666d"
      },
      "execution_count": 12,
      "outputs": [
        {
          "output_type": "execute_result",
          "data": {
            "text/plain": [
              "['EU', 'rejects', 'German', 'call', 'to', 'boycott', 'British', 'lamb', '.']"
            ]
          },
          "metadata": {},
          "execution_count": 12
        }
      ]
    },
    {
      "cell_type": "code",
      "source": [
        "label[0]"
      ],
      "metadata": {
        "colab": {
          "base_uri": "https://localhost:8080/"
        },
        "id": "NsvfI0oryAje",
        "outputId": "e364db74-d303-4576-c447-6f7c7b03b570"
      },
      "execution_count": 13,
      "outputs": [
        {
          "output_type": "execute_result",
          "data": {
            "text/plain": [
              "['B-ORG', 'O', 'B-MISC', 'O', 'O', 'O', 'B-MISC', 'O', 'O']"
            ]
          },
          "metadata": {},
          "execution_count": 13
        }
      ]
    },
    {
      "cell_type": "code",
      "source": [
        "counter = 0\n",
        "with open(\"data/ner_eng_bio.train\", \"r\") as file:\n",
        "    for line in file:\n",
        "      print(line.strip().split(\" \"))\n",
        "      if counter == 10:\n",
        "        break\n",
        "      counter += 1"
      ],
      "metadata": {
        "colab": {
          "base_uri": "https://localhost:8080/"
        },
        "id": "kjz1RhREhbLz",
        "outputId": "cb313d62-114c-4b15-ead8-4b108198dd67"
      },
      "execution_count": 14,
      "outputs": [
        {
          "output_type": "stream",
          "name": "stdout",
          "text": [
            "['EU', 'NNP', 'B-NP', 'B-ORG']\n",
            "['rejects', 'VBZ', 'B-VP', 'O']\n",
            "['German', 'JJ', 'B-NP', 'B-MISC']\n",
            "['call', 'NN', 'I-NP', 'O']\n",
            "['to', 'TO', 'B-VP', 'O']\n",
            "['boycott', 'VB', 'I-VP', 'O']\n",
            "['British', 'JJ', 'B-NP', 'B-MISC']\n",
            "['lamb', 'NN', 'I-NP', 'O']\n",
            "['.', '.', 'O', 'O']\n",
            "['']\n",
            "['Peter', 'NNP', 'B-NP', 'B-PER']\n"
          ]
        }
      ]
    },
    {
      "cell_type": "code",
      "source": [
        "\"\"\"dataset = defaultdict(list)\n",
        "labels = defaultdict(list)\n",
        "with open(\"data/ner_eng_bio.train\", \"r\") as file:\n",
        "    sentence = []\n",
        "    sentence_labels = []\n",
        "    for line in file:\n",
        "        line = line.strip()\n",
        "        if line == \"\":\n",
        "            if sentence:\n",
        "                for word, label in zip(sentence, sentence_labels):\n",
        "                    dataset[\"words\"].append(word)\n",
        "                    labels[\"tags\"].append(label)\n",
        "            sentence = []\n",
        "            sentence_labels = []\n",
        "        else:\n",
        "            word, _, _, label = line.split()\n",
        "            sentence.append(word)\n",
        "            sentence_labels.append(label)\"\"\""
      ],
      "metadata": {
        "id": "E0CcQMKRjvkx",
        "colab": {
          "base_uri": "https://localhost:8080/",
          "height": 70
        },
        "outputId": "1cd1afe4-1979-4f0c-dbdd-9e187449c8ae"
      },
      "execution_count": null,
      "outputs": [
        {
          "output_type": "execute_result",
          "data": {
            "text/plain": [
              "'dataset = defaultdict(list)\\nlabels = defaultdict(list)\\nwith open(\"data/ner_eng_bio.train\", \"r\") as file:\\n    sentence = []\\n    sentence_labels = []\\n    for line in file:\\n        line = line.strip()\\n        if line == \"\":\\n            if sentence:\\n                for word, label in zip(sentence, sentence_labels):\\n                    dataset[\"words\"].append(word)\\n                    labels[\"tags\"].append(label)\\n            sentence = []\\n            sentence_labels = []\\n        else:\\n            word, _, _, label = line.split()\\n            sentence.append(word)\\n            sentence_labels.append(label)'"
            ],
            "application/vnd.google.colaboratory.intrinsic+json": {
              "type": "string"
            }
          },
          "metadata": {},
          "execution_count": 15
        }
      ]
    },
    {
      "cell_type": "markdown",
      "source": [
        "## **Task 1.2: LSTM and Bi-LSTM Model (10p)**\n",
        "\n",
        "We will use PyTorch to build our LSTM. Complete the `__init__()` and the `forward()` function of the CustomLSTM class. The model will have the following components:\n",
        "- A single [LSTM](https://pytorch.org/docs/stable/generated/torch.nn.LSTM.html) layer which takes the embeddings as input and has 100-dimensional hidden layer. The LSTM is **not** bidirectional.\n",
        "- A dropout layer with probability 0.1\n",
        "- A linear layer with input size of 100 (the hidden layer size of the LSTM layer) and output size of the number of labels\n",
        "- A [Sigmoid](https://pytorch.org/docs/stable/generated/torch.nn.Sigmoid.html) activation function"
      ],
      "metadata": {
        "id": "fCdGcnwv_f7o"
      }
    },
    {
      "cell_type": "code",
      "source": [
        "from torch.nn.modules import dropout\n",
        "class CustomLSTM(nn.Module):\n",
        "    def __init__(self, input_size, hidden_size, num_layers, num_labels):\n",
        "        super(CustomLSTM, self).__init__()\n",
        "        # TODO: YOUR CODE HERE\n",
        "        self.input_size = input_size\n",
        "        self.hidden_size = hidden_size\n",
        "        self.num_layers = num_layers\n",
        "        self.num_labels = num_labels\n",
        "\n",
        "        self.lstm = nn.LSTM(input_size=input_size, hidden_size=hidden_size, num_layers=num_layers, dropout=0.1, bidirectional=False)\n",
        "        self.linear = nn.Linear(in_features=100, out_features=num_labels) # replace 100 with hidden_size maybe\n",
        "        self.sigmoid = nn.Sigmoid()\n",
        "\n",
        "    def forward(self, x):\n",
        "        # TODO: YOUR CODE HERE\n",
        "        #LSTM’s output corresponding to all timesteps\n",
        "        output, (h_n, c_n) = self.lstm(x)\n",
        "        last_hidden_state = output[-1] # can also be h_n   see https://towardsdatascience.com/implementation-differences-in-lstm-layers-tensorflow-vs-pytorch-77a31d742f74#:~:text=The%20output%20of%20the%20Pytorch,another%20tuple%20with%20two%20elements.\n",
        "        linear_output = self.linear(last_hidden_state)\n",
        "        output = self.sigmoid(linear_output)\n",
        "\n",
        "        return output"
      ],
      "metadata": {
        "id": "Z9QoXzQSoiBS"
      },
      "execution_count": 15,
      "outputs": []
    },
    {
      "cell_type": "markdown",
      "source": [
        "## **Task 1.3: Training Model (10p)**\n",
        "\n",
        "Complete the function `train` to train your model. The model will train with batch size of 1 (each sentence split by \"\\n\" is a sample) for 10 epochs. You will train the model with the train dataset and use dev dataset to check the model's performance after each epoch. Calculate the macro f1 score of the model on the dev set. Return the losses and f1 scores for plotting.\n",
        "\n",
        "**Hint**: you can check out this [link](https://pytorch.org/tutorials/beginner/introyt/trainingyt.html#the-training-loop) to get to know more about how to train model with pytorch. For the f1 score you can use `sklearn.metrics.f1_score`, remember to set the `average` parameter to \"macro\".\n"
      ],
      "metadata": {
        "id": "egNWahhpoiu_"
      }
    },
    {
      "cell_type": "code",
      "source": [
        "def label_encode(labels):\n",
        "    labels_list = {'B-LOC': 0, 'B-MISC': 1, 'B-ORG': 2, 'B-PER': 3, 'I-LOC': 4, 'I-MISC': 5, 'I-ORG': 6, 'I-PER': 7,\n",
        "                   'O': 8}\n",
        "    labels_encode = [labels_list[label] for label in labels]\n",
        "    return labels_encode"
      ],
      "metadata": {
        "id": "fQLhObb_HJn0"
      },
      "execution_count": 16,
      "outputs": []
    },
    {
      "cell_type": "code",
      "source": [
        "# Change this to your path to the dataset\n",
        "train = \"data/ner_eng_bio.train\"\n",
        "test = \"data/ner_eng_bio.test\"\n",
        "dev = \"data/ner_eng_bio.dev\"\n",
        "\n",
        "embeddings = get_pretrained_embeddings(\"embeddings/glove.6B.50d.txt\")\n",
        "\n",
        "train_data, train_label = read_data(train)\n",
        "test_data, test_label = read_data(test)\n",
        "dev_data, dev_label = read_data(dev)\n",
        "\n",
        "EMBEDDING_SIZE = embeddings[\"get\"].shape[0]\n",
        "\n",
        "# Change the Hyperparameters here\n",
        "input_size = EMBEDDING_SIZE\n",
        "hidden_size = 100\n",
        "num_layers = 2\n",
        "num_labels = 9\n",
        "epochs = 10"
      ],
      "metadata": {
        "id": "Jg4WnZx2dej3"
      },
      "execution_count": 17,
      "outputs": []
    },
    {
      "cell_type": "code",
      "source": [
        "len(dev_data[0]), len(dev_label[0])"
      ],
      "metadata": {
        "colab": {
          "base_uri": "https://localhost:8080/"
        },
        "id": "qfLhKkt6Yl19",
        "outputId": "f127a0d7-f4db-4f54-812d-d0fa1d54d4e3"
      },
      "execution_count": 19,
      "outputs": [
        {
          "output_type": "execute_result",
          "data": {
            "text/plain": [
              "(12, 12)"
            ]
          },
          "metadata": {},
          "execution_count": 19
        }
      ]
    },
    {
      "cell_type": "code",
      "source": [
        "test_data[0]"
      ],
      "metadata": {
        "colab": {
          "base_uri": "https://localhost:8080/"
        },
        "id": "KP5VvMMxw4Im",
        "outputId": "23ea58e8-c8ec-42ab-b70b-50f69386498d"
      },
      "execution_count": 20,
      "outputs": [
        {
          "output_type": "execute_result",
          "data": {
            "text/plain": [
              "['CRICKET',\n",
              " '-',\n",
              " 'LEICESTERSHIRE',\n",
              " 'TAKE',\n",
              " 'OVER',\n",
              " 'AT',\n",
              " 'TOP',\n",
              " 'AFTER',\n",
              " 'INNINGS',\n",
              " 'VICTORY',\n",
              " '.']"
            ]
          },
          "metadata": {},
          "execution_count": 20
        }
      ]
    },
    {
      "cell_type": "code",
      "source": [
        "test_label[0]"
      ],
      "metadata": {
        "colab": {
          "base_uri": "https://localhost:8080/"
        },
        "id": "2rcxAkdfw3__",
        "outputId": "a6c8906a-2b75-4f6e-e0af-7022c834025c"
      },
      "execution_count": 21,
      "outputs": [
        {
          "output_type": "execute_result",
          "data": {
            "text/plain": [
              "['O', 'O', 'B-ORG', 'O', 'O', 'O', 'O', 'O', 'O', 'O', 'O']"
            ]
          },
          "metadata": {},
          "execution_count": 21
        }
      ]
    },
    {
      "cell_type": "code",
      "source": [
        "aa = []\n",
        "bb = [1, 2, 3]\n",
        "aa.append(bb)\n",
        "aa"
      ],
      "metadata": {
        "colab": {
          "base_uri": "https://localhost:8080/"
        },
        "id": "9MPA8jit0vMv",
        "outputId": "3ccb392b-bf64-4000-8379-ea68f336a053"
      },
      "execution_count": 22,
      "outputs": [
        {
          "output_type": "execute_result",
          "data": {
            "text/plain": [
              "[[1, 2, 3]]"
            ]
          },
          "metadata": {},
          "execution_count": 22
        }
      ]
    },
    {
      "cell_type": "code",
      "source": [
        "array = np.random.random((1, 3, 50))\n",
        "array"
      ],
      "metadata": {
        "colab": {
          "base_uri": "https://localhost:8080/"
        },
        "id": "mwhI7YBx1xIK",
        "outputId": "a8c6d6b4-8788-44e4-d26c-20be02c9417b"
      },
      "execution_count": 23,
      "outputs": [
        {
          "output_type": "execute_result",
          "data": {
            "text/plain": [
              "array([[[0.80342804, 0.5275223 , 0.11911147, 0.63968144, 0.09092526,\n",
              "         0.33222568, 0.42738095, 0.55438581, 0.62812652, 0.69739294,\n",
              "         0.78994969, 0.13189035, 0.34277045, 0.20155961, 0.70732423,\n",
              "         0.03339926, 0.90925004, 0.40516066, 0.76043547, 0.47375838,\n",
              "         0.28671892, 0.75129249, 0.09708994, 0.41235779, 0.28163896,\n",
              "         0.39027778, 0.87110921, 0.08124512, 0.55793117, 0.54753428,\n",
              "         0.33220307, 0.97326881, 0.2862761 , 0.5082575 , 0.14795074,\n",
              "         0.19643398, 0.84082001, 0.0037532 , 0.78262101, 0.83347772,\n",
              "         0.93790734, 0.97260166, 0.83282304, 0.06581761, 0.40379256,\n",
              "         0.37479349, 0.50750135, 0.97787696, 0.81899021, 0.18754124],\n",
              "        [0.69804812, 0.68261077, 0.99909815, 0.48263116, 0.73059268,\n",
              "         0.79518236, 0.26139168, 0.16107376, 0.69850315, 0.89950917,\n",
              "         0.91515562, 0.31244902, 0.95412616, 0.7242641 , 0.02091039,\n",
              "         0.72554552, 0.58165923, 0.9545687 , 0.74233195, 0.19750339,\n",
              "         0.94900651, 0.85836332, 0.44904621, 0.82365038, 0.99726878,\n",
              "         0.56413064, 0.5890016 , 0.42402702, 0.89548786, 0.44437266,\n",
              "         0.57723744, 0.66019353, 0.30244304, 0.02295771, 0.83766937,\n",
              "         0.31953292, 0.37552193, 0.18172362, 0.83135182, 0.18487429,\n",
              "         0.96968683, 0.69644561, 0.60566253, 0.49600661, 0.70888438,\n",
              "         0.26044186, 0.65267488, 0.62297362, 0.83609334, 0.3572364 ],\n",
              "        [0.95455374, 0.06336003, 0.86713576, 0.55147501, 0.8895871 ,\n",
              "         0.74683759, 0.20783523, 0.48823397, 0.59087233, 0.87087296,\n",
              "         0.7992923 , 0.95453522, 0.17335265, 0.106837  , 0.6271594 ,\n",
              "         0.37434512, 0.65200627, 0.68657226, 0.47579499, 0.66581477,\n",
              "         0.95350083, 0.18154475, 0.70021069, 0.44733626, 0.52452094,\n",
              "         0.09235484, 0.67210817, 0.91346847, 0.33153971, 0.96899058,\n",
              "         0.17409946, 0.05593003, 0.06077135, 0.77983371, 0.56480162,\n",
              "         0.13544652, 0.48310528, 0.65688242, 0.9341264 , 0.54312395,\n",
              "         0.28354295, 0.21861042, 0.74235601, 0.49747791, 0.16639362,\n",
              "         0.95924183, 0.35876406, 0.40036286, 0.68637717, 0.9340462 ]]])"
            ]
          },
          "metadata": {},
          "execution_count": 23
        }
      ]
    },
    {
      "cell_type": "code",
      "source": [
        "def get_sentence_embeddings(sent: list, embeddings_dict: dict):\n",
        "  out_sentence = []\n",
        "  for token in sent:\n",
        "    if token in embeddings_dict.keys():\n",
        "      out_sentence.append(embeddings_dict[token])\n",
        "    else:\n",
        "      out_sentence.append(np.array([0]*50))\n",
        "  return out_sentence"
      ],
      "metadata": {
        "id": "9YSRGd8M0eG3"
      },
      "execution_count": 24,
      "outputs": []
    },
    {
      "cell_type": "code",
      "source": [
        "outt = get_sentence_embeddings(sent=train_data[0], embeddings_dict=embeddings)"
      ],
      "metadata": {
        "id": "xPr4KFx_ECd6"
      },
      "execution_count": 28,
      "outputs": []
    },
    {
      "cell_type": "code",
      "source": [
        "len(train_data)"
      ],
      "metadata": {
        "colab": {
          "base_uri": "https://localhost:8080/"
        },
        "id": "oohGZHPyEi0o",
        "outputId": "3f55959d-ffbf-4484-9a73-0aaee0ca6fd8"
      },
      "execution_count": 29,
      "outputs": [
        {
          "output_type": "execute_result",
          "data": {
            "text/plain": [
              "4434"
            ]
          },
          "metadata": {},
          "execution_count": 29
        }
      ]
    },
    {
      "cell_type": "code",
      "source": [
        "torch.tensor(np.array([outt])).size()"
      ],
      "metadata": {
        "colab": {
          "base_uri": "https://localhost:8080/"
        },
        "id": "AODdS3moENtU",
        "outputId": "09dc3601-0bb3-4d40-e752-2f4d9512d8cb"
      },
      "execution_count": 30,
      "outputs": [
        {
          "output_type": "execute_result",
          "data": {
            "text/plain": [
              "torch.Size([1, 9, 50])"
            ]
          },
          "metadata": {},
          "execution_count": 30
        }
      ]
    },
    {
      "cell_type": "code",
      "source": [
        "torch.tensor([[[1, 2, 3, 4]]]).size()"
      ],
      "metadata": {
        "colab": {
          "base_uri": "https://localhost:8080/"
        },
        "id": "_GU4q4iuDOXK",
        "outputId": "f253b80c-f6de-41bb-fbdb-81518c5f1e92"
      },
      "execution_count": 27,
      "outputs": [
        {
          "output_type": "execute_result",
          "data": {
            "text/plain": [
              "torch.Size([1, 1, 4])"
            ]
          },
          "metadata": {},
          "execution_count": 27
        }
      ]
    },
    {
      "cell_type": "code",
      "source": [
        "model = CustomLSTM(input_size, hidden_size, num_layers, num_labels)\n",
        "loss_fn = nn.CrossEntropyLoss()\n",
        "optimizer = torch.optim.Adam(model.parameters())\n",
        "\n",
        "def train(model, loss_fn, optimizer, train_data, dev_data, train_label, dev_label, epochs):\n",
        "    logs_loss = []\n",
        "    logs_f1_score = []\n",
        "\n",
        "    # Training\n",
        "    for epoch in range(epochs):\n",
        "        # Train with train set\n",
        "        model.train()\n",
        "        # TODO: YOUR CODE HERE\n",
        "        print('EPOCH {}:'.format(epoch + 1))\n",
        "        train_loss = 0.0\n",
        "\n",
        "        for k, sent in train_data.items():\n",
        "          optimizer.zero_grad()\n",
        "\n",
        "\n",
        "          sent_embedding = get_sentence_embeddings(sent=sent, embeddings_dict=embeddings)\n",
        "          input_data = torch.tensor(np.array([sent_embedding]), dtype=torch.float32) # Remove the last label\n",
        "          targets = torch.tensor(label_encode(train_label[k]))\n",
        "\n",
        "          # Forward pass\n",
        "          outputs = model(input_data)\n",
        "          loss = loss_fn(outputs, targets)\n",
        "\n",
        "          # Backward pass and optimization\n",
        "          loss.backward()\n",
        "          optimizer.step()\n",
        "\n",
        "          train_loss += loss.item()\n",
        "        average_loss = train_loss / len(train_data) #calculate average loss value of the whole dataset\n",
        "        logs_loss.append(average_loss)\n",
        "\n",
        "        print(f\"Finished epoch {epoch+1}\")\n",
        "\n",
        "\n",
        "\n",
        "\n",
        "        # Evaluate with dev set\n",
        "        \"\"\"with torch.no_grad():\n",
        "            model.eval()\n",
        "            # TODO: YOUR CODE HERE\n",
        "            dev_loss = 0.0\n",
        "            dev_preds = []\n",
        "            dev_targets = []\n",
        "\n",
        "            for k, sent in dev_data.items():\n",
        "              sent_embedding_dev = get_sentence_embeddings(sent=sent, embeddings_dict=embeddings)\n",
        "              input_data_dev = torch.tensor(np.array([sent_embedding_dev]), dtype=torch.float32) # Remove the last label\n",
        "              targets = torch.tensor(label_encode(dev_label[k]))\n",
        "\n",
        "              # Forward pass\n",
        "              outputs = model(input_data)\n",
        "              loss = loss_fn(outputs, targets)\n",
        "              dev_loss += loss.item()\n",
        "\n",
        "              # Convert predictions and targets to numpy arrays\n",
        "              predictions = torch.argmax(outputs, dim=1).numpy()\n",
        "              targets = targets.numpy()\n",
        "\n",
        "              dev_preds.extend(predictions)\n",
        "              dev_targets.extend(targets)\n",
        "\n",
        "            average_dev_loss = dev_loss / len(dev_data)\n",
        "\n",
        "            # Calculate macro F1 score\n",
        "            f1 = f1_score(dev_targets, dev_preds, average='macro')\n",
        "            logs_f1_score.append(f1)\n",
        "\n",
        "            print(f\"Epoch {epoch+1}/{epochs}: Train Loss: {average_loss:.4f} | Dev Loss: {average_dev_loss:.4f} | Macro F1 Score: {f1:.4f}\")\"\"\"\n",
        "\n",
        "            # Evaluate with dev set\n",
        "        with torch.no_grad():\n",
        "            model.eval()\n",
        "            single_dev_loss = 0.0\n",
        "            dev_preds = []\n",
        "            dev_targets = []\n",
        "\n",
        "            for k_dev, sent_dev in dev_data.items():\n",
        "                sent_embedding_dev = get_sentence_embeddings(sent=sent_dev, embeddings_dict=embeddings)\n",
        "                input_data_dev = torch.tensor(np.array([sent_embedding_dev]), dtype=torch.float32)\n",
        "                targets_dev = torch.tensor(label_encode(dev_label[k_dev]))\n",
        "                #print(f\"targets_dev_shape == {targets_dev.size()}\")\n",
        "                #print(f\"targets_dev == {targets_dev}\")\n",
        "                #print(f\"outputs == {input_data_dev}\")\n",
        "\n",
        "                #print(f\"targets shape == {targets.size()}\")\n",
        "                #print(f\"outputs shape== {outputs.size()}\")\n",
        "\n",
        "                # Forward pass\n",
        "                outputs_dev = model(input_data_dev)\n",
        "                #print(f\"outputs_dev == {outputs_dev}\")\n",
        "                #print(f\"outputs shape== {outputs_dev.size()}\")\n",
        "                loss_dev = loss_fn(outputs_dev, targets_dev)\n",
        "                single_dev_loss += loss_dev.item()\n",
        "                #print(f\"single loss dev == {single_dev_loss}\")\n",
        "\n",
        "                # Convert predictions and targets to numpy arrays\n",
        "                predictions = torch.argmax(outputs_dev, dim=1).numpy()\n",
        "                #print(f\"predictions == {predictions}\")\n",
        "                #targets_dev = targets_dev.numpy()  # Squeeze the tensor to match the batch size\n",
        "                targets_dev = targets_dev.numpy()\n",
        "                #print(f\"targets_dev_after_squeeze_numpy == {targets_dev}\")\n",
        "                #print(f\"type targets_dev_asn == {type(targets_dev)}\")\n",
        "\n",
        "                dev_preds.extend(predictions)\n",
        "                dev_targets.extend(targets_dev)\n",
        "\n",
        "            average_dev_loss = single_dev_loss / len(dev_data)\n",
        "\n",
        "            # Calculate macro F1 score\n",
        "            f1 = f1_score(dev_targets, dev_preds, average='macro')\n",
        "            logs_f1_score.append(f1)\n",
        "\n",
        "            print(f\"Epoch {epoch+1}/{epochs}: Train Loss: {average_loss:.4f} | Dev Loss: {average_dev_loss:.4f} | Macro F1 Score: {f1:.4f}\")\n",
        "\n",
        "\n",
        "\n",
        "    return logs_loss, logs_f1_score\n",
        "\n",
        "logs_loss, logs_f1_score = train(model, loss_fn, optimizer, train_data, dev_data, train_label, dev_label, epochs)"
      ],
      "metadata": {
        "id": "WJreNFlF18BK",
        "colab": {
          "base_uri": "https://localhost:8080/"
        },
        "outputId": "30a19d13-f3bd-4e69-b580-fb44e43064a5"
      },
      "execution_count": 43,
      "outputs": [
        {
          "output_type": "stream",
          "name": "stdout",
          "text": [
            "EPOCH 1:\n",
            "Finished epoch 1\n",
            "Epoch 1/10: Train Loss: 1.6039 | Dev Loss: 1.6107 | Macro F1 Score: 0.0994\n",
            "EPOCH 2:\n",
            "Finished epoch 2\n",
            "Epoch 2/10: Train Loss: 1.5947 | Dev Loss: 1.6100 | Macro F1 Score: 0.0994\n",
            "EPOCH 3:\n",
            "Finished epoch 3\n",
            "Epoch 3/10: Train Loss: 1.5943 | Dev Loss: 1.6091 | Macro F1 Score: 0.0994\n",
            "EPOCH 4:\n",
            "Finished epoch 4\n",
            "Epoch 4/10: Train Loss: 1.5935 | Dev Loss: 1.6095 | Macro F1 Score: 0.0994\n",
            "EPOCH 5:\n",
            "Finished epoch 5\n",
            "Epoch 5/10: Train Loss: 1.5942 | Dev Loss: 1.6094 | Macro F1 Score: 0.0994\n",
            "EPOCH 6:\n",
            "Finished epoch 6\n",
            "Epoch 6/10: Train Loss: 1.5941 | Dev Loss: 1.6091 | Macro F1 Score: 0.0994\n",
            "EPOCH 7:\n",
            "Finished epoch 7\n",
            "Epoch 7/10: Train Loss: 1.5932 | Dev Loss: 1.6108 | Macro F1 Score: 0.1316\n",
            "EPOCH 8:\n",
            "Finished epoch 8\n",
            "Epoch 8/10: Train Loss: 1.5951 | Dev Loss: 1.6091 | Macro F1 Score: 0.1316\n",
            "EPOCH 9:\n",
            "Finished epoch 9\n",
            "Epoch 9/10: Train Loss: 1.5930 | Dev Loss: 1.6101 | Macro F1 Score: 0.0994\n",
            "EPOCH 10:\n",
            "Finished epoch 10\n",
            "Epoch 10/10: Train Loss: 1.5912 | Dev Loss: 1.6109 | Macro F1 Score: 0.1316\n"
          ]
        }
      ]
    },
    {
      "cell_type": "markdown",
      "source": [
        "## **Task 1.4: Visualizing (5p)**\n",
        "\n",
        "Check the performance of the model on the test set and plot the training loss using `matplotlib.pyplot.plot`."
      ],
      "metadata": {
        "id": "xz6uyUXFWnAe"
      }
    },
    {
      "cell_type": "code",
      "source": [
        "# Evaluate with test set\n",
        "with torch.no_grad():\n",
        "    model.eval()\n",
        "    preds = []\n",
        "    targets = []\n",
        "    # TODO: YOUR CODE HERE\n",
        "\n",
        "# Plot with matplotlib\n"
      ],
      "metadata": {
        "id": "enRLWn887ytw"
      },
      "execution_count": null,
      "outputs": []
    }
  ]
}