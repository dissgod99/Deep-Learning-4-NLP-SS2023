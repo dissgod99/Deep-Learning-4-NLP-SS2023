{
  "nbformat": 4,
  "nbformat_minor": 0,
  "metadata": {
    "colab": {
      "provenance": [],
      "gpuType": "T4"
    },
    "kernelspec": {
      "name": "python3",
      "display_name": "Python 3"
    },
    "language_info": {
      "name": "python"
    },
    "accelerator": "GPU",
    "gpuClass": "standard"
  },
  "cells": [
    {
      "cell_type": "code",
      "source": [
        "### Note for the homework: You can add further images or comments in the submitted PDF file if you don't want to do it here.\n",
        "\n",
        "from google.colab import drive\n",
        "drive.mount('/content/drive')\n",
        "\n",
        "# path to store the data\n",
        "%cd /content/drive/My Drive/dl4nlp_2023/"
      ],
      "metadata": {
        "id": "nGB4JqofLLmq",
        "colab": {
          "base_uri": "https://localhost:8080/"
        },
        "outputId": "fae7b372-f51e-4991-ff33-65d696baa64e"
      },
      "execution_count": 11,
      "outputs": [
        {
          "output_type": "stream",
          "name": "stdout",
          "text": [
            "Mounted at /content/drive\n",
            "/content/drive/My Drive/dl4nlp_2023\n"
          ]
        }
      ]
    },
    {
      "cell_type": "code",
      "source": [
        "# Run this cell to intall/import all denpendicies needed for this homework; you can also add arbitrary libararies.\n",
        "\n",
        "!pip install datasets\n",
        "from datasets import load_dataset\n",
        "import torch\n",
        "import torch.nn as nn\n",
        "from torch.utils.data import Dataset, DataLoader\n",
        "import numpy as np\n",
        "from tqdm import tqdm\n",
        "from nltk import word_tokenize\n",
        "import nltk\n",
        "nltk.download('punkt')\n",
        "from scipy.stats import pearsonr, kendalltau\n",
        "from pprint import pprint \n",
        "import matplotlib.pyplot as plt\n",
        "import gdown"
      ],
      "metadata": {
        "id": "miNDnOd0LbBY",
        "colab": {
          "base_uri": "https://localhost:8080/"
        },
        "outputId": "16cd0f58-3b8d-46c9-a456-1977eb860587"
      },
      "execution_count": 85,
      "outputs": [
        {
          "output_type": "stream",
          "name": "stdout",
          "text": [
            "Looking in indexes: https://pypi.org/simple, https://us-python.pkg.dev/colab-wheels/public/simple/\n",
            "Requirement already satisfied: datasets in /usr/local/lib/python3.10/dist-packages (2.12.0)\n",
            "Requirement already satisfied: numpy>=1.17 in /usr/local/lib/python3.10/dist-packages (from datasets) (1.22.4)\n",
            "Requirement already satisfied: pyarrow>=8.0.0 in /usr/local/lib/python3.10/dist-packages (from datasets) (9.0.0)\n",
            "Requirement already satisfied: dill<0.3.7,>=0.3.0 in /usr/local/lib/python3.10/dist-packages (from datasets) (0.3.6)\n",
            "Requirement already satisfied: pandas in /usr/local/lib/python3.10/dist-packages (from datasets) (1.5.3)\n",
            "Requirement already satisfied: requests>=2.19.0 in /usr/local/lib/python3.10/dist-packages (from datasets) (2.27.1)\n",
            "Requirement already satisfied: tqdm>=4.62.1 in /usr/local/lib/python3.10/dist-packages (from datasets) (4.65.0)\n",
            "Requirement already satisfied: xxhash in /usr/local/lib/python3.10/dist-packages (from datasets) (3.2.0)\n",
            "Requirement already satisfied: multiprocess in /usr/local/lib/python3.10/dist-packages (from datasets) (0.70.14)\n",
            "Requirement already satisfied: fsspec[http]>=2021.11.1 in /usr/local/lib/python3.10/dist-packages (from datasets) (2023.4.0)\n",
            "Requirement already satisfied: aiohttp in /usr/local/lib/python3.10/dist-packages (from datasets) (3.8.4)\n",
            "Requirement already satisfied: huggingface-hub<1.0.0,>=0.11.0 in /usr/local/lib/python3.10/dist-packages (from datasets) (0.14.1)\n",
            "Requirement already satisfied: packaging in /usr/local/lib/python3.10/dist-packages (from datasets) (23.1)\n",
            "Requirement already satisfied: responses<0.19 in /usr/local/lib/python3.10/dist-packages (from datasets) (0.18.0)\n",
            "Requirement already satisfied: pyyaml>=5.1 in /usr/local/lib/python3.10/dist-packages (from datasets) (6.0)\n",
            "Requirement already satisfied: attrs>=17.3.0 in /usr/local/lib/python3.10/dist-packages (from aiohttp->datasets) (23.1.0)\n",
            "Requirement already satisfied: charset-normalizer<4.0,>=2.0 in /usr/local/lib/python3.10/dist-packages (from aiohttp->datasets) (2.0.12)\n",
            "Requirement already satisfied: multidict<7.0,>=4.5 in /usr/local/lib/python3.10/dist-packages (from aiohttp->datasets) (6.0.4)\n",
            "Requirement already satisfied: async-timeout<5.0,>=4.0.0a3 in /usr/local/lib/python3.10/dist-packages (from aiohttp->datasets) (4.0.2)\n",
            "Requirement already satisfied: yarl<2.0,>=1.0 in /usr/local/lib/python3.10/dist-packages (from aiohttp->datasets) (1.9.2)\n",
            "Requirement already satisfied: frozenlist>=1.1.1 in /usr/local/lib/python3.10/dist-packages (from aiohttp->datasets) (1.3.3)\n",
            "Requirement already satisfied: aiosignal>=1.1.2 in /usr/local/lib/python3.10/dist-packages (from aiohttp->datasets) (1.3.1)\n",
            "Requirement already satisfied: filelock in /usr/local/lib/python3.10/dist-packages (from huggingface-hub<1.0.0,>=0.11.0->datasets) (3.12.0)\n",
            "Requirement already satisfied: typing-extensions>=3.7.4.3 in /usr/local/lib/python3.10/dist-packages (from huggingface-hub<1.0.0,>=0.11.0->datasets) (4.5.0)\n",
            "Requirement already satisfied: urllib3<1.27,>=1.21.1 in /usr/local/lib/python3.10/dist-packages (from requests>=2.19.0->datasets) (1.26.15)\n",
            "Requirement already satisfied: certifi>=2017.4.17 in /usr/local/lib/python3.10/dist-packages (from requests>=2.19.0->datasets) (2022.12.7)\n",
            "Requirement already satisfied: idna<4,>=2.5 in /usr/local/lib/python3.10/dist-packages (from requests>=2.19.0->datasets) (3.4)\n",
            "Requirement already satisfied: python-dateutil>=2.8.1 in /usr/local/lib/python3.10/dist-packages (from pandas->datasets) (2.8.2)\n",
            "Requirement already satisfied: pytz>=2020.1 in /usr/local/lib/python3.10/dist-packages (from pandas->datasets) (2022.7.1)\n",
            "Requirement already satisfied: six>=1.5 in /usr/local/lib/python3.10/dist-packages (from python-dateutil>=2.8.1->pandas->datasets) (1.16.0)\n"
          ]
        },
        {
          "output_type": "stream",
          "name": "stderr",
          "text": [
            "[nltk_data] Downloading package punkt to /root/nltk_data...\n",
            "[nltk_data]   Package punkt is already up-to-date!\n"
          ]
        }
      ]
    },
    {
      "cell_type": "code",
      "source": [
        "# This function is used to specify the random seeds that could impact pytorch.\n",
        "\n",
        "def seed_everything(seed: int):\n",
        "    import random, os\n",
        "    import numpy as np\n",
        "    import torch\n",
        "\n",
        "    random.seed(seed)\n",
        "    os.environ['PYTHONHASHSEED'] = str(seed)\n",
        "    np.random.seed(seed)\n",
        "    torch.manual_seed(seed)\n",
        "    torch.cuda.manual_seed(seed)\n",
        "    torch.backends.cudnn.deterministic = True\n",
        "    torch.backends.cudnn.benchmark = True\n",
        "    torch.set_default_tensor_type(torch.DoubleTensor) #added to avoid datatype problems"
      ],
      "metadata": {
        "id": "Es9RfIGNCQZt"
      },
      "execution_count": 86,
      "outputs": []
    },
    {
      "cell_type": "markdown",
      "source": [
        "# **Task 1: Getting to Know Pytorch: Semantic Textual Similarity**\n",
        "\n",
        "In this task, we define semantic textual similarity (STS) as a **supervised** regression task in which the semantic similarity of two pieces of text (typically sentences) should be determined. "
      ],
      "metadata": {
        "id": "MdbEnTaRxKuJ"
      }
    },
    {
      "cell_type": "markdown",
      "source": [
        "### **Task 1.1: Data Preparation**\n",
        "\n",
        "**Run the following cell to load the dataset for this task first**. Each entry of this dataset contains one English sentence pair and their similarity score. \n",
        "\n",
        "To get familiar with the data format, please **print** the first entry of `train_set`, the size of `dev_set`, and the first 3 `sentence1` in `train_set`.\n",
        "\n",
        "**Hint**: the data is structured like both Python dictionary and Pandas DataFrame.\n",
        "\n"
      ],
      "metadata": {
        "id": "teX4DZdmMw_o"
      }
    },
    {
      "cell_type": "code",
      "source": [
        "train_set = load_dataset(\"stsb_multi_mt\", \"en\", split='train')\n",
        "dev_set = load_dataset(\"stsb_multi_mt\", \"en\", split='dev')\n",
        "\n",
        "dev_set"
      ],
      "metadata": {
        "id": "IrMWHPUlzhD9",
        "colab": {
          "base_uri": "https://localhost:8080/"
        },
        "outputId": "9adc771f-7a75-427c-aa51-105c76b15f68"
      },
      "execution_count": 87,
      "outputs": [
        {
          "output_type": "stream",
          "name": "stderr",
          "text": [
            "WARNING:datasets.builder:Found cached dataset stsb_multi_mt (/root/.cache/huggingface/datasets/stsb_multi_mt/en/1.0.0/a5d260e4b7aa82d1ab7379523a005a366d9b124c76a5a5cf0c4c5365458b0ba9)\n",
            "WARNING:datasets.builder:Found cached dataset stsb_multi_mt (/root/.cache/huggingface/datasets/stsb_multi_mt/en/1.0.0/a5d260e4b7aa82d1ab7379523a005a366d9b124c76a5a5cf0c4c5365458b0ba9)\n"
          ]
        },
        {
          "output_type": "execute_result",
          "data": {
            "text/plain": [
              "Dataset({\n",
              "    features: ['sentence1', 'sentence2', 'similarity_score'],\n",
              "    num_rows: 1500\n",
              "})"
            ]
          },
          "metadata": {},
          "execution_count": 87
        }
      ]
    },
    {
      "cell_type": "markdown",
      "source": [
        "Useful documentation of the dataset\n",
        "\n",
        "https://huggingface.co/datasets/stsb_multi_mt"
      ],
      "metadata": {
        "id": "ChseQ5hpCzEY"
      }
    },
    {
      "cell_type": "code",
      "source": [
        "# TODO: YOUR CODE HERE\n",
        "print(f\"First Entry:  {train_set[0]}\")\n",
        "print(f\"Size of dev set: {len(dev_set)}\")\n",
        "print('First 3 sentence1 in train_set:', train_set[\"sentence1\"][:3])"
      ],
      "metadata": {
        "id": "fsb2SOHOyXqi",
        "colab": {
          "base_uri": "https://localhost:8080/"
        },
        "outputId": "3aaad6d1-2a87-42ae-85d3-57f7857488d4"
      },
      "execution_count": 88,
      "outputs": [
        {
          "output_type": "stream",
          "name": "stdout",
          "text": [
            "First Entry:  {'sentence1': 'A plane is taking off.', 'sentence2': 'An air plane is taking off.', 'similarity_score': 5.0}\n",
            "Size of dev set: 1500\n",
            "First 3 sentence1 in train_set: ['A plane is taking off.', 'A man is playing a large flute.', 'A man is spreading shreded cheese on a pizza.']\n"
          ]
        }
      ]
    },
    {
      "cell_type": "markdown",
      "source": [
        "## **Task 1.1.1: Embed the sentences**\n",
        "We will use the averages of the words' [FastText embeddings](https://fasttext.cc/docs/en/english-vectors.html) to embed both sentences. \n",
        "\n",
        "**Run the following cell to download the embeddings.**"
      ],
      "metadata": {
        "id": "krKdguNXXWTd"
      }
    },
    {
      "cell_type": "code",
      "source": [
        "# download word emebddings to your drive and unzip the file (run this cell only when you haven't downloaded the emb file yet.)\n",
        "\"\"\"!wget https://dl.fbaipublicfiles.com/fasttext/vectors-english/wiki-news-300d-1M.vec.zip\n",
        "!unzip wiki-news-300d-1M.vec.zip\"\"\""
      ],
      "metadata": {
        "id": "NQUHJaFPVI7T",
        "colab": {
          "base_uri": "https://localhost:8080/",
          "height": 35
        },
        "outputId": "d93c718a-d014-4ef5-bdfd-d617b3354591"
      },
      "execution_count": 89,
      "outputs": [
        {
          "output_type": "execute_result",
          "data": {
            "text/plain": [
              "'!wget https://dl.fbaipublicfiles.com/fasttext/vectors-english/wiki-news-300d-1M.vec.zip\\n!unzip wiki-news-300d-1M.vec.zip'"
            ],
            "application/vnd.google.colaboratory.intrinsic+json": {
              "type": "string"
            }
          },
          "metadata": {},
          "execution_count": 89
        }
      ]
    },
    {
      "cell_type": "markdown",
      "source": [
        "### a) \n",
        "Implement a funtion to read the word embeddings into a Python dictionary that maps every token to the corresponding vector. Represent the vectors as Numpy arrays. Only load the embeddings of the first 40,000 tokens in the file. \n",
        "\n",
        "**Print** the size of the dictionary and the first 20 dimensions of the embedding for word \"homework\"."
      ],
      "metadata": {
        "id": "S7DXiaUCX1Ob"
      }
    },
    {
      "cell_type": "code",
      "source": [
        "import numpy as np\n",
        "import gensim\n",
        "from gensim.models import KeyedVectors\n",
        "\n",
        "def load_embeddings(file=\"wiki-news-300d-1M.vec\", limit=40000):\n",
        "  # TODO: YOUR CODE HERE\n",
        "  embeddings = KeyedVectors.load_word2vec_format(\"/content/drive/MyDrive/dl4nlp_2023/wiki-news-300d-1M.vec\", binary=False, limit=limit)\n",
        "\n",
        "  out = {}\n",
        "  all_words = embeddings.index_to_key\n",
        "  for w in all_words:\n",
        "    out[w] = embeddings[w]\n",
        "\n",
        "  return out\n",
        "\n",
        "word_embedding_dict = load_embeddings() \n"
      ],
      "metadata": {
        "id": "j8iYJsKWXRvF"
      },
      "execution_count": 90,
      "outputs": []
    },
    {
      "cell_type": "code",
      "source": [
        "print(\"First 20 dimensions of homework: \\n\", word_embedding_dict[\"homework\"][:20])\n",
        "print(\"\\n\")\n",
        "print(\"Size of dictionary: \", len(word_embedding_dict))"
      ],
      "metadata": {
        "colab": {
          "base_uri": "https://localhost:8080/"
        },
        "id": "tSSESAuNKNql",
        "outputId": "8c9c0d9b-cfe3-43df-ffb6-64eeb5886cf5"
      },
      "execution_count": 91,
      "outputs": [
        {
          "output_type": "stream",
          "name": "stdout",
          "text": [
            "First 20 dimensions of homework: \n",
            " [-0.1756  0.0695  0.0847  0.0988 -0.1196 -0.1389 -0.0379  0.0543  0.1022\n",
            " -0.0082 -0.0488 -0.1748 -0.0181 -0.131  -0.1794  0.2143 -0.1612 -0.113\n",
            "  0.0213 -0.0763]\n",
            "\n",
            "\n",
            "Size of dictionary:  40000\n"
          ]
        }
      ]
    },
    {
      "cell_type": "code",
      "source": [
        "SHAPE_EMBEDDING = word_embedding_dict[\"homework\"].shape\n",
        "ss = word_embedding_dict[\"homework\"].shape\n",
        "len(np.zeros(ss))"
      ],
      "metadata": {
        "colab": {
          "base_uri": "https://localhost:8080/"
        },
        "id": "78iPvchqPwC1",
        "outputId": "229b8a52-b2b1-4203-982b-b84731df5dd8"
      },
      "execution_count": 92,
      "outputs": [
        {
          "output_type": "execute_result",
          "data": {
            "text/plain": [
              "300"
            ]
          },
          "metadata": {},
          "execution_count": 92
        }
      ]
    },
    {
      "cell_type": "markdown",
      "source": [
        "### b)\n",
        "Implement a function that tokenizes a sentence using [nltk.word_tokenize](https://www.nltk.org/book/ch03.html#accessing-text-from-the-web-and-from-disk) and returns a list of tokens for given sentence.\n",
        "\n",
        "**Print** the tokenized sentence1 and sentence2 of the first entry in the training set. "
      ],
      "metadata": {
        "id": "T2AbFPoZZ085"
      }
    },
    {
      "cell_type": "code",
      "source": [
        "def tokenize(sentence):\n",
        "  # TODO: YOUR CODE HERE\n",
        "  return nltk.word_tokenize(sentence)\n",
        "\n",
        "s1 = train_set[0][\"sentence1\"]\n",
        "s2 = train_set[0][\"sentence2\"]\n",
        "\n",
        "s1_tokenized = tokenize(s1)\n",
        "s2_tokenized = tokenize(s2)\n",
        "\n",
        "print(f\"sentence1 : {s1_tokenized}\")\n",
        "print(f\"sentence2 : {s2_tokenized}\")"
      ],
      "metadata": {
        "id": "TDW3rQcpZzTd",
        "colab": {
          "base_uri": "https://localhost:8080/"
        },
        "outputId": "33c3a75a-ace2-4b74-dcad-30bb85728c75"
      },
      "execution_count": 93,
      "outputs": [
        {
          "output_type": "stream",
          "name": "stdout",
          "text": [
            "sentence1 : ['A', 'plane', 'is', 'taking', 'off', '.']\n",
            "sentence2 : ['An', 'air', 'plane', 'is', 'taking', 'off', '.']\n"
          ]
        }
      ]
    },
    {
      "cell_type": "markdown",
      "source": [
        "### c)\n",
        "Implement a function that maps a sentence to its embedding. The sentence-level embedding should be the average of the embeddings of its tokens. If a token does not exist in the vocabulary of FastText, embed this token as a 0-vector with the same dimensions as the FastText embeddings.\n",
        "\n",
        "**Print** the shape and the first 20 dimensions of sentence1's embedding of the first entry in the training set.\n"
      ],
      "metadata": {
        "id": "PFQk7vFSd6zh"
      }
    },
    {
      "cell_type": "code",
      "source": [
        "def embed_sentence(sentence, word2emb):\n",
        "  # TODO: YOUR CODE HERE\n",
        "  sum_embeddings = np.zeros(SHAPE_EMBEDDING)\n",
        "  tokenized_sentence = tokenize(sentence)\n",
        "  nb_word_in_sentence = len(tokenized_sentence) \n",
        "  all_words_dict = word2emb.keys() #get all words in the dict\n",
        "  for word in tokenized_sentence:\n",
        "    #check whether the word has an embedding\n",
        "    if word in all_words_dict:\n",
        "      emb = np.array(word2emb[word])\n",
        "      sum_embeddings += emb\n",
        "    #else block unecessary since adding zero numpy array does not change the outcome\n",
        "  # average the embeddings\n",
        "  return sum_embeddings / nb_word_in_sentence"
      ],
      "metadata": {
        "id": "j-P-y9DIdrOf"
      },
      "execution_count": 94,
      "outputs": []
    },
    {
      "cell_type": "code",
      "source": [
        "sent1_emb = embed_sentence(train_set[0][\"sentence1\"], word_embedding_dict) #get the embedding of the first sentence of the training set\n",
        "print(f\"Shape : {sent1_emb.shape}\\n\")\n",
        "print(f\"First 20 dimensions : \\n{sent1_emb[:20]}\")"
      ],
      "metadata": {
        "colab": {
          "base_uri": "https://localhost:8080/"
        },
        "id": "tBc-0LjdQ2Lo",
        "outputId": "fca4fd37-7f25-444a-9b3b-ebb2bfca540f"
      },
      "execution_count": 95,
      "outputs": [
        {
          "output_type": "stream",
          "name": "stdout",
          "text": [
            "Shape : (300,)\n",
            "\n",
            "First 20 dimensions : \n",
            "[ 0.01895     0.01555    -0.03663333  0.04301667 -0.05261667 -0.043\n",
            " -0.05235    -0.02503333 -0.01348333 -0.02275     0.023      -0.00196667\n",
            "  0.01398333 -0.01931667  0.04275     0.02686667 -0.00416667  0.05871667\n",
            " -0.06091667  0.0174    ]\n"
          ]
        }
      ]
    },
    {
      "cell_type": "markdown",
      "source": [
        "## **Task 1.1.2: Build Custom Dataset**\n"
      ],
      "metadata": {
        "id": "jvCG_1zHoImu"
      }
    },
    {
      "cell_type": "markdown",
      "source": [
        "### a)\n",
        "Implement a custom dataset class inheriting [torch.utils.data.Dataset](https://pytorch.org/docs/stable/data.html#data-loading-order-and-sampler) and override the following methods:\n",
        "- `__len__`: which returns the size of the dataset.\n",
        "- `__getitem__`: to support the indexing such that dataset[i] can be used to get `ith` sample. \n",
        "\n",
        "The `ith` sample should be a Python dict with two entries: \n",
        "- `encoding` the encoding of one sentence pair, which is the concatenation of the embeddings of the two sentences of a pair. E.g., sent1 = [1,2], sent2 = [3,4], the encoding for sent1 and sent2 should be [1,2,3,4].\n",
        "- `score` the similarity score between the two sentences.\n",
        "\n",
        "**Hint**: examples can be found here: https://pytorch.org/tutorials/beginner/data_loading_tutorial.html"
      ],
      "metadata": {
        "id": "sz9EDepbxzQq"
      }
    },
    {
      "cell_type": "code",
      "source": [
        "class MLPDataset(Dataset):\n",
        "  def __init__(self, sents_1, sents_2, scores):\n",
        "    \"\"\"\n",
        "    Arguments:\n",
        "      sents_1 (List[string]): the list of the first sentences.\n",
        "      sents_2 (List[string]): the list of the second sentences.\n",
        "      scores (List[float]): the list of the similarity scores.\n",
        "    \"\"\"\n",
        "    # TODO: YOUR CODE HERE\n",
        "    #initialize params\n",
        "    self.sents_1 = sents_1\n",
        "    self.sents_2 = sents_2\n",
        "    self.scores = scores\n",
        "    self.word_embedding_dict = word_embedding_dict\n",
        "  \n",
        "  def __getitem__(self, idx):\n",
        "    # TODO: YOUR CODE HERE\n",
        "    #get the embeddings of the sentences as a normal list\n",
        "    s1_embedding = embed_sentence(self.sents_1[idx], self.word_embedding_dict).tolist()\n",
        "    s2_embedding = embed_sentence(self.sents_2[idx], self.word_embedding_dict).tolist()\n",
        "\n",
        "    encoding = np.array(s1_embedding + s2_embedding)\n",
        "\n",
        "    return {\n",
        "        \"encoding\": encoding,\n",
        "        \"score\": self.scores[idx]\n",
        "    }\n",
        "\n",
        "  def __len__(self):\n",
        "    # TODO: YOUR CODE HERE\n",
        "    return len(self.sents_1)"
      ],
      "metadata": {
        "id": "vStUZaVtpQFy"
      },
      "execution_count": 96,
      "outputs": []
    },
    {
      "cell_type": "markdown",
      "source": [
        "### b)\n",
        "Instantiate the above class for our `train_set` and `dev_set`.\n",
        "\n",
        "**Print** the size of `dev_dataset` and the shape of the encoding of the first example."
      ],
      "metadata": {
        "id": "lyMFDO96x83g"
      }
    },
    {
      "cell_type": "code",
      "source": [
        "# TODO: YOUR CODE HERE\n",
        "train_dataset = MLPDataset(train_set[\"sentence1\"], train_set[\"sentence2\"], train_set[\"similarity_score\"])\n",
        "dev_dataset = MLPDataset(dev_set[\"sentence1\"], dev_set[\"sentence2\"], dev_set[\"similarity_score\"])"
      ],
      "metadata": {
        "id": "7mffqVQXp6LH"
      },
      "execution_count": 97,
      "outputs": []
    },
    {
      "cell_type": "code",
      "source": [
        "len(train_dataset.__getitem__(2)[\"encoding\"])"
      ],
      "metadata": {
        "colab": {
          "base_uri": "https://localhost:8080/"
        },
        "id": "Mm4ZJuIzW5QT",
        "outputId": "12129543-e9ba-4da2-cec0-e728b5b62203"
      },
      "execution_count": 98,
      "outputs": [
        {
          "output_type": "execute_result",
          "data": {
            "text/plain": [
              "600"
            ]
          },
          "metadata": {},
          "execution_count": 98
        }
      ]
    },
    {
      "cell_type": "code",
      "source": [
        "print(f\"size of dev_dataset == {dev_dataset.__len__()}\")\n",
        "print(\"shape of encoding of the first example == \", dev_dataset.__getitem__(0)[\"encoding\"].shape)"
      ],
      "metadata": {
        "colab": {
          "base_uri": "https://localhost:8080/"
        },
        "id": "XpPQ_89TXjFT",
        "outputId": "b799a4e1-eaa2-4905-f3a7-ba6090158524"
      },
      "execution_count": 99,
      "outputs": [
        {
          "output_type": "stream",
          "name": "stdout",
          "text": [
            "size of dev_dataset == 1500\n",
            "shape of encoding of the first example ==  (600,)\n"
          ]
        }
      ]
    },
    {
      "cell_type": "markdown",
      "source": [
        "## **Task 1.2: Scoring the Similarity**\n",
        "We will train a simple multi-layer perceptron (MLP) to score the similarity of the two sentences. "
      ],
      "metadata": {
        "id": "rtcT91VOowHw"
      }
    },
    {
      "cell_type": "markdown",
      "source": [
        "### **Task 1.2.1: Build MLP using Pytorch**\n",
        "\n",
        "We will use [`pytorch.nn`](https://pytorch.org/docs/stable/nn.html) to build our MLP. \n",
        "\n",
        "Implement a class inheriting [`pytorch.nn.Module`]() for our MLP, which has the following components:\n",
        "- A [linear layer](https://pytorch.org/docs/stable/generated/torch.nn.Linear.html#torch.nn.Linear) with 1,200 dimensions and [relu activation](https://pytorch.org/docs/stable/generated/torch.nn.ReLU.html#torch.nn.ReLU) , which takes the encoding of one sentence pair as the input.\n",
        "- A [dropout layer](https://pytorch.org/docs/stable/generated/torch.nn.Dropout.html#torch.nn.Dropout) with probability 0.1.\n",
        "- A linear layer with 600 dimensions and relu activation.\n",
        "- A dropout layer with probability 0.1.\n",
        "- A linear layer with 300 dimensions and relu activation.\n",
        "- A dropout layer with probability 0.1.\n",
        "- A linear layer with 1 dimension (output layer). \n",
        "\n",
        "**Hint**: \n",
        "- You need to override the method `forward` in this class\n",
        "- Use `nn.Sequential` to sequentialize the layers.\n",
        "- You may want to see a quick example: https://pytorch.org/tutorials/beginner/basics/buildmodel_tutorial.html?highlight=sequential\n"
      ],
      "metadata": {
        "id": "iVfZ6bboqx-0"
      }
    },
    {
      "cell_type": "code",
      "source": [
        "class MLP(nn.Module):\n",
        "  def __init__(self):\n",
        "    super(MLP, self).__init__()\n",
        "    # TODO: YOUR CODE HERE\n",
        "    self.sequential_layers = nn.Sequential(\n",
        "            nn.Linear(600, 1200),\n",
        "            nn.ReLU(),\n",
        "            nn.Dropout(p=0.1),\n",
        "            nn.Linear(1200, 600),\n",
        "            nn.ReLU(),\n",
        "            nn.Dropout(p=0.1),\n",
        "            nn.Linear(600, 300),\n",
        "            nn.ReLU(),\n",
        "            nn.Dropout(p=0.1),\n",
        "            nn.Linear(300, 1)\n",
        "        )\n",
        "  def forward(self, x):\n",
        "    # TODO: YOUR CODE HERE\n",
        "    return self.sequential_layers(x)\n",
        "\n",
        "model = MLP()\n",
        "print(model)"
      ],
      "metadata": {
        "id": "5jg3wk4KrFDc",
        "colab": {
          "base_uri": "https://localhost:8080/"
        },
        "outputId": "49e3ed50-2795-4d9c-ac61-36c9d270818f"
      },
      "execution_count": 100,
      "outputs": [
        {
          "output_type": "stream",
          "name": "stdout",
          "text": [
            "MLP(\n",
            "  (sequential_layers): Sequential(\n",
            "    (0): Linear(in_features=600, out_features=1200, bias=True)\n",
            "    (1): ReLU()\n",
            "    (2): Dropout(p=0.1, inplace=False)\n",
            "    (3): Linear(in_features=1200, out_features=600, bias=True)\n",
            "    (4): ReLU()\n",
            "    (5): Dropout(p=0.1, inplace=False)\n",
            "    (6): Linear(in_features=600, out_features=300, bias=True)\n",
            "    (7): ReLU()\n",
            "    (8): Dropout(p=0.1, inplace=False)\n",
            "    (9): Linear(in_features=300, out_features=1, bias=True)\n",
            "  )\n",
            ")\n"
          ]
        }
      ]
    },
    {
      "cell_type": "markdown",
      "source": [
        "### **Task 1.2.2: Train MLP with Pytorch**\n",
        "Train the MLP with the following setups/hyperparameters:\n",
        "- [AdmW](https://pytorch.org/docs/stable/generated/torch.optim.AdamW.html#torch.optim.AdamW) with a learning rate of 2e-3 as the  optimizer\n",
        "- [Mean Square Error](https://pytorch.org/docs/stable/generated/torch.nn.MSELoss.html#torch.nn.MSELoss) as the loss function\n",
        "- batch size: 128\n",
        "- number of training epochs: 17\n"
      ],
      "metadata": {
        "id": "7IwxQMfN2ZKJ"
      }
    },
    {
      "cell_type": "markdown",
      "source": [
        "### a)\n",
        "The method for training is provided below, which returns the list of the train loss at all epochs and the trained model. Please define the corresponding parameters to call this method and **plot** the training loss using `matplotlib.pyplot.plot`; with GPU the training takes about 1.5 mins for 17 epochs. \n",
        "\n",
        "**Hint**: create the dataloader for the custom datasets (`train_dataset` and `dev_dataset`) using [`torch.utils.data.DataLoader`](https://pytorch.org/docs/stable/data.html#torch.utils.data.DataLoader); reshuffle the training data at every epoch (don't forget to define the batch size for the dataloader!).\n",
        "\n"
      ],
      "metadata": {
        "id": "Hr8ev4DokuYI"
      }
    },
    {
      "cell_type": "code",
      "source": [
        "def train(model, train_dataloader, eval_dataloader, optimizer, loss_fn, num_epochs, device='cuda'):\n",
        "  \n",
        "  train_losses = []\n",
        "\n",
        "  for epoch in range(num_epochs):\n",
        "\n",
        "    if epoch == 0:\n",
        "      model.eval()\n",
        "      loss_per_epoch = 0\n",
        "      for batch_data in train_dataloader:\n",
        "        with torch.no_grad():\n",
        "          predictions = model(batch_data['encoding'].to(device))\n",
        "          targets = batch_data['score'].to(device) # only if device='cuda'\n",
        "          train_loss = loss_func(predictions.squeeze(), targets)\n",
        "          loss_per_epoch += train_loss.item()\n",
        "      loss_per_epoch = loss_per_epoch/len(train_dataloader)\n",
        "      train_losses.append(loss_per_epoch)\n",
        "      print(f'\\ninital train loss: {loss_per_epoch}')\n",
        "\n",
        "    model.train()\n",
        "    loss_per_epoch = 0\n",
        "    for batch_data in train_dataloader:\n",
        "      predictions = model(batch_data['encoding'].to(device))\n",
        "      targets = batch_data['score'].to(device) # only if device='cuda'\n",
        "      train_loss = loss_func(predictions.squeeze(), targets) \n",
        "      loss_per_epoch += train_loss.item()\n",
        "\n",
        "      optimizer.zero_grad()\n",
        "      train_loss.backward()\n",
        "      optimizer.step()   \n",
        "\n",
        "    loss_per_epoch = loss_per_epoch/len(train_dataloader)\n",
        "    train_losses.append(loss_per_epoch)\n",
        "    print(f'\\n Epoch {epoch+1} train loss: {loss_per_epoch}')\n",
        "    #evaluate(model, eval_dataloader, loss_func)\n",
        "  \n",
        "  return train_losses, model\n",
        "\n"
      ],
      "metadata": {
        "id": "OOzMDTjeehq0"
      },
      "execution_count": 101,
      "outputs": []
    },
    {
      "cell_type": "code",
      "source": [
        "# Set random seeds; do not change this!\n",
        "seed_everything(seed=999)\n",
        "\n",
        "# TODO: YOUR CODE HERE\n",
        "# ==============================================\n",
        "\n",
        "# Define the training hyperparameters\n",
        "num_epochs = 17\n",
        "batch_size = 128\n",
        "learning_rate = 2e-3\n",
        "\n",
        "# Create dataloader\n",
        "train_dataloader = DataLoader(train_dataset, batch_size=batch_size)\n",
        "dev_dataloader = DataLoader(dev_dataset, batch_size=batch_size)\n",
        "\n",
        "# Initialize the model\n",
        "device = 'cuda' # \"gpu\"\n",
        "model = MLP()\n",
        "model.to(device)\n",
        "\n",
        "# Define Optimizer and Loss Function\n",
        "optimizer = torch.optim.AdamW(params=model.parameters(), lr=learning_rate)\n",
        "loss_func = nn.MSELoss()\n",
        "\n",
        "train_losses, model = train(model, train_dataloader, dev_dataloader, optimizer, loss_func, num_epochs, 'cuda')\n",
        "\n",
        "# YOUR CODE FOR PLOTTING HERE\n",
        "\n",
        "# =============================================="
      ],
      "metadata": {
        "id": "CRqhCf2d3qwt",
        "colab": {
          "base_uri": "https://localhost:8080/"
        },
        "outputId": "30b4afcc-67ec-4b69-faa8-711abd2d9ef7"
      },
      "execution_count": 102,
      "outputs": [
        {
          "output_type": "stream",
          "name": "stdout",
          "text": [
            "\n",
            "inital train loss: 9.514770823865772\n",
            "\n",
            " Epoch 1 train loss: 2.904914813172703\n",
            "\n",
            " Epoch 2 train loss: 2.1431487369775124\n",
            "\n",
            " Epoch 3 train loss: 2.072098582707661\n",
            "\n",
            " Epoch 4 train loss: 2.131613265854313\n",
            "\n",
            " Epoch 5 train loss: 1.998916331229936\n",
            "\n",
            " Epoch 6 train loss: 1.8769423414890987\n",
            "\n",
            " Epoch 7 train loss: 1.8302743190834552\n",
            "\n",
            " Epoch 8 train loss: 1.7623476238473068\n",
            "\n",
            " Epoch 9 train loss: 1.6421896324308383\n",
            "\n",
            " Epoch 10 train loss: 1.563925786286195\n",
            "\n",
            " Epoch 11 train loss: 1.4352797875875705\n",
            "\n",
            " Epoch 12 train loss: 1.314662154960458\n",
            "\n",
            " Epoch 13 train loss: 1.2712593050209375\n",
            "\n",
            " Epoch 14 train loss: 1.276536739402047\n",
            "\n",
            " Epoch 15 train loss: 1.5156666619219699\n",
            "\n",
            " Epoch 16 train loss: 1.3541686304839575\n",
            "\n",
            " Epoch 17 train loss: 1.1989442933208914\n"
          ]
        }
      ]
    },
    {
      "cell_type": "code",
      "source": [
        "# YOUR CODE FOR PLOTTING HERE\n",
        "def plot_epochs_loss(lst_epochs, lst_train_loss):\n",
        "  plt.plot(lst_epochs, lst_train_loss, marker=\"o\")\n",
        "  plt.xticks(lst_epochs)\n",
        "  plt.xlabel(\"Epochs\")\n",
        "  plt.ylabel(\"Training Loss\")\n",
        "  plt.title(\"Training Loss for each Epoch\")\n",
        "  plt.show()\n",
        "\n",
        "epochs = list(range(0, 18))\n",
        "\n",
        "plot_epochs_loss(epochs, train_losses)"
      ],
      "metadata": {
        "colab": {
          "base_uri": "https://localhost:8080/",
          "height": 472
        },
        "id": "5e_zR5jA3u1K",
        "outputId": "ec607749-39b9-4414-dca0-9f2ab78f1bf9"
      },
      "execution_count": 103,
      "outputs": [
        {
          "output_type": "display_data",
          "data": {
            "text/plain": [
              "<Figure size 640x480 with 1 Axes>"
            ],
            "image/png": "[encoded data removed]"
          },
          "metadata": {}
        }
      ]
    },
    {
      "cell_type": "markdown",
      "source": [
        "### b)\n",
        "Implement a method to evaluate a model which calculates the Pearson correlation between the predictions of the model and the similarity scores from the dataset.\n",
        "\n",
        "**Print** the evaluation results  of your trained model on the dev set."
      ],
      "metadata": {
        "id": "6G-VQMzJlIC3"
      }
    },
    {
      "cell_type": "code",
      "source": [
        "from scipy.stats import pearsonr\n",
        "def evaluate(model, eval_dataloader):\n",
        "  # TODO: YOUR CODE HERE:\n",
        "  model.eval() # this is used to set the model in evlauation mode; details see https://pytorch.org/docs/stable/generated/torch.nn.Module.html#torch.nn.Module.eval\n",
        "  \n",
        "  with torch.no_grad(): # this is used to disable gradient calculation; details see https://pytorch.org/docs/stable/generated/torch.no_grad.html \n",
        "    for batch_data in eval_dataloader:\n",
        "      predictions = model(batch_data['encoding'].to(device))\n",
        "      targets = batch_data['score'].to(device)\n",
        "    # transform preds and targets to numpy in CPU to then use pearsonr\n",
        "    preds_numpy = p.view(-1).cpu().numpy() #reshape and put on cpu\n",
        "    targets_numpy = targets.cpu().numpy() #put on cpu\n",
        "    \n",
        "  return preds_numpy, targets_numpy, pearsonr(preds_numpy, targets_numpy)[0]\n",
        "\n",
        "preds, targets, pearson_value = evaluate(model, dev_dataloader)\n",
        "print(f\"Pearson Correlation value == {pearson_value:.6f}\")"
      ],
      "metadata": {
        "id": "fURghifFOhXg",
        "colab": {
          "base_uri": "https://localhost:8080/"
        },
        "outputId": "6b1d4a26-0ea0-47ad-8a69-0f2529548df5"
      },
      "execution_count": 105,
      "outputs": [
        {
          "output_type": "stream",
          "name": "stdout",
          "text": [
            "Pearson Correlation value == 0.582735\n"
          ]
        }
      ]
    }
  ]
}