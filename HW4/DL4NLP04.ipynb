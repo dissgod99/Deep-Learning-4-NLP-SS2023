{
  "cells": [
    {
      "cell_type": "code",
      "execution_count": null,
      "metadata": {
        "colab": {
          "base_uri": "https://localhost:8080/"
        },
        "id": "W_35WKkRgRDW",
        "outputId": "7aecb153-29ba-4531-c27a-e76808912a8b"
      },
      "outputs": [
        {
          "output_type": "stream",
          "name": "stdout",
          "text": [
            "Drive already mounted at /content/drive; to attempt to forcibly remount, call drive.mount(\"/content/drive\", force_remount=True).\n",
            "/content/drive/My Drive/Colab Notebooks/hw4\n"
          ]
        }
      ],
      "source": [
        "from google.colab import drive\n",
        "drive.mount('/content/drive')\n",
        "%cd /content/drive/My Drive/Colab Notebooks/hw4"
      ]
    },
    {
      "cell_type": "code",
      "execution_count": null,
      "metadata": {
        "id": "3vJcrRscg5XA"
      },
      "outputs": [],
      "source": [
        "!pip install torch\n",
        "!pip install transformers\n",
        "!pip install datasets"
      ]
    },
    {
      "cell_type": "code",
      "execution_count": null,
      "metadata": {
        "id": "FWXQ59Qrg89R"
      },
      "outputs": [],
      "source": [
        "import torch\n",
        "from transformers import GPT2Tokenizer, AutoTokenizer, GPT2LMHeadModel\n",
        "from datasets import load_dataset\n",
        "from collections import defaultdict\n",
        "import copy"
      ]
    },
    {
      "cell_type": "markdown",
      "metadata": {
        "id": "zHB7g4M9BDm7"
      },
      "source": [
        "## **Task 1: Byte pair encoding**"
      ]
    },
    {
      "cell_type": "markdown",
      "metadata": {
        "id": "HfcrKwekNUdU"
      },
      "source": [
        "The goal is to calculate byte pair encodings for a given dataset. For a recap of the concept we refer to lecture 9, slides 22.ff and internet search."
      ]
    },
    {
      "cell_type": "markdown",
      "metadata": {
        "id": "HcSdEAeKtQJR"
      },
      "source": [
        "### Task 1.1\n",
        "First we want to make sure we create a suffieciently large corpus. As dataset you import the dataset \"wikitext-2-raw-v1\" from huggingface. Make sure to use the 500 first entries of the training dataset and subsequently filter out empty  entries. Also print the first entry of the corpus."
      ]
    },
    {
      "cell_type": "code",
      "execution_count": null,
      "metadata": {
        "colab": {
          "base_uri": "https://localhost:8080/",
          "height": 121,
          "referenced_widgets": [
            "3712c0b7503d40f59ceafbef768e6b14",
            "7159a820a1c948f6afd652366513de48",
            "081aa9b819e34b68984c56d72c6746c0",
            "90bed65d322246488792f42a90b9d12d",
            "6cb6c549a0b14a68a8927ccfab41fb06",
            "0a9c00ef55224833b40f41d31abb993d",
            "7c15cc0c63454299b8862ec9a5351edb",
            "4682977937124058803f93c64013d2b3",
            "e20adc936c2543ed9738156336760813",
            "51d52b9d80cd4edb8b8d63262bb5ee5e",
            "f47813d17c44403db051e2b1fde0c0e0"
          ]
        },
        "id": "ekOh5k7rtA3g",
        "outputId": "e462fe93-3ad2-4a05-d218-a6ac487504b4"
      },
      "outputs": [
        {
          "output_type": "stream",
          "name": "stderr",
          "text": [
            "WARNING:datasets.builder:Found cached dataset wikitext (/root/.cache/huggingface/datasets/wikitext/wikitext-2-raw-v1/1.0.0/a241db52902eaf2c6aa732210bead40c090019a499ceb13bcbfa3f8ab646a126)\n"
          ]
        },
        {
          "output_type": "display_data",
          "data": {
            "text/plain": [
              "  0%|          | 0/3 [00:00<?, ?it/s]"
            ],
            "application/vnd.jupyter.widget-view+json": {
              "version_major": 2,
              "version_minor": 0,
              "model_id": "3712c0b7503d40f59ceafbef768e6b14"
            }
          },
          "metadata": {}
        },
        {
          "output_type": "stream",
          "name": "stdout",
          "text": [
            "First Entry ==  = Valkyria Chronicles III = \n",
            "\n"
          ]
        }
      ],
      "source": [
        "# Load WikiText-2 dataset \"wikitext-2-raw-v1\"\n",
        "wiki_dataset = load_dataset(\"wikitext\", \"wikitext-2-raw-v1\")\n",
        "train_dataset = wiki_dataset[\"train\"]\n",
        "corpus = []\n",
        "# YOUR CODE HERE\n",
        "#iterate over the first 500 entries of the trainingset and filter out empty entries\n",
        "for sent in train_dataset[\"text\"][:500]:\n",
        "  if sent not in [\"\", \" \"]:\n",
        "    corpus.append(sent)\n",
        "\n",
        "print(f\"First Entry == {corpus[0]}\")"
      ]
    },
    {
      "cell_type": "markdown",
      "metadata": {
        "id": "vUdYyNyavtOW"
      },
      "source": [
        "Note that the corpus should have a format like\n",
        "corpus = [\n",
        "    \"This is the first sentence\",\n",
        "    \"This is the second sentence\",\n",
        "    ..\n",
        "]. For debugging during coding you can also consider working with a smaller corpus, e.g. only 5 sentences"
      ]
    },
    {
      "cell_type": "markdown",
      "metadata": {
        "id": "D6BN0JoquLz_"
      },
      "source": [
        "### Task 1.2\n",
        "Here, you loop through the corpus and count the word frequencies"
      ]
    },
    {
      "cell_type": "code",
      "execution_count": null,
      "metadata": {
        "id": "YywJmC5uyWsp"
      },
      "outputs": [],
      "source": [
        "# Initialize a tokenizer from the transformers library\n",
        "tokenizer = AutoTokenizer.from_pretrained(\"gpt2\")\n",
        "\n",
        "# Initialize a defaultdict to store word frequencies\n",
        "word_freqs = defaultdict(int)\n",
        "# this dictionary gets entries for word_freqs[word]\n",
        "\n",
        "alphabet = []\n",
        "vocab = [\"\"]\n",
        "splits = {}\n",
        "vocab_size = 200\n",
        "merges = {}\n",
        "\n",
        "# We loop through to corups to calculate word frequencies\n",
        "for text in corpus:\n",
        "    words_with_offsets = tokenizer.backend_tokenizer.pre_tokenizer.pre_tokenize_str(text)\n",
        "    new_words = [word for word, offset in words_with_offsets]\n",
        "    # YOUR CODE HERE to count word frequencies\n",
        "    for w in new_words:\n",
        "      word_freqs[w] += 1"
      ]
    },
    {
      "cell_type": "markdown",
      "metadata": {
        "id": "Z7UQXeML0cVU"
      },
      "source": [
        "The following block creates the alphabet and initial vocabulary"
      ]
    },
    {
      "cell_type": "code",
      "execution_count": null,
      "metadata": {
        "colab": {
          "base_uri": "https://localhost:8080/"
        },
        "id": "GSqR2eMYzmo9",
        "outputId": "b41dadba-6739-44fb-e785-6e00bb2b4187"
      },
      "outputs": [
        {
          "output_type": "stream",
          "name": "stdout",
          "text": [
            "alphabet ['!', '\"', '$', '%', '&', \"'\", '(', ')', '+', ',', '-', '.', '/', '0', '1', '2', '3', '4', '5', '6', '7', '8', '9', ':', ';', '=', '@', 'A', 'B', 'C', 'D', 'E', 'F', 'G', 'H', 'I', 'J', 'K', 'L', 'M', 'N', 'O', 'P', 'Q', 'R', 'S', 'T', 'U', 'V', 'W', 'X', 'Y', 'Z', '[', ']', 'a', 'b', 'c', 'd', 'e', 'f', 'g', 'h', 'i', 'j', 'k', 'l', 'm', 'n', 'o', 'p', 'q', 'r', 's', 't', 'u', 'v', 'w', 'x', 'y', 'z', '~', '¡', '¢', '£', '¤', '¥', '¦', '©', 'ª', '«', '®', '¯', '°', '±', '²', '³', '´', 'µ', '¹', '¼', '½', '¿', 'Â', 'Ã', 'Å', 'â', 'ã', 'ä', 'å', 'æ', 'ç', 'è', 'é', 'ï', 'Ċ', 'Ġ', 'Ģ', 'ģ', 'Ĥ', 'ĥ', 'Ħ', 'ħ', 'Ĩ', 'Ī', 'ī', 'Ĭ', 'ĭ', 'Į', 'į', 'ı', 'Ĳ', 'ĳ', 'Ĵ', 'ĵ', 'Ķ', 'Ĺ', 'ĺ', 'Ļ', 'Ľ', 'Ł', 'ł', 'Ń']\n"
          ]
        }
      ],
      "source": [
        "for word in word_freqs.keys():\n",
        "    for letter in word:\n",
        "        if letter not in alphabet:\n",
        "            alphabet.append(letter)\n",
        "alphabet.sort()\n",
        "\n",
        "print(\"alphabet\",alphabet)\n",
        "vocab = [\"<|endoftext|>\"] + alphabet.copy()\n",
        "splits = {word: [c for c in word] for word in word_freqs.keys()}\n",
        "splits_1000 = copy.deepcopy(splits)\n",
        "splits_5000 = copy.deepcopy(splits)"
      ]
    },
    {
      "cell_type": "markdown",
      "metadata": {
        "id": "xlxGKcZTzLZB"
      },
      "source": [
        "### Task 1.3\n",
        "Define a function to compute the frequency of each pair of characters"
      ]
    },
    {
      "cell_type": "code",
      "execution_count": null,
      "metadata": {
        "id": "7SBWAIBl0_ci"
      },
      "outputs": [],
      "source": [
        "# Define a function to compute the frequency of each pair of characters\n",
        "def compute_pair_freqs(splits):\n",
        "    pair_freqs = defaultdict(int)\n",
        "    # YOUR CODE HERE to compute the frequency of each pair of characters\n",
        "    for k, v in splits.items():\n",
        "      #v is a list of characters\n",
        "      for i in range(len(v) - 1):\n",
        "        pair = (v[i], v[i+1])\n",
        "        pair_freqs[pair] += 1\n",
        "    return pair_freqs\n",
        "\n",
        "# Initialize pair_freqs by calling the compute_pair_freqs function\n",
        "pair_freqs = compute_pair_freqs(splits)"
      ]
    },
    {
      "cell_type": "markdown",
      "metadata": {
        "id": "Yjg9JO4R1TQh"
      },
      "source": [
        "Here we find the pair of characters that appears most frequently together"
      ]
    },
    {
      "cell_type": "code",
      "execution_count": null,
      "metadata": {
        "colab": {
          "base_uri": "https://localhost:8080/"
        },
        "id": "wrEE3mQn1Ley",
        "outputId": "e7db4c3f-248b-4a34-a39a-21e52722ed8b"
      },
      "outputs": [
        {
          "output_type": "stream",
          "name": "stdout",
          "text": [
            "('Ġ', '='): 1\n",
            "('Ġ', 'V'): 29\n",
            "('V', 'a'): 10\n",
            "('a', 'l'): 311\n",
            "('l', 'k'): 9\n",
            "('k', 'y'): 5\n",
            "\n",
            "Most frequent pair of characters :  ('i', 'n')  occurs  582  times\n"
          ]
        }
      ],
      "source": [
        "for i, key in enumerate(pair_freqs.keys()):\n",
        "    print(f\"{key}: {pair_freqs[key]}\")\n",
        "    if i >= 5:\n",
        "        break\n",
        "\n",
        "best_pair = \"\"\n",
        "max_freq = None\n",
        "\n",
        "for pair, freq in pair_freqs.items():\n",
        "    if max_freq is None or max_freq < freq:\n",
        "        best_pair = pair\n",
        "        max_freq = freq\n",
        "\n",
        "print(\"\\nMost frequent pair of characters : \", best_pair, \" occurs \", max_freq, \" times\")"
      ]
    },
    {
      "cell_type": "markdown",
      "metadata": {
        "id": "t66VBj9E1je1"
      },
      "source": [
        "### Task 1.4\n",
        "Define a function to merge the most frequent pair of characters"
      ]
    },
    {
      "cell_type": "code",
      "execution_count": null,
      "metadata": {
        "id": "eWrEW4BZyHWz"
      },
      "outputs": [],
      "source": [
        "def help_fct(a, b, split):\n",
        "  merged_list = []\n",
        "  i = 0\n",
        "  while i < len(split):\n",
        "    if split[i] == a and i + 1 < len(split) and split[i + 1] == b:\n",
        "      merged_list.append(a + b)\n",
        "      i += 2\n",
        "    else:\n",
        "      merged_list.append(split[i])\n",
        "      i += 1\n",
        "\n",
        "  return merged_list"
      ]
    },
    {
      "cell_type": "code",
      "execution_count": null,
      "metadata": {
        "id": "H80PfjRHBJxj"
      },
      "outputs": [],
      "source": [
        "\n",
        "# Define a function to merge the most frequent pair of characters\n",
        "def merge_pair(a, b, splits):\n",
        "    #splits_copy = copy.deepcopy(splits)\n",
        "    for word in word_freqs:\n",
        "        split = splits[word]\n",
        "        if len(split) == 1:\n",
        "            continue\n",
        "\n",
        "        # YOUR CODE HERE to merge the most frequent pair of characters in each word\n",
        "        splits[word] = help_fct(a=a, b=b, split=split)\n",
        "    return splits"
      ]
    },
    {
      "cell_type": "markdown",
      "metadata": {
        "id": "9bn6OgVT1wD4"
      },
      "source": [
        "### Task 1.5\n",
        "\n",
        "Iterate this process until you reach a predefined vocabulary size"
      ]
    },
    {
      "cell_type": "code",
      "source": [
        "# YOUR CODE HERE to iterate this process until you reach a predefined vocabulary size\n",
        "# Edited my this part of my code based on the following link: https://huggingface.co/learn/nlp-course/chapter6/5?fw=pt\n",
        "vocab_size = 200\n",
        "# initialize the merges variable with the most frequent character pair, because it won't be taken into consideration in the loop block.\n",
        "merges = {(\"i\", \"n\"): \"in\"}\n",
        "vocab.append(\"in\")\n",
        "while len(vocab) < vocab_size:\n",
        "    pair_freqs = compute_pair_freqs(splits)\n",
        "    best_pair = \"\"\n",
        "    max_freq = None\n",
        "    for pair, freq in pair_freqs.items():\n",
        "        if max_freq is None or max_freq < freq:\n",
        "            best_pair = pair\n",
        "            max_freq = freq\n",
        "    splits = merge_pair(*best_pair, splits)\n",
        "    merges[best_pair] = best_pair[0] + best_pair[1]\n",
        "    vocab.append(best_pair[0] + best_pair[1])"
      ],
      "metadata": {
        "id": "SjxGoaftt9Mw"
      },
      "execution_count": null,
      "outputs": []
    },
    {
      "cell_type": "code",
      "source": [
        "print(merges)"
      ],
      "metadata": {
        "colab": {
          "base_uri": "https://localhost:8080/"
        },
        "id": "WnDeu_32t9EQ",
        "outputId": "5076b75e-96cc-416d-aa50-a14d780ae869"
      },
      "execution_count": null,
      "outputs": [
        {
          "output_type": "stream",
          "name": "stdout",
          "text": [
            "{('i', 'n'): 'in', ('e', 'r'): 'er', ('e', 'd'): 'ed', ('o', 'n'): 'on', ('e', 's'): 'es', ('e', 'n'): 'en', ('Ġ', 's'): 'Ġs', ('a', 't'): 'at', ('a', 'n'): 'an', ('a', 'l'): 'al', ('o', 'r'): 'or', ('a', 'r'): 'ar', ('in', 'g'): 'ing', ('Ġ', 'c'): 'Ġc', ('Ġ', 'p'): 'Ġp', ('r', 'e'): 're', ('t', 'i'): 'ti', ('i', 's'): 'is', ('Ġ', 'd'): 'Ġd', ('e', 'l'): 'el', ('Ġ', 'm'): 'Ġm', ('Ġ', 'f'): 'Ġf', ('i', 'c'): 'ic', ('i', 't'): 'it', ('Ġ', 't'): 'Ġt', ('o', 'u'): 'ou', ('l', 'e'): 'le', ('Ġ', 'a'): 'Ġa', ('r', 'o'): 'ro', ('Ġ', 'S'): 'ĠS', ('i', 'on'): 'ion', ('Ġ', 'b'): 'Ġb', ('en', 't'): 'ent', ('Ġ', 'C'): 'ĠC', ('Ġ', 're'): 'Ġre', ('Ġ', '1'): 'Ġ1', ('i', 'l'): 'il', ('o', 'm'): 'om', ('a', 's'): 'as', ('a', 'c'): 'ac', ('e', 'c'): 'ec', ('Ġ', 'w'): 'Ġw', ('Ġ', 'A'): 'ĠA', ('l', 'o'): 'lo', ('s', 't'): 'st', ('l', 'y'): 'ly', ('Ġ', 'e'): 'Ġe', ('Ġ', 'M'): 'ĠM', ('e', 't'): 'et', ('Ġ', 'in'): 'Ġin', ('Ġ', 'P'): 'ĠP', ('Ġ', 'h'): 'Ġh', ('u', 'r'): 'ur', ('er', 's'): 'ers', ('r', 'a'): 'ra'}\n"
          ]
        }
      ]
    },
    {
      "cell_type": "code",
      "source": [
        "print(vocab)"
      ],
      "metadata": {
        "colab": {
          "base_uri": "https://localhost:8080/"
        },
        "id": "F_S841FShLTg",
        "outputId": "f4e11d85-2301-4567-9c19-27e1871a9f83"
      },
      "execution_count": null,
      "outputs": [
        {
          "output_type": "stream",
          "name": "stdout",
          "text": [
            "['<|endoftext|>', '!', '\"', '$', '%', '&', \"'\", '(', ')', '+', ',', '-', '.', '/', '0', '1', '2', '3', '4', '5', '6', '7', '8', '9', ':', ';', '=', '@', 'A', 'B', 'C', 'D', 'E', 'F', 'G', 'H', 'I', 'J', 'K', 'L', 'M', 'N', 'O', 'P', 'Q', 'R', 'S', 'T', 'U', 'V', 'W', 'X', 'Y', 'Z', '[', ']', 'a', 'b', 'c', 'd', 'e', 'f', 'g', 'h', 'i', 'j', 'k', 'l', 'm', 'n', 'o', 'p', 'q', 'r', 's', 't', 'u', 'v', 'w', 'x', 'y', 'z', '~', '¡', '¢', '£', '¤', '¥', '¦', '©', 'ª', '«', '®', '¯', '°', '±', '²', '³', '´', 'µ', '¹', '¼', '½', '¿', 'Â', 'Ã', 'Å', 'â', 'ã', 'ä', 'å', 'æ', 'ç', 'è', 'é', 'ï', 'Ċ', 'Ġ', 'Ģ', 'ģ', 'Ĥ', 'ĥ', 'Ħ', 'ħ', 'Ĩ', 'Ī', 'ī', 'Ĭ', 'ĭ', 'Į', 'į', 'ı', 'Ĳ', 'ĳ', 'Ĵ', 'ĵ', 'Ķ', 'Ĺ', 'ĺ', 'Ļ', 'Ľ', 'Ł', 'ł', 'Ń', 'in', 'in', 'er', 'ed', 'on', 'es', 'en', 'Ġs', 'at', 'an', 'al', 'or', 'ar', 'ing', 'Ġc', 'Ġp', 're', 'ti', 'is', 'Ġd', 'el', 'Ġm', 'Ġf', 'ic', 'it', 'Ġt', 'ou', 'le', 'Ġa', 'ro', 'ĠS', 'ion', 'Ġb', 'ent', 'ĠC', 'Ġre', 'Ġ1', 'il', 'om', 'as', 'ac', 'ec', 'Ġw', 'ĠA', 'lo', 'st', 'ly', 'Ġe', 'ĠM', 'et', 'Ġin', 'ĠP', 'Ġh', 'ur', 'ers', 'ra']\n"
          ]
        }
      ]
    },
    {
      "cell_type": "code",
      "source": [
        "len(vocab)"
      ],
      "metadata": {
        "colab": {
          "base_uri": "https://localhost:8080/"
        },
        "id": "fzP_2--auj6K",
        "outputId": "57309506-ddfd-43a2-e210-e23a66f3fca3"
      },
      "execution_count": null,
      "outputs": [
        {
          "output_type": "execute_result",
          "data": {
            "text/plain": [
              "200"
            ]
          },
          "metadata": {},
          "execution_count": 133
        }
      ]
    },
    {
      "cell_type": "code",
      "source": [
        "print(splits)"
      ],
      "metadata": {
        "id": "C2pjJVceuj3u",
        "colab": {
          "base_uri": "https://localhost:8080/"
        },
        "outputId": "75609768-924b-465a-abde-2340958d9a76"
      },
      "execution_count": null,
      "outputs": [
        {
          "output_type": "stream",
          "name": "stdout",
          "text": [
            "{'Ġ=': ['Ġ', '='], 'ĠValkyria': ['Ġ', 'V', 'al', 'k', 'y', 'r', 'i', 'a'], 'ĠChronicles': ['ĠC', 'h', 'r', 'on', 'ic', 'l', 'es'], 'ĠIII': ['Ġ', 'I', 'I', 'I'], 'ĠĊ': ['Ġ', 'Ċ'], 'ĠSenjÅį': ['ĠS', 'en', 'j', 'Å', 'į'], 'Ġno': ['Ġ', 'n', 'o'], 'Ġ3': ['Ġ', '3'], 'Ġ:': ['Ġ', ':'], 'ĠUnrecorded': ['Ġ', 'U', 'n', 're', 'c', 'or', 'd', 'ed'], 'Ġ(': ['Ġ', '('], 'ĠJapanese': ['Ġ', 'J', 'a', 'p', 'an', 'es', 'e'], 'ĠæĪ¦åł´ãģ®ãĥ´ãĤ¡ãĥ«ãĤŃãĥ¥ãĥªãĤ¢': ['Ġ', 'æ', 'Ī', '¦', 'å', 'ł', '´', 'ã', 'ģ', '®', 'ã', 'ĥ', '´', 'ã', 'Ĥ', '¡', 'ã', 'ĥ', '«', 'ã', 'Ĥ', 'Ń', 'ã', 'ĥ', '¥', 'ã', 'ĥ', 'ª', 'ã', 'Ĥ', '¢'], '3': ['3'], 'Ġ,': ['Ġ', ','], 'Ġlit': ['Ġ', 'l', 'it'], 'Ġ.': ['Ġ', '.'], 'Ġof': ['Ġ', 'o', 'f'], 'Ġthe': ['Ġt', 'h', 'e'], 'ĠBattlefield': ['Ġ', 'B', 'at', 't', 'le', 'f', 'i', 'el', 'd'], 'Ġ)': ['Ġ', ')'], 'Ġcommonly': ['Ġc', 'om', 'm', 'on', 'ly'], 'Ġreferred': ['Ġre', 'f', 'er', 'r', 'ed'], 'Ġto': ['Ġt', 'o'], 'Ġas': ['Ġa', 's'], 'Ġoutside': ['Ġ', 'ou', 't', 's', 'i', 'd', 'e'], 'ĠJapan': ['Ġ', 'J', 'a', 'p', 'an'], 'Ġis': ['Ġ', 'is'], 'Ġa': ['Ġa'], 'Ġtactical': ['Ġt', 'ac', 'ti', 'c', 'al'], 'Ġrole': ['Ġ', 'ro', 'le'], 'Ġ@-@': ['Ġ', '@', '-', '@'], 'Ġplaying': ['Ġp', 'l', 'a', 'y', 'ing'], 'Ġvideo': ['Ġ', 'v', 'i', 'd', 'e', 'o'], 'Ġgame': ['Ġ', 'g', 'a', 'm', 'e'], 'Ġdeveloped': ['Ġd', 'e', 'v', 'el', 'o', 'p', 'ed'], 'Ġby': ['Ġb', 'y'], 'ĠSega': ['ĠS', 'e', 'g', 'a'], 'Ġand': ['Ġ', 'an', 'd'], 'ĠMedia': ['ĠM', 'ed', 'i', 'a'], '.': ['.'], 'Vision': ['V', 'is', 'ion'], 'Ġfor': ['Ġf', 'or'], 'ĠPlayStation': ['ĠP', 'l', 'a', 'y', 'S', 't', 'at', 'ion'], 'ĠPortable': ['ĠP', 'or', 't', 'a', 'b', 'le'], 'ĠReleased': ['Ġ', 'R', 'el', 'e', 'as', 'ed'], 'Ġin': ['Ġin'], 'ĠJanuary': ['Ġ', 'J', 'an', 'u', 'ar', 'y'], 'Ġ2011': ['Ġ', '2', '0', '1', '1'], 'Ġit': ['Ġ', 'it'], 'Ġthird': ['Ġt', 'h', 'i', 'r', 'd'], 'Ġseries': ['Ġs', 'er', 'i', 'es'], 'ĠEmploying': ['Ġ', 'E', 'm', 'p', 'lo', 'y', 'ing'], 'Ġsame': ['Ġs', 'a', 'm', 'e'], 'Ġfusion': ['Ġf', 'u', 's', 'ion'], 'Ġreal': ['Ġre', 'al'], 'Ġtime': ['Ġ', 'ti', 'm', 'e'], 'Ġgameplay': ['Ġ', 'g', 'a', 'm', 'e', 'p', 'l', 'a', 'y'], 'Ġits': ['Ġ', 'it', 's'], 'Ġpredecessors': ['Ġp', 'r', 'ed', 'ec', 'es', 's', 'or', 's'], 'Ġstory': ['Ġs', 't', 'or', 'y'], 'Ġruns': ['Ġ', 'r', 'u', 'n', 's'], 'Ġparallel': ['Ġp', 'ar', 'al', 'l', 'el'], 'Ġfirst': ['Ġf', 'i', 'r', 'st'], 'Ġfollows': ['Ġf', 'o', 'l', 'lo', 'w', 's'], 'Ġ\"': ['Ġ', '\"'], 'ĠNameless': ['Ġ', 'N', 'a', 'm', 'el', 'es', 's'], 'Ġpenal': ['Ġp', 'en', 'al'], 'Ġmilitary': ['Ġm', 'il', 'it', 'ar', 'y'], 'Ġunit': ['Ġ', 'u', 'n', 'it'], 'Ġserving': ['Ġs', 'er', 'v', 'ing'], 'Ġnation': ['Ġ', 'n', 'at', 'ion'], 'ĠGallia': ['Ġ', 'G', 'al', 'l', 'i', 'a'], 'Ġduring': ['Ġd', 'ur', 'ing'], 'ĠSecond': ['ĠS', 'ec', 'on', 'd'], 'ĠEuropan': ['Ġ', 'E', 'u', 'ro', 'p', 'an'], 'ĠWar': ['Ġ', 'W', 'ar'], 'Ġwho': ['Ġw', 'h', 'o'], 'Ġperform': ['Ġp', 'er', 'f', 'or', 'm'], 'Ġsecret': ['Ġs', 'ec', 're', 't'], 'Ġblack': ['Ġb', 'l', 'ac', 'k'], 'Ġoperations': ['Ġ', 'o', 'p', 'er', 'at', 'ion', 's'], 'Ġare': ['Ġ', 'ar', 'e'], 'Ġpitted': ['Ġp', 'it', 't', 'ed'], 'Ġagainst': ['Ġa', 'g', 'a', 'in', 'st'], 'ĠImperial': ['Ġ', 'I', 'm', 'p', 'er', 'i', 'al'], 'ĠCalamaty': ['ĠC', 'al', 'a', 'm', 'at', 'y'], 'ĠRaven': ['Ġ', 'R', 'a', 'v', 'en'], 'ĠThe': ['Ġ', 'T', 'h', 'e'], 'Ġbegan': ['Ġb', 'e', 'g', 'an'], 'Ġdevelopment': ['Ġd', 'e', 'v', 'el', 'o', 'p', 'm', 'ent'], 'Ġ2010': ['Ġ', '2', '0', '1', '0'], 'Ġcarrying': ['Ġc', 'ar', 'r', 'y', 'ing'], 'Ġover': ['Ġ', 'o', 'v', 'er'], 'Ġlarge': ['Ġ', 'l', 'ar', 'g', 'e'], 'Ġportion': ['Ġp', 'or', 'ti', 'on'], 'Ġwork': ['Ġw', 'or', 'k'], 'Ġdone': ['Ġd', 'on', 'e'], 'Ġon': ['Ġ', 'on'], 'ĠII': ['Ġ', 'I', 'I'], 'ĠWhile': ['Ġ', 'W', 'h', 'i', 'le'], 'Ġretained': ['Ġre', 't', 'a', 'in', 'ed'], 'Ġstandard': ['Ġs', 't', 'an', 'd', 'ar', 'd'], 'Ġfeatures': ['Ġf', 'e', 'at', 'ur', 'es'], 'Ġalso': ['Ġ', 'al', 's', 'o'], 'Ġunderwent': ['Ġ', 'u', 'n', 'd', 'er', 'w', 'ent'], 'Ġmultiple': ['Ġm', 'u', 'l', 'ti', 'p', 'le'], 'Ġadjustments': ['Ġa', 'd', 'j', 'u', 'st', 'm', 'ent', 's'], 'Ġsuch': ['Ġs', 'u', 'c', 'h'], 'Ġmaking': ['Ġm', 'a', 'k', 'ing'], 'Ġmore': ['Ġm', 'or', 'e'], 'Ġforgiving': ['Ġf', 'or', 'g', 'i', 'v', 'ing'], 'Ġnewcomers': ['Ġ', 'n', 'e', 'w', 'c', 'om', 'ers'], 'ĠCharacter': ['ĠC', 'h', 'ar', 'ac', 't', 'er'], 'Ġdesigner': ['Ġd', 'es', 'i', 'g', 'n', 'er'], 'ĠRaita': ['Ġ', 'R', 'a', 'it', 'a'], 'ĠHonjou': ['Ġ', 'H', 'on', 'j', 'ou'], 'Ġcomposer': ['Ġc', 'om', 'p', 'o', 's', 'er'], 'ĠHitoshi': ['Ġ', 'H', 'it', 'o', 's', 'h', 'i'], 'ĠSakimoto': ['ĠS', 'a', 'k', 'i', 'm', 'o', 't', 'o'], 'Ġboth': ['Ġb', 'o', 't', 'h'], 'Ġreturned': ['Ġre', 't', 'ur', 'n', 'ed'], 'Ġfrom': ['Ġf', 'ro', 'm'], 'Ġprevious': ['Ġp', 're', 'v', 'i', 'ou', 's'], 'Ġentries': ['Ġ', 'ent', 'r', 'i', 'es'], 'Ġalong': ['Ġ', 'al', 'on', 'g'], 'Ġwith': ['Ġw', 'it', 'h'], 'Ġdirector': ['Ġd', 'i', 're', 'c', 't', 'or'], 'ĠTakeshi': ['Ġ', 'T', 'a', 'k', 'es', 'h', 'i'], 'ĠOzawa': ['Ġ', 'O', 'z', 'a', 'w', 'a'], 'ĠA': ['ĠA'], 'Ġteam': ['Ġt', 'e', 'a', 'm'], 'Ġwriters': ['Ġw', 'r', 'it', 'ers'], 'Ġhandled': ['Ġh', 'an', 'd', 'l', 'ed'], 'Ġscript': ['Ġs', 'c', 'r', 'i', 'p', 't'], \"Ġ'\": ['Ġ', \"'\"], 's': ['s'], 'Ġopening': ['Ġ', 'o', 'p', 'en', 'ing'], 'Ġtheme': ['Ġt', 'h', 'e', 'm', 'e'], 'Ġwas': ['Ġw', 'as'], 'Ġsung': ['Ġs', 'u', 'n', 'g'], 'ĠMay': ['ĠM', 'a', 'y'], 'n': ['n'], 'ĠIt': ['Ġ', 'I', 't'], 'Ġmet': ['Ġm', 'et'], 'Ġpositive': ['Ġp', 'o', 's', 'i', 'ti', 'v', 'e'], 'Ġsales': ['Ġs', 'al', 'es'], 'Ġpraised': ['Ġp', 'ra', 'is', 'ed'], 'Ġwestern': ['Ġw', 'es', 't', 'er', 'n'], 'Ġcritics': ['Ġc', 'r', 'i', 'ti', 'c', 's'], 'ĠAfter': ['ĠA', 'f', 't', 'er'], 'Ġrelease': ['Ġre', 'le', 'as', 'e'], 'Ġreceived': ['Ġre', 'c', 'e', 'i', 'v', 'ed'], 'Ġdownloadable': ['Ġd', 'o', 'w', 'n', 'lo', 'a', 'd', 'a', 'b', 'le'], 'Ġcontent': ['Ġc', 'on', 't', 'ent'], 'Ġan': ['Ġ', 'an'], 'Ġexpanded': ['Ġe', 'x', 'p', 'an', 'd', 'ed'], 'Ġedition': ['Ġ', 'ed', 'i', 'ti', 'on'], 'ĠNovember': ['Ġ', 'N', 'o', 'v', 'e', 'm', 'b', 'er'], 'Ġthat': ['Ġt', 'h', 'at'], 'Ġyear': ['Ġ', 'y', 'e', 'ar'], 'Ġadapted': ['Ġa', 'd', 'a', 'p', 't', 'ed'], 'Ġinto': ['Ġin', 't', 'o'], 'Ġmanga': ['Ġm', 'an', 'g', 'a'], 'Ġoriginal': ['Ġ', 'or', 'i', 'g', 'in', 'al'], 'Ġanimation': ['Ġ', 'an', 'i', 'm', 'at', 'ion'], 'ĠDue': ['Ġ', 'D', 'u', 'e'], 'Ġlow': ['Ġ', 'lo', 'w'], 'Ġnot': ['Ġ', 'n', 'o', 't'], 'Ġlocalized': ['Ġ', 'lo', 'c', 'al', 'i', 'z', 'ed'], 'Ġbut': ['Ġb', 'u', 't'], 'Ġfan': ['Ġf', 'an'], 'Ġtranslation': ['Ġt', 'r', 'an', 's', 'l', 'at', 'ion'], 'Ġcompatible': ['Ġc', 'om', 'p', 'at', 'i', 'b', 'le'], 'Ġreleased': ['Ġre', 'le', 'as', 'ed'], 'Ġ2014': ['Ġ', '2', '0', '1', '4'], 'Ġwould': ['Ġw', 'ou', 'l', 'd'], 'Ġreturn': ['Ġre', 't', 'ur', 'n'], 'Ġfranchise': ['Ġf', 'r', 'an', 'c', 'h', 'is', 'e'], 'ĠAzure': ['ĠA', 'z', 'u', 're'], 'ĠRevolution': ['Ġ', 'R', 'e', 'v', 'o', 'l', 'u', 'ti', 'on'], 'Ġ4': ['Ġ', '4'], 'ĠGameplay': ['Ġ', 'G', 'a', 'm', 'e', 'p', 'l', 'a', 'y'], 'ĠAs': ['ĠA', 's'], 'ĠValkyira': ['Ġ', 'V', 'al', 'k', 'y', 'i', 'ra'], 'Ġgames': ['Ġ', 'g', 'a', 'm', 'es'], 'Ġwhere': ['Ġw', 'h', 'er', 'e'], 'Ġplayers': ['Ġp', 'l', 'a', 'y', 'ers'], 'Ġtake': ['Ġt', 'a', 'k', 'e'], 'Ġcontrol': ['Ġc', 'on', 't', 'ro', 'l'], 'Ġpart': ['Ġp', 'ar', 't'], 'Ġmissions': ['Ġm', 'is', 's', 'ion', 's'], 'Ġenemy': ['Ġ', 'en', 'e', 'm', 'y'], 'Ġforces': ['Ġf', 'or', 'c', 'es'], 'ĠStories': ['ĠS', 't', 'or', 'i', 'es'], 'Ġtold': ['Ġt', 'o', 'l', 'd'], 'Ġthrough': ['Ġt', 'h', 'r', 'ou', 'g', 'h'], 'Ġcomic': ['Ġc', 'om', 'ic'], 'Ġbook': ['Ġb', 'o', 'o', 'k'], 'Ġlike': ['Ġ', 'l', 'i', 'k', 'e'], 'Ġpanels': ['Ġp', 'an', 'el', 's'], 'Ġanimated': ['Ġ', 'an', 'i', 'm', 'at', 'ed'], 'Ġcharacter': ['Ġc', 'h', 'ar', 'ac', 't', 'er'], 'Ġportraits': ['Ġp', 'or', 't', 'ra', 'it', 's'], 'Ġcharacters': ['Ġc', 'h', 'ar', 'ac', 't', 'ers'], 'Ġspeaking': ['Ġs', 'p', 'e', 'a', 'k', 'ing'], 'Ġpartially': ['Ġp', 'ar', 'ti', 'al', 'ly'], 'Ġvoiced': ['Ġ', 'v', 'o', 'ic', 'ed'], 'Ġspeech': ['Ġs', 'p', 'e', 'ec', 'h'], 'Ġbubbles': ['Ġb', 'u', 'b', 'b', 'l', 'es'], 'Ġunvoiced': ['Ġ', 'u', 'n', 'v', 'o', 'ic', 'ed'], 'Ġtext': ['Ġt', 'e', 'x', 't'], 'Ġplayer': ['Ġp', 'l', 'a', 'y', 'er'], 'Ġprogresses': ['Ġp', 'ro', 'g', 'r', 'es', 's', 'es'], 'Ġlinear': ['Ġ', 'l', 'in', 'e', 'ar'], 'Ġgradually': ['Ġ', 'g', 'ra', 'd', 'u', 'al', 'ly'], 'Ġunlocked': ['Ġ', 'u', 'n', 'lo', 'c', 'k', 'ed'], 'Ġmaps': ['Ġm', 'a', 'p', 's'], 'Ġcan': ['Ġc', 'an'], 'Ġbe': ['Ġb', 'e'], 'Ġfreely': ['Ġf', 're', 'el', 'y'], 'Ġscanned': ['Ġs', 'c', 'an', 'n', 'ed'], 'Ġreplayed': ['Ġre', 'p', 'l', 'a', 'y', 'ed'], 'Ġthey': ['Ġt', 'h', 'e', 'y'], 'Ġroute': ['Ġ', 'r', 'ou', 't', 'e'], 'Ġeach': ['Ġe', 'ac', 'h'], 'Ġlocation': ['Ġ', 'lo', 'c', 'at', 'ion'], 'Ġmap': ['Ġm', 'a', 'p'], 'Ġvaries': ['Ġ', 'v', 'ar', 'i', 'es'], 'Ġdepending': ['Ġd', 'e', 'p', 'en', 'd', 'ing'], 'Ġindividual': ['Ġin', 'd', 'i', 'v', 'i', 'd', 'u', 'al'], 'Ġapproach': ['Ġa', 'p', 'p', 'ro', 'ac', 'h'], 'Ġwhen': ['Ġw', 'h', 'en'], 'Ġone': ['Ġ', 'on', 'e'], 'Ġoption': ['Ġ', 'o', 'p', 'ti', 'on'], 'Ġselected': ['Ġs', 'el', 'ec', 't', 'ed'], 'Ġother': ['Ġ', 'o', 't', 'h', 'er'], 'Ġsealed': ['Ġs', 'e', 'al', 'ed'], 'Ġoff': ['Ġ', 'o', 'f', 'f'], 'ĠOutside': ['Ġ', 'O', 'u', 't', 's', 'i', 'd', 'e'], 'Ġrest': ['Ġ', 'r', 'es', 't'], 'Ġcamp': ['Ġc', 'a', 'm', 'p'], 'Ġunits': ['Ġ', 'u', 'n', 'it', 's'], 'Ġcustomized': ['Ġc', 'u', 'st', 'om', 'i', 'z', 'ed'], 'Ġgrowth': ['Ġ', 'g', 'ro', 'w', 't', 'h'], 'Ġoccurs': ['Ġ', 'o', 'c', 'c', 'ur', 's'], 'ĠAlongside': ['ĠA', 'l', 'on', 'g', 's', 'i', 'd', 'e'], 'Ġmain': ['Ġm', 'a', 'in'], 'Ġspecific': ['Ġs', 'p', 'ec', 'i', 'f', 'ic'], 'Ġsub': ['Ġs', 'u', 'b'], 'Ġrelating': ['Ġre', 'l', 'at', 'ing'], 'Ġdifferent': ['Ġd', 'i', 'f', 'f', 'er', 'ent'], 'Ġsquad': ['Ġs', 'q', 'u', 'a', 'd'], 'Ġmembers': ['Ġm', 'e', 'm', 'b', 'ers'], 'Ġcompletion': ['Ġc', 'om', 'p', 'le', 'ti', 'on'], 'Ġadditional': ['Ġa', 'd', 'd', 'i', 'ti', 'on', 'al'], 'Ġepisodes': ['Ġe', 'p', 'is', 'o', 'd', 'es'], 'Ġsome': ['Ġs', 'om', 'e'], 'Ġthem': ['Ġt', 'h', 'e', 'm'], 'Ġhaving': ['Ġh', 'a', 'v', 'ing'], 'Ġhigher': ['Ġh', 'i', 'g', 'h', 'er'], 'Ġdifficulty': ['Ġd', 'i', 'f', 'f', 'ic', 'u', 'l', 't', 'y'], 'Ġthan': ['Ġt', 'h', 'an'], 'Ġthose': ['Ġt', 'h', 'o', 's', 'e'], 'Ġfound': ['Ġf', 'ou', 'n', 'd'], 'ĠThere': ['Ġ', 'T', 'h', 'er', 'e'], 'Ġlove': ['Ġ', 'lo', 'v', 'e'], 'Ġsimulation': ['Ġs', 'i', 'm', 'u', 'l', 'at', 'ion'], 'Ġelements': ['Ġ', 'el', 'e', 'm', 'ent', 's'], 'Ġrelated': ['Ġre', 'l', 'at', 'ed'], 'Ġtwo': ['Ġt', 'w', 'o'], 'Ġheroines': ['Ġh', 'er', 'o', 'in', 'es'], 'Ġalthough': ['Ġ', 'al', 't', 'h', 'ou', 'g', 'h'], 'Ġvery': ['Ġ', 'v', 'er', 'y'], 'Ġminor': ['Ġm', 'in', 'or'], 'Ġbattle': ['Ġb', 'at', 't', 'le'], 'Ġsystem': ['Ġs', 'y', 'st', 'e', 'm'], 'ĠBliTZ': ['Ġ', 'B', 'l', 'i', 'T', 'Z'], 'Ġcarried': ['Ġc', 'ar', 'r', 'i', 'ed'], 'Ġdirectly': ['Ġd', 'i', 're', 'c', 't', 'ly'], 'ĠDuring': ['Ġ', 'D', 'ur', 'ing'], 'Ġselect': ['Ġs', 'el', 'ec', 't'], 'Ġusing': ['Ġ', 'u', 's', 'ing'], 'Ġtop': ['Ġt', 'o', 'p'], 'Ġdown': ['Ġd', 'o', 'w', 'n'], 'Ġperspective': ['Ġp', 'ers', 'p', 'ec', 'ti', 'v', 'e'], 'Ġbattlefield': ['Ġb', 'at', 't', 'le', 'f', 'i', 'el', 'd'], 'Ġonce': ['Ġ', 'on', 'c', 'e'], 'Ġmoves': ['Ġm', 'o', 'v', 'es'], 'Ġaround': ['Ġ', 'ar', 'ou', 'n', 'd'], 'Ġperson': ['Ġp', 'ers', 'on'], 'Ġonly': ['Ġ', 'on', 'ly'], 'Ġact': ['Ġa', 'c', 't'], 'Ġper': ['Ġp', 'er'], 'Ġturn': ['Ġt', 'ur', 'n'], 'Ġgranted': ['Ġ', 'g', 'r', 'an', 't', 'ed'], 'Ġturns': ['Ġt', 'ur', 'n', 's'], 'Ġat': ['Ġ', 'at'], 'Ġexpense': ['Ġe', 'x', 'p', 'en', 's', 'e'], 'ĠEach': ['Ġ', 'E', 'ac', 'h'], 'Ġhas': ['Ġh', 'as'], 'Ġfield': ['Ġf', 'i', 'el', 'd'], 'Ġdistance': ['Ġd', 'is', 't', 'an', 'c', 'e'], 'Ġmovement': ['Ġm', 'o', 'v', 'e', 'm', 'ent'], 'Ġlimited': ['Ġ', 'l', 'i', 'm', 'it', 'ed'], 'Ġtheir': ['Ġt', 'h', 'e', 'i', 'r'], 'ĠAction': ['ĠA', 'c', 'ti', 'on'], 'ĠGauge': ['Ġ', 'G', 'a', 'u', 'g', 'e'], 'ĠUp': ['Ġ', 'U', 'p'], 'Ġnine': ['Ġ', 'n', 'in', 'e'], 'Ġassigned': ['Ġa', 's', 's', 'i', 'g', 'n', 'ed'], 'Ġsingle': ['Ġs', 'ing', 'le'], 'Ġmission': ['Ġm', 'is', 's', 'ion'], 'Ġwill': ['Ġw', 'il', 'l'], 'Ġcall': ['Ġc', 'al', 'l'], 'Ġout': ['Ġ', 'ou', 't'], 'Ġif': ['Ġ', 'i', 'f'], 'Ġsomething': ['Ġs', 'om', 'et', 'h', 'ing'], 'Ġhappens': ['Ġh', 'a', 'p', 'p', 'en', 's'], 'Ġhealth': ['Ġh', 'e', 'al', 't', 'h'], 'Ġpoints': ['Ġp', 'o', 'in', 't', 's'], 'ĠHP': ['Ġ', 'H', 'P'], 'Ġgetting': ['Ġ', 'g', 'et', 't', 'ing'], 'Ġor': ['Ġ', 'or'], 'Ġbeing': ['Ġb', 'e', 'ing'], 'Ġknocked': ['Ġ', 'k', 'n', 'o', 'c', 'k', 'ed'], 'Ġattacks': ['Ġ', 'at', 't', 'ac', 'k', 's'], 'ĠPotentials': ['ĠP', 'o', 't', 'en', 'ti', 'al', 's'], 'Ġskills': ['Ġs', 'k', 'il', 'l', 's'], 'Ġunique': ['Ġ', 'u', 'n', 'i', 'q', 'u', 'e'], 'ĠThey': ['Ġ', 'T', 'h', 'e', 'y'], 'Ġdivided': ['Ġd', 'i', 'v', 'i', 'd', 'ed'], 'ĠPersonal': ['ĠP', 'ers', 'on', 'al'], 'ĠPotential': ['ĠP', 'o', 't', 'en', 'ti', 'al'], 'Ġwhich': ['Ġw', 'h', 'ic', 'h'], 'Ġinnate': ['Ġin', 'n', 'at', 'e'], 'Ġremain': ['Ġre', 'm', 'a', 'in'], 'Ġunaltered': ['Ġ', 'u', 'n', 'al', 't', 'er', 'ed'], 'Ġunless': ['Ġ', 'u', 'n', 'l', 'es', 's'], 'Ġotherwise': ['Ġ', 'o', 't', 'h', 'er', 'w', 'is', 'e'], 'Ġdictated': ['Ġd', 'ic', 't', 'at', 'ed'], 'Ġeither': ['Ġe', 'it', 'h', 'er'], 'Ġhelp': ['Ġh', 'el', 'p'], 'Ġimpede': ['Ġ', 'i', 'm', 'p', 'ed', 'e'], 'ĠBattle': ['Ġ', 'B', 'at', 't', 'le'], 'Ġgrown': ['Ġ', 'g', 'ro', 'w', 'n'], 'Ġthroughout': ['Ġt', 'h', 'r', 'ou', 'g', 'h', 'ou', 't'], 'Ġalways': ['Ġ', 'al', 'w', 'a', 'y', 's'], 'Ġgrant': ['Ġ', 'g', 'r', 'an', 't'], 'Ġboons': ['Ġb', 'o', 'on', 's'], 'ĠTo': ['Ġ', 'T', 'o'], 'Ġlearn': ['Ġ', 'le', 'ar', 'n'], 'ĠMasters': ['ĠM', 'as', 't', 'ers'], 'ĠTable': ['Ġ', 'T', 'a', 'b', 'le'], 'Ġgrid': ['Ġ', 'g', 'r', 'i', 'd'], 'Ġbased': ['Ġb', 'as', 'ed'], 'Ġskill': ['Ġs', 'k', 'il', 'l'], 'Ġtable': ['Ġt', 'a', 'b', 'le'], 'Ġused': ['Ġ', 'u', 's', 'ed'], 'Ġacquire': ['Ġa', 'c', 'q', 'u', 'i', 're'], 'Ġlink': ['Ġ', 'l', 'in', 'k'], 'ĠCharacters': ['ĠC', 'h', 'ar', 'ac', 't', 'ers'], 'Ġhave': ['Ġh', 'a', 'v', 'e'], 'ĠSpecial': ['ĠS', 'p', 'ec', 'i', 'al'], 'ĠAbilities': ['ĠA', 'b', 'il', 'i', 'ti', 'es'], 'Ġtemporary': ['Ġt', 'e', 'm', 'p', 'or', 'ar', 'y'], 'Ġboosts': ['Ġb', 'o', 'o', 'st', 's'], 'ĠKurt': ['Ġ', 'K', 'ur', 't'], 'Ġactivate': ['Ġa', 'c', 'ti', 'v', 'at', 'e'], 'ĠDirect': ['Ġ', 'D', 'i', 're', 'c', 't'], 'ĠCommand': ['ĠC', 'om', 'm', 'an', 'd'], 'Ġmove': ['Ġm', 'o', 'v', 'e'], 'Ġwithout': ['Ġw', 'it', 'h', 'ou', 't'], 'Ġdepleting': ['Ġd', 'e', 'p', 'le', 't', 'ing'], 'Ġhis': ['Ġh', 'is'], 'ĠPoint': ['ĠP', 'o', 'in', 't'], 'Ġgauge': ['Ġ', 'g', 'a', 'u', 'g', 'e'], 'ĠReila': ['Ġ', 'R', 'e', 'il', 'a'], 'Ġshift': ['Ġs', 'h', 'i', 'f', 't'], 'Ġher': ['Ġh', 'er'], 'ĠForm': ['Ġ', 'F', 'or', 'm'], 'Ġbecome': ['Ġb', 'ec', 'om', 'e'], 'Ġinvincible': ['Ġin', 'v', 'in', 'c', 'i', 'b', 'le'], 'Ġwhile': ['Ġw', 'h', 'i', 'le'], 'ĠImca': ['Ġ', 'I', 'm', 'c', 'a'], 'Ġtarget': ['Ġt', 'ar', 'g', 'et'], 'Ġheavy': ['Ġh', 'e', 'a', 'v', 'y'], 'Ġweapon': ['Ġw', 'e', 'a', 'p', 'on'], 'ĠTroops': ['Ġ', 'T', 'ro', 'o', 'p', 's'], 'Ġfive': ['Ġf', 'i', 'v', 'e'], 'Ġclasses': ['Ġc', 'l', 'as', 's', 'es'], 'ĠScouts': ['ĠS', 'c', 'ou', 't', 's'], 'ĠShocktroopers': ['ĠS', 'h', 'o', 'c', 'k', 't', 'ro', 'o', 'p', 'ers'], 'ĠEngineers': ['Ġ', 'E', 'n', 'g', 'in', 'e', 'ers'], 'ĠLancers': ['Ġ', 'L', 'an', 'c', 'ers'], 'ĠArmored': ['ĠA', 'r', 'm', 'or', 'ed'], 'ĠSoldier': ['ĠS', 'o', 'l', 'd', 'i', 'er'], 'ĠTroopers': ['Ġ', 'T', 'ro', 'o', 'p', 'ers'], 'Ġswitch': ['Ġs', 'w', 'it', 'c', 'h'], 'Ġchanging': ['Ġc', 'h', 'an', 'g', 'ing'], 'ĠChanging': ['ĠC', 'h', 'an', 'g', 'ing'], 'Ġclass': ['Ġc', 'l', 'as', 's'], 'Ġdoes': ['Ġd', 'o', 'es'], 'Ġgreatly': ['Ġ', 'g', 're', 'at', 'ly'], 'Ġaffect': ['Ġa', 'f', 'f', 'ec', 't'], 'Ġstats': ['Ġs', 't', 'at', 's'], 'Ġgained': ['Ġ', 'g', 'a', 'in', 'ed'], 'ĠWith': ['Ġ', 'W', 'it', 'h'], 'Ġvictory': ['Ġ', 'v', 'ic', 't', 'or', 'y'], 'Ġexperience': ['Ġe', 'x', 'p', 'er', 'i', 'en', 'c', 'e'], 'Ġawarded': ['Ġa', 'w', 'ar', 'd', 'ed'], 'Ġdistributed': ['Ġd', 'is', 't', 'r', 'i', 'b', 'u', 't', 'ed'], 'Ġattributes': ['Ġ', 'at', 't', 'r', 'i', 'b', 'u', 't', 'es'], 'Ġshared': ['Ġs', 'h', 'ar', 'ed'], 'Ġentire': ['Ġ', 'en', 'ti', 're'], 'Ġfeature': ['Ġf', 'e', 'at', 'u', 're'], 'Ġdiffering': ['Ġd', 'i', 'f', 'f', 'er', 'ing'], 'Ġearly': ['Ġe', 'ar', 'ly'], 'Ġmethod': ['Ġm', 'et', 'h', 'o', 'd'], 'Ġdistributing': ['Ġd', 'is', 't', 'r', 'i', 'b', 'u', 't', 'ing'], 'Ġtypes': ['Ġt', 'y', 'p', 'es'], 'ĠPlot': ['ĠP', 'lo', 't'], 'Ġtakes': ['Ġt', 'a', 'k', 'es'], 'Ġplace': ['Ġp', 'l', 'ac', 'e'], 'ĠGallian': ['Ġ', 'G', 'al', 'l', 'i', 'an'], 'ĠArmy': ['ĠA', 'r', 'm', 'y'], 'ĠSquad': ['ĠS', 'q', 'u', 'a', 'd'], 'Ġ422': ['Ġ', '4', '2', '2'], 'Ġknown': ['Ġ', 'k', 'n', 'o', 'w', 'n'], 'Ġcomposed': ['Ġc', 'om', 'p', 'o', 's', 'ed'], 'Ġcriminals': ['Ġc', 'r', 'i', 'm', 'in', 'al', 's'], 'Ġforeign': ['Ġf', 'or', 'e', 'i', 'g', 'n'], 'Ġdeserters': ['Ġd', 'es', 'er', 't', 'ers'], 'Ġoffenders': ['Ġ', 'o', 'f', 'f', 'en', 'd', 'ers'], 'Ġwhose': ['Ġw', 'h', 'o', 's', 'e'], 'Ġnames': ['Ġ', 'n', 'a', 'm', 'es'], 'Ġerased': ['Ġ', 'er', 'as', 'ed'], 'Ġrecords': ['Ġre', 'c', 'or', 'd', 's'], 'Ġthereon': ['Ġt', 'h', 'er', 'e', 'on'], 'Ġofficially': ['Ġ', 'o', 'f', 'f', 'ic', 'i', 'al', 'ly'], 'Ġnumbers': ['Ġ', 'n', 'u', 'm', 'b', 'ers'], 'ĠOrdered': ['Ġ', 'O', 'r', 'd', 'er', 'ed'], 'Ġmost': ['Ġm', 'o', 'st'], 'Ġdangerous': ['Ġd', 'an', 'g', 'er', 'ou', 's'], 'ĠRegular': ['Ġ', 'R', 'e', 'g', 'u', 'l', 'ar'], 'ĠMilitia': ['ĠM', 'il', 'i', 'ti', 'a'], 'Ġdo': ['Ġd', 'o'], 'Ġnevertheless': ['Ġ', 'n', 'e', 'v', 'er', 't', 'h', 'el', 'es', 's'], 'Ġup': ['Ġ', 'u', 'p'], 'Ġtask': ['Ġt', 'as', 'k'], 'Ġexemplified': ['Ġe', 'x', 'e', 'm', 'p', 'l', 'i', 'f', 'i', 'ed'], 'Ġmotto': ['Ġm', 'o', 't', 't', 'o'], 'ĠAltaha': ['ĠA', 'l', 't', 'a', 'h', 'a'], 'ĠAbilia': ['ĠA', 'b', 'il', 'i', 'a'], 'Ġmeaning': ['Ġm', 'e', 'an', 'ing'], 'ĠAlways': ['ĠA', 'l', 'w', 'a', 'y', 's'], 'ĠReady': ['Ġ', 'R', 'e', 'a', 'd', 'y'], 'Ġthree': ['Ġt', 'h', 're', 'e'], 'ĠNo': ['Ġ', 'N', 'o'], '7': ['7'], 'ĠIrving': ['Ġ', 'I', 'r', 'v', 'ing'], 'Ġarmy': ['Ġ', 'ar', 'm', 'y'], 'Ġofficer': ['Ġ', 'o', 'f', 'f', 'ic', 'er'], 'Ġfalsely': ['Ġf', 'al', 's', 'el', 'y'], 'Ġaccused': ['Ġa', 'c', 'c', 'u', 's', 'ed'], 'Ġtreason': ['Ġt', 're', 'as', 'on'], 'Ġwishes': ['Ġw', 'is', 'h', 'es'], 'Ġredeem': ['Ġ', 'r', 'ed', 'e', 'e', 'm'], 'Ġhimself': ['Ġh', 'i', 'm', 's', 'el', 'f'], 'Ġ;': ['Ġ', ';'], 'ĠAce': ['ĠA', 'c', 'e'], '1': ['1'], 'Ġfemale': ['Ġf', 'e', 'm', 'al', 'e'], 'ĠDarcsen': ['Ġ', 'D', 'ar', 'c', 's', 'en'], 'Ġweapons': ['Ġw', 'e', 'a', 'p', 'on', 's'], 'Ġspecialist': ['Ġs', 'p', 'ec', 'i', 'al', 'is', 't'], 'Ġseeks': ['Ġs', 'e', 'e', 'k', 's'], 'Ġrevenge': ['Ġre', 'v', 'en', 'g', 'e'], 'Ġdestroyed': ['Ġd', 'es', 't', 'ro', 'y', 'ed'], 'Ġhome': ['Ġh', 'om', 'e'], '13': ['1', '3'], 'ĠRiela': ['Ġ', 'R', 'i', 'el', 'a'], 'ĠMarcellis': ['ĠM', 'ar', 'c', 'el', 'l', 'is'], 'Ġseemingly': ['Ġs', 'e', 'e', 'm', 'ing', 'ly'], 'Ġjinxed': ['Ġ', 'j', 'in', 'x', 'ed'], 'Ġyoung': ['Ġ', 'y', 'ou', 'n', 'g'], 'Ġwoman': ['Ġw', 'om', 'an'], 'Ġunknowingly': ['Ġ', 'u', 'n', 'k', 'n', 'o', 'w', 'ing', 'ly'], 'Ġdescendant': ['Ġd', 'es', 'c', 'en', 'd', 'an', 't'], 'ĠTogether': ['Ġ', 'T', 'o', 'g', 'et', 'h', 'er'], 'Ġfellow': ['Ġf', 'el', 'lo', 'w'], 'Ġthese': ['Ġt', 'h', 'es', 'e'], 'Ġtasked': ['Ġt', 'as', 'k', 'ed'], 'Ġfight': ['Ġf', 'i', 'g', 'h', 't'], 'Ġmysterious': ['Ġm', 'y', 'st', 'er', 'i', 'ou', 's'], 'ĠCalamity': ['ĠC', 'al', 'a', 'm', 'it', 'y'], 'Ġconsisting': ['Ġc', 'on', 's', 'is', 't', 'ing'], 'Ġmostly': ['Ġm', 'o', 'st', 'ly'], 'Ġsoldiers': ['Ġs', 'o', 'l', 'd', 'i', 'ers'], 'Ġexist': ['Ġe', 'x', 'is', 't'], 'Ġupper': ['Ġ', 'u', 'p', 'p', 'er'], 'Ġechelons': ['Ġ', 'ec', 'h', 'el', 'on', 's'], 'Ġexploit': ['Ġe', 'x', 'p', 'lo', 'it'], 'Ġconcept': ['Ġc', 'on', 'c', 'e', 'p', 't'], 'Ġplausible': ['Ġp', 'l', 'a', 'u', 's', 'i', 'b', 'le'], 'Ġdeniability': ['Ġd', 'en', 'i', 'a', 'b', 'il', 'it', 'y'], 'Ġorder': ['Ġ', 'or', 'd', 'er'], 'Ġsend': ['Ġs', 'en', 'd'], 'Ġmake': ['Ġm', 'a', 'k', 'e'], 'Ġlose': ['Ġ', 'lo', 's', 'e'], 'Ġface': ['Ġf', 'ac', 'e'], 'Ġwar': ['Ġw', 'ar'], 'Ġtimes': ['Ġ', 'ti', 'm', 'es'], 'Ġthis': ['Ġt', 'h', 'is'], 'Ġworks': ['Ġw', 'or', 'k', 's'], 'Ġadvantage': ['Ġa', 'd', 'v', 'an', 't', 'a', 'g', 'e'], 'Ġsuccessful': ['Ġs', 'u', 'c', 'c', 'es', 's', 'f', 'u', 'l'], 'Ġincursion': ['Ġin', 'c', 'ur', 's', 'ion'], 'Ġterritory': ['Ġt', 'er', 'r', 'it', 'or', 'y'], 'Ġorders': ['Ġ', 'or', 'd', 'ers'], 'Ġcause': ['Ġc', 'a', 'u', 's', 'e'], 'Ġcertain': ['Ġc', 'er', 't', 'a', 'in'], 'nd': ['n', 'd'], 'Ġgreat': ['Ġ', 'g', 're', 'at'], 'Ġdistress': ['Ġd', 'is', 't', 'r', 'es', 's'], 'ĠOne': ['Ġ', 'O', 'n', 'e'], 'Ġmember': ['Ġm', 'e', 'm', 'b', 'er'], 'ĠGusurg': ['Ġ', 'G', 'u', 's', 'ur', 'g'], 'Ġbecomes': ['Ġb', 'ec', 'om', 'es'], 'Ġso': ['Ġs', 'o'], 'Ġenraged': ['Ġ', 'en', 'ra', 'g', 'ed'], 'Ġhe': ['Ġh', 'e'], 'Ġabandons': ['Ġa', 'b', 'an', 'd', 'on', 's'], 'Ġpost': ['Ġp', 'o', 'st'], 'Ġdefects': ['Ġd', 'e', 'f', 'ec', 't', 's'], 'Ġranks': ['Ġ', 'r', 'an', 'k', 's'], 'Ġattached': ['Ġ', 'at', 't', 'ac', 'h', 'ed'], 'Ġideal': ['Ġ', 'i', 'd', 'e', 'al'], 'Ġindependence': ['Ġin', 'd', 'e', 'p', 'en', 'd', 'en', 'c', 'e'], 'Ġproposed': ['Ġp', 'ro', 'p', 'o', 's', 'ed'], 'Ġleader': ['Ġ', 'le', 'a', 'd', 'er'], 'ĠDahau': ['Ġ', 'D', 'a', 'h', 'a', 'u'], 'ĠAt': ['ĠA', 't'], 'Ġwithin': ['Ġw', 'it', 'h', 'in'], 'Ġerase': ['Ġ', 'er', 'as', 'e'], 'Ġprotect': ['Ġp', 'ro', 't', 'ec', 't'], 'Ġown': ['Ġ', 'o', 'w', 'n'], 'Ġinterests': ['Ġin', 't', 'er', 'es', 't', 's'], 'ĠHounded': ['Ġ', 'H', 'ou', 'n', 'd', 'ed'], 'Ġallies': ['Ġ', 'al', 'l', 'i', 'es'], 'Ġenemies': ['Ġ', 'en', 'e', 'm', 'i', 'es'], 'Ġcombined': ['Ġc', 'om', 'b', 'in', 'ed'], 'Ġpresence': ['Ġp', 'r', 'es', 'en', 'c', 'e'], 'Ġtraitor': ['Ġt', 'ra', 'it', 'or'], 'Ġdesperately': ['Ġd', 'es', 'p', 'er', 'at', 'el', 'y'], 'Ġkeep': ['Ġ', 'k', 'e', 'e', 'p'], 'Ġthemselves': ['Ġt', 'h', 'e', 'm', 's', 'el', 'v', 'es'], 'Ġalive': ['Ġ', 'al', 'i', 'v', 'e'], 'Ġeffort': ['Ġe', 'f', 'f', 'or', 't'], 'ĠThis': ['Ġ', 'T', 'h', 'is'], 'Ġcontinues': ['Ġc', 'on', 't', 'in', 'u', 'es'], 'Ġuntil': ['Ġ', 'u', 'n', 'ti', 'l'], 'Ġcommanding': ['Ġc', 'om', 'm', 'an', 'd', 'ing'], 'ĠRamsey': ['Ġ', 'R', 'a', 'm', 's', 'e', 'y'], 'ĠCrowe': ['ĠC', 'ro', 'w', 'e'], 'Ġhad': ['Ġh', 'a', 'd'], 'Ġbeen': ['Ġb', 'e', 'en'], 'Ġkept': ['Ġ', 'k', 'e', 'p', 't'], 'Ġunder': ['Ġ', 'u', 'n', 'd', 'er'], 'Ġhouse': ['Ġh', 'ou', 's', 'e'], 'Ġarrest': ['Ġ', 'ar', 'r', 'es', 't'], 'Ġescorted': ['Ġ', 'es', 'c', 'or', 't', 'ed'], 'Ġcapital': ['Ġc', 'a', 'p', 'it', 'al'], 'Ġcity': ['Ġc', 'it', 'y'], 'ĠRandgriz': ['Ġ', 'R', 'an', 'd', 'g', 'r', 'i', 'z'], 'Ġpresent': ['Ġp', 'r', 'es', 'ent'], 'Ġevidence': ['Ġe', 'v', 'i', 'd', 'en', 'c', 'e'], 'Ġexonerating': ['Ġe', 'x', 'on', 'er', 'at', 'ing'], 'Ġweary': ['Ġw', 'e', 'ar', 'y'], 'Ġexpose': ['Ġe', 'x', 'p', 'o', 's', 'e'], 'ĠGeneral': ['Ġ', 'G', 'en', 'er', 'al'], 'ĠTreason': ['Ġ', 'T', 're', 'as', 'on'], 'ĠPartly': ['ĠP', 'ar', 't', 'ly'], 'Ġdue': ['Ġd', 'u', 'e'], 'Ġevents': ['Ġe', 'v', 'ent', 's'], 'Ġpartly': ['Ġp', 'ar', 't', 'ly'], 'Ġmajor': ['Ġm', 'a', 'j', 'or'], 'Ġlosses': ['Ġ', 'lo', 's', 's', 'es'], 'Ġmanpower': ['Ġm', 'an', 'p', 'o', 'w', 'er'], 'Ġsuffers': ['Ġs', 'u', 'f', 'f', 'ers'], 'Ġtowards': ['Ġt', 'o', 'w', 'ar', 'd', 's'], 'Ġend': ['Ġ', 'en', 'd'], 'ĠEmpire': ['Ġ', 'E', 'm', 'p', 'i', 're'], 'Ġoffered': ['Ġ', 'o', 'f', 'f', 'er', 'ed'], 'Ġformal': ['Ġf', 'or', 'm', 'al'], 'Ġposition': ['Ġp', 'o', 's', 'i', 'ti', 'on'], 'Ġrather': ['Ġ', 'r', 'at', 'h', 'er'], 'Ġserve': ['Ġs', 'er', 'v', 'e'], 'Ġanonymous': ['Ġ', 'an', 'on', 'y', 'm', 'ou', 's'], 'Ġshadow': ['Ġs', 'h', 'a', 'd', 'o', 'w'], 'Ġforce': ['Ġf', 'or', 'c', 'e'], 'Ġshort': ['Ġs', 'h', 'or', 't'], 'Ġlived': ['Ġ', 'l', 'i', 'v', 'ed'], 'Ġhowever': ['Ġh', 'o', 'w', 'e', 'v', 'er'], 'Ġfollowing': ['Ġf', 'o', 'l', 'lo', 'w', 'ing'], 'ĠMaximilian': ['ĠM', 'a', 'x', 'i', 'm', 'il', 'i', 'an'], 'Ġdefeat': ['Ġd', 'e', 'f', 'e', 'at'], 'Ġancient': ['Ġ', 'an', 'c', 'i', 'ent'], 'ĠValkyrian': ['Ġ', 'V', 'al', 'k', 'y', 'r', 'i', 'an'], 'Ġsuper': ['Ġs', 'u', 'p', 'er'], 'Ġbenefactor': ['Ġb', 'en', 'e', 'f', 'ac', 't', 'or'], 'ĠWithout': ['Ġ', 'W', 'it', 'h', 'ou', 't'], 'Ġsupport': ['Ġs', 'u', 'p', 'p', 'or', 't'], 'Ġchance': ['Ġc', 'h', 'an', 'c', 'e'], 'Ġprove': ['Ġp', 'ro', 'v', 'e'], 'Ġlast': ['Ġ', 'l', 'as', 't'], 'Ġtrump': ['Ġt', 'r', 'u', 'm', 'p'], 'Ġcard': ['Ġc', 'ar', 'd'], 'Ġcreating': ['Ġc', 're', 'at', 'ing'], 'Ġnew': ['Ġ', 'n', 'e', 'w'], 'Ġarmed': ['Ġ', 'ar', 'm', 'ed'], 'Ġinvading': ['Ġin', 'v', 'a', 'd', 'ing'], 'Ġjust': ['Ġ', 'j', 'u', 'st'], 'Ġnations': ['Ġ', 'n', 'at', 'ion', 's'], 'Ġcease': ['Ġc', 'e', 'as', 'e'], 'Ġfire': ['Ġf', 'i', 're'], 'Ġcertainly': ['Ġc', 'er', 't', 'a', 'in', 'ly'], 'Ġwreck': ['Ġw', 're', 'c', 'k'], 'Ġnewfound': ['Ġ', 'n', 'e', 'w', 'f', 'ou', 'n', 'd'], 'Ġpeace': ['Ġp', 'e', 'ac', 'e'], 'Ġdecides': ['Ġd', 'ec', 'i', 'd', 'es'], 'Ġagain': ['Ġa', 'g', 'a', 'in'], 'Ġasking': ['Ġa', 's', 'k', 'ing'], 'Ġlist': ['Ġ', 'l', 'is', 't'], 'Ġall': ['Ġ', 'al', 'l'], 'Ġcommand': ['Ġc', 'om', 'm', 'an', 'd'], 'Ġkilled': ['Ġ', 'k', 'il', 'l', 'ed'], 'Ġaction': ['Ġa', 'c', 'ti', 'on'], 'ĠNow': ['Ġ', 'N', 'o', 'w'], 'Ġowing': ['Ġ', 'o', 'w', 'ing'], 'Ġallegiance': ['Ġ', 'al', 'le', 'g', 'i', 'an', 'c', 'e'], 'Ġnone': ['Ġ', 'n', 'on', 'e'], 'Ġconfronts': ['Ġc', 'on', 'f', 'r', 'on', 't', 's'], 'Ġdestroys': ['Ġd', 'es', 't', 'ro', 'y', 's'], 'Ġthen': ['Ġt', 'h', 'en'], 'Ġgoes': ['Ġ', 'g', 'o', 'es'], 'Ġseparate': ['Ġs', 'e', 'p', 'ar', 'at', 'e'], 'Ġways': ['Ġw', 'a', 'y', 's'], 'Ġbegin': ['Ġb', 'e', 'g', 'in'], 'Ġlives': ['Ġ', 'l', 'i', 'v', 'es'], 'Ġanew': ['Ġ', 'an', 'e', 'w'], 'ĠDevelopment': ['Ġ', 'D', 'e', 'v', 'el', 'o', 'p', 'm', 'ent'], 'ĠConcept': ['ĠC', 'on', 'c', 'e', 'p', 't'], 'Ġafter': ['Ġa', 'f', 't', 'er'], 'Ġfinished': ['Ġf', 'in', 'is', 'h', 'ed'], 'Ġfull': ['Ġf', 'u', 'l', 'l'], 'Ġbeginning': ['Ġb', 'e', 'g', 'in', 'n', 'ing'], 'Ġshortly': ['Ġs', 'h', 'or', 't', 'ly'], 'Ġtook': ['Ġt', 'o', 'o', 'k'], 'Ġapproximately': ['Ġa', 'p', 'p', 'ro', 'x', 'i', 'm', 'at', 'el', 'y'], 'Ġstaff': ['Ġs', 't', 'a', 'f', 'f'], 'Ġlook': ['Ġ', 'lo', 'o', 'k'], 'Ġpopular': ['Ġp', 'o', 'p', 'u', 'l', 'ar'], 'Ġresponse': ['Ġ', 'r', 'es', 'p', 'on', 's', 'e'], 'Ġwhat': ['Ġw', 'h', 'at'], 'Ġwanted': ['Ġw', 'an', 't', 'ed'], 'Ġnext': ['Ġ', 'n', 'e', 'x', 't'], 'ĠLike': ['Ġ', 'L', 'i', 'k', 'e'], 'Ġpredecessor': ['Ġp', 'r', 'ed', 'ec', 'es', 's', 'or'], 'Ġwanting': ['Ġw', 'an', 't', 'ing'], 'Ġrefine': ['Ġre', 'f', 'in', 'e'], 'Ġmechanics': ['Ġm', 'ec', 'h', 'an', 'ic', 's'], 'Ġcreated': ['Ġc', 're', 'at', 'ed'], 'Ġcome': ['Ġc', 'om', 'e'], 'Ġrevolutionary': ['Ġre', 'v', 'o', 'l', 'u', 'ti', 'on', 'ar', 'y'], 'Ġidea': ['Ġ', 'i', 'd', 'e', 'a'], 'Ġwarrant': ['Ġw', 'ar', 'r', 'an', 't'], 'Ġentry': ['Ġ', 'ent', 'r', 'y'], 'ĠSpeaking': ['ĠS', 'p', 'e', 'a', 'k', 'ing'], 'Ġinterview': ['Ġin', 't', 'er', 'v', 'i', 'e', 'w'], 'Ġstated': ['Ġs', 't', 'at', 'ed'], 'Ġconsidered': ['Ġc', 'on', 's', 'i', 'd', 'er', 'ed'], 'Ġtrue': ['Ġt', 'r', 'u', 'e'], 'Ġsequel': ['Ġs', 'e', 'q', 'u', 'el'], 'Ġrequired': ['Ġre', 'q', 'u', 'i', 'r', 'ed'], 'Ġamount': ['Ġa', 'm', 'ou', 'n', 't'], 'Ġtrial': ['Ġt', 'r', 'i', 'al'], 'Ġerror': ['Ġ', 'er', 'r', 'or'], 'Ġplatform': ['Ġp', 'l', 'at', 'f', 'or', 'm'], 'Ġgave': ['Ġ', 'g', 'a', 'v', 'e'], 'Ġimprove': ['Ġ', 'i', 'm', 'p', 'ro', 'v', 'e'], 'Ġupon': ['Ġ', 'u', 'p', 'on'], 'Ġbest': ['Ġb', 'es', 't'], 'Ġparts': ['Ġp', 'ar', 't', 's'], 'ĠIn': ['Ġ', 'I', 'n'], 'Ġaddition': ['Ġa', 'd', 'd', 'i', 'ti', 'on'], 'Ġscenario': ['Ġs', 'c', 'en', 'ar', 'i', 'o'], 'Ġwritten': ['Ġw', 'r', 'it', 't', 'en'], 'ĠKazuki': ['Ġ', 'K', 'a', 'z', 'u', 'k', 'i'], 'ĠYamanobe': ['Ġ', 'Y', 'a', 'm', 'an', 'o', 'b', 'e'], 'ĠHiroyuki': ['Ġ', 'H', 'i', 'ro', 'y', 'u', 'k', 'i'], 'ĠFujii': ['Ġ', 'F', 'u', 'j', 'i', 'i'], 'ĠKoichi': ['Ġ', 'K', 'o', 'ic', 'h', 'i'], 'ĠMajima': ['ĠM', 'a', 'j', 'i', 'm', 'a'], 'ĠKishiko': ['Ġ', 'K', 'is', 'h', 'i', 'k', 'o'], 'ĠMiyagi': ['ĠM', 'i', 'y', 'a', 'g', 'i'], 'ĠSeiki': ['ĠS', 'e', 'i', 'k', 'i'], 'ĠNagakawa': ['Ġ', 'N', 'a', 'g', 'a', 'k', 'a', 'w', 'a'], 'ĠTakayuki': ['Ġ', 'T', 'a', 'k', 'a', 'y', 'u', 'k', 'i'], 'ĠShouji': ['ĠS', 'h', 'ou', 'j', 'i'], 'ĠIts': ['Ġ', 'I', 't', 's'], 'Ġdarker': ['Ġd', 'ar', 'k', 'er'], 'Ġsomber': ['Ġs', 'om', 'b', 'er'], 'Ġmajority': ['Ġm', 'a', 'j', 'or', 'it', 'y'], 'Ġmaterial': ['Ġm', 'at', 'er', 'i', 'al'], 'ĠBLiTZ': ['Ġ', 'B', 'L', 'i', 'T', 'Z'], 'Ġdesign': ['Ġd', 'es', 'i', 'g', 'n'], 'Ġimprovements': ['Ġ', 'i', 'm', 'p', 'ro', 'v', 'e', 'm', 'ent', 's'], 'Ġwere': ['Ġw', 'er', 'e'], 'Ġmade': ['Ġm', 'a', 'd', 'e'], 'Ġgraphics': ['Ġ', 'g', 'ra', 'p', 'h', 'ic', 's'], 'Ġlayouts': ['Ġ', 'l', 'a', 'y', 'ou', 't', 's'], 'Ġstructure': ['Ġs', 't', 'r', 'u', 'c', 't', 'u', 're'], 'Ġnumber': ['Ġ', 'n', 'u', 'm', 'b', 'er'], 'Ġplayable': ['Ġp', 'l', 'a', 'y', 'a', 'b', 'le'], 'Ġupgrade': ['Ġ', 'u', 'p', 'g', 'ra', 'd', 'e'], 'Ġinvolved': ['Ġin', 'v', 'o', 'l', 'v', 'ed'], 'Ġpolygon': ['Ġp', 'o', 'ly', 'g', 'on'], 'Ġmodels': ['Ġm', 'o', 'd', 'el', 's'], 'Ġbody': ['Ġb', 'o', 'd', 'y'], 'Ġachieve': ['Ġa', 'c', 'h', 'i', 'e', 'v', 'e'], 'Ġcooperative': ['Ġc', 'o', 'o', 'p', 'er', 'at', 'i', 'v', 'e'], 'Ġincorporated': ['Ġin', 'c', 'or', 'p', 'or', 'at', 'ed'], 'Ġsecond': ['Ġs', 'ec', 'on', 'd'], 'Ġremoved': ['Ġre', 'm', 'o', 'v', 'ed'], 'Ġmemory': ['Ġm', 'e', 'm', 'or', 'y'], 'Ġspace': ['Ġs', 'p', 'ac', 'e'], 'Ġneeded': ['Ġ', 'n', 'e', 'ed', 'ed'], 'Ġadjusted': ['Ġa', 'd', 'j', 'u', 'st', 'ed'], 'Ġsettings': ['Ġs', 'et', 't', 'ing', 's'], 'Ġease': ['Ġe', 'as', 'e'], 'Ġplay': ['Ġp', 'l', 'a', 'y'], 'Ġcould': ['Ġc', 'ou', 'l', 'd'], 'Ġappeal': ['Ġa', 'p', 'p', 'e', 'al'], 'Ġretaining': ['Ġre', 't', 'a', 'in', 'ing'], 'Ġessential': ['Ġ', 'es', 's', 'en', 'ti', 'al'], 'Ġcomponents': ['Ġc', 'om', 'p', 'on', 'ent', 's'], 'Ġnewer': ['Ġ', 'n', 'e', 'w', 'er'], 'Ġsystems': ['Ġs', 'y', 'st', 'e', 'm', 's'], 'Ġdecided': ['Ġd', 'ec', 'i', 'd', 'ed'], 'Ġdesigns': ['Ġd', 'es', 'i', 'g', 'n', 's'], 'Ġworked': ['Ġw', 'or', 'k', 'ed'], 'ĠWhen': ['Ġ', 'W', 'h', 'en'], 'Ġfaced': ['Ġf', 'ac', 'ed'], 'Ġproblem': ['Ġp', 'ro', 'b', 'le', 'm'], 'Ġuniforms': ['Ġ', 'u', 'n', 'i', 'f', 'or', 'm', 's'], 'Ġessentially': ['Ġ', 'es', 's', 'en', 'ti', 'al', 'ly'], 'Ġindividuality': ['Ġin', 'd', 'i', 'v', 'i', 'd', 'u', 'al', 'it', 'y'], 'Ġdespite': ['Ġd', 'es', 'p', 'it', 'e'], 'Ġhim': ['Ġh', 'i', 'm'], 'Ġneeding': ['Ġ', 'n', 'e', 'ed', 'ing'], 'Ġcreate': ['Ġc', 're', 'at', 'e'], 'Ġidentify': ['Ġ', 'i', 'd', 'en', 'ti', 'f', 'y'], 'Ġmaintaining': ['Ġm', 'a', 'in', 't', 'a', 'in', 'ing'], 'Ġsense': ['Ġs', 'en', 's', 'e'], 'Ġreality': ['Ġre', 'al', 'it', 'y'], 'Ġworld': ['Ġw', 'or', 'l', 'd'], 'Ġcolor': ['Ġc', 'o', 'l', 'or'], 'ĠCANVAS': ['ĠC', 'A', 'N', 'V', 'A', 'S'], 'Ġengine': ['Ġ', 'en', 'g', 'in', 'e'], 'Ġanime': ['Ġ', 'an', 'i', 'm', 'e'], 'Ġproduced': ['Ġp', 'ro', 'd', 'u', 'c', 'ed'], 'ĠProduction': ['ĠP', 'ro', 'd', 'u', 'c', 'ti', 'on'], 'ĠI': ['Ġ', 'I'], 'G': ['G'], 'ĠMusic': ['ĠM', 'u', 's', 'ic'], 'Ġmusic': ['Ġm', 'u', 's', 'ic'], 'Ġoriginally': ['Ġ', 'or', 'i', 'g', 'in', 'al', 'ly'], 'Ġheard': ['Ġh', 'e', 'ar', 'd'], 'Ġabout': ['Ġa', 'b', 'ou', 't'], 'Ġproject': ['Ġp', 'ro', 'j', 'ec', 't'], 'Ġthought': ['Ġt', 'h', 'ou', 'g', 'h', 't'], 'Ġlight': ['Ġ', 'l', 'i', 'g', 'h', 't'], 'Ġtone': ['Ġt', 'on', 'e'], 'Ġsimilar': ['Ġs', 'i', 'm', 'il', 'ar'], 'Ġthemes': ['Ġt', 'h', 'e', 'm', 'es'], 'Ġmuch': ['Ġm', 'u', 'c', 'h'], 'Ġexpected': ['Ġe', 'x', 'p', 'ec', 't', 'ed'], 'ĠAn': ['ĠA', 'n'], 'Ġdesigned': ['Ġd', 'es', 'i', 'g', 'n', 'ed'], 'Ġvision': ['Ġ', 'v', 'is', 'ion'], 'Ġrejected': ['Ġre', 'j', 'ec', 't', 'ed'], 'ĠHe': ['Ġ', 'H', 'e'], 'Ġredid': ['Ġ', 'r', 'ed', 'i', 'd'], 'Ġseven': ['Ġs', 'e', 'v', 'en'], 'Ġproduction': ['Ġp', 'ro', 'd', 'u', 'c', 'ti', 'on'], 'Ġneed': ['Ġ', 'n', 'e', 'ed'], 'Ġreassess': ['Ġre', 'as', 's', 'es', 's'], 'Ġinitially': ['Ġin', 'i', 'ti', 'al', 'ly'], 'Ġrecorded': ['Ġre', 'c', 'or', 'd', 'ed'], 'Ġorchestra': ['Ġ', 'or', 'c', 'h', 'es', 't', 'ra'], 'Ġguitar': ['Ġ', 'g', 'u', 'it', 'ar'], 'Ġbass': ['Ġb', 'as', 's'], 'Ġsynthesizer': ['Ġs', 'y', 'n', 't', 'h', 'es', 'i', 'z', 'er'], 'Ġbefore': ['Ġb', 'e', 'f', 'or', 'e'], 'Ġredoing': ['Ġ', 'r', 'ed', 'o', 'ing'], 'Ġsegments': ['Ġs', 'e', 'g', 'm', 'ent', 's'], 'Ġpiece': ['Ġp', 'i', 'ec', 'e'], 'Ġincorporating': ['Ġin', 'c', 'or', 'p', 'or', 'at', 'ing'], 'Ġhopeful': ['Ġh', 'o', 'p', 'e', 'f', 'u', 'l'], 'Ġtune': ['Ġt', 'u', 'n', 'e'], 'Ġplayed': ['Ġp', 'l', 'a', 'y', 'ed'], 'Ġending': ['Ġ', 'en', 'd', 'ing'], 'Ġmodern': ['Ġm', 'o', 'd', 'er', 'n'], 'Ġdivorced': ['Ġd', 'i', 'v', 'or', 'c', 'ed'], 'Ġfantasy': ['Ġf', 'an', 't', 'as', 'y'], 'Ġmusical': ['Ġm', 'u', 's', 'ic', 'al'], 'Ġinstruments': ['Ġin', 'st', 'r', 'u', 'm', 'ent', 's'], 'Ġconstructed': ['Ġc', 'on', 'st', 'r', 'u', 'c', 't', 'ed'], 'Ġatonality': ['Ġ', 'at', 'on', 'al', 'it', 'y'], 'Ġworking': ['Ġw', 'or', 'k', 'ing'], 'Ġsynthesized': ['Ġs', 'y', 'n', 't', 'h', 'es', 'i', 'z', 'ed'], 'Ġfelt': ['Ġf', 'el', 't'], 'Ġincorporate': ['Ġin', 'c', 'or', 'p', 'or', 'at', 'e'], 'Ġlive': ['Ġ', 'l', 'i', 'v', 'e'], 'ĠMitsuhiro': ['ĠM', 'it', 's', 'u', 'h', 'i', 'ro'], 'ĠOhta': ['Ġ', 'O', 'h', 't', 'a'], 'Ġarranged': ['Ġ', 'ar', 'r', 'an', 'g', 'ed'], 'Ġseveral': ['Ġs', 'e', 'v', 'er', 'al'], 'Ġlater': ['Ġ', 'l', 'at', 'er'], 'Ġtracks': ['Ġt', 'r', 'ac', 'k', 's'], 'Ġsong': ['Ġs', 'on', 'g'], 'ĠIf': ['Ġ', 'I', 'f'], 'ĠYou': ['Ġ', 'Y', 'ou'], 'ĠWish': ['Ġ', 'W', 'is', 'h'], 'Ġ...': ['Ġ', '.', '.', '.'], 'ĠãĤĤãģĹãĤĤåĲĽãģĮé¡ĺãģĨãģ®ãģªãĤī': ['Ġ', 'ã', 'Ĥ', 'Ĥ', 'ã', 'ģ', 'Ĺ', 'ã', 'Ĥ', 'Ĥ', 'å', 'Ĳ', 'Ľ', 'ã', 'ģ', 'Į', 'é', '¡', 'ĺ', 'ã', 'ģ', 'Ĩ', 'ã', 'ģ', '®', 'ã', 'ģ', 'ª', 'ã', 'Ĥ', 'ī'], 'ĠMoshimo': ['ĠM', 'o', 's', 'h', 'i', 'm', 'o'], 'ĠKimi': ['Ġ', 'K', 'i', 'm', 'i'], 'Ġga': ['Ġ', 'g', 'a'], 'ĠNegauno': ['Ġ', 'N', 'e', 'g', 'a', 'u', 'n', 'o'], 'ĠNara': ['Ġ', 'N', 'ar', 'a'], 'Ġsinger': ['Ġs', 'ing', 'er'], 'Ġreason': ['Ġre', 'as', 'on'], 'Ġfought': ['Ġf', 'ou', 'g', 'h', 't'], 'Ġparticular': ['Ġp', 'ar', 'ti', 'c', 'u', 'l', 'ar'], 'Ġwish': ['Ġw', 'is', 'h'], 'Ġprecious': ['Ġp', 're', 'c', 'i', 'ou', 's'], 'Ġresponsibility': ['Ġ', 'r', 'es', 'p', 'on', 's', 'i', 'b', 'il', 'it', 'y'], 'Ġduty': ['Ġd', 'u', 't', 'y'], 'Ġlyrics': ['Ġ', 'ly', 'r', 'ic', 's'], 'ĠSeiko': ['ĠS', 'e', 'i', 'k', 'o'], 'ĠFujibayashi': ['Ġ', 'F', 'u', 'j', 'i', 'b', 'a', 'y', 'as', 'h', 'i'], 'Ġsingles': ['Ġs', 'ing', 'l', 'es'], 'ĠRelease': ['Ġ', 'R', 'el', 'e', 'as', 'e'], 'ĠSeptember': ['ĠS', 'e', 'p', 't', 'e', 'm', 'b', 'er'], 'Ġteaser': ['Ġt', 'e', 'as', 'er'], 'Ġwebsite': ['Ġw', 'e', 'b', 's', 'it', 'e'], 'Ġrevealed': ['Ġre', 'v', 'e', 'al', 'ed'], 'Ġhinting': ['Ġh', 'in', 't', 'ing'], 'Ġissue': ['Ġ', 'is', 's', 'u', 'e'], 'ĠFamitsu': ['Ġ', 'F', 'a', 'm', 'it', 's', 'u'], 'Ġlisted': ['Ġ', 'l', 'is', 't', 'ed'], 'Ġarriving': ['Ġ', 'ar', 'r', 'i', 'v', 'ing'], 'Ġpublic': ['Ġp', 'u', 'b', 'l', 'ic'], 'Ġappearance': ['Ġa', 'p', 'p', 'e', 'ar', 'an', 'c', 'e'], 'ĠTokyo': ['Ġ', 'T', 'o', 'k', 'y', 'o'], 'ĠGame': ['Ġ', 'G', 'a', 'm', 'e'], 'ĠShow': ['ĠS', 'h', 'o', 'w'], 'ĠTGS': ['Ġ', 'T', 'G', 'S'], 'Ġdemo': ['Ġd', 'e', 'm', 'o'], 'Ġavailable': ['Ġa', 'v', 'a', 'il', 'a', 'b', 'le'], 'Ġjournalists': ['Ġ', 'j', 'ou', 'r', 'n', 'al', 'is', 't', 's'], 'Ġattendees': ['Ġ', 'at', 't', 'en', 'd', 'e', 'es'], 'Ġpublicity': ['Ġp', 'u', 'b', 'l', 'ic', 'it', 'y'], 'Ġdetails': ['Ġd', 'et', 'a', 'il', 's'], 'Ġscant': ['Ġs', 'c', 'an', 't'], 'Ġspoil': ['Ġs', 'p', 'o', 'il'], 'Ġtoo': ['Ġt', 'o', 'o'], 'Ġpotential': ['Ġp', 'o', 't', 'en', 'ti', 'al'], 'Ġstill': ['Ġs', 'ti', 'l', 'l'], 'Ġflux': ['Ġf', 'l', 'u', 'x'], 'Ġreveal': ['Ġre', 'v', 'e', 'al'], 'Ġpromote': ['Ġp', 'ro', 'm', 'o', 't', 'e'], 'Ġdetail': ['Ġd', 'et', 'a', 'il'], 'Ġleading': ['Ġ', 'le', 'a', 'd', 'ing'], 'Ġepisodic': ['Ġe', 'p', 'is', 'o', 'd', 'ic'], 'ĠFlash': ['Ġ', 'F', 'l', 'as', 'h'], 'Ġvisual': ['Ġ', 'v', 'is', 'u', 'al'], 'Ġnovel': ['Ġ', 'n', 'o', 'v', 'el'], 'Ġ27': ['Ġ', '2', '7'], 'Ġsaid': ['Ġs', 'a', 'i', 'd'], 'Ġcapacity': ['Ġc', 'a', 'p', 'ac', 'it', 'y'], 'ĠDLC': ['Ġ', 'D', 'L', 'C'], 'Ġplans': ['Ġp', 'l', 'an', 's'], 'Ġfinalized': ['Ġf', 'in', 'al', 'i', 'z', 'ed'], 'ĠMultiple': ['ĠM', 'u', 'l', 'ti', 'p', 'le'], 'Ġfeaturing': ['Ġf', 'e', 'at', 'ur', 'ing'], 'Ġrecruitable': ['Ġre', 'c', 'r', 'u', 'it', 'a', 'b', 'le'], 'Ġbetween': ['Ġb', 'et', 'w', 'e', 'en'], 'ĠFebruary': ['Ġ', 'F', 'e', 'b', 'r', 'u', 'ar', 'y'], 'ĠApril': ['ĠA', 'p', 'r', 'il'], 'ĠExtra': ['Ġ', 'E', 'x', 't', 'ra'], 'ĠEdition': ['Ġ', 'E', 'd', 'i', 'ti', 'on'], 'Ġ23': ['Ġ', '2', '3'], 'ĠPackaged': ['ĠP', 'ac', 'k', 'a', 'g', 'ed'], 'Ġsold': ['Ġs', 'o', 'l', 'd'], 'Ġlower': ['Ġ', 'lo', 'w', 'er'], 'Ġprice': ['Ġp', 'r', 'ic', 'e'], 'Ġchosen': ['Ġc', 'h', 'o', 's', 'en'], 'Ġpre': ['Ġp', 're'], 'Ġbonus': ['Ġb', 'on', 'u', 's'], 'ĠPeople': ['ĠP', 'e', 'o', 'p', 'le'], 'Ġowned': ['Ġ', 'o', 'w', 'n', 'ed'], 'Ġtransfer': ['Ġt', 'r', 'an', 's', 'f', 'er'], 'Ġsave': ['Ġs', 'a', 'v', 'e'], 'Ġdata': ['Ġd', 'at', 'a'], 'Ġversions': ['Ġ', 'v', 'ers', 'ion', 's'], 'ĠUnlike': ['Ġ', 'U', 'n', 'l', 'i', 'k', 'e'], 'Ġwest': ['Ġw', 'es', 't'], 'ĠAccording': ['ĠA', 'c', 'c', 'or', 'd', 'ing'], 'Ġpoor': ['Ġp', 'o', 'or'], 'Ġgeneral': ['Ġ', 'g', 'en', 'er', 'al'], 'Ġunpopularity': ['Ġ', 'u', 'n', 'p', 'o', 'p', 'u', 'l', 'ar', 'it', 'y'], 'ĠPSP': ['ĠP', 'S', 'P'], 'Ġunofficial': ['Ġ', 'u', 'n', 'o', 'f', 'f', 'ic', 'i', 'al'], 'Ġpatch': ['Ġp', 'at', 'c', 'h'], 'Ġ2012': ['Ġ', '2', '0', '1', '2'], 'Ġcopy': ['Ġc', 'o', 'p', 'y'], 'Ġdownload': ['Ġd', 'o', 'w', 'n', 'lo', 'a', 'd'], 'Ġapply': ['Ġa', 'p', 'p', 'ly'], 'Ġtranslated': ['Ġt', 'r', 'an', 's', 'l', 'at', 'ed'], 'ĠEnglish': ['Ġ', 'E', 'n', 'g', 'l', 'is', 'h'], 'ĠCompatible': ['ĠC', 'om', 'p', 'at', 'i', 'b', 'le'], 'ĠReception': ['Ġ', 'R', 'ec', 'e', 'p', 'ti', 'on'], 'ĠOn': ['Ġ', 'O', 'n'], 'Ġday': ['Ġd', 'a', 'y'], 'Ġtopped': ['Ġt', 'o', 'p', 'p', 'ed'], 'Ġexclusive': ['Ġe', 'x', 'c', 'l', 'u', 's', 'i', 'v', 'e'], 'Ġmulti': ['Ġm', 'u', 'l', 'ti'], 'Ġcharts': ['Ġc', 'h', 'ar', 't', 's'], 'ĠBy': ['Ġ', 'B', 'y'], 'Ġ102': ['Ġ1', '0', '2'], 'Ġ@,@': ['Ġ', '@', ',', '@'], 'Ġ779': ['Ġ', '7', '7', '9'], 'Ġcoming': ['Ġc', 'om', 'ing'], 'Ġoverall': ['Ġ', 'o', 'v', 'er', 'al', 'l'], 'ĠLast': ['Ġ', 'L', 'as', 't'], 'ĠStory': ['ĠS', 't', 'or', 'y'], 'ĠWii': ['Ġ', 'W', 'i', 'i'], 'Ġ152': ['Ġ1', '5', '2'], 'Ġ500': ['Ġ', '5', '0', '0'], 'Ġenjoyed': ['Ġ', 'en', 'j', 'o', 'y', 'ed'], 'Ġparticularly': ['Ġp', 'ar', 'ti', 'c', 'u', 'l', 'ar', 'ly'], 'Ġpleased': ['Ġp', 'le', 'as', 'ed'], 'Ġgaming': ['Ġ', 'g', 'a', 'm', 'ing'], 'Ġsite': ['Ġs', 'it', 'e'], 'ĠWatch': ['Ġ', 'W', 'at', 'c', 'h'], 'ĠImpress': ['Ġ', 'I', 'm', 'p', 'r', 'es', 's'], 'Ġnegatively': ['Ġ', 'n', 'e', 'g', 'at', 'i', 'v', 'el', 'y'], 'Ġnoting': ['Ġ', 'n', 'o', 't', 'ing'], 'Ġpacing': ['Ġp', 'ac', 'ing'], 'Ġrecycled': ['Ġre', 'c', 'y', 'c', 'l', 'ed'], 'Ġgenerally': ['Ġ', 'g', 'en', 'er', 'al', 'ly'], 'Ġentertaining': ['Ġ', 'ent', 'er', 't', 'a', 'in', 'ing'], 'Ġputting': ['Ġp', 'u', 't', 't', 'ing'], 'Ġspikes': ['Ġs', 'p', 'i', 'k', 'es'], 'Gamer': ['G', 'a', 'm', 'er'], 'net': ['n', 'et'], 'Ġwriter': ['Ġw', 'r', 'it', 'er'], 'ĠNaohiko': ['Ġ', 'N', 'a', 'o', 'h', 'i', 'k', 'o'], 'ĠMisuosame': ['ĠM', 'is', 'u', 'o', 's', 'a', 'm', 'e'], 'ĠPlay': ['ĠP', 'l', 'a', 'y'], 'ĠTest': ['Ġ', 'T', 'es', 't'], 'Ġarticle': ['Ġ', 'ar', 'ti', 'c', 'le'], 'ĠPSN': ['ĠP', 'S', 'N'], 'Ġprovided': ['Ġp', 'ro', 'v', 'i', 'd', 'ed'], 'Ġprofound': ['Ġp', 'ro', 'f', 'ou', 'n', 'd'], 'Ġfeeling': ['Ġf', 'e', 'el', 'ing'], 'Ġclosure': ['Ġc', 'lo', 's', 'u', 're'], 'Ġannoying': ['Ġ', 'an', 'n', 'o', 'y', 'ing'], 'Ġlimitations': ['Ġ', 'l', 'i', 'm', 'it', 'at', 'ion', 's'], 'Ġaspects': ['Ġa', 's', 'p', 'ec', 't', 's'], 'Ġspecial': ['Ġs', 'p', 'ec', 'i', 'al'], 'Ġabilities': ['Ġa', 'b', 'il', 'i', 'ti', 'es'], 'Ġpositively': ['Ġp', 'o', 's', 'i', 'ti', 'v', 'el', 'y'], 'Ġnoted': ['Ġ', 'n', 'o', 't', 'ed'], 'ĠOfficial': ['Ġ', 'O', 'f', 'f', 'ic', 'i', 'al'], 'ĠMagazine': ['ĠM', 'a', 'g', 'a', 'z', 'in', 'e'], 'Ġ-': ['Ġ', '-'], 'ĠUK': ['Ġ', 'U', 'K'], 'Ġblurring': ['Ġb', 'l', 'ur', 'r', 'ing'], 'Ġmoral': ['Ġm', 'or', 'al'], 'Ġstanding': ['Ġs', 't', 'an', 'd', 'ing'], 'Ġart': ['Ġ', 'ar', 't'], 'Ġstyle': ['Ġs', 't', 'y', 'le'], 'Ġlatter': ['Ġ', 'l', 'at', 't', 'er'], 'Ġcontinued': ['Ġc', 'on', 't', 'in', 'u', 'ed'], 'Ġquality': ['Ġ', 'q', 'u', 'al', 'it', 'y'], 'Ġtweaks': ['Ġt', 'w', 'e', 'a', 'k', 's'], 'Ġbalance': ['Ġb', 'al', 'an', 'c', 'e'], 'Ġcriticism': ['Ġc', 'r', 'i', 'ti', 'c', 'is', 'm'], 'Ġaffected': ['Ġa', 'f', 'f', 'ec', 't', 'ed'], 'ĠHeath': ['Ġ', 'H', 'e', 'at', 'h'], 'ĠHindman': ['Ġ', 'H', 'in', 'd', 'm', 'an'], 'ĠLifestyle': ['Ġ', 'L', 'i', 'f', 'es', 't', 'y', 'le'], 'Ġnon': ['Ġ', 'n', 'on'], 'Ġremoval': ['Ġre', 'm', 'o', 'v', 'al'], 'Ġpraising': ['Ġp', 'ra', 'is', 'ing'], 'Ġreturning': ['Ġre', 't', 'ur', 'n', 'ing'], 'Ġserious': ['Ġs', 'er', 'i', 'ou', 's'], 'ĠPoints': ['ĠP', 'o', 'in', 't', 's'], 'Ġcriticized': ['Ġc', 'r', 'i', 'ti', 'c', 'i', 'z', 'ed'], 'Ġreview': ['Ġre', 'v', 'i', 'e', 'w'], 'Ġawkward': ['Ġa', 'w', 'k', 'w', 'ar', 'd'], 'Ġcutscenes': ['Ġc', 'u', 't', 's', 'c', 'en', 'es'], 'Ġseemed': ['Ġs', 'e', 'e', 'm', 'ed'], 'Ġinclude': ['Ġin', 'c', 'l', 'u', 'd', 'e'], 'Ġscene': ['Ġs', 'c', 'en', 'e'], 'Ġgood': ['Ġ', 'g', 'o', 'o', 'd'], 'Ġissues': ['Ġ', 'is', 's', 'u', 'es'], 'Ġoccasional': ['Ġ', 'o', 'c', 'c', 'as', 'ion', 'al'], 'Ġproblems': ['Ġp', 'ro', 'b', 'le', 'm', 's'], 'ĠAI': ['ĠA', 'I'], 'Ġpreview': ['Ġp', 're', 'v', 'i', 'e', 'w'], 'ĠRyan': ['Ġ', 'R', 'y', 'an'], 'ĠGeddes': ['Ġ', 'G', 'ed', 'd', 'es'], 'ĠIGN': ['Ġ', 'I', 'G', 'N'], 'Ġleft': ['Ġ', 'le', 'f', 't'], 'Ġexcited': ['Ġe', 'x', 'c', 'it', 'ed'], 'Ġgo': ['Ġ', 'g', 'o'], 'Ġcompleting': ['Ġc', 'om', 'p', 'le', 't', 'ing'], 'Ġenjoying': ['Ġ', 'en', 'j', 'o', 'y', 'ing'], 'Ġimproved': ['Ġ', 'i', 'm', 'p', 'ro', 'v', 'ed'], 'Ġvisuals': ['Ġ', 'v', 'is', 'u', 'al', 's'], 'ĠKotaku': ['Ġ', 'K', 'o', 't', 'a', 'k', 'u'], 'ĠRichard': ['Ġ', 'R', 'ic', 'h', 'ar', 'd'], 'ĠEisenbeis': ['Ġ', 'E', 'is', 'en', 'b', 'e', 'is'], 'Ġhighly': ['Ġh', 'i', 'g', 'h', 'ly'], 'Ġciting': ['Ġc', 'it', 'ing'], 'Ġform': ['Ġf', 'or', 'm'], 'ĠHis': ['Ġ', 'H', 'is'], 'Ġcriticisms': ['Ġc', 'r', 'i', 'ti', 'c', 'is', 'm', 's'], 'Ġlength': ['Ġ', 'l', 'en', 'g', 't', 'h'], 'Ġrepetition': ['Ġre', 'p', 'e', 'ti', 'ti', 'on'], 'Ġexpressing': ['Ġe', 'x', 'p', 'r', 'es', 's', 'ing'], 'Ġregret': ['Ġre', 'g', 're', 't'], 'ĠLegacy': ['Ġ', 'L', 'e', 'g', 'ac', 'y'], 'Ġfeatured': ['Ġf', 'e', 'at', 'ur', 'ed'], 'ĠNintendo': ['Ġ', 'N', 'in', 't', 'en', 'd', 'o'], 'DS': ['D', 'S'], 'Ġcrossover': ['Ġc', 'ro', 's', 's', 'o', 'v', 'er'], 'ĠProject': ['ĠP', 'ro', 'j', 'ec', 't'], 'ĠX': ['Ġ', 'X'], 'ĠZone': ['Ġ', 'Z', 'on', 'e'], 'Ġrepresenting': ['Ġre', 'p', 'r', 'es', 'ent', 'ing'], 'Ġdevelop': ['Ġd', 'e', 'v', 'el', 'o', 'p'], 'Ġforms': ['Ġf', 'or', 'm', 's'], 'ĠAdaptations': ['ĠA', 'd', 'a', 'p', 't', 'at', 'ion', 's'], 'Ġepisode': ['Ġe', 'p', 'is', 'o', 'd', 'e'], 'ĠTitled': ['Ġ', 'T', 'it', 'l', 'ed'], 'ĠTaga': ['Ġ', 'T', 'a', 'g', 'a'], 'ĠTame': ['Ġ', 'T', 'a', 'm', 'e'], 'ĠJÅ«sÅį': ['Ġ', 'J', 'Å', '«', 's', 'Å', 'į'], 'ï¼ĵ': ['ï', '¼', 'ĵ'], 'Ġèª°ãģĮãģŁãĤģãģ®éĬĥçĺ¡': ['Ġ', 'è', 'ª', '°', 'ã', 'ģ', 'Į', 'ã', 'ģ', 'Ł', 'ã', 'Ĥ', 'ģ', 'ã', 'ģ', '®', 'é', 'Ĭ', 'ĥ', 'ç', 'ĺ', '¡'], 'ĠWound': ['Ġ', 'W', 'ou', 'n', 'd'], 'ĠTaken': ['Ġ', 'T', 'a', 'k', 'en'], 'ĠSomeone': ['ĠS', 'om', 'e', 'on', 'e'], 'ĠSake': ['ĠS', 'a', 'k', 'e'], 'ĠNetwork': ['Ġ', 'N', 'et', 'w', 'or', 'k'], 'ĠQriocity': ['Ġ', 'Q', 'r', 'i', 'o', 'c', 'it', 'y'], 'Ġplanned': ['Ġp', 'l', 'an', 'n', 'ed'], 'Ġavailability': ['Ġa', 'v', 'a', 'il', 'a', 'b', 'il', 'it', 'y'], 'Ġperiod': ['Ġp', 'er', 'i', 'o', 'd'], 'Ġextended': ['Ġe', 'x', 't', 'en', 'd', 'ed'], 'Ġstoppage': ['Ġs', 't', 'o', 'p', 'p', 'a', 'g', 'e'], 'Ġsummer': ['Ġs', 'u', 'm', 'm', 'er'], 'ĠDVD': ['Ġ', 'D', 'V', 'D'], 'ĠJune': ['Ġ', 'J', 'u', 'n', 'e'], 'Ġ29': ['Ġ', '2', '9'], 'ĠAugust': ['ĠA', 'u', 'g', 'u', 'st'], 'Ġ31': ['Ġ', '3', '1'], 'ĠBlack': ['Ġ', 'B', 'l', 'ac', 'k'], 'ĠBlue': ['Ġ', 'B', 'l', 'u', 'e'], 'Ġeditions': ['Ġ', 'ed', 'i', 'ti', 'on', 's'], 'Ġpurchase': ['Ġp', 'ur', 'c', 'h', 'as', 'e'], 'Ġset': ['Ġs', 'et'], 'Ġhalf': ['Ġh', 'al', 'f'], 'Ġdetailing': ['Ġd', 'et', 'a', 'il', 'ing'], 'Ġrivals': ['Ġ', 'r', 'i', 'v', 'al', 's'], 'Ġannounced': ['Ġ', 'an', 'n', 'ou', 'n', 'c', 'ed'], 'Ġ1': ['Ġ1'], 'ĠPictures': ['ĠP', 'ic', 't', 'ur', 'es'], 'ĠShinji': ['ĠS', 'h', 'in', 'j', 'i'], 'ĠMotoyama': ['ĠM', 'o', 't', 'o', 'y', 'a', 'm', 'a'], 'Ġdirected': ['Ġd', 'i', 're', 'c', 't', 'ed'], 'ĠNobuhiro': ['Ġ', 'N', 'o', 'b', 'u', 'h', 'i', 'ro'], 'ĠKondÅį': ['Ġ', 'K', 'on', 'd', 'Å', 'į'], 'ĠHiroshi': ['Ġ', 'H', 'i', 'ro', 's', 'h', 'i'], 'ĠÅĮnogi': ['Ġ', 'Å', 'Į', 'n', 'o', 'g', 'i'], 'Ġtitle': ['Ġ', 'ti', 't', 'le'], 'Ġinspired': ['Ġin', 's', 'p', 'i', 'r', 'ed'], 'Ġprinciple': ['Ġp', 'r', 'in', 'c', 'i', 'p', 'le'], 'Ġpurpose': ['Ġp', 'ur', 'p', 'o', 's', 'e'], 'Ġsuffer': ['Ġs', 'u', 'f', 'f', 'er'], 'Ġgoals': ['Ġ', 'g', 'o', 'al', 's'], 'Ġothers': ['Ġ', 'o', 't', 'h', 'ers'], 'Ġsubtitle': ['Ġs', 'u', 'b', 'ti', 't', 'le'], 'ĠRoad': ['Ġ', 'R', 'o', 'a', 'd'], 'ĠKubinka': ['Ġ', 'K', 'u', 'b', 'in', 'k', 'a'], 'Ġreferenced': ['Ġre', 'f', 'er', 'en', 'c', 'ed'], 'ĠTank': ['Ġ', 'T', 'an', 'k'], 'ĠMuseum': ['ĠM', 'u', 's', 'e', 'u', 'm'], 'ĠMoscow': ['ĠM', 'o', 's', 'c', 'o', 'w'], 'Ġhow': ['Ġh', 'o', 'w'], 'Ġregained': ['Ġre', 'g', 'a', 'in', 'ed'], 'Ġself': ['Ġs', 'el', 'f'], 'Ġstripped': ['Ġs', 't', 'r', 'i', 'p', 'p', 'ed'], 'Ġidentities': ['Ġ', 'i', 'd', 'en', 'ti', 'ti', 'es'], 'Ġfocused': ['Ġf', 'o', 'c', 'u', 's', 'ed'], 'Ġconsequences': ['Ġc', 'on', 's', 'e', 'q', 'u', 'en', 'c', 'es'], 'Ġrealistic': ['Ġre', 'al', 'is', 'ti', 'c'], 'Ġpossible': ['Ġp', 'o', 's', 's', 'i', 'b', 'le'], 'Ġconsequence': ['Ġc', 'on', 's', 'e', 'q', 'u', 'en', 'c', 'e'], 'Ġdid': ['Ġd', 'i', 'd'], 'Ġextensive': ['Ġe', 'x', 't', 'en', 's', 'i', 'v', 'e'], 'Ġresearch': ['Ġ', 'r', 'es', 'e', 'ar', 'c', 'h'], 'Ġhappened': ['Ġh', 'a', 'p', 'p', 'en', 'ed'], 'Ġvehicles': ['Ġ', 'v', 'e', 'h', 'ic', 'l', 'es'], 'Ġtanks': ['Ġt', 'an', 'k', 's'], 'Ġoverturned': ['Ġ', 'o', 'v', 'er', 't', 'ur', 'n', 'ed'], 'Ġdamaged': ['Ġd', 'a', 'm', 'a', 'g', 'ed'], 'Ġtimeline': ['Ġ', 'ti', 'm', 'el', 'in', 'e'], 'Ġtelevision': ['Ġt', 'el', 'e', 'v', 'is', 'ion'], 'Ġadaptation': ['Ġa', 'd', 'a', 'p', 't', 'at', 'ion'], 'Ġcast': ['Ġc', 'as', 't'], 'Ġappearances': ['Ġa', 'p', 'p', 'e', 'ar', 'an', 'c', 'es'], 'ĠAkari': ['ĠA', 'k', 'ar', 'i'], 'ĠLight': ['Ġ', 'L', 'i', 'g', 'h', 't'], 'Tomoshibi': ['T', 'om', 'o', 's', 'h', 'i', 'b', 'i'], '-': ['-'], 'Ġçģ¯': ['Ġ', 'ç', 'ģ', '¯'], 'ĠTOMOSHIBI': ['Ġ', 'T', 'O', 'M', 'O', 'S', 'H', 'I', 'B', 'I'], 'ĠFaylan': ['Ġ', 'F', 'a', 'y', 'l', 'an'], 'ĠSomeday': ['ĠS', 'om', 'ed', 'a', 'y'], 'ĠFlowers': ['Ġ', 'F', 'lo', 'w', 'ers'], 'ĠWill': ['Ġ', 'W', 'il', 'l'], 'ĠBloom': ['Ġ', 'B', 'lo', 'om'], 'ĠãģĦãģ¤ãģĭåĴ²ãģıåħīãģ®èĬ±': ['Ġ', 'ã', 'ģ', 'Ħ', 'ã', 'ģ', '¤', 'ã', 'ģ', 'ĭ', 'å', 'Ĵ', '²', 'ã', 'ģ', 'ı', 'å', 'ħ', 'ī', 'ã', 'ģ', '®', 'è', 'Ĭ', '±'], 'ĠItsuka': ['Ġ', 'I', 't', 's', 'u', 'k', 'a'], 'ĠSaku': ['ĠS', 'a', 'k', 'u'], 'ĠHikari': ['Ġ', 'H', 'i', 'k', 'ar', 'i'], 'ĠHana': ['Ġ', 'H', 'an', 'a'], 'ĠMinami': ['ĠM', 'in', 'a', 'm', 'i'], 'ĠKuribayashi': ['Ġ', 'K', 'ur', 'i', 'b', 'a', 'y', 'as', 'h', 'i'], 'ĠBoth': ['Ġ', 'B', 'o', 't', 'h'], 'Ġsongs': ['Ġs', 'on', 'g', 's'], 'Ġrespective': ['Ġ', 'r', 'es', 'p', 'ec', 'ti', 'v', 'e'], 'Ġartists': ['Ġ', 'ar', 'ti', 'st', 's'], 'ĠTwo': ['Ġ', 'T', 'w', 'o'], 'Ġadaptations': ['Ġa', 'd', 'a', 'p', 't', 'at', 'ion', 's'], 'Ġprotagonists': ['Ġp', 'ro', 't', 'a', 'g', 'on', 'is', 't', 's'], 'ĠNamo': ['Ġ', 'N', 'a', 'm', 'o'], 'Ġnaki': ['Ġ', 'n', 'a', 'k', 'i'], 'ĠChikai': ['ĠC', 'h', 'i', 'k', 'a', 'i'], 'ĠåĲįãĤĤãģªãģįèªĵãģĦãģ®èĬ±': ['Ġ', 'å', 'Ĳ', 'į', 'ã', 'Ĥ', 'Ĥ', 'ã', 'ģ', 'ª', 'ã', 'ģ', 'į', 'è', 'ª', 'ĵ', 'ã', 'ģ', 'Ħ', 'ã', 'ģ', '®', 'è', 'Ĭ', '±'], 'ĠFlower': ['Ġ', 'F', 'lo', 'w', 'er'], 'ĠOath': ['Ġ', 'O', 'at', 'h'], 'Ġillustrated': ['Ġ', 'il', 'l', 'u', 'st', 'r', 'at', 'ed'], 'ĠNaoyuki': ['Ġ', 'N', 'a', 'o', 'y', 'u', 'k', 'i'], 'ĠFujisawa': ['Ġ', 'F', 'u', 'j', 'is', 'a', 'w', 'a'], 'Ġeventually': ['Ġe', 'v', 'ent', 'u', 'al', 'ly'], 'Ġvolumes': ['Ġ', 'v', 'o', 'l', 'u', 'm', 'es'], 'Ġserialized': ['Ġs', 'er', 'i', 'al', 'i', 'z', 'ed'], 'ĠDengeki': ['Ġ', 'D', 'en', 'g', 'e', 'k', 'i'], 'ĠMaoh': ['ĠM', 'a', 'o', 'h'], 'Akaki': ['A', 'k', 'a', 'k', 'i'], 'ĠUnmei': ['Ġ', 'U', 'n', 'm', 'e', 'i'], 'ĠIkusa': ['Ġ', 'I', 'k', 'u', 's', 'a'], 'ĠOtome': ['Ġ', 'O', 't', 'om', 'e'], 'èµ¤ãģįéģĭåĳ½ãģ®æĪ¦ä¹Ļå¥³': ['è', 'µ', '¤', 'ã', 'ģ', 'į', 'é', 'ģ', 'ĭ', 'å', 'ĳ', '½', 'ã', 'ģ', '®', 'æ', 'Ī', '¦', 'ä', '¹', 'Ļ', 'å', '¥', '³'], 'The': ['T', 'h', 'e'], 'ĠValkyrie': ['Ġ', 'V', 'al', 'k', 'y', 'r', 'i', 'e'], 'ĠCrimson': ['ĠC', 'r', 'i', 'm', 's', 'on'], 'ĠFate': ['Ġ', 'F', 'at', 'e'], 'ĠMizuki': ['ĠM', 'i', 'z', 'u', 'k', 'i'], 'ĠTsuge': ['Ġ', 'T', 's', 'u', 'g', 'e'], 'Ġvolume': ['Ġ', 'v', 'o', 'l', 'u', 'm', 'e'], 'ĠKadokawa': ['Ġ', 'K', 'a', 'd', 'o', 'k', 'a', 'w', 'a'], 'ĠShoten': ['ĠS', 'h', 'o', 't', 'en'], 'ĠTower': ['Ġ', 'T', 'o', 'w', 'er'], 'ĠBuilding': ['Ġ', 'B', 'u', 'il', 'd', 'ing'], 'ĠLittle': ['Ġ', 'L', 'it', 't', 'le'], 'ĠRock': ['Ġ', 'R', 'o', 'c', 'k'], 'ĠArsenal': ['ĠA', 'r', 's', 'en', 'al'], 'ĠU': ['Ġ', 'U'], 'S': ['S'], 'Ġbuilding': ['Ġb', 'u', 'il', 'd', 'ing'], 'Ġlocated': ['Ġ', 'lo', 'c', 'at', 'ed'], 'ĠMacArthur': ['ĠM', 'ac', 'A', 'r', 't', 'h', 'ur'], 'ĠPark': ['ĠP', 'ar', 'k'], 'Ġdowntown': ['Ġd', 'o', 'w', 'n', 't', 'o', 'w', 'n'], 'ĠArkansas': ['ĠA', 'r', 'k', 'an', 's', 'as'], 'ĠBuilt': ['Ġ', 'B', 'u', 'il', 't'], 'Ġ1840': ['Ġ1', '8', '4', '0'], 'Ġinstallation': ['Ġin', 'st', 'al', 'l', 'at', 'ion'], 'ĠSince': ['ĠS', 'in', 'c', 'e'], 'Ġdecommissioning': ['Ġd', 'ec', 'om', 'm', 'is', 's', 'ion', 'ing'], 'Ġhoused': ['Ġh', 'ou', 's', 'ed'], 'Ġmuseums': ['Ġm', 'u', 's', 'e', 'u', 'm', 's'], 'ĠNatural': ['Ġ', 'N', 'at', 'ur', 'al'], 'ĠHistory': ['Ġ', 'H', 'is', 't', 'or', 'y'], 'ĠAntiquities': ['ĠA', 'n', 'ti', 'q', 'u', 'i', 'ti', 'es'], 'Ġ1942': ['Ġ1', '9', '4', '2'], 'Ġ1997': ['Ġ1', '9', '9', '7'], 'ĠMilitary': ['ĠM', 'il', 'it', 'ar', 'y'], 'Ġsince': ['Ġs', 'in', 'c', 'e'], 'Ġ2001': ['Ġ', '2', '0', '0', '1'], 'Ġheadquarters': ['Ġh', 'e', 'a', 'd', 'q', 'u', 'ar', 't', 'ers'], 'ĠÃĨsthetic': ['Ġ', 'Ã', 'Ĩ', 'st', 'h', 'e', 'ti', 'c'], 'ĠClub': ['ĠC', 'l', 'u', 'b'], 'Ġ1894': ['Ġ1', '8', '9', '4'], 'Ġreceives': ['Ġre', 'c', 'e', 'i', 'v', 'es'], 'Ġname': ['Ġ', 'n', 'a', 'm', 'e'], 'Ġdistinct': ['Ġd', 'is', 't', 'in', 'c', 't'], 'Ġoctagonal': ['Ġ', 'o', 'c', 't', 'a', 'g', 'on', 'al'], 'Ġtower': ['Ġt', 'o', 'w', 'er'], 'ĠBesides': ['Ġ', 'B', 'es', 'i', 'd', 'es'], 'Ġremaining': ['Ġre', 'm', 'a', 'in', 'ing'], 'Ġoldest': ['Ġ', 'o', 'l', 'd', 'es', 't'], 'Ġbuildings': ['Ġb', 'u', 'il', 'd', 'ing', 's'], 'Ġcentral': ['Ġc', 'ent', 'r', 'al'], 'Ġbirthplace': ['Ġb', 'i', 'r', 't', 'h', 'p', 'l', 'ac', 'e'], 'ĠDouglas': ['Ġ', 'D', 'ou', 'g', 'l', 'as'], 'Ġbecame': ['Ġb', 'ec', 'a', 'm', 'e'], 'Ġsupreme': ['Ġs', 'u', 'p', 're', 'm', 'e'], 'Ġcommander': ['Ġc', 'om', 'm', 'an', 'd', 'er'], 'ĠUS': ['Ġ', 'U', 'S'], 'ĠSouth': ['ĠS', 'ou', 't', 'h'], 'ĠPacific': ['ĠP', 'ac', 'i', 'f', 'ic'], 'ĠWorld': ['Ġ', 'W', 'or', 'l', 'd'], 'Ġstarting': ['Ġs', 't', 'ar', 't', 'ing'], 'ĠCamden': ['ĠC', 'a', 'm', 'd', 'en'], 'ĠExpedition': ['Ġ', 'E', 'x', 'p', 'ed', 'i', 'ti', 'on'], 'Ġnamed': ['Ġ', 'n', 'a', 'm', 'ed'], 'Ġ10': ['Ġ1', '0'], 'Ġattractions': ['Ġ', 'at', 't', 'r', 'ac', 'ti', 'on', 's'], 'Ġstate': ['Ġs', 't', 'at', 'e'], 'com': ['c', 'om'], 'ĠConstruction': ['ĠC', 'on', 'st', 'r', 'u', 'c', 'ti', 'on'], 'Ġarsenal': ['Ġ', 'ar', 's', 'en', 'al'], 'Ġrequest': ['Ġre', 'q', 'u', 'es', 't'], 'ĠGovernor': ['Ġ', 'G', 'o', 'v', 'er', 'n', 'or'], 'ĠJames': ['Ġ', 'J', 'a', 'm', 'es'], 'ĠSevier': ['ĠS', 'e', 'v', 'i', 'er'], 'ĠConway': ['ĠC', 'on', 'w', 'a', 'y'], 'Ġperceived': ['Ġp', 'er', 'c', 'e', 'i', 'v', 'ed'], 'Ġdangers': ['Ġd', 'an', 'g', 'ers'], 'Ġfrontier': ['Ġf', 'r', 'on', 'ti', 'er'], 'Ġlife': ['Ġ', 'l', 'i', 'f', 'e'], 'Ġfears': ['Ġf', 'e', 'ar', 's'], 'Ġmany': ['Ġm', 'an', 'y'], 'ĠNative': ['Ġ', 'N', 'at', 'i', 'v', 'e'], 'ĠAmericans': ['ĠA', 'm', 'er', 'ic', 'an', 's'], 'Ġpassing': ['Ġp', 'as', 's', 'ing'], 'Ġway': ['Ġw', 'a', 'y'], 'Ġnewly': ['Ġ', 'n', 'e', 'w', 'ly'], 'Ġestablished': ['Ġ', 'es', 't', 'a', 'b', 'l', 'is', 'h', 'ed'], 'ĠOklahoma': ['Ġ', 'O', 'k', 'l', 'a', 'h', 'om', 'a'], 'ĠTerritory': ['Ġ', 'T', 'er', 'r', 'it', 'or', 'y'], 'ĠThirty': ['Ġ', 'T', 'h', 'i', 'r', 't', 'y'], 'Ġsix': ['Ġs', 'i', 'x'], 'Ġacres': ['Ġa', 'c', 'r', 'es'], 'Ġappropriated': ['Ġa', 'p', 'p', 'ro', 'p', 'r', 'i', 'at', 'ed'], 'Ġoutskirts': ['Ġ', 'ou', 't', 's', 'k', 'i', 'r', 't', 's'], 'ĠMajor': ['ĠM', 'a', 'j', 'or'], 'ĠRobert': ['Ġ', 'R', 'o', 'b', 'er', 't'], 'ĠB': ['Ġ', 'B'], 'ĠLee': ['Ġ', 'L', 'e', 'e'], 'Ġland': ['Ġ', 'l', 'an', 'd'], 'Ġpreviously': ['Ġp', 're', 'v', 'i', 'ou', 's', 'ly'], 'Ġracetrack': ['Ġ', 'r', 'ac', 'et', 'r', 'ac', 'k'], 'Ġlocal': ['Ġ', 'lo', 'c', 'al'], 'Ġjockey': ['Ġ', 'j', 'o', 'c', 'k', 'e', 'y'], 'Ġclub': ['Ġc', 'l', 'u', 'b'], 'ĠJohn': ['Ġ', 'J', 'o', 'h', 'n'], 'ĠWormley': ['Ġ', 'W', 'or', 'm', 'le', 'y'], 'ĠWalker': ['Ġ', 'W', 'al', 'k', 'er'], 'Ġbuilder': ['Ġb', 'u', 'il', 'd', 'er'], 'ĠFederal': ['Ġ', 'F', 'ed', 'er', 'al'], 'ĠGovernment': ['Ġ', 'G', 'o', 'v', 'er', 'n', 'm', 'ent'], 'Ġsupervised': ['Ġs', 'u', 'p', 'er', 'v', 'is', 'ed'], 'Ġconstruction': ['Ġc', 'on', 'st', 'r', 'u', 'c', 'ti', 'on'], 'ĠOriginally': ['Ġ', 'O', 'r', 'i', 'g', 'in', 'al', 'ly'], 'Ġ$': ['Ġ', '$'], 'Ġ14': ['Ġ1', '4'], 'Ġ000': ['Ġ', '0', '0', '0'], 'Ġallocated': ['Ġ', 'al', 'lo', 'c', 'at', 'ed'], 'Ġproved': ['Ġp', 'ro', 'v', 'ed'], 'Ġinadequate': ['Ġin', 'a', 'd', 'e', 'q', 'u', 'at', 'e'], 'Ġbudget': ['Ġb', 'u', 'd', 'g', 'et'], 'Ġincreased': ['Ġin', 'c', 're', 'as', 'ed'], 'Ġ30': ['Ġ', '3', '0'], 'ĠWork': ['Ġ', 'W', 'or', 'k'], 'Ġpermanent': ['Ġp', 'er', 'm', 'an', 'ent'], 'Ġbuilt': ['Ġb', 'u', 'il', 't'], 'ĠBeing': ['Ġ', 'B', 'e', 'ing'], 'Ġstore': ['Ġs', 't', 'or', 'e'], 'Ġammunition': ['Ġa', 'm', 'm', 'u', 'n', 'i', 'ti', 'on'], 'Ġfoot': ['Ġf', 'o', 'o', 't'], 'Ġthick': ['Ġt', 'h', 'ic', 'k'], 'Ġ0': ['Ġ', '0'], 'Ġ@.@': ['Ġ', '@', '.', '@'], 'Ġ91': ['Ġ', '9', '1'], 'Ġm': ['Ġm'], 'Ġexterior': ['Ġe', 'x', 't', 'er', 'i', 'or'], 'Ġwalls': ['Ġw', 'al', 'l', 's'], 'Ġcalled': ['Ġc', 'al', 'l', 'ed'], 'Ġstone': ['Ġs', 't', 'on', 'e'], 'Ġmasonry': ['Ġm', 'as', 'on', 'r', 'y'], 'Ġinstead': ['Ġin', 'st', 'e', 'a', 'd'], 'ĠGazette': ['Ġ', 'G', 'a', 'z', 'et', 't', 'e'], 'Ġsplendid': ['Ġs', 'p', 'l', 'en', 'd', 'i', 'd'], 'Ġspecimen': ['Ġs', 'p', 'ec', 'i', 'm', 'en'], 'ĠCivil': ['ĠC', 'i', 'v', 'il'], 'ĠFor': ['Ġ', 'F', 'or'], 'Ġyears': ['Ġ', 'y', 'e', 'ar', 's'], 'Ġfederal': ['Ġf', 'ed', 'er', 'al'], 'Ġgovernment': ['Ġ', 'g', 'o', 'v', 'er', 'n', 'm', 'ent'], 'Ġserved': ['Ġs', 'er', 'v', 'ed'], 'Ġsimple': ['Ġs', 'i', 'm', 'p', 'le'], 'Ġarms': ['Ġ', 'ar', 'm', 's'], 'Ġdepot': ['Ġd', 'e', 'p', 'o', 't'], 'Ġstaffed': ['Ġs', 't', 'a', 'f', 'f', 'ed'], 'Ġhandful': ['Ġh', 'an', 'd', 'f', 'u', 'l'], 'ĠBut': ['Ġ', 'B', 'u', 't'], 'Ġ1860': ['Ġ1', '8', '6', '0'], 'ĠAmerican': ['ĠA', 'm', 'er', 'ic', 'an'], 'Ġhorizon': ['Ġh', 'or', 'i', 'z', 'on'], 'Ġcompany': ['Ġc', 'om', 'p', 'an', 'y'], 'ĠUnited': ['Ġ', 'U', 'n', 'it', 'ed'], 'ĠStates': ['ĠS', 't', 'at', 'es'], 'ĠArtillery': ['ĠA', 'r', 'ti', 'l', 'l', 'er', 'y'], 'Ġsixty': ['Ġs', 'i', 'x', 't', 'y'], 'Ġmen': ['Ġm', 'en'], 'Ġtransferred': ['Ġt', 'r', 'an', 's', 'f', 'er', 'r', 'ed'], 'ĠCaptain': ['ĠC', 'a', 'p', 't', 'a', 'in'], 'ĠTotten': ['Ġ', 'T', 'o', 't', 't', 'en'], 'Ġ15': ['Ġ1', '5'], 'Ġ1861': ['Ġ1', '8', '6', '1'], 'Ġlegislature': ['Ġ', 'le', 'g', 'is', 'l', 'at', 'u', 're'], 'Ġhold': ['Ġh', 'o', 'l', 'd'], 'Ġreferendum': ['Ġre', 'f', 'er', 'en', 'd', 'u', 'm'], 'Ġdetermine': ['Ġd', 'et', 'er', 'm', 'in', 'e'], 'Ġconvention': ['Ġc', 'on', 'v', 'en', 'ti', 'on'], 'Ġshould': ['Ġs', 'h', 'ou', 'l', 'd'], 'Ġheld': ['Ġh', 'el', 'd'], 'Ġconsider': ['Ġc', 'on', 's', 'i', 'd', 'er'], 'Ġsecession': ['Ġs', 'ec', 'es', 's', 'ion'], 'Ġelect': ['Ġ', 'el', 'ec', 't'], 'Ġdelegates': ['Ġd', 'el', 'e', 'g', 'at', 'es'], 'Ġ18': ['Ġ1', '8'], 'Ġwait': ['Ġw', 'a', 'it'], 'Ġ28': ['Ġ', '2', '8'], 'ĠHenry': ['Ġ', 'H', 'en', 'r', 'y'], 'ĠMassey': ['ĠM', 'as', 's', 'e', 'y'], 'ĠRector': ['Ġ', 'R', 'ec', 't', 'or'], 'Ġinformed': ['Ġin', 'f', 'or', 'm', 'ed'], 'Ġpermitted': ['Ġp', 'er', 'm', 'it', 't', 'ed'], 'Ġpossession': ['Ġp', 'o', 's', 's', 'es', 's', 'ion'], 'Ġofficers': ['Ġ', 'o', 'f', 'f', 'ic', 'ers'], 'ĠState': ['ĠS', 't', 'at', 'e'], 'Ġauthority': ['Ġa', 'u', 't', 'h', 'or', 'it', 'y'], 'Ġpeople': ['Ġp', 'e', 'o', 'p', 'le'], 'Ġshall': ['Ġs', 'h', 'al', 'l'], 'Ġdetermined': ['Ġd', 'et', 'er', 'm', 'in', 'ed'], 'Ġsever': ['Ġs', 'e', 'v', 'er'], 'Ġconnection': ['Ġc', 'on', 'n', 'ec', 'ti', 'on'], 'Ġresponded': ['Ġ', 'r', 'es', 'p', 'on', 'd', 'ed'], 'Ġtelling': ['Ġt', 'el', 'l', 'ing'], 'Ġcame': ['Ġc', 'a', 'm', 'e'], 'Ġdesperate': ['Ġd', 'es', 'p', 'er', 'at', 'e'], 'Ġultimately': ['Ġ', 'u', 'l', 'ti', 'm', 'at', 'el', 'y'], 'Ġfutile': ['Ġf', 'u', 'ti', 'le'], 'Ġdispatch': ['Ġd', 'is', 'p', 'at', 'c', 'h'], 'Ġletters': ['Ġ', 'le', 't', 't', 'ers'], 'Ġtelegrams': ['Ġt', 'el', 'e', 'g', 'ra', 'm', 's'], 'Ġreinforcements': ['Ġre', 'in', 'f', 'or', 'c', 'e', 'm', 'ent', 's'], 'Ġrumors': ['Ġ', 'r', 'u', 'm', 'or', 's'], 'Ġwidely': ['Ġw', 'i', 'd', 'el', 'y'], 'Ġspread': ['Ġs', 'p', 're', 'a', 'd'], 'Ġalready': ['Ġ', 'al', 're', 'a', 'd', 'y'], 'Ġtelegraph': ['Ġt', 'el', 'e', 'g', 'ra', 'p', 'h'], 'Ġwire': ['Ġw', 'i', 're'], 'Ġspan': ['Ġs', 'p', 'an'], 'ĠMemphis': ['ĠM', 'e', 'm', 'p', 'h', 'is'], 'Ġrecently': ['Ġre', 'c', 'ent', 'ly'], 'Ġcompleted': ['Ġc', 'om', 'p', 'le', 't', 'ed'], 'ĠLocal': ['Ġ', 'L', 'o', 'c', 'al'], 'Ġattorney': ['Ġ', 'at', 't', 'or', 'n', 'e', 'y'], 'ĠM': ['ĠM'], 'ĠHarrel': ['Ġ', 'H', 'ar', 're', 'l'], 'Ġasked': ['Ġa', 's', 'k', 'ed'], 'Ġcompose': ['Ġc', 'om', 'p', 'o', 's', 'e'], 'Ġdispatched': ['Ġd', 'is', 'p', 'at', 'c', 'h', 'ed'], 'Ġmessage': ['Ġm', 'es', 's', 'a', 'g', 'e'], 'Ġreported': ['Ġre', 'p', 'or', 't', 'ed'], 'Ġunconfirmed': ['Ġ', 'u', 'n', 'c', 'on', 'f', 'i', 'r', 'm', 'ed'], 'Ġtroops': ['Ġt', 'ro', 'o', 'p', 's'], 'Ġsent': ['Ġs', 'ent'], 'Ġreinforce': ['Ġre', 'in', 'f', 'or', 'c', 'e'], 'Ġoutposts': ['Ġ', 'ou', 't', 'p', 'o', 'st', 's'], 'ĠIndian': ['Ġ', 'I', 'n', 'd', 'i', 'an'], 'Ġrecalled': ['Ġre', 'c', 'al', 'l', 'ed'], 'Ġwinter': ['Ġw', 'in', 't', 'er'], 'Ġquarters': ['Ġ', 'q', 'u', 'ar', 't', 'ers'], 'Ġgarrison': ['Ġ', 'g', 'ar', 'r', 'is', 'on'], 'ĠFort': ['Ġ', 'F', 'or', 't'], 'ĠSmith': ['ĠS', 'm', 'it', 'h'], 'Ġrichest': ['Ġ', 'r', 'ic', 'h', 'es', 't'], 'Ġdepositories': ['Ġd', 'e', 'p', 'o', 's', 'it', 'or', 'i', 'es'], 'Ġstores': ['Ġs', 't', 'or', 'es'], 'Ġsupposed': ['Ġs', 'u', 'p', 'p', 'o', 's', 'ed'], 'Ġultimate': ['Ġ', 'u', 'l', 'ti', 'm', 'at', 'e'], 'Ġdestination': ['Ġd', 'es', 't', 'in', 'at', 'ion'], 'Ġtropps': ['Ġt', 'ro', 'p', 'p', 's'], 'Ġ[': ['Ġ', '['], 'Ġsic': ['Ġs', 'ic'], 'Ġ]': ['Ġ', ']'], 'Ġordered': ['Ġ', 'or', 'd', 'er', 'ed'], 'John': ['J', 'o', 'h', 'n'], 'ĠTelegram': ['Ġ', 'T', 'el', 'e', 'g', 'ra', 'm'], 'Ġitem': ['Ġ', 'it', 'e', 'm'], 'Ġintended': ['Ġin', 't', 'en', 'd', 'ed'], 'Ġsimply': ['Ġs', 'i', 'm', 'p', 'ly'], 'Ġnews': ['Ġ', 'n', 'e', 'w', 's'], 'Ġlines': ['Ġ', 'l', 'in', 'es'], 'Ġquickly': ['Ġ', 'q', 'u', 'ic', 'k', 'ly'], 'Ġfueling': ['Ġf', 'u', 'el', 'ing'], 'Ġprocession': ['Ġp', 'ro', 'c', 'es', 's', 'ion'], 'Ġsentiment': ['Ġs', 'en', 'ti', 'm', 'ent'], 'Ġrumor': ['Ġ', 'r', 'u', 'm', 'or'], 'Ġinterpreted': ['Ġin', 't', 'er', 'p', 're', 't', 'ed'], 'ĠArkansans': ['ĠA', 'r', 'k', 'an', 's', 'an', 's'], 'Ġgovernor': ['Ġ', 'g', 'o', 'v', 'er', 'n', 'or'], 'Ġassemble': ['Ġa', 's', 's', 'e', 'm', 'b', 'le'], 'Ġexpel': ['Ġe', 'x', 'p', 'el'], 'Ġ5': ['Ġ', '5'], 'Ġmilitia': ['Ġm', 'il', 'i', 'ti', 'a'], 'Ġguarantee': ['Ġ', 'g', 'u', 'ar', 'an', 't', 'e', 'e'], 'Ġsituations': ['Ġs', 'it', 'u', 'at', 'ion', 's'], 'Ġdeemed': ['Ġd', 'e', 'e', 'm', 'ed'], 'Ġnecessary': ['Ġ', 'n', 'ec', 'es', 's', 'ar', 'y'], 'Ġassembled': ['Ġa', 's', 's', 'e', 'm', 'b', 'l', 'ed'], 'Ġvehemently': ['Ġ', 'v', 'e', 'h', 'e', 'm', 'ent', 'ly'], 'Ġdenied': ['Ġd', 'en', 'i', 'ed'], 'Ġordering': ['Ġ', 'or', 'd', 'er', 'ing'], 'Ġgiving': ['Ġ', 'g', 'i', 'v', 'ing'], 'Ġany': ['Ġ', 'an', 'y'], 'ĠFaced': ['Ġ', 'F', 'ac', 'ed'], 'Ġfact': ['Ġf', 'ac', 't'], 'Ġbelieving': ['Ġb', 'el', 'i', 'e', 'v', 'ing'], 'Ġconsensus': ['Ġc', 'on', 's', 'en', 's', 'u', 's'], 'Ġcitizens': ['Ġc', 'i', 'ti', 'z', 'en', 's'], 'Ġconflict': ['Ġc', 'on', 'f', 'l', 'ic', 't'], 'Ġcivilian': ['Ġc', 'i', 'v', 'il', 'i', 'an'], 'Ġforced': ['Ġf', 'or', 'c', 'ed'], 'Ġsituation': ['Ġs', 'it', 'u', 'at', 'ion'], 'Ġ6': ['Ġ', '6'], 'Ġdemand': ['Ġd', 'e', 'm', 'an', 'd'], 'Ġsurrender': ['Ġs', 'ur', 'r', 'en', 'd', 'er'], 'Ġprompted': ['Ġp', 'ro', 'm', 'p', 't', 'ed'], 'Ġpervades': ['Ġp', 'er', 'v', 'a', 'd', 'es'], 'Ġemergency': ['Ġe', 'm', 'er', 'g', 'en', 'c', 'y'], 'Ġmunitions': ['Ġm', 'u', 'n', 'i', 'ti', 'on', 's'], 'Ġauthorities': ['Ġa', 'u', 't', 'h', 'or', 'i', 'ti', 'es'], 'Ġsecurity': ['Ġs', 'ec', 'ur', 'it', 'y'], 'Ġauthorized': ['Ġa', 'u', 't', 'h', 'or', 'i', 'z', 'ed'], 'Ġme': ['Ġm', 'e'], 'Ġassumed': ['Ġa', 's', 's', 'u', 'm', 'ed'], 'Ġaspect': ['Ġa', 's', 'p', 'ec', 't'], 'Ġmy': ['Ġm', 'y'], 'Ġexecutive': ['Ġe', 'x', 'ec', 'u', 'ti', 'v', 'e'], 'ĠSate': ['ĠS', 'at', 'e'], 'Ġinterpose': ['Ġin', 't', 'er', 'p', 'o', 's', 'e'], 'Ġofficial': ['Ġ', 'o', 'f', 'f', 'ic', 'i', 'al'], 'Ġprevent': ['Ġp', 're', 'v', 'ent'], 'Ġcollision': ['Ġc', 'o', 'l', 'l', 'is', 'ion'], 'Ġyour': ['Ġ', 'y', 'ou', 'r'], 'Ġtherefore': ['Ġt', 'h', 'er', 'e', 'f', 'or', 'e'], 'Ġdelivery': ['Ġd', 'el', 'i', 'v', 'er', 'y'], 'Ġcharge': ['Ġc', 'h', 'ar', 'g', 'e'], 'Ġsubject': ['Ġs', 'u', 'b', 'j', 'ec', 't'], 'th': ['t', 'h'], 'ĠMarch': ['ĠM', 'ar', 'c', 'h'], 'ĠPerhaps': ['ĠP', 'er', 'h', 'a', 'p', 's'], 'Ġbecause': ['Ġb', 'ec', 'a', 'u', 's', 'e'], 'ĠAbraham': ['ĠA', 'b', 'ra', 'h', 'a', 'm'], 'ĠLincoln': ['Ġ', 'L', 'in', 'c', 'o', 'l', 'n'], 'Ġyet': ['Ġ', 'y', 'et'], 'Ġinaugurated': ['Ġin', 'a', 'u', 'g', 'ur', 'at', 'ed'], 'ĠPresident': ['ĠP', 'r', 'es', 'i', 'd', 'ent'], 'Ġinstructions': ['Ġin', 'st', 'r', 'u', 'c', 'ti', 'on', 's'], 'Ġsuperiors': ['Ġs', 'u', 'p', 'er', 'i', 'or', 's'], 'Ġwithdraw': ['Ġw', 'it', 'h', 'd', 'ra', 'w'], 'Ġagreed': ['Ġa', 'g', 're', 'ed'], 'Ġlong': ['Ġ', 'l', 'on', 'g'], 'Ġprovisions': ['Ġp', 'ro', 'v', 'is', 'ion', 's'], 'Ġallowed': ['Ġ', 'al', 'lo', 'w', 'ed'], 'Ġsafe': ['Ġs', 'a', 'f', 'e'], 'Ġpassage': ['Ġp', 'as', 's', 'a', 'g', 'e'], 'Ġdirection': ['Ġd', 'i', 're', 'c', 'ti', 'on'], 'Ġpersonal': ['Ġp', 'ers', 'on', 'al'], 'Ġproperty': ['Ġp', 'ro', 'p', 'er', 't', 'y'], 'Ġbesides': ['Ġb', 'es', 'i', 'd', 'es'], 'Ġmarch': ['Ġm', 'ar', 'c', 'h'], 'Ġaway': ['Ġa', 'w', 'a', 'y'], 'Ġleaving': ['Ġ', 'le', 'a', 'v', 'ing'], 'Ġconquered': ['Ġc', 'on', 'q', 'u', 'er', 'ed'], 'Ġsurrendering': ['Ġs', 'ur', 'r', 'en', 'd', 'er', 'ing'], 'Ġmorning': ['Ġm', 'or', 'n', 'ing'], 'Ġ8': ['Ġ', '8'], 'Ġsigned': ['Ġs', 'i', 'g', 'n', 'ed'], 'Ġagreement': ['Ġa', 'g', 're', 'e', 'm', 'ent'], 'Ġplacing': ['Ġp', 'l', 'ac', 'ing'], 'Ġhands': ['Ġh', 'an', 'd', 's'], 'Ġofficials': ['Ġ', 'o', 'f', 'f', 'ic', 'i', 'al', 's'], 'ĠThat': ['Ġ', 'T', 'h', 'at'], 'Ġafternoon': ['Ġa', 'f', 't', 'er', 'n', 'o', 'on'], 'Ġcitizen': ['Ġc', 'i', 'ti', 'z', 'en'], 'Ġmarched': ['Ġm', 'ar', 'c', 'h', 'ed'], 'Ġhead': ['Ġh', 'e', 'a', 'd'], 'ĠAll': ['ĠA', 'l', 'l'], 'Ġpoint': ['Ġp', 'o', 'in', 't'], 'Ġexcept': ['Ġe', 'x', 'c', 'e', 'p', 't'], 'Ġstayed': ['Ġs', 't', 'a', 'y', 'ed'], 'Ġbehind': ['Ġb', 'e', 'h', 'in', 'd'], 'Ġlisten': ['Ġ', 'l', 'is', 't', 'en'], 'Ġhand': ['Ġh', 'an', 'd'], 'Ġclassified': ['Ġc', 'l', 'as', 's', 'i', 'f', 'i', 'ed'], 'Ġdeposit': ['Ġd', 'e', 'p', 'o', 's', 'it'], 'Ġwarehouse': ['Ġw', 'ar', 'e', 'h', 'ou', 's', 'e'], 'Ġstorage': ['Ġs', 't', 'or', 'a', 'g', 'e'], 'Ġuse': ['Ġ', 'u', 's', 'e'], 'Ġcrisis': ['Ġc', 'r', 'is', 'is'], 'ĠThus': ['Ġ', 'T', 'h', 'u', 's'], 'Ġthere': ['Ġt', 'h', 'er', 'e'], 'Ġsubstantial': ['Ġs', 'u', 'b', 'st', 'an', 'ti', 'al'], 'Ġordnance': ['Ġ', 'or', 'd', 'n', 'an', 'c', 'e'], 'Ġfabrication': ['Ġf', 'a', 'b', 'r', 'ic', 'at', 'ion'], 'Ġrepairs': ['Ġre', 'p', 'a', 'i', 'r', 's'], 'Ġnor': ['Ġ', 'n', 'or'], 'Ġmanufacture': ['Ġm', 'an', 'u', 'f', 'ac', 't', 'u', 're'], 'Ġcartridges': ['Ġc', 'ar', 't', 'r', 'i', 'd', 'g', 'es'], 'Ġfell': ['Ġf', 'el', 'l'], 'ĠMost': ['ĠM', 'o', 'st'], 'Ġstarted': ['Ġs', 't', 'ar', 't', 'ed'], 'Ġscratch': ['Ġs', 'c', 'r', 'at', 'c', 'h'], 'Ġefforts': ['Ġe', 'f', 'f', 'or', 't', 's'], 'ĠBoard': ['Ġ', 'B', 'o', 'ar', 'd'], 'ĠInside': ['Ġ', 'I', 'n', 's', 'i', 'd', 'e'], 'Ġseizure': ['Ġs', 'e', 'i', 'z', 'u', 're'], 'ĠConfederates': ['ĠC', 'on', 'f', 'ed', 'er', 'at', 'es'], 'Ġinventoried': ['Ġin', 'v', 'ent', 'or', 'i', 'ed'], 'Ġ247': ['Ġ', '2', '4', '7'], 'Ġ250': ['Ġ', '2', '5', '0'], 'Ġmusket': ['Ġm', 'u', 's', 'k', 'et'], 'Ġ520': ['Ġ', '5', '2', '0'], 'Ġpercussion': ['Ġp', 'er', 'c', 'u', 's', 's', 'ion'], 'Ġcaps': ['Ġc', 'a', 'p', 's'], 'Ġwell': ['Ġw', 'el', 'l'], 'Ġfour': ['Ġf', 'ou', 'r'], 'Ġbronze': ['Ġb', 'r', 'on', 'z', 'e'], 'Ġcannon': ['Ġc', 'an', 'n', 'on'], 'Ġbattery': ['Ġb', 'at', 't', 'er', 'y'], 'ĠLong': ['Ġ', 'L', 'on', 'g'], 'Ġinventory': ['Ġin', 'v', 'ent', 'or', 'y'], 'Ġconsisted': ['Ġc', 'on', 's', 'is', 't', 'ed'], '1822': ['1', '8', '2', '2'], '69': ['6', '9'], 'Ġcal': ['Ġc', 'al'], 'Ġflintlock': ['Ġf', 'l', 'in', 't', 'lo', 'c', 'k'], 'Ġ625': ['Ġ', '6', '2', '5'], 'Ġconverted': ['Ġc', 'on', 'v', 'er', 't', 'ed'], 'Ġ53': ['Ġ', '5', '3'], '1842': ['1', '8', '4', '2'], 'Ġsmoothbore': ['Ġs', 'm', 'o', 'o', 't', 'h', 'b', 'or', 'e'], 'Ġ357': ['Ġ', '3', '5', '7'], '1855': ['1', '8', '5', '5'], '58': ['5', '8'], 'Ġrifle': ['Ġ', 'r', 'i', 'f', 'le'], 'Ġmuskets': ['Ġm', 'u', 's', 'k', 'et', 's'], 'Ġ900': ['Ġ', '9', '0', '0'], '1817': ['1', '8', '1', '7'], 'Ġcommon': ['Ġc', 'om', 'm', 'on'], 'Ġrifles': ['Ġ', 'r', 'i', 'f', 'l', 'es'], 'Ġ125': ['Ġ1', '2', '5'], '1841': ['1', '8', '4', '1'], 'ĠMississippi': ['ĠM', 'is', 's', 'is', 's', 'i', 'p', 'p', 'i'], 'ĠRifle': ['Ġ', 'R', 'i', 'f', 'le'], 'Ġ54': ['Ġ', '5', '4'], '1847': ['1', '8', '4', '7'], 'Ġmusketoon': ['Ġm', 'u', 's', 'k', 'et', 'o', 'on'], 'Ġ2': ['Ġ', '2'], 'ĠHall': ['Ġ', 'H', 'al', 'l'], 'Ġcarbines': ['Ġc', 'ar', 'b', 'in', 'es'], 'Ġ267': ['Ġ', '2', '6', '7'], 'Ġ864': ['Ġ', '8', '6', '4'], 'ĠTotal': ['Ġ', 'T', 'o', 't', 'al'], 'ĠOf': ['Ġ', 'O', 'f'], 'Ġ9600': ['Ġ', '9', '6', '0', '0'], 'Ġserviceable': ['Ġs', 'er', 'v', 'ic', 'e', 'a', 'b', 'le'], 'Ġready': ['Ġre', 'a', 'd', 'y'], 'ĠNote': ['Ġ', 'N', 'o', 't', 'e'], 'Ġ364': ['Ġ', '3', '6', '4'], 'ĠDisposition': ['Ġ', 'D', 'is', 'p', 'o', 's', 'i', 'ti', 'on'], 'Ġsomewhat': ['Ġs', 'om', 'e', 'w', 'h', 'at'], 'Ġsketchy': ['Ġs', 'k', 'et', 'c', 'h', 'y'], 'Ġvarious': ['Ġ', 'v', 'ar', 'i', 'ou', 's'], 'Ġsurmised': ['Ġs', 'ur', 'm', 'is', 'ed'], 'Ġ7': ['Ġ', '7'], 'ĠInfantry': ['Ġ', 'I', 'n', 'f', 'an', 't', 'r', 'y'], 'ĠRegiments': ['Ġ', 'R', 'e', 'g', 'i', 'm', 'ent', 's'], 'Ġmustered': ['Ġm', 'u', 'st', 'er', 'ed'], 'Ġissued': ['Ġ', 'is', 's', 'u', 'ed'], '1816': ['1', '8', '1', '6'], 'Ġ/': ['Ġ', '/'], 'Ġcaliber': ['Ġc', 'al', 'i', 'b', 'er'], 'Ġflintlocks': ['Ġf', 'l', 'in', 't', 'lo', 'c', 'k', 's'], 'Ġ9': ['Ġ', '9'], 'Ġcompanies': ['Ġc', 'om', 'p', 'an', 'i', 'es'], 'ĠKelly': ['Ġ', 'K', 'el', 'ly'], 'ĠBattalion': ['Ġ', 'B', 'at', 't', 'al', 'ion'], 'rd': ['r', 'd'], 'ĠCavalry': ['ĠC', 'a', 'v', 'al', 'r', 'y'], 'ĠRegiment': ['Ġ', 'R', 'e', 'g', 'i', 'm', 'ent'], 'ĠRifles': ['Ġ', 'R', 'i', 'f', 'l', 'es'], 'Ġcomprising': ['Ġc', 'om', 'p', 'r', 'is', 'ing'], 'Ġinfantry': ['Ġin', 'f', 'an', 't', 'r', 'y'], 'ĠVan': ['Ġ', 'V', 'an'], 'ĠDorn': ['Ġ', 'D', 'or', 'n'], 'ĠWest': ['Ġ', 'W', 'es', 't'], 'st': ['st'], 'ĠMounted': ['ĠM', 'ou', 'n', 't', 'ed'], 'Ġ11': ['Ġ1', '1'], 'Ġ12': ['Ġ1', '2'], 'Ġsupply': ['Ġs', 'u', 'p', 'p', 'ly'], 'Ġalmost': ['Ġ', 'al', 'm', 'o', 'st'], 'Ġcompletely': ['Ġc', 'om', 'p', 'le', 't', 'el', 'y'], 'Ġexhausted': ['Ġe', 'x', 'h', 'a', 'u', 'st', 'ed'], 'Ġold': ['Ġ', 'o', 'l', 'd'], 'Ġjunker': ['Ġ', 'j', 'u', 'n', 'k', 'er'], 'Ġequipment': ['Ġe', 'q', 'u', 'i', 'p', 'm', 'ent'], 'Ġmachinery': ['Ġm', 'ac', 'h', 'in', 'er', 'y'], 'Ġeast': ['Ġe', 'as', 't'], 'ĠRiver': ['Ġ', 'R', 'i', 'v', 'er'], 'ĠMaj': ['ĠM', 'a', 'j'], 'ĠGen': ['Ġ', 'G', 'en'], 'ĠEarl': ['Ġ', 'E', 'ar', 'l'], 'Ġ1862': ['Ġ1', '8', '6', '2'], 'Ġaccountability': ['Ġa', 'c', 'c', 'ou', 'n', 't', 'a', 'b', 'il', 'it', 'y'], 'Ġlost': ['Ġ', 'lo', 'st'], 'Ġriver': ['Ġ', 'r', 'i', 'v', 'er'], 'ĠNapoleon': ['Ġ', 'N', 'a', 'p', 'o', 'le', 'on'], 'ĠJackson': ['Ġ', 'J', 'ac', 'k', 's', 'on'], 'Ġprobably': ['Ġp', 'ro', 'b', 'a', 'b', 'ly'], 'ĠVicksburg': ['Ġ', 'V', 'ic', 'k', 's', 'b', 'ur', 'g'], 'Ġcampaign': ['Ġc', 'a', 'm', 'p', 'a', 'i', 'g', 'n'], 'Ġ1863': ['Ġ1', '8', '6', '3'], 'ĠThomas': ['Ġ', 'T', 'h', 'om', 'as'], 'ĠC': ['ĠC'], 'Ġdistrict': ['Ġd', 'is', 't', 'r', 'ic', 't'], 'Ġnearly': ['Ġ', 'n', 'e', 'ar', 'ly'], 'Ġdestitute': ['Ġd', 'es', 'ti', 't', 'u', 't', 'e'], 'Ġanother': ['Ġ', 'an', 'o', 't', 'h', 'er'], 'Ġarmory': ['Ġ', 'ar', 'm', 'or', 'y'], 'ĠArkadelphia': ['ĠA', 'r', 'k', 'a', 'd', 'el', 'p', 'h', 'i', 'a'], 'Ġrevived': ['Ġre', 'v', 'i', 'v', 'ed'], 'Ġcollection': ['Ġc', 'o', 'l', 'le', 'c', 'ti', 'on'], 'Ġarmaments': ['Ġ', 'ar', 'm', 'a', 'm', 'ent', 's'], 'Ġsmall': ['Ġs', 'm', 'al', 'l'], 'ĠMachinery': ['ĠM', 'ac', 'h', 'in', 'er', 'y'], 'Ġmanufacturing': ['Ġm', 'an', 'u', 'f', 'ac', 't', 'ur', 'ing'], 'Ġturned': ['Ġt', 'ur', 'n', 'ed'], 'Ġquantity': ['Ġ', 'q', 'u', 'an', 'ti', 't', 'y'], 'Ġexcellent': ['Ġe', 'x', 'c', 'el', 'l', 'ent'], 'ĠLead': ['Ġ', 'L', 'e', 'a', 'd'], 'Ġmines': ['Ġm', 'in', 'es'], 'Ġopened': ['Ġ', 'o', 'p', 'en', 'ed'], 'Ġchemical': ['Ġc', 'h', 'e', 'm', 'ic', 'al'], 'Ġlaboratory': ['Ġ', 'l', 'a', 'b', 'or', 'at', 'or', 'y'], 'Ġsuccessfully': ['Ġs', 'u', 'c', 'c', 'es', 's', 'f', 'u', 'l', 'ly'], 'Ġoperated': ['Ġ', 'o', 'p', 'er', 'at', 'ed'], 'Ġaid': ['Ġa', 'i', 'd'], 'ĠOrdnance': ['Ġ', 'O', 'r', 'd', 'n', 'an', 'c', 'e'], 'ĠDepartment': ['Ġ', 'D', 'e', 'p', 'ar', 't', 'm', 'ent'], 'Ġcalomel': ['Ġc', 'al', 'om', 'el'], 'Ġcastor': ['Ġc', 'as', 't', 'or'], 'Ġoil': ['Ġ', 'o', 'il'], 'Ġspirits': ['Ġs', 'p', 'i', 'r', 'it', 's'], 'Ġnitre': ['Ġ', 'n', 'it', 're'], 'Ġtinctures': ['Ġt', 'in', 'c', 't', 'ur', 'es'], 'Ġiron': ['Ġ', 'i', 'r', 'on'], 'Ġvaluable': ['Ġ', 'v', 'al', 'u', 'a', 'b', 'le'], 'Ġmedicines': ['Ġm', 'ed', 'ic', 'in', 'es'], 'Ġnear': ['Ġ', 'n', 'e', 'ar'], 'ĠOuachita': ['Ġ', 'O', 'u', 'ac', 'h', 'it', 'a'], 'Ġ75': ['Ġ', '7', '5'], 'Ġmiles': ['Ġm', 'il', 'es'], 'Ġsouth': ['Ġs', 'ou', 't', 'h'], 'Ġtools': ['Ġt', 'o', 'o', 'l', 's'], 'Ġgathered': ['Ġ', 'g', 'at', 'h', 'er', 'ed'], 'Ġpiecemeal': ['Ġp', 'i', 'ec', 'e', 'm', 'e', 'al'], 'Ġelse': ['Ġ', 'el', 's', 'e'], 'Ġlabor': ['Ġ', 'l', 'a', 'b', 'or'], 'ĠNothing': ['Ġ', 'N', 'o', 't', 'h', 'ing'], 'Ġsort': ['Ġs', 'or', 't'], 'Ġattempted': ['Ġ', 'at', 't', 'e', 'm', 'p', 't', 'ed'], 'Ġaccount': ['Ġa', 'c', 'c', 'ou', 'n', 't'], 'Ġknowledge': ['Ġ', 'k', 'n', 'o', 'w', 'l', 'ed', 'g', 'e'], 'Ġtaken': ['Ġt', 'a', 'k', 'en'], 'Ġneither': ['Ġ', 'n', 'e', 'it', 'h', 'er'], 'Ġsufficient': ['Ġs', 'u', 'f', 'f', 'ic', 'i', 'ent'], 'Ġenterprise': ['Ġ', 'ent', 'er', 'p', 'r', 'is', 'e'], 'Ġamong': ['Ġa', 'm', 'on', 'g'], 'Ġengage': ['Ġ', 'en', 'g', 'a', 'g', 'e'], 'Ġundertakings': ['Ġ', 'u', 'n', 'd', 'er', 't', 'a', 'k', 'ing', 's'], 'Ġï¿½': ['Ġ', 'ï', '¿', '½'], 'Ġfurther': ['Ġf', 'ur', 't', 'h', 'er'], 'Ġlead': ['Ġ', 'le', 'a', 'd'], 'Ġprocured': ['Ġp', 'ro', 'c', 'ur', 'ed'], 'Ġvicinity': ['Ġ', 'v', 'ic', 'in', 'it', 'y'], 'Ġdonation': ['Ġd', 'on', 'at', 'ion'], 'Ġpurchases': ['Ġp', 'ur', 'c', 'h', 'as', 'es'], 'Ġimpressments': ['Ġ', 'i', 'm', 'p', 'r', 'es', 's', 'm', 'ent', 's'], 'Ġbrought': ['Ġb', 'r', 'ou', 'g', 'h', 't'], 'Ġrapidly': ['Ġ', 'ra', 'p', 'i', 'd', 'ly'], 'Ġprepared': ['Ġp', 're', 'p', 'ar', 'ed'], 'ĠLaboratory': ['Ġ', 'L', 'a', 'b', 'or', 'at', 'or', 'y'], 'Ġillustrating': ['Ġ', 'il', 'l', 'u', 'st', 'r', 'at', 'ing'], 'Ġpitiful': ['Ġp', 'i', 'ti', 'f', 'u', 'l'], 'Ġscarcity': ['Ġs', 'c', 'ar', 'c', 'it', 'y'], 'Ġcountry': ['Ġc', 'ou', 'n', 't', 'r', 'y'], 'Ġmay': ['Ġm', 'a', 'y'], 'Ġdocuments': ['Ġd', 'o', 'c', 'u', 'm', 'ent', 's'], 'ĠLibrary': ['Ġ', 'L', 'i', 'b', 'r', 'ar', 'y'], 'Ġcartridge': ['Ġc', 'ar', 't', 'r', 'i', 'd', 'g', 'e'], 'Ġpaper': ['Ġp', 'a', 'p', 'er'], 'ĠGunsmiths': ['Ġ', 'G', 'u', 'n', 's', 'm', 'it', 'h', 's'], 'Ġemployed': ['Ġe', 'm', 'p', 'lo', 'y', 'ed'], 'Ġconscripted': ['Ġc', 'on', 's', 'c', 'r', 'i', 'p', 't', 'ed'], 'Ġpurchased': ['Ġp', 'ur', 'c', 'h', 'as', 'ed'], 'Ġimpressed': ['Ġ', 'i', 'm', 'p', 'r', 'es', 's', 'ed'], 'Ġrepair': ['Ġre', 'p', 'a', 'i', 'r'], 'Ġguns': ['Ġ', 'g', 'u', 'n', 's'], 'Ġequal': ['Ġe', 'q', 'u', 'al'], 'Ġcommenced': ['Ġc', 'om', 'm', 'en', 'c', 'ed'], 'Ġinspecting': ['Ġin', 's', 'p', 'ec', 't', 'ing'], 'Ġobserving': ['Ġ', 'o', 'b', 's', 'er', 'v', 'ing'], 'Ġspirit': ['Ġs', 'p', 'i', 'r', 'it'], 'Ġstrong': ['Ġs', 't', 'r', 'on', 'g'], 'ĠFitch': ['Ġ', 'F', 'it', 'c', 'h'], 'Ġremainder': ['Ġre', 'm', 'a', 'in', 'd', 'er'], 'Ġ1500': ['Ġ1', '5', '0', '0'], 'l': ['l'], 'ĠRust': ['Ġ', 'R', 'u', 'st'], 'Ġsoon': ['Ġs', 'o', 'on'], 'Ġshotguns': ['Ġs', 'h', 'o', 't', 'g', 'u', 'n', 's'], 'Ġobtained': ['Ġ', 'o', 'b', 't', 'a', 'in', 'ed'], 'Ġpikes': ['Ġp', 'i', 'k', 'es'], 'Ġlances': ['Ġ', 'l', 'an', 'c', 'es'], 'Ġdays': ['Ġd', 'a', 'y', 's'], 'Ġelapsed': ['Ġ', 'el', 'a', 'p', 's', 'ed'], 'Ġchange': ['Ġc', 'h', 'an', 'g', 'e'], 'Ġeffected': ['Ġe', 'f', 'f', 'ec', 't', 'ed'], 'ĠConfederate': ['ĠC', 'on', 'f', 'ed', 'er', 'at', 'e'], 'Ġestablishment': ['Ġ', 'es', 't', 'a', 'b', 'l', 'is', 'h', 'm', 'ent'], 'Ġreactivated': ['Ġre', 'ac', 'ti', 'v', 'at', 'ed'], 'ĠLooking': ['Ġ', 'L', 'o', 'o', 'k', 'ing'], 'Ġsuitable': ['Ġs', 'u', 'it', 'a', 'b', 'le'], 'Ġactivity': ['Ġa', 'c', 'ti', 'v', 'it', 'y'], 'ĠNavy': ['Ġ', 'N', 'a', 'v', 'y'], 'Ġborrowed': ['Ġb', 'or', 'ro', 'w', 'ed'], 'ĠLieutenant': ['Ġ', 'L', 'i', 'e', 'u', 't', 'en', 'an', 't'], 'ĠW': ['Ġ', 'W'], 'ĠDunnington': ['Ġ', 'D', 'u', 'n', 'n', 'ing', 't', 'on'], 'ĠLt': ['Ġ', 'L', 't'], 'Ġgunboat': ['Ġ', 'g', 'u', 'n', 'b', 'o', 'at'], 'ĠPonchartrain': ['ĠP', 'on', 'c', 'h', 'ar', 't', 'ra', 'in'], 'Ġhopes': ['Ġh', 'o', 'p', 'es'], 'Ġconverting': ['Ġc', 'on', 'v', 'er', 't', 'ing'], 'Ġironclad': ['Ġ', 'i', 'r', 'on', 'c', 'l', 'a', 'd'], 'Ġdraw': ['Ġd', 'ra', 'w'], 'Ġpay': ['Ġp', 'a', 'y'], 'Ġplaced': ['Ġp', 'l', 'ac', 'ed'], 'Ġactivities': ['Ġa', 'c', 'ti', 'v', 'i', 'ti', 'es'], 'Ġincluded': ['Ġin', 'c', 'l', 'u', 'd', 'ed'], 'Ġartillery': ['Ġ', 'ar', 'ti', 'l', 'l', 'er', 'y'], 'Ġfunctions': ['Ġf', 'u', 'n', 'c', 'ti', 'on', 's'], 'Ġrank': ['Ġ', 'r', 'an', 'k'], 'Ġlieutenant': ['Ġ', 'l', 'i', 'e', 'u', 't', 'en', 'an', 't'], 'Ġcolonel': ['Ġc', 'o', 'l', 'on', 'el'], 'ĠCol': ['ĠC', 'o', 'l'], 'ĠReturns': ['Ġ', 'R', 'et', 'ur', 'n', 's'], 'Ġmonth': ['Ġm', 'on', 't', 'h'], 'A': ['A'], 'ĠVol': ['Ġ', 'V', 'o', 'l'], 'Ġ149': ['Ġ1', '4', '9'], 'ĠChapter': ['ĠC', 'h', 'a', 'p', 't', 'er'], 'ĠIV': ['Ġ', 'I', 'V'], 'ĠCaptured': ['ĠC', 'a', 'p', 't', 'ur', 'ed'], 'ĠRebel': ['Ġ', 'R', 'e', 'b', 'el'], 'ĠRecords': ['Ġ', 'R', 'ec', 'or', 'd', 's'], 'Ġenlightening': ['Ġ', 'en', 'l', 'i', 'g', 'h', 't', 'en', 'ing'], 'Ġscope': ['Ġs', 'c', 'o', 'p', 'e'], 'Ġcrucial': ['Ġc', 'r', 'u', 'c', 'i', 'al'], 'ĠPost': ['ĠP', 'o', 'st'], 'Ġpersons': ['Ġp', 'ers', 'on', 's'], 'Ġshops': ['Ġs', 'h', 'o', 'p', 's'], 'Ġopen': ['Ġ', 'o', 'p', 'en'], 'Ġfabricating': ['Ġf', 'a', 'b', 'r', 'ic', 'at', 'ing'], 'ĠMaterial': ['ĠM', 'at', 'er', 'i', 'al'], 'Ġetc': ['Ġe', 't', 'c'], 'Ġemployment': ['Ġe', 'm', 'p', 'lo', 'y', 'm', 'ent'], 'Ġlaborers': ['Ġ', 'l', 'a', 'b', 'or', 'ers'], 'ĠLockman': ['Ġ', 'L', 'o', 'c', 'k', 'm', 'an'], 'C': ['C'], 'ĠGreen': ['Ġ', 'G', 're', 'en'], 'W': ['W'], 'ĠMurphy': ['ĠM', 'ur', 'p', 'h', 'y'], 'Ġ20': ['Ġ', '2', '0'], 'Ġenlisted': ['Ġ', 'en', 'l', 'is', 't', 'ed'], 'Ġforeman': ['Ġf', 'or', 'e', 'm', 'an'], 'Ġclerks': ['Ġc', 'l', 'er', 'k', 's'], 'Ġgunsmiths': ['Ġ', 'g', 'u', 'n', 's', 'm', 'it', 'h', 's'], 'Ġrepairing': ['Ġre', 'p', 'a', 'i', 'r', 'ing'], 'Ġlaboratorian': ['Ġ', 'l', 'a', 'b', 'or', 'at', 'or', 'i', 'an'], 'Ġ26': ['Ġ', '2', '6'], 'Ġcarpenter': ['Ġc', 'ar', 'p', 'ent', 'er'], 'Ġpacking': ['Ġp', 'ac', 'k', 'ing'], 'Ġboxes': ['Ġb', 'o', 'x', 'es'], 'Ġperformed': ['Ġp', 'er', 'f', 'or', 'm', 'ed'], 'ĠFabricated': ['Ġ', 'F', 'a', 'b', 'r', 'ic', 'at', 'ed'], 'Ġpair': ['Ġp', 'a', 'i', 'r'], 'Ġbullet': ['Ġb', 'u', 'l', 'le', 't'], 'Ġmoulds': ['Ġm', 'ou', 'l', 'd', 's'], 'Ġbuck': ['Ġb', 'u', 'c', 'k'], 'Ġ&': ['Ġ', '&'], 'Ġball': ['Ġb', 'al', 'l'], 'Ġshot': ['Ġs', 'h', 'o', 't'], 'Ġrepaired': ['Ġre', 'p', 'a', 'i', 'r', 'ed'], 'Ġ750': ['Ġ', '7', '5', '0'], 'Ġordnances': ['Ġ', 'or', 'd', 'n', 'an', 'c', 'es'], 'Ġguard': ['Ġ', 'g', 'u', 'ar', 'd'], 'Ġoffice': ['Ġ', 'o', 'f', 'f', 'ic', 'e'], 'Ġpolice': ['Ġp', 'o', 'l', 'ic', 'e'], 'Ġduties': ['Ġd', 'u', 'ti', 'es'], 'Ġinspected': ['Ġin', 's', 'p', 'ec', 't', 'ed'], 'ĠPosts': ['ĠP', 'o', 'st', 's'], 'Ġbuild': ['Ġb', 'u', 'il', 'd'], 'ĠSanford': ['ĠS', 'an', 'f', 'or', 'd'], 'ĠFaulkner': ['Ġ', 'F', 'a', 'u', 'l', 'k', 'n', 'er'], 'ĠTraveler': ['Ġ', 'T', 'ra', 'v', 'el', 'er'], 'Ġpresumably': ['Ġp', 'r', 'es', 'u', 'm', 'a', 'b', 'ly'], 'Ġnaval': ['Ġ', 'n', 'a', 'v', 'al'], 'ĠSummary': ['ĠS', 'u', 'm', 'm', 'ar', 'y'], 'ĠDone': ['Ġ', 'D', 'on', 'e'], 'Ġshows': ['Ġs', 'h', 'o', 'w', 's'], 'ĠFabrication': ['Ġ', 'F', 'a', 'b', 'r', 'ic', 'at', 'ion'], 'Ġflint': ['Ġf', 'l', 'in', 't'], 'Ġ275': ['Ġ', '2', '7', '5'], 'Ġfuzes': ['Ġf', 'u', 'z', 'es'], 'Ġ117': ['Ġ1', '1', '7'], 'Ġrounds': ['Ġ', 'r', 'ou', 'n', 'd', 's'], 'Ġpounder': ['Ġp', 'ou', 'n', 'd', 'er'], 'Ġcanister': ['Ġc', 'an', 'is', 't', 'er'], 'Ġ130': ['Ġ1', '3', '0'], 'Ġ96': ['Ġ', '9', '6'], 'ĠRepaired': ['Ġ', 'R', 'e', 'p', 'a', 'i', 'r', 'ed'], 'Ġ236': ['Ġ', '2', '3', '6'], 'Ġservice': ['Ġs', 'er', 'v', 'ic', 'e'], 'Ġpistols': ['Ġp', 'is', 't', 'o', 'l', 's'], 'ĠReceived': ['Ġ', 'R', 'ec', 'e', 'i', 'v', 'ed'], 'ĠIssued': ['Ġ', 'I', 's', 's', 'u', 'ed'], 'Ġ752': ['Ġ', '7', '5', '2'], 'Ġpackages': ['Ġp', 'ac', 'k', 'a', 'g', 'es'], 'Ġpainted': ['Ġp', 'a', 'in', 't', 'ed'], 'Ġgun': ['Ġ', 'g', 'u', 'n'], 'Ġcarriages': ['Ġc', 'ar', 'r', 'i', 'a', 'g', 'es'], 'ĠPerformed': ['ĠP', 'er', 'f', 'or', 'm', 'ed'], 'ĠGuard': ['Ġ', 'G', 'u', 'ar', 'd'], 'Ġilluminating': ['Ġ', 'il', 'l', 'u', 'm', 'in', 'at', 'ing'], 'Ġabove': ['Ġa', 'b', 'o', 'v', 'e'], 'Ġmonths': ['Ġm', 'on', 't', 'h', 's'], 'Ġindicating': ['Ġin', 'd', 'ic', 'at', 'ing'], 'Ġsmoothbores': ['Ġs', 'm', 'o', 'o', 't', 'h', 'b', 'or', 'es'], 'Ġremained': ['Ġre', 'm', 'a', 'in', 'ed'], 'Ġpredominant': ['Ġp', 'r', 'ed', 'om', 'in', 'an', 't'], 'Ġsixth': ['Ġs', 'i', 'x', 't', 'h'], 'Ġless': ['Ġ', 'l', 'es', 's'], 'Ġobsolete': ['Ġ', 'o', 'b', 's', 'o', 'le', 't', 'e'], 'ĠSummaries': ['ĠS', 'u', 'm', 'm', 'ar', 'i', 'es'], 'Ġcontinue': ['Ġc', 'on', 't', 'in', 'u', 'e'], 'Ġpace': ['Ġp', 'ac', 'e'], 'Ġscale': ['Ġs', 'c', 'al', 'e'], 'ĠAppended': ['ĠA', 'p', 'p', 'en', 'd', 'ed'], 'Ġominous': ['Ġ', 'om', 'in', 'ou', 's'], 'Ġnotation': ['Ġ', 'n', 'o', 't', 'at', 'ion'], 'Ġweek': ['Ġw', 'e', 'e', 'k'], 'Ġpacked': ['Ġp', 'ac', 'k', 'ed'], 'Ġobedience': ['Ġ', 'o', 'b', 'ed', 'i', 'en', 'c', 'e'], 'ĠChief': ['ĠC', 'h', 'i', 'e', 'f'], 'ĠDistrict': ['Ġ', 'D', 'is', 't', 'r', 'ic', 't'], 'Ġmarks': ['Ġm', 'ar', 'k', 's'], 'Ġevacuation': ['Ġe', 'v', 'ac', 'u', 'at', 'ion'], 'Ġsurrendered': ['Ġs', 'ur', 'r', 'en', 'd', 'er', 'ed'], 'Ġadvancing': ['Ġa', 'd', 'v', 'an', 'c', 'ing'], 'ĠFrederick': ['Ġ', 'F', 'r', 'ed', 'er', 'ic', 'k'], 'ĠSteele': ['ĠS', 't', 'e', 'el', 'e'], 'Ġ1864': ['Ġ1', '8', '6', '4'], 'ĠUnion': ['Ġ', 'U', 'n', 'ion'], 'Ġrecaptured': ['Ġre', 'c', 'a', 'p', 't', 'ur', 'ed'], 'ĠFredrick': ['Ġ', 'F', 'r', 'ed', 'r', 'ic', 'k'], 'Ġbriefly': ['Ġb', 'r', 'i', 'e', 'f', 'ly'], 'Ġseized': ['Ġs', 'e', 'i', 'z', 'ed'], 'ĠJoseph': ['Ġ', 'J', 'o', 's', 'e', 'p', 'h'], 'ĠBrooks': ['Ġ', 'B', 'ro', 'o', 'k', 's'], 'Ġloyalists': ['Ġ', 'lo', 'y', 'al', 'is', 't', 's'], 'ĠBaxter': ['Ġ', 'B', 'a', 'x', 't', 'er'], 'Ġ1874': ['Ġ1', '8', '7', '4'], 'ĠDecommissioning': ['Ġ', 'D', 'ec', 'om', 'm', 'is', 's', 'ion', 'ing'], 'Ġ1873': ['Ġ1', '8', '7', '3'], 'Ġrenamed': ['Ġ', 'r', 'en', 'a', 'm', 'ed'], 'ĠBarracks': ['Ġ', 'B', 'ar', 'r', 'ac', 'k', 's'], 'Ġbarracks': ['Ġb', 'ar', 'r', 'ac', 'k', 's'], 'Ġmarried': ['Ġm', 'ar', 'r', 'i', 'ed'], 'Ġfamilies': ['Ġf', 'a', 'm', 'il', 'i', 'es'], 'Ġdrastically': ['Ġd', 'r', 'as', 'ti', 'c', 'al', 'ly'], 'Ġaltered': ['Ġ', 'al', 't', 'er', 'ed'], 'Ġinside': ['Ġin', 's', 'i', 'd', 'e'], 'ĠPrior': ['ĠP', 'r', 'i', 'or'], 'Ġrenovation': ['Ġ', 'r', 'en', 'o', 'v', 'at', 'ion'], 'Ġrear': ['Ġre', 'ar'], 'Ġbasement': ['Ġb', 'as', 'e', 'm', 'ent'], 'Ġdoor': ['Ġd', 'o', 'or'], 'Ġentrance': ['Ġ', 'ent', 'r', 'an', 'c', 'e'], 'Ġhoist': ['Ġh', 'o', 'is', 't'], 'Ġfloors': ['Ġf', 'lo', 'or', 's'], 'Ġ1868': ['Ġ1', '8', '6', '8'], 'Ġfront': ['Ġf', 'r', 'on', 't'], 'Ġporches': ['Ġp', 'or', 'c', 'h', 'es'], 'Ġadded': ['Ġa', 'd', 'd', 'ed'], 'Ġinterior': ['Ġin', 't', 'er', 'i', 'or'], 'Ġstairs': ['Ġs', 't', 'a', 'i', 'r', 's'], 'Ġtoday': ['Ġt', 'o', 'd', 'a', 'y'], 'Ġincluding': ['Ġin', 'c', 'l', 'u', 'd', 'ing'], 'Ġstaircase': ['Ġs', 't', 'a', 'i', 'r', 'c', 'as', 'e'], 'Ġ1880': ['Ġ1', '8', '8', '0'], 'Ġborn': ['Ġb', 'or', 'n'], 'Ġnorthwest': ['Ġ', 'n', 'or', 't', 'h', 'w', 'es', 't'], 'Ġfloor': ['Ġf', 'lo', 'or'], 'Ġfather': ['Ġf', 'at', 'h', 'er'], 'ĠArthur': ['ĠA', 'r', 't', 'h', 'ur'], 'Ġstationed': ['Ġs', 't', 'at', 'ion', 'ed'], 'Ġclosing': ['Ġc', 'lo', 's', 'ing'], 'Ġarsenals': ['Ġ', 'ar', 's', 'en', 'al', 's'], 'Ġfavor': ['Ġf', 'a', 'v', 'or'], 'Ġsmaller': ['Ġs', 'm', 'al', 'l', 'er'], 'Ġones': ['Ġ', 'on', 'es'], 'Ġrailroads': ['Ġ', 'ra', 'il', 'ro', 'a', 'd', 's'], 'Ġquick': ['Ġ', 'q', 'u', 'ic', 'k'], 'Ġdeployment': ['Ġd', 'e', 'p', 'lo', 'y', 'm', 'ent'], 'Ġword': ['Ġw', 'or', 'd'], 'ĠWashington': ['Ġ', 'W', 'as', 'h', 'ing', 't', 'on'], 'Ġmust': ['Ġm', 'u', 'st'], 'Ġabandoned': ['Ġa', 'b', 'an', 'd', 'on', 'ed'], 'ĠOctober': ['Ġ', 'O', 'c', 't', 'o', 'b', 'er'], 'Ġ1890': ['Ġ1', '8', '9', '0'], 'Ġ1893': ['Ġ1', '8', '9', '3'], 'Ġsurrounding': ['Ġs', 'ur', 'r', 'ou', 'n', 'd', 'ing'], 'Ġtraded': ['Ġt', 'ra', 'd', 'ed'], 'Ġkm': ['Ġ', 'k', 'm'], 'ĠÂ²': ['Ġ', 'Â', '²'], 'ĠNorth': ['Ġ', 'N', 'or', 't', 'h'], 'Ġcondition': ['Ġc', 'on', 'd', 'i', 'ti', 'on'], 'Ġforever': ['Ġf', 'or', 'e', 'v', 'er'], 'Ġexclusively': ['Ġe', 'x', 'c', 'l', 'u', 's', 'i', 'v', 'el', 'y'], 'Ġdevoted': ['Ġd', 'e', 'v', 'o', 't', 'ed'], 'Ġuses': ['Ġ', 'u', 's', 'es'], 'Ġpurposes': ['Ġp', 'ur', 'p', 'o', 's', 'es'], 'Ġpark': ['Ġp', 'ar', 'k'], 'ĠBig': ['Ġ', 'B', 'i', 'g'], 'ĠMountain': ['ĠM', 'ou', 'n', 't', 'a', 'in'], 'Ġnorth': ['Ġ', 'n', 'or', 't', 'h'], 'Ġside': ['Ġs', 'i', 'd', 'e'], 'ĠLogan': ['Ġ', 'L', 'o', 'g', 'an'], 'ĠH': ['Ġ', 'H'], 'ĠRoots': ['Ġ', 'R', 'o', 'o', 't', 's'], 'Ġdemolished': ['Ġd', 'e', 'm', 'o', 'l', 'is', 'h', 'ed'], 'Ġwomen': ['Ġw', 'om', 'en'], 'Ġsocieties': ['Ġs', 'o', 'c', 'i', 'e', 'ti', 'es'], 'Ġmoved': ['Ġm', 'o', 'v', 'ed'], 'Ġmembership': ['Ġm', 'e', 'm', 'b', 'ers', 'h', 'i', 'p'], 'Ġlarger': ['Ġ', 'l', 'ar', 'g', 'er'], 'Ġorganizations': ['Ġ', 'or', 'g', 'an', 'i', 'z', 'at', 'ion', 's'], 'Ġraised': ['Ġ', 'ra', 'is', 'ed'], 'Ġmoney': ['Ġm', 'on', 'e', 'y'], 'Ġfurnish': ['Ġf', 'ur', 'n', 'is', 'h'], 'ĠColumbian': ['ĠC', 'o', 'l', 'u', 'm', 'b', 'i', 'an'], 'ĠExposition': ['Ġ', 'E', 'x', 'p', 'o', 's', 'i', 'ti', 'on'], 'ĠChicago': ['ĠC', 'h', 'ic', 'a', 'g', 'o'], 'ĠFair': ['Ġ', 'F', 'a', 'i', 'r'], 'Ġfair': ['Ġf', 'a', 'i', 'r'], 'Ġconclusion': ['Ġc', 'on', 'c', 'l', 'u', 's', 'ion'], 'Ġartifacts': ['Ġ', 'ar', 'ti', 'f', 'ac', 't', 's'], 'Ġexhibit': ['Ġe', 'x', 'h', 'i', 'b', 'it'], 'Ġdisplayed': ['Ġd', 'is', 'p', 'l', 'a', 'y', 'ed'], 'Ġinvited': ['Ġin', 'v', 'it', 'ed'], 'Ġmeet': ['Ġm', 'e', 'et'], 'ĠRoom': ['Ġ', 'R', 'o', 'om'], 'ĠExcept': ['Ġ', 'E', 'x', 'c', 'e', 'p', 't'], 'Ġmeetings': ['Ġm', 'e', 'et', 'ing', 's'], 'Ġlargely': ['Ġ', 'l', 'ar', 'g', 'el', 'y'], 'Ġunoccupied': ['Ġ', 'u', 'n', 'o', 'c', 'c', 'u', 'p', 'i', 'ed'], 'Ġfifty': ['Ġf', 'i', 'f', 't', 'y'], 'Ġsuffered': ['Ġs', 'u', 'f', 'f', 'er', 'ed'], 'Ġsignificant': ['Ġs', 'i', 'g', 'n', 'i', 'f', 'ic', 'an', 't'], 'Ġdeterioration': ['Ġd', 'et', 'er', 'i', 'or', 'at', 'ion'], 'Ġfinancial': ['Ġf', 'in', 'an', 'c', 'i', 'al'], 'Ġeven': ['Ġe', 'v', 'en'], 'Ġpaid': ['Ġp', 'a', 'i', 'd'], 'Ġelectric': ['Ġ', 'el', 'ec', 't', 'r', 'ic'], 'Ġbill': ['Ġb', 'il', 'l'], 'ĠGreat': ['Ġ', 'G', 're', 'at'], 'ĠDepression': ['Ġ', 'D', 'e', 'p', 'r', 'es', 's', 'ion'], 'Ġheadquartered': ['Ġh', 'e', 'a', 'd', 'q', 'u', 'ar', 't', 'er', 'ed'], 'ĠPublic': ['ĠP', 'u', 'b', 'l', 'ic'], 'Ġcentury': ['Ġc', 'ent', 'ur', 'y'], 'ĠVeterans': ['Ġ', 'V', 'et', 'er', 'an', 's'], 'ĠReunion': ['Ġ', 'R', 'e', 'u', 'n', 'ion'], 'ĠâĢĵ': ['Ġ', 'â', 'Ģ', 'ĵ'], 'Ġ1911': ['Ġ1', '9', '1', '1'], 'ĠOver': ['Ġ', 'O', 'v', 'er'], 'Ġ106': ['Ġ1', '0', '6'], 'Ġveterans': ['Ġ', 'v', 'et', 'er', 'an', 's'], 'Ġlargest': ['Ġ', 'l', 'ar', 'g', 'es', 't'], 'Ġgathering': ['Ġ', 'g', 'at', 'h', 'er', 'ing'], 'Ġhistory': ['Ġh', 'is', 't', 'or', 'y'], 'Ġattended': ['Ġ', 'at', 't', 'en', 'd', 'ed'], 'Ġcamped': ['Ġc', 'a', 'm', 'p', 'ed'], 'Ġcamping': ['Ġc', 'a', 'm', 'p', 'ing'], 'Ġarea': ['Ġ', 'ar', 'e', 'a'], 'ĠLater': ['Ġ', 'L', 'at', 'er'], 'ĠNational': ['Ġ', 'N', 'at', 'ion', 'al'], 'Ġ1912': ['Ġ1', '9', '1', '2'], 'Ġlibrary': ['Ġ', 'l', 'i', 'b', 'r', 'ar', 'y'], 'Ġ1917': ['Ġ1', '9', '1', '7'], 'Ġstation': ['Ġs', 't', 'at', 'ion'], 'Ġnow': ['Ġ', 'n', 'o', 'w'], 'Ġgone': ['Ġ', 'g', 'on', 'e'], 'Ġband': ['Ġb', 'an', 'd'], 'Ġshell': ['Ġs', 'h', 'el', 'l'], 'ĠFoster': ['Ġ', 'F', 'o', 'st', 'er'], 'Ġlonger': ['Ġ', 'l', 'on', 'g', 'er'], 'Ġexists': ['Ġe', 'x', 'is', 't', 's'], 'Ġ1936': ['Ġ1', '9', '3', '6'], 'ĠWorks': ['Ġ', 'W', 'or', 'k', 's'], 'ĠProgress': ['ĠP', 'ro', 'g', 'r', 'es', 's'], 'ĠAdministration': ['ĠA', 'd', 'm', 'in', 'is', 't', 'r', 'at', 'ion'], 'ĠFine': ['Ġ', 'F', 'in', 'e'], 'ĠArts': ['ĠA', 'r', 't', 's'], 'ĠCenter': ['ĠC', 'ent', 'er'], 'ĠRegister': ['Ġ', 'R', 'e', 'g', 'is', 't', 'er'], 'ĠHistoric': ['Ġ', 'H', 'is', 't', 'or', 'ic'], 'ĠPlaces': ['ĠP', 'l', 'ac', 'es'], 'Ġ1970': ['Ġ1', '9', '7', '0'], 'Ġassociation': ['Ġa', 's', 's', 'o', 'c', 'i', 'at', 'ion'], 'ĠSites': ['ĠS', 'it', 'es'], 'ĠLandmark': ['Ġ', 'L', 'an', 'd', 'm', 'ar', 'k'], 'Ġdesignated': ['Ġd', 'es', 'i', 'g', 'n', 'at', 'ed'], 'Ġ1994': ['Ġ1', '9', '9', '4'], 'Ġrenovated': ['Ġ', 'r', 'en', 'o', 'v', 'at', 'ed'], 'Ġphilanthropist': ['Ġp', 'h', 'il', 'an', 't', 'h', 'ro', 'p', 'is', 't'], 'ĠAllsop': ['ĠA', 'l', 'l', 's', 'o', 'p'], 'ĠCity': ['ĠC', 'it', 'y'], 'Ġmuseum': ['Ġm', 'u', 's', 'e', 'u', 'm'], 'Ġdecommissioned': ['Ġd', 'ec', 'om', 'm', 'is', 's', 'ion', 'ed'], 'ĠBernie': ['Ġ', 'B', 'er', 'n', 'i', 'e'], 'ĠBabcock': ['Ġ', 'B', 'a', 'b', 'c', 'o', 'c', 'k'], 'Ġfinally': ['Ġf', 'in', 'al', 'ly'], 'Ġhonor': ['Ġh', 'on', 'or'], 'ĠScience': ['ĠS', 'c', 'i', 'en', 'c', 'e'], 'Ġmerged': ['Ġm', 'er', 'g', 'ed'], 'ĠChildren': ['ĠC', 'h', 'il', 'd', 'r', 'en'], 'ĠStation': ['ĠS', 't', 'at', 'ion'], 'ĠDiscovery': ['Ġ', 'D', 'is', 'c', 'o', 'v', 'er', 'y'], 'Ġrelocated': ['Ġre', 'lo', 'c', 'at', 'ed'], 'Ġhistoric': ['Ġh', 'is', 't', 'or', 'ic'], 'ĠMarket': ['ĠM', 'ar', 'k', 'et'], 'Ġ19': ['Ġ1', '9'], 'Ġgoal': ['Ġ', 'g', 'o', 'al'], 'Ġeducate': ['Ġ', 'ed', 'u', 'c', 'at', 'e'], 'Ġinform': ['Ġin', 'f', 'or', 'm'], 'Ġvisitors': ['Ġ', 'v', 'is', 'it', 'or', 's'], 'Ġpreserve': ['Ġp', 'r', 'es', 'er', 'v', 'e'], 'Ġservicemen': ['Ġs', 'er', 'v', 'ic', 'e', 'm', 'en'], 'Ġservicewomen': ['Ġs', 'er', 'v', 'ic', 'e', 'w', 'om', 'en'], 'Ġcommemorate': ['Ġc', 'om', 'm', 'e', 'm', 'or', 'at', 'e'], 'ĠCicely': ['ĠC', 'ic', 'el', 'y'], 'ĠMary': ['ĠM', 'ar', 'y'], 'ĠBarker': ['Ġ', 'B', 'ar', 'k', 'er'], 'Ġ1895': ['Ġ1', '8', '9', '5'], 'Ġ16': ['Ġ1', '6'], 'Ġ1973': ['Ġ1', '9', '7', '3'], 'Ġillustrator': ['Ġ', 'il', 'l', 'u', 'st', 'r', 'at', 'or'], 'Ġillustrations': ['Ġ', 'il', 'l', 'u', 'st', 'r', 'at', 'ion', 's'], 'Ġdepicting': ['Ġd', 'e', 'p', 'ic', 't', 'ing'], 'Ġfairies': ['Ġf', 'a', 'i', 'r', 'i', 'es'], 'Ġflowers': ['Ġf', 'lo', 'w', 'ers'], 'Ġeducation': ['Ġ', 'ed', 'u', 'c', 'at', 'ion'], 'Ġgirlhood': ['Ġ', 'g', 'i', 'r', 'l', 'h', 'o', 'o', 'd'], 'Ġcorrespondence': ['Ġc', 'or', 'r', 'es', 'p', 'on', 'd', 'en', 'c', 'e'], 'Ġcourses': ['Ġc', 'ou', 'r', 's', 'es'], 'Ġinstruction': ['Ġin', 'st', 'r', 'u', 'c', 'ti', 'on'], 'ĠCroydon': ['ĠC', 'ro', 'y', 'd', 'on'], 'ĠSchool': ['ĠS', 'c', 'h', 'o', 'o', 'l'], 'ĠArt': ['ĠA', 'r', 't'], 'ĠHer': ['Ġ', 'H', 'er'], 'Ġearliest': ['Ġe', 'ar', 'l', 'i', 'es', 't'], 'Ġprofessional': ['Ġp', 'ro', 'f', 'es', 's', 'ion', 'al'], 'Ġgreeting': ['Ġ', 'g', 're', 'et', 'ing'], 'Ġcards': ['Ġc', 'ar', 'd', 's'], 'Ġjuvenile': ['Ġ', 'j', 'u', 'v', 'en', 'i', 'le'], 'Ġmagazine': ['Ġm', 'a', 'g', 'a', 'z', 'in', 'e'], 'ĠFairies': ['Ġ', 'F', 'a', 'i', 'r', 'i', 'es'], 'ĠSpring': ['ĠS', 'p', 'r', 'ing'], 'Ġpublished': ['Ġp', 'u', 'b', 'l', 'is', 'h', 'ed'], 'Ġ1923': ['Ġ1', '9', '2', '3'], 'ĠSimilar': ['ĠS', 'i', 'm', 'il', 'ar'], 'Ġbooks': ['Ġb', 'o', 'o', 'k', 's'], 'Ġdecades': ['Ġd', 'ec', 'a', 'd', 'es'], 'Ġdevout': ['Ġd', 'e', 'v', 'ou', 't'], 'ĠAnglican': ['ĠA', 'n', 'g', 'l', 'ic', 'an'], 'Ġdonated': ['Ġd', 'on', 'at', 'ed'], 'Ġartworks': ['Ġ', 'ar', 't', 'w', 'or', 'k', 's'], 'ĠChristian': ['ĠC', 'h', 'r', 'is', 'ti', 'an'], 'Ġfundraisers': ['Ġf', 'u', 'n', 'd', 'ra', 'is', 'ers'], 'Ġmissionary': ['Ġm', 'is', 's', 'ion', 'ar', 'y'], 'ĠShe': ['ĠS', 'h', 'e'], 'Ġfew': ['Ġf', 'e', 'w'], 'Ġthemed': ['Ġt', 'h', 'e', 'm', 'ed'], 'ĠâĢĻ': ['Ġ', 'â', 'Ģ', 'Ļ'], 'Ġs': ['Ġs'], 'ĠBook': ['Ġ', 'B', 'o', 'o', 'k'], 'ĠHymns': ['Ġ', 'H', 'y', 'm', 'n', 's'], 'Ġcollaboration': ['Ġc', 'o', 'l', 'l', 'a', 'b', 'or', 'at', 'ion'], 'Ġsister': ['Ġs', 'is', 't', 'er'], 'ĠDorothy': ['Ġ', 'D', 'or', 'o', 't', 'h', 'y'], 'ĠLeadeth': ['Ġ', 'L', 'e', 'a', 'd', 'et', 'h'], 'ĠMe': ['ĠM', 'e'], 'Ġstained': ['Ġs', 't', 'a', 'in', 'ed'], 'Ġglass': ['Ġ', 'g', 'l', 'as', 's'], 'Ġwindow': ['Ġw', 'in', 'd', 'o', 'w'], 'ĠSt': ['ĠS', 't'], 'ĠEdmund': ['Ġ', 'E', 'd', 'm', 'u', 'n', 'd'], 'ĠChurch': ['ĠC', 'h', 'ur', 'c', 'h'], 'ĠPitlake': ['ĠP', 'it', 'l', 'a', 'k', 'e'], 'Ġpainting': ['Ġp', 'a', 'in', 't', 'ing'], 'ĠChrist': ['ĠC', 'h', 'r', 'is', 't'], 'ĠChild': ['ĠC', 'h', 'il', 'd'], 'ĠDarling': ['Ġ', 'D', 'ar', 'l', 'ing'], 'ĠHas': ['Ġ', 'H', 'as'], 'ĠCome': ['ĠC', 'om', 'e'], 'ĠQueen': ['Ġ', 'Q', 'u', 'e', 'en'], 'Ġequally': ['Ġe', 'q', 'u', 'al', 'ly'], 'Ġproficient': ['Ġp', 'ro', 'f', 'ic', 'i', 'ent'], 'Ġwatercolour': ['Ġw', 'at', 'er', 'c', 'o', 'l', 'ou', 'r'], 'Ġpen': ['Ġp', 'en'], 'Ġink': ['Ġin', 'k'], 'Ġoils': ['Ġ', 'o', 'il', 's'], 'Ġpastels': ['Ġp', 'as', 't', 'el', 's'], 'ĠKate': ['Ġ', 'K', 'at', 'e'], 'ĠGreenaway': ['Ġ', 'G', 're', 'en', 'a', 'w', 'a', 'y'], 'ĠPre': ['ĠP', 're'], 'ĠRaphaelites': ['Ġ', 'R', 'a', 'p', 'h', 'a', 'el', 'it', 'es'], 'Ġprincipal': ['Ġp', 'r', 'in', 'c', 'i', 'p', 'al'], 'Ġinfluences': ['Ġin', 'f', 'l', 'u', 'en', 'c', 'es'], 'Ġclaimed': ['Ġc', 'l', 'a', 'i', 'm', 'ed'], 'Ġpaint': ['Ġp', 'a', 'in', 't'], 'Ġinstinctively': ['Ġin', 'st', 'in', 'c', 'ti', 'v', 'el', 'y'], 'Ġartistic': ['Ġ', 'ar', 'ti', 's', 'ti', 'c'], 'Ġtheories': ['Ġt', 'h', 'e', 'or', 'i', 'es'], 'Ġdied': ['Ġd', 'i', 'ed'], 'ĠThough': ['Ġ', 'T', 'h', 'ou', 'g', 'h'], 'Ġshe': ['Ġs', 'h', 'e'], 'ĠFairy': ['Ġ', 'F', 'a', 'i', 'r', 'y'], 'Ġspring': ['Ġs', 'p', 'r', 'ing'], 'Ġautumn': ['Ġa', 'u', 't', 'u', 'm', 'n'], 'Ġwasn': ['Ġw', 'as', 'n'], 't': ['t'], 'Ġ1985': ['Ġ1', '9', '8', '5'], 'Ġposthumously': ['Ġp', 'o', 'st', 'h', 'u', 'm', 'ou', 's', 'ly'], 'ĠBiography': ['Ġ', 'B', 'i', 'o', 'g', 'ra', 'p', 'h', 'y'], 'ĠEarly': ['Ġ', 'E', 'ar', 'ly'], 'Ġdaughter': ['Ġd', 'a', 'u', 'g', 'h', 't', 'er'], 'Ġyoungest': ['Ġ', 'y', 'ou', 'n', 'g', 'es', 't'], 'Ġchild': ['Ġc', 'h', 'il', 'd'], 'ĠWalter': ['Ġ', 'W', 'al', 't', 'er'], 'Ġpartner': ['Ġp', 'ar', 't', 'n', 'er'], 'Ġseed': ['Ġs', 'e', 'ed'], 'Ġamateur': ['Ġa', 'm', 'at', 'e', 'ur'], 'Ġartist': ['Ġ', 'ar', 'ti', 'st'], 'Ġwife': ['Ġw', 'i', 'f', 'e'], 'ĠEleanor': ['Ġ', 'E', 'le', 'an', 'or'], 'ĠOswald': ['Ġ', 'O', 's', 'w', 'al', 'd'], 'Ġ66': ['Ġ', '6', '6'], 'ĠWaddon': ['Ġ', 'W', 'a', 'd', 'd', 'on'], 'ĠSurrey': ['ĠS', 'ur', 're', 'y'], 'ĠEngland': ['Ġ', 'E', 'n', 'g', 'l', 'an', 'd'], 'Ġepileptic': ['Ġe', 'p', 'i', 'le', 'p', 'ti', 'c'], 'Ġcared': ['Ġc', 'ar', 'ed'], 'Ġparents': ['Ġp', 'ar', 'ent', 's'], 'Ġelder': ['Ġ', 'el', 'd', 'er'], 'Ġcare': ['Ġc', 'ar', 'e'], 'Ġfamily': ['Ġf', 'a', 'm', 'il', 'y'], 'Ġmoderately': ['Ġm', 'o', 'd', 'er', 'at', 'el', 'y'], 'Ġbelonged': ['Ġb', 'el', 'on', 'g', 'ed'], 'Ġmiddle': ['Ġm', 'i', 'd', 'd', 'le'], 'Ġnanny': ['Ġ', 'n', 'an', 'n', 'y'], 'Ġgoverness': ['Ġ', 'g', 'o', 'v', 'er', 'n', 'es', 's'], 'Ġcook': ['Ġc', 'o', 'o', 'k'], 'Ġprepare': ['Ġp', 're', 'p', 'ar', 'e'], 'Ġmeals': ['Ġm', 'e', 'al', 's'], 'Ġhired': ['Ġh', 'i', 'r', 'ed'], 'Ġspent': ['Ġs', 'p', 'ent'], 'Ġbed': ['Ġb', 'ed'], 'Ġamusing': ['Ġa', 'm', 'u', 's', 'ing'], 'Ġherself': ['Ġh', 'ers', 'el', 'f'], 'Ġnursery': ['Ġ', 'n', 'ur', 's', 'er', 'y'], 'ĠRandolph': ['Ġ', 'R', 'an', 'd', 'o', 'l', 'p', 'h'], 'ĠCaldecott': ['ĠC', 'al', 'd', 'ec', 'o', 't', 't'], 'Ġexerted': ['Ġe', 'x', 'er', 't', 'ed'], 'Ġ1919': ['Ġ1', '9', '1', '9'], 'Ġ1908': ['Ġ1', '9', '0', '8'], 'Ġ13': ['Ġ1', '3'], 'Ġentered': ['Ġ', 'ent', 'er', 'ed'], 'Ġevening': ['Ġe', 'v', 'en', 'ing'], 'Ġschool': ['Ġs', 'c', 'h', 'o', 'o', 'l'], 'Ġ1940': ['Ġ1', '9', '4', '0'], 'Ġteaching': ['Ġt', 'e', 'ac', 'h', 'ing'], 'ĠRaphael': ['Ġ', 'R', 'a', 'p', 'h', 'a', 'el'], 'ĠTuck': ['Ġ', 'T', 'u', 'c', 'k'], 'ĠSons': ['ĠS', 'on', 's'], 'Ġbought': ['Ġb', 'ou', 'g', 'h', 't'], 'Ġlittle': ['Ġ', 'l', 'it', 't', 'le'], 'Ġdrawings': ['Ġd', 'ra', 'w', 'ing', 's'], 'Ġsovereign': ['Ġs', 'o', 'v', 'er', 'e', 'i', 'g', 'n'], 'Ġpostcards': ['Ġp', 'o', 'st', 'c', 'ar', 'd', 's'], 'Ġwon': ['Ġw', 'on'], 'Ġprize': ['Ġp', 'r', 'i', 'z', 'e'], 'ĠSociety': ['ĠS', 'o', 'c', 'i', 'et', 'y'], 'Ġposter': ['Ġp', 'o', 'st', 'er'], 'Ġcompetition': ['Ġc', 'om', 'p', 'e', 'ti', 'ti', 'on'], 'Ġafterward': ['Ġa', 'f', 't', 'er', 'w', 'ar', 'd'], 'Ġelected': ['Ġ', 'el', 'ec', 't', 'ed'], 'Ġcritic': ['Ġc', 'r', 'i', 'ti', 'c'], 'ĠAdvertiser': ['ĠA', 'd', 'v', 'er', 'ti', 's', 'er'], 'Ġremarked': ['Ġre', 'm', 'ar', 'k', 'ed'], 'Ġshow': ['Ġs', 'h', 'o', 'w'], 'Ġremarkable': ['Ġre', 'm', 'ar', 'k', 'a', 'b', 'le'], 'Ġfreedom': ['Ġf', 're', 'ed', 'om'], 'Ġpromise': ['Ġp', 'ro', 'm', 'is', 'e'], 'ĠFollowing': ['Ġ', 'F', 'o', 'l', 'lo', 'w', 'ing'], 'Ġdeath': ['Ġd', 'e', 'at', 'h'], 'Ġseventeen': ['Ġs', 'e', 'v', 'ent', 'e', 'en'], 'Ġsubmitted': ['Ġs', 'u', 'b', 'm', 'it', 't', 'ed'], 'Ġpoetry': ['Ġp', 'o', 'et', 'r', 'y'], 'ĠMy': ['ĠM', 'y'], 'ĠOwn': ['Ġ', 'O', 'w', 'n'], 'ĠLeading': ['Ġ', 'L', 'e', 'a', 'd', 'ing'], 'ĠStrings': ['ĠS', 't', 'r', 'ing', 's'], 'Ġannuals': ['Ġ', 'an', 'n', 'u', 'al', 's'], 'Ġmother': ['Ġm', 'o', 't', 'h', 'er'], 'Ġtaught': ['Ġt', 'a', 'u', 'g', 'h', 't'], 'Ġkindergarten': ['Ġ', 'k', 'in', 'd', 'er', 'g', 'ar', 't', 'en'], 'Ġprivate': ['Ġp', 'r', 'i', 'v', 'at', 'e'], 'Ġschools': ['Ġs', 'c', 'h', 'o', 'o', 'l', 's'], 'Ġsupervising': ['Ġs', 'u', 'p', 'er', 'v', 'is', 'ing'], 'Ġhousehold': ['Ġh', 'ou', 's', 'e', 'h', 'o', 'l', 'd'], 'Ġliterature': ['Ġ', 'l', 'it', 'er', 'at', 'u', 're'], 'Ġreleases': ['Ġre', 'le', 'as', 'es'], 'ĠComing': ['ĠC', 'om', 'ing'], 'ĠSir': ['ĠS', 'i', 'r'], 'ĠConan': ['ĠC', 'on', 'an'], 'ĠDoyle': ['Ġ', 'D', 'o', 'y', 'le'], 'ĠPeter': ['ĠP', 'et', 'er'], 'ĠPan': ['ĠP', 'an'], 'ĠJ': ['Ġ', 'J'], 'M': ['M'], 'ĠBarrie': ['Ġ', 'B', 'ar', 'r', 'i', 'e'], 'Ġfairy': ['Ġf', 'a', 'i', 'r', 'y'], 'ĠAustralian': ['ĠA', 'u', 'st', 'r', 'al', 'i', 'an'], 'ĠIda': ['Ġ', 'I', 'd', 'a'], 'ĠRentoul': ['Ġ', 'R', 'ent', 'ou', 'l'], 'ĠOuthwaite': ['Ġ', 'O', 'u', 't', 'h', 'w', 'a', 'it', 'e'], 'Ġsending': ['Ġs', 'en', 'd', 'ing'], 'Ġfriends': ['Ġf', 'r', 'i', 'en', 'd', 's'], 'Ġ1920': ['Ġ1', '9', '2', '0'], 'Ġ1918': ['Ġ1', '9', '1', '8'], 'Ġpostcard': ['Ġp', 'o', 'st', 'c', 'ar', 'd'], 'Ġelves': ['Ġ', 'el', 'v', 'es'], 'Ġflower': ['Ġf', 'lo', 'w', 'er'], 'Ġpaintings': ['Ġp', 'a', 'in', 't', 'ing', 's'], 'Ġpublishers': ['Ġp', 'u', 'b', 'l', 'is', 'h', 'ers'], 'ĠBlackie': ['Ġ', 'B', 'l', 'ac', 'k', 'i', 'e'], 'ĠÂ£': ['Ġ', 'Â', '£'], 'Ġ25': ['Ġ', '2', '5'], 'Ġ24': ['Ġ', '2', '4'], 'Ġaccompanying': ['Ġa', 'c', 'c', 'om', 'p', 'an', 'y', 'ing'], 'Ġverses': ['Ġ', 'v', 'ers', 'es'], 'Ġpublication': ['Ġp', 'u', 'b', 'l', 'ic', 'at', 'ion'], 'ĠSummer': ['ĠS', 'u', 'm', 'm', 'er'], 'Ġ1925': ['Ġ1', '9', '2', '5'], 'Ġroyalties': ['Ġ', 'ro', 'y', 'al', 'ti', 'es'], 'ĠViolet': ['Ġ', 'V', 'i', 'o', 'le', 't'], 'ĠClayton': ['ĠC', 'l', 'a', 'y', 't', 'on'], 'ĠCalthrop': ['ĠC', 'al', 't', 'h', 'ro', 'p'], 'Ġauthor': ['Ġa', 'u', 't', 'h', 'or'], 'ĠDion': ['Ġ', 'D', 'ion'], 'Ġwrote': ['Ġw', 'ro', 't', 'e'], 'Ġexquisite': ['Ġe', 'x', 'q', 'u', 'is', 'it', 'e'], 'Ġtaste': ['Ġt', 'as', 't', 'e'], 'Ġdraughtsmanship': ['Ġd', 'ra', 'u', 'g', 'h', 't', 's', 'm', 'an', 's', 'h', 'i', 'p'], 'ĠWaldrons': ['Ġ', 'W', 'al', 'd', 'r', 'on', 's'], 'Ġ1924': ['Ġ1', '9', '2', '4'], 'Ġlevel': ['Ġ', 'le', 'v', 'el'], 'Ġsemi': ['Ġs', 'e', 'm', 'i'], 'Ġdetached': ['Ġd', 'et', 'ac', 'h', 'ed'], 'ĠVictorian': ['Ġ', 'V', 'ic', 't', 'or', 'i', 'an'], 'Ġstudio': ['Ġs', 't', 'u', 'd', 'i', 'o'], 'Ġgarden': ['Ġ', 'g', 'ar', 'd', 'en'], 'Ġconducted': ['Ġc', 'on', 'd', 'u', 'c', 't', 'ed'], 'Ġroom': ['Ġ', 'ro', 'om'], 'Ġback': ['Ġb', 'ac', 'k'], 'Ġfrugally': ['Ġf', 'r', 'u', 'g', 'al', 'ly'], 'ĠAndrew': ['ĠA', 'n', 'd', 're', 'w'], 'Ġchurches': ['Ġc', 'h', 'ur', 'c', 'h', 'es'], 'Ġprivileged': ['Ġp', 'r', 'i', 'v', 'i', 'le', 'g', 'ed'], 'Ġsometimes': ['Ġs', 'om', 'e', 'ti', 'm', 'es'], 'Ġparishioners': ['Ġp', 'ar', 'is', 'h', 'ion', 'ers'], 'Ġreligious': ['Ġre', 'l', 'i', 'g', 'i', 'ou', 's'], 'Ġdescribed': ['Ġd', 'es', 'c', 'r', 'i', 'b', 'ed'], 'ĠCanon': ['ĠC', 'an', 'on'], 'ĠIngram': ['Ġ', 'I', 'n', 'g', 'ra', 'm'], 'ĠHill': ['Ġ', 'H', 'il', 'l'], 'Ġpillars': ['Ġp', 'il', 'l', 'ar', 's'], 'Ġchildren': ['Ġc', 'h', 'il', 'd', 'r', 'en'], 'Ġmodelled': ['Ġm', 'o', 'd', 'el', 'l', 'ed'], 'Ġclosed': ['Ġc', 'lo', 's', 'ed'], 'Ġ1958': ['Ġ1', '9', '5', '8'], 'Ġran': ['Ġ', 'r', 'an'], 'Ġborrow': ['Ġb', 'or', 'ro', 'w'], 'Ġstudents': ['Ġs', 't', 'u', 'd', 'ent', 's'], 'Ġatmosphere': ['Ġ', 'at', 'm', 'o', 's', 'p', 'h', 'er', 'e'], 'Ġnever': ['Ġ', 'n', 'e', 'v', 'er'], 'Ġforgot': ['Ġf', 'or', 'g', 'o', 't'], 'Ġrelatives': ['Ġre', 'l', 'at', 'i', 'v', 'es'], 'ĠGladys': ['Ġ', 'G', 'l', 'a', 'd', 'y', 's'], 'ĠTidy': ['Ġ', 'T', 'i', 'd', 'y'], 'ĠBarkers': ['Ġ', 'B', 'ar', 'k', 'ers'], 'Ġhousekeeper': ['Ġh', 'ou', 's', 'e', 'k', 'e', 'e', 'p', 'er'], 'Ġposed': ['Ġp', 'o', 's', 'ed'], 'ĠPrimrose': ['ĠP', 'r', 'i', 'm', 'ro', 's', 'e'], 'Ġplants': ['Ġp', 'l', 'an', 't', 's'], 'Ġreadily': ['Ġre', 'a', 'd', 'il', 'y'], 'ĠKew': ['Ġ', 'K', 'e', 'w'], 'ĠGardens': ['Ġ', 'G', 'ar', 'd', 'en', 's'], 'Ġprovide': ['Ġp', 'ro', 'v', 'i', 'd', 'e'], 'Ġspecimens': ['Ġs', 'p', 'ec', 'i', 'm', 'en', 's'], 'Ġcostumes': ['Ġc', 'o', 'st', 'u', 'm', 'es'], 'Ġleaves': ['Ġ', 'le', 'a', 'v', 'es'], 'Ġplant': ['Ġp', 'l', 'an', 't'], 'Ġtrunk': ['Ġt', 'r', 'u', 'n', 'k'], 'Ġwings': ['Ġw', 'ing', 's'], 'Ġtwigs': ['Ġt', 'w', 'i', 'g', 's'], 'Ġgauze': ['Ġ', 'g', 'a', 'u', 'z', 'e'], 'Ġbroken': ['Ġb', 'ro', 'k', 'en'], 'Ġillustration': ['Ġ', 'il', 'l', 'u', 'st', 'r', 'at', 'ion'], 'Ġoften': ['Ġ', 'o', 'f', 't', 'en'], 'ĠCostume': ['ĠC', 'o', 'st', 'u', 'm', 'e'], 'ĠMiddle': ['ĠM', 'i', 'd', 'd', 'le'], 'Ġlate': ['Ġ', 'l', 'at', 'e'], 'Ġdoubt': ['Ġd', 'ou', 'b', 't'], 'Ġdoing': ['Ġd', 'o', 'ing'], 'Ġenough': ['Ġ', 'en', 'ou', 'g', 'h'], 'Ġchurch': ['Ġc', 'h', 'ur', 'c', 'h'], 'Ġfocusing': ['Ġf', 'o', 'c', 'u', 's', 'ing'], 'Ġsolely': ['Ġs', 'o', 'l', 'el', 'y'], 'Ġsacred': ['Ġs', 'ac', 'r', 'ed'], 'ĠFamily': ['Ġ', 'F', 'a', 'm', 'il', 'y'], 'Ġrecommended': ['Ġre', 'c', 'om', 'm', 'en', 'd', 'ed'], 'Ġsecular': ['Ġs', 'ec', 'u', 'l', 'ar'], 'Ġattend': ['Ġ', 'at', 't', 'en', 'd'], 'Ġreceiving': ['Ġre', 'c', 'e', 'i', 'v', 'ing'], 'Ġsketching': ['Ġs', 'k', 'et', 'c', 'h', 'ing'], 'Ġtrips': ['Ġt', 'r', 'i', 'p', 's'], 'ĠAmberley': ['ĠA', 'm', 'b', 'er', 'le', 'y'], 'ĠStorrington': ['ĠS', 't', 'or', 'r', 'ing', 't', 'on'], 'ĠSussex': ['ĠS', 'u', 's', 's', 'e', 'x'], 'ĠCornwall': ['ĠC', 'or', 'n', 'w', 'al', 'l'], 'Ġsouthern': ['Ġs', 'ou', 't', 'h', 'er', 'n'], 'Ġcoast': ['Ġc', 'o', 'as', 't'], 'Ġvisited': ['Ġ', 'v', 'is', 'it', 'ed'], 'ĠMargaret': ['ĠM', 'ar', 'g', 'ar', 'et'], 'ĠTarrant': ['Ġ', 'T', 'ar', 'r', 'an', 't'], 'ĠGomshall': ['Ġ', 'G', 'om', 's', 'h', 'al', 'l'], 'ĠUgglebarnby': ['Ġ', 'U', 'g', 'g', 'le', 'b', 'ar', 'n', 'b', 'y'], 'ĠNear': ['Ġ', 'N', 'e', 'ar'], 'ĠWhitby': ['Ġ', 'W', 'h', 'it', 'b', 'y'], 'ĠYorkshire': ['Ġ', 'Y', 'or', 'k', 's', 'h', 'i', 're'], 'Ġmaid': ['Ġm', 'a', 'i', 'd'], 'Ġretired': ['Ġre', 'ti', 'r', 'ed'], 'Ġsupervise': ['Ġs', 'u', 'p', 'er', 'v', 'is', 'e'], 'Ġgive': ['Ġ', 'g', 'i', 'v', 'e'], 'Ġcollaborated': ['Ġc', 'o', 'l', 'l', 'a', 'b', 'or', 'at', 'ed'], 'ĠOur': ['Ġ', 'O', 'ur'], 'ĠFirst': ['Ġ', 'F', 'i', 'r', 'st'], 'Ġ1954': ['Ġ1', '9', '5', '4'], 'Ġheart': ['Ġh', 'e', 'ar', 't'], 'Ġattack': ['Ġ', 'at', 't', 'ac', 'k'], 'Ġunable': ['Ġ', 'u', 'n', 'a', 'b', 'le'], 'Ġpursue': ['Ġp', 'ur', 's', 'u', 'e'], 'Ġextent': ['Ġe', 'x', 't', 'ent'], 'Ġaged': ['Ġa', 'g', 'ed'], 'Ġdevolved': ['Ġd', 'e', 'v', 'o', 'l', 'v', 'ed'], 'Ġmanage': ['Ġm', 'an', 'a', 'g', 'e'], 'Ġplanning': ['Ġp', 'l', 'an', 'n', 'ing'], 'Ġ1960': ['Ġ1', '9', '6', '0'], 'Ġ1961': ['Ġ1', '9', '6', '1'], 'ĠDuppas': ['Ġ', 'D', 'u', 'p', 'p', 'as'], 'ĠAvenue': ['ĠA', 'v', 'en', 'u', 'e'], 'Ġrestored': ['Ġ', 'r', 'es', 't', 'or', 'ed'], 'Ġmaisonette': ['Ġm', 'a', 'is', 'on', 'et', 't', 'e'], 'Ġbequeathed': ['Ġb', 'e', 'q', 'u', 'e', 'at', 'h', 'ed'], 'Ġfriend': ['Ġf', 'r', 'i', 'en', 'd'], 'ĠEdith': ['Ġ', 'E', 'd', 'it', 'h'], 'Ġtaking': ['Ġt', 'a', 'k', 'ing'], 'Ġresidence': ['Ġ', 'r', 'es', 'i', 'd', 'en', 'c', 'e'], 'Ġdeteriorate': ['Ġd', 'et', 'er', 'i', 'or', 'at', 'e'], 'Ġnursing': ['Ġ', 'n', 'ur', 's', 'ing'], 'Ġconvalescent': ['Ġc', 'on', 'v', 'al', 'es', 'c', 'ent'], 'Ġhomes': ['Ġh', 'om', 'es'], 'Ġtended': ['Ġt', 'en', 'd', 'ed'], 'ĠWorthing': ['Ġ', 'W', 'or', 't', 'h', 'ing'], 'ĠHospital': ['Ġ', 'H', 'o', 's', 'p', 'it', 'al'], 'Ġ77': ['Ġ', '7', '7'], 'Ġfuneral': ['Ġf', 'u', 'n', 'er', 'al'], 'Ġservices': ['Ġs', 'er', 'v', 'ic', 'es'], 'Ġashes': ['Ġa', 's', 'h', 'es'], 'Ġscattered': ['Ġs', 'c', 'at', 't', 'er', 'ed'], 'Ġchurchyard': ['Ġc', 'h', 'ur', 'c', 'h', 'y', 'ar', 'd'], 'Ġ1989': ['Ġ1', '9', '8', '9'], 'ĠWarne': ['Ġ', 'W', 'ar', 'n', 'e'], 'Ġdivision': ['Ġd', 'i', 'v', 'is', 'ion'], 'ĠPenguin': ['ĠP', 'en', 'g', 'u', 'in'], 'ĠBooks': ['Ġ', 'B', 'o', 'o', 'k', 's'], 'Ġ1983': ['Ġ1', '9', '8', '3'], 'Ġacquired': ['Ġa', 'c', 'q', 'u', 'i', 'r', 'ed'], 'Ġproperties': ['Ġp', 'ro', 'p', 'er', 'ti', 'es'], 'Ġprincipally': ['Ġp', 'r', 'in', 'c', 'i', 'p', 'al', 'ly'], 'Ġwatercolor': ['Ġw', 'at', 'er', 'c', 'o', 'l', 'or'], 'Ġcompetent': ['Ġc', 'om', 'p', 'et', 'ent'], 'Ġwhite': ['Ġw', 'h', 'it', 'e'], 'Ġsketchbook': ['Ġs', 'k', 'et', 'c', 'h', 'b', 'o', 'o', 'k'], 'Ġcapturing': ['Ġc', 'a', 'p', 't', 'ur', 'ing'], 'Ġinteresting': ['Ġin', 't', 'er', 'es', 't', 'ing'], 'Ġindicated': ['Ġin', 'd', 'ic', 'at', 'ed'], 'Ġtried': ['Ġt', 'r', 'i', 'ed'], 'Ġcomes': ['Ġc', 'om', 'es'], 'Ġnaturally': ['Ġ', 'n', 'at', 'ur', 'al', 'ly'], 'Ġattention': ['Ġ', 'at', 't', 'en', 'ti', 'on'], 'Ġchildhood': ['Ġc', 'h', 'il', 'd', 'h', 'o', 'o', 'd'], 'Ġfavorite': ['Ġf', 'a', 'v', 'or', 'it', 'e'], 'Ġinfluence': ['Ġin', 'f', 'l', 'u', 'en', 'c', 'e'], 'Ġsubjects': ['Ġs', 'u', 'b', 'j', 'ec', 't', 's'], 'Ġwear': ['Ġw', 'e', 'ar'], 'Ġnostalgic': ['Ġ', 'n', 'o', 'st', 'al', 'g', 'ic'], 'Ġclothing': ['Ġc', 'lo', 't', 'h', 'ing'], 'Ġthough': ['Ġt', 'h', 'ou', 'g', 'h'], 'Ġmelancholy': ['Ġm', 'el', 'an', 'c', 'h', 'o', 'ly'], 'Ġflat': ['Ġf', 'l', 'at'], 'Ġperhaps': ['Ġp', 'er', 'h', 'a', 'p', 's'], 'Ġadvances': ['Ġa', 'd', 'v', 'an', 'c', 'es'], 'Ġprinting': ['Ġp', 'r', 'in', 't', 'ing'], 'Ġtechnology': ['Ġt', 'ec', 'h', 'n', 'o', 'lo', 'g', 'y'], 'Ġstudied': ['Ġs', 't', 'u', 'd', 'i', 'ed'], 'Ġanalytical': ['Ġ', 'an', 'al', 'y', 'ti', 'c', 'al'], 'Ġeye': ['Ġe', 'y', 'e'], 'ĠAlong': ['ĠA', 'l', 'on', 'g'], 'ĠAlice': ['ĠA', 'l', 'ic', 'e'], 'ĠWoodward': ['Ġ', 'W', 'o', 'o', 'd', 'w', 'ar', 'd'], 'Ġinfluenced': ['Ġin', 'f', 'l', 'u', 'en', 'c', 'ed'], 'Ġlifelong': ['Ġ', 'l', 'i', 'f', 'el', 'on', 'g'], 'Ġam': ['Ġa', 'm'], 'ĠâĢĶ': ['Ġ', 'â', 'Ģ', 'Ķ'], 'Ġtechnical': ['Ġt', 'ec', 'h', 'n', 'ic', 'al'], 'Ġchoice': ['Ġc', 'h', 'o', 'ic', 'e'], 'Ġmatter': ['Ġm', 'at', 't', 'er'], 'Ġadmitted': ['Ġa', 'd', 'm', 'it', 't', 'ed'], 'Ġfondness': ['Ġf', 'on', 'd', 'n', 'es', 's'], 'ĠEverett': ['Ġ', 'E', 'v', 'er', 'et', 't'], 'ĠMillais': ['ĠM', 'il', 'l', 'a', 'is'], 'Ġwonderful': ['Ġw', 'on', 'd', 'er', 'f', 'u', 'l'], 'Ġthings': ['Ġt', 'h', 'ing', 's'], 'ĠEdward': ['Ġ', 'E', 'd', 'w', 'ar', 'd'], 'ĠBurne': ['Ġ', 'B', 'ur', 'n', 'e'], 'ĠJones': ['Ġ', 'J', 'on', 'es'], 'ĠDepictions': ['Ġ', 'D', 'e', 'p', 'ic', 'ti', 'on', 's'], 'Ġsketches': ['Ġs', 'k', 'et', 'c', 'h', 'es'], 'Ġgiven': ['Ġ', 'g', 'i', 'v', 'en'], 'Ġcharitable': ['Ġc', 'h', 'ar', 'it', 'a', 'b', 'le'], 'Ġinstitutions': ['Ġin', 's', 'ti', 't', 'u', 'ti', 'on', 's'], 'Ġsponsored': ['Ġs', 'p', 'on', 's', 'or', 'ed'], 'Ġexhibited': ['Ġe', 'x', 'h', 'i', 'b', 'it', 'ed'], 'Ġcovers': ['Ġc', 'o', 'v', 'ers'], 'Ġdust': ['Ġd', 'u', 'st'], 'Ġjackets': ['Ġ', 'j', 'ac', 'k', 'et', 's'], 'ĠPicturesque': ['ĠP', 'ic', 't', 'ur', 'es', 'q', 'u', 'e'], 'ĠAllies': ['ĠA', 'l', 'l', 'i', 'es'], 'Ġ1915': ['Ġ1', '9', '1', '5'], 'ĠSeaside': ['ĠS', 'e', 'as', 'i', 'd', 'e'], 'ĠHolidays': ['Ġ', 'H', 'o', 'l', 'i', 'd', 'a', 'y', 's'], 'ĠShakespeare': ['ĠS', 'h', 'a', 'k', 'es', 'p', 'e', 'ar', 'e'], 'ĠBoy': ['Ġ', 'B', 'o', 'y'], 'ĠGirl': ['Ġ', 'G', 'i', 'r', 'l'], 'ĠOld': ['Ġ', 'O', 'l', 'd'], 'ĠRhymes': ['Ġ', 'R', 'h', 'y', 'm', 'es'], 'ĠTimes': ['Ġ', 'T', 'i', 'm', 'es'], 'Ġ1928': ['Ġ1', '9', '2', '8'], 'ĠLord': ['Ġ', 'L', 'or', 'd'], 'ĠRushie': ['Ġ', 'R', 'u', 's', 'h', 'i', 'e'], 'Ġ1938': ['Ġ1', '9', '3', '8'], 'Ġtale': ['Ġt', 'al', 'e'], 'Ġgirl': ['Ġ', 'g', 'i', 'r', 'l'], 'Ġswans': ['Ġs', 'w', 'an', 's'], 'Ġriverbank': ['Ġ', 'r', 'i', 'v', 'er', 'b', 'an', 'k'], 'Ġcritically': ['Ġc', 'r', 'i', 'ti', 'c', 'al', 'ly'], 'ĠSet': ['ĠS', 'et'], 'Ġ1800': ['Ġ1', '8', '0', '0'], 'ĠGroundsel': ['Ġ', 'G', 'r', 'ou', 'n', 'd', 's', 'el'], 'ĠNecklaces': ['Ġ', 'N', 'ec', 'k', 'l', 'ac', 'es'], 'Ġ1943': ['Ġ1', '9', '4', '3'], 'Ġtells': ['Ġt', 'el', 'l', 's'], 'ĠJenny': ['Ġ', 'J', 'en', 'n', 'y'], 'Ġrescues': ['Ġ', 'r', 'es', 'c', 'u', 'es'], 'Ġpoverty': ['Ġp', 'o', 'v', 'er', 't', 'y'], 'Ġagency': ['Ġa', 'g', 'en', 'c', 'y'], 'ĠScrooge': ['ĠS', 'c', 'ro', 'o', 'g', 'e'], 'Ġman': ['Ġm', 'an'], 'ĠMr': ['ĠM', 'r'], 'ĠPetercoo': ['ĠP', 'et', 'er', 'c', 'o', 'o'], 'Ġtonally': ['Ġt', 'on', 'al', 'ly'], 'Ġsuggests': ['Ġs', 'u', 'g', 'g', 'es', 't', 's'], 'ĠDickensian': ['Ġ', 'D', 'ic', 'k', 'en', 's', 'i', 'an'], 'Ġsocial': ['Ġs', 'o', 'c', 'i', 'al'], 'Ġconsciousness': ['Ġc', 'on', 's', 'c', 'i', 'ou', 's', 'n', 'es', 's'], 'ĠSimon': ['ĠS', 'i', 'm', 'on'], 'ĠSwan': ['ĠS', 'w', 'an'], 'Ġoutlined': ['Ġ', 'ou', 't', 'l', 'in', 'ed'], 'Ġ1953': ['Ġ1', '9', '5', '3'], 'Ġ1988': ['Ġ1', '9', '8', '8'], 'Ġeight': ['Ġe', 'i', 'g', 'h', 't'], 'Ġguardian': ['Ġ', 'g', 'u', 'ar', 'd', 'i', 'an'], 'Ġangel': ['Ġ', 'an', 'g', 'el'], 'Ġbirthday': ['Ġb', 'i', 'r', 't', 'h', 'd', 'a', 'y'], 'ĠPromoting': ['ĠP', 'ro', 'm', 'o', 't', 'ing'], 'ĠKnowledge': ['Ġ', 'K', 'n', 'o', 'w', 'l', 'ed', 'g', 'e'], 'Ġ1916': ['Ġ1', '9', '1', '6'], 'Ġrespectively': ['Ġ', 'r', 'es', 'p', 'ec', 'ti', 'v', 'el', 'y'], 'ĠChristmas': ['ĠC', 'h', 'r', 'is', 't', 'm', 'as'], 'ĠGirls': ['Ġ', 'G', 'i', 'r', 'l', 's'], 'ĠFriendly': ['Ġ', 'F', 'r', 'i', 'en', 'd', 'ly'], 'Ġ46': ['Ġ', '4', '6'], 'Ġsociety': ['Ġs', 'o', 'c', 'i', 'et', 'y'], 'ĠâĤ¤': ['Ġ', 'â', 'Ĥ', '¤'], 'Ġ1926': ['Ġ1', '9', '2', '6'], 'Ġhung': ['Ġh', 'u', 'n', 'g'], 'Ġbooklet': ['Ġb', 'o', 'o', 'k', 'le', 't'], 'Ġcover': ['Ġc', 'o', 'v', 'er'], 'ĠPropagation': ['ĠP', 'ro', 'p', 'a', 'g', 'at', 'ion'], 'ĠGospel': ['Ġ', 'G', 'o', 's', 'p', 'el'], 'Ġexhibition': ['Ġe', 'x', 'h', 'i', 'b', 'i', 'ti', 'on'], 'ĠReligious': ['Ġ', 'R', 'el', 'i', 'g', 'i', 'ou', 's'], 'Ġ1929': ['Ġ1', '9', '2', '9'], 'Ġ1933': ['Ġ1', '9', '3', '3'], 'Ġtriptychs': ['Ġt', 'r', 'i', 'p', 't', 'y', 'c', 'h', 's'], 'ĠFeeding': ['Ġ', 'F', 'e', 'ed', 'ing'], 'ĠFive': ['Ġ', 'F', 'i', 'v', 'e'], 'ĠThousand': ['Ġ', 'T', 'h', 'ou', 's', 'an', 'd'], 'Ġchapel': ['Ġc', 'h', 'a', 'p', 'el'], 'ĠLlandaff': ['Ġ', 'L', 'l', 'an', 'd', 'a', 'f', 'f'], 'ĠHouse': ['Ġ', 'H', 'ou', 's', 'e'], 'ĠPenarth': ['ĠP', 'en', 'ar', 't', 'h'], 'ĠWales': ['Ġ', 'W', 'al', 'es'], 'ĠParable': ['ĠP', 'ar', 'a', 'b', 'le'], 'ĠSupper': ['ĠS', 'u', 'p', 'p', 'er'], 'Ġ1934': ['Ġ1', '9', '3', '4'], 'ĠGeorge': ['Ġ', 'G', 'e', 'or', 'g', 'e'], 'ĠChapel': ['ĠC', 'h', 'a', 'p', 'el'], 'Ġdisappeared': ['Ġd', 'is', 'a', 'p', 'p', 'e', 'ar', 'ed'], 'Ġphotograph': ['Ġp', 'h', 'o', 't', 'o', 'g', 'ra', 'p', 'h'], 'Ġdated': ['Ġd', 'at', 'ed'], 'Ġreproduces': ['Ġre', 'p', 'ro', 'd', 'u', 'c', 'es'], 'Ġ1941': ['Ġ1', '9', '4', '1'], 'Ġsacraments': ['Ġs', 'ac', 'ra', 'm', 'ent', 's'], 'Ġbaptismal': ['Ġb', 'a', 'p', 'ti', 's', 'm', 'al'], 'Ġfont': ['Ġf', 'on', 't'], 'Ġrolls': ['Ġ', 'ro', 'l', 'l', 's'], 'Ġwall': ['Ġw', 'al', 'l'], 'Ġ1948': ['Ġ1', '9', '4', '8'], 'Ġ1962': ['Ġ1', '9', '6', '2'], 'Ġ1946': ['Ġ1', '9', '4', '6'], 'Ġx': ['Ġ', 'x'], 'Ġft': ['Ġf', 't'], 'ĠOut': ['Ġ', 'O', 'u', 't'], 'ĠTribulation': ['Ġ', 'T', 'r', 'i', 'b', 'u', 'l', 'at', 'ion'], 'ĠMemorial': ['ĠM', 'e', 'm', 'or', 'i', 'al'], 'ĠNorbury': ['Ġ', 'N', 'or', 'b', 'ur', 'y'], 'ĠMethodist': ['ĠM', 'et', 'h', 'o', 'd', 'is', 't'], 'Ġmemorial': ['Ġm', 'e', 'm', 'or', 'i', 'al'], 'Ġpreparing': ['Ġp', 're', 'p', 'ar', 'ing'], 'Ġwash': ['Ġw', 'as', 'h'], 'Ġfeet': ['Ġf', 'e', 'et'], 'Ġdisciples': ['Ġd', 'is', 'c', 'i', 'p', 'l', 'es'], 'Ġinstalled': ['Ġin', 'st', 'al', 'l', 'ed'], 'ĠCards': ['ĠC', 'ar', 'd', 's'], 'ĠSalmon': ['ĠS', 'al', 'm', 'on'], 'ĠMission': ['ĠM', 'is', 's', 'ion'], 'ĠPreservation': ['ĠP', 'r', 'es', 'er', 'v', 'at', 'ion'], 'ĠHoliday': ['Ġ', 'H', 'o', 'l', 'i', 'd', 'a', 'y'], 'Ġ1921': ['Ġ1', '9', '2', '1'], 'ĠElves': ['Ġ', 'E', 'l', 'v', 'es'], 'ĠS': ['ĠS'], 'ĠHarvey': ['Ġ', 'H', 'ar', 'v', 'e', 'y'], 'ĠGuardian': ['Ġ', 'G', 'u', 'ar', 'd', 'i', 'an'], 'ĠAngel': ['ĠA', 'n', 'g', 'el'], 'Ġ1930': ['Ġ1', '9', '3', '0'], 'ĠBarton': ['Ġ', 'B', 'ar', 't', 'on'], 'ĠColton': ['ĠC', 'o', 'l', 't', 'on'], 'ĠBeautiful': ['Ġ', 'B', 'e', 'a', 'u', 'ti', 'f', 'u', 'l'], 'ĠBible': ['Ġ', 'B', 'i', 'b', 'le'], 'Ġ1932': ['Ġ1', '9', '3', '2'], 'ĠSongs': ['ĠS', 'on', 'g', 's'], 'ĠThoughts': ['Ġ', 'T', 'h', 'ou', 'g', 'h', 't', 's'], 'ĠPicture': ['ĠP', 'ic', 't', 'u', 're'], 'ĠVerse': ['Ġ', 'V', 'ers', 'e'], 'ĠK': ['Ġ', 'K'], 'ĠWestcott': ['Ġ', 'W', 'es', 't', 'c', 'o', 't', 't'], 'ĠAutumn': ['ĠA', 'u', 't', 'u', 'm', 'n'], 'Ġ1927': ['Ġ1', '9', '2', '7'], 'Ġrep': ['Ġre', 'p'], 'ĠHymn': ['Ġ', 'H', 'y', 'm', 'n'], 'ĠNew': ['Ġ', 'N', 'e', 'w'], 'ĠAlphabet': ['ĠA', 'l', 'p', 'h', 'a', 'b', 'et'], 'Ġ1937': ['Ġ1', '9', '3', '7'], 'ĠTrees': ['Ġ', 'T', 're', 'es'], 'ĠCame': ['ĠC', 'a', 'm', 'e'], 'ĠWindow': ['Ġ', 'W', 'in', 'd', 'o', 'w'], 'ĠGarden': ['Ġ', 'G', 'ar', 'd', 'en'], 'ĠVerses': ['Ġ', 'V', 'ers', 'es'], 'ĠLouis': ['Ġ', 'L', 'ou', 'is'], 'ĠStevenson': ['ĠS', 't', 'e', 'v', 'en', 's', 'on'], 'Ġ1944': ['Ġ1', '9', '4', '4'], 'Ġreprinted': ['Ġre', 'p', 'r', 'in', 't', 'ed'], 'ĠWayside': ['Ġ', 'W', 'a', 'y', 's', 'i', 'd', 'e'], 'Ġ1950': ['Ġ1', '9', '5', '0'], 'ĠLively': ['Ġ', 'L', 'i', 'v', 'el', 'y'], 'ĠMacmillan': ['ĠM', 'ac', 'm', 'il', 'l', 'an'], 'Ġ1955': ['Ġ1', '9', '5', '5'], 'ĠNumbers': ['Ġ', 'N', 'u', 'm', 'b', 'ers'], 'Ġ1957': ['Ġ1', '9', '5', '7'], 'ĠWords': ['Ġ', 'W', 'or', 'd', 's'], 'ĠSand': ['ĠS', 'an', 'd'], 'ĠSea': ['ĠS', 'e', 'a'], 'ĠSun': ['ĠS', 'u', 'n'], 'ĠGibson': ['Ġ', 'G', 'i', 'b', 's', 'on'], 'ĠPosthumously': ['ĠP', 'o', 'st', 'h', 'u', 'm', 'ou', 's', 'ly'], 'ĠWinter': ['Ġ', 'W', 'in', 't', 'er'], 'ĠSeasons': ['ĠS', 'e', 'as', 'on', 's'], 'ĠBedrick': ['Ġ', 'B', 'ed', 'r', 'ic', 'k'], 'ĠPrayers': ['ĠP', 'ra', 'y', 'ers'], 'ĠTreasury': ['Ġ', 'T', 're', 'as', 'ur', 'y'], 'ĠFairyopolis': ['Ġ', 'F', 'a', 'i', 'r', 'y', 'o', 'p', 'o', 'l', 'is'], 'Ġ2005': ['Ġ', '2', '0', '0', '5'], 'ĠWild': ['Ġ', 'W', 'il', 'd'], 'ĠCherry': ['ĠC', 'h', 'er', 'r', 'y'], 'ĠMakes': ['ĠM', 'a', 'k', 'es'], 'ĠPippa': ['ĠP', 'i', 'p', 'p', 'a'], 'ĠLe': ['Ġ', 'L', 'e'], 'ĠQuesne': ['Ġ', 'Q', 'u', 'es', 'n', 'e'], 'Ġ2006': ['Ġ', '2', '0', '0', '6'], 'ĠHow': ['Ġ', 'H', 'o', 'w'], 'Ġfind': ['Ġf', 'in', 'd'], 'Ġ2007': ['Ġ', '2', '0', '0', '7'], 'ĠReturn': ['Ġ', 'R', 'et', 'ur', 'n'], 'Ġ2008': ['Ġ', '2', '0', '0', '8'], 'ĠEpiphany': ['Ġ', 'E', 'p', 'i', 'p', 'h', 'an', 'y'], 'Ġ43': ['Ġ', '4', '3'], 'ĠAnnuals': ['ĠA', 'n', 'n', 'u', 'al', 's'], 'ĠCecily': ['ĠC', 'ec', 'il', 'y'], 'ĠCradle': ['ĠC', 'ra', 'd', 'le'], 'Ġroll': ['Ġ', 'ro', 'l', 'l'], 'Ġ1922': ['Ġ1', '9', '2', '2'], 'ĠBanner': ['Ġ', 'B', 'an', 'n', 'er'], 'ĠSanderstead': ['ĠS', 'an', 'd', 'er', 'st', 'e', 'a', 'd'], 'Ġreredos': ['Ġ', 'r', 'er', 'ed', 'o', 's'], 'Ġtriptych': ['Ġt', 'r', 'i', 'p', 't', 'y', 'c', 'h'], 'ĠSeven': ['ĠS', 'e', 'v', 'en'], 'ĠSacraments': ['ĠS', 'ac', 'ra', 'm', 'ent', 's'], 'ĠBaptist': ['Ġ', 'B', 'a', 'p', 'ti', 'st'], 'Ġbanner': ['Ġb', 'an', 'n', 'er'], 'Ġpanel': ['Ġp', 'an', 'el'], 'ĠAbesford': ['ĠA', 'b', 'es', 'f', 'or', 'd'], 'ĠLettering': ['Ġ', 'L', 'et', 't', 'er', 'ing'], 'Ġsword': ['Ġs', 'w', 'or', 'd'], 'Ġshield': ['Ġs', 'h', 'i', 'el', 'd'], 'Ġmount': ['Ġm', 'ou', 'n', 't'], 'ĠForces': ['Ġ', 'F', 'or', 'c', 'es'], 'ĠAndrews': ['ĠA', 'n', 'd', 're', 'w', 's'], 'ĠBaptismal': ['Ġ', 'B', 'a', 'p', 'ti', 's', 'm', 'al'], 'ĠMedthodist': ['ĠM', 'ed', 't', 'h', 'o', 'd', 'is', 't'], 'ĠAm': ['ĠA', 'm'], 'ĠAmong': ['ĠA', 'm', 'on', 'g'], 'ĠServeth': ['ĠS', 'er', 'v', 'et', 'h'], 'ĠGambia': ['Ġ', 'G', 'a', 'm', 'b', 'i', 'a'], 'Ġnational': ['Ġ', 'n', 'at', 'ion', 'al'], 'Ġfootball': ['Ġf', 'o', 'o', 't', 'b', 'al', 'l'], 'Ġrepresents': ['Ġre', 'p', 'r', 'es', 'ent', 's'], 'Ġinternational': ['Ġin', 't', 'er', 'n', 'at', 'ion', 'al'], 'Ġcompeted': ['Ġc', 'om', 'p', 'et', 'ed'], 'Ġmatch': ['Ġm', 'at', 'c', 'h'], 'Ġrecognised': ['Ġre', 'c', 'o', 'g', 'n', 'is', 'ed'], 'ĠFIFA': ['Ġ', 'F', 'I', 'F', 'A'], 'Ġsport': ['Ġs', 'p', 'or', 't'], 'Ġgoverning': ['Ġ', 'g', 'o', 'v', 'er', 'n', 'ing'], 'Ġorganised': ['Ġ', 'or', 'g', 'an', 'is', 'ed'], 'Ġ1998': ['Ġ1', '9', '9', '8'], 'Ġyouth': ['Ġ', 'y', 'ou', 't', 'h'], 'Ġteams': ['Ġt', 'e', 'a', 'm', 's'], 'Ġ17': ['Ġ1', '7'], 'ĠWomen': ['Ġ', 'W', 'om', 'en'], 'ĠCup': ['ĠC', 'u', 'p'], 'Ġqualifiers': ['Ġ', 'q', 'u', 'al', 'i', 'f', 'i', 'ers'], 'Ġwithdrew': ['Ġw', 'it', 'h', 'd', 're', 'w'], 'Ġregional': ['Ġre', 'g', 'ion', 'al'], 'Ġfaces': ['Ġf', 'ac', 'es'], 'Ġchallenges': ['Ġc', 'h', 'al', 'l', 'en', 'g', 'es'], 'Ġacross': ['Ġa', 'c', 'ro', 's', 's'], 'ĠAfrica': ['ĠA', 'f', 'r', 'ic', 'a'], 'Ġcountries': ['Ġc', 'ou', 'n', 't', 'r', 'i', 'es'], 'Ġpopularity': ['Ġp', 'o', 'p', 'u', 'l', 'ar', 'it', 'y'], 'Ġworldwide': ['Ġw', 'or', 'l', 'd', 'w', 'i', 'd', 'e'], 'Ġunranked': ['Ġ', 'u', 'n', 'r', 'an', 'k', 'ed'], 'Ġsanctioned': ['Ġs', 'an', 'c', 'ti', 'on', 'ed'], 'Ġparticipated': ['Ġp', 'ar', 'ti', 'c', 'i', 'p', 'at', 'ed'], 'Ġtournaments': ['Ġt', 'ou', 'r', 'n', 'a', 'm', 'ent', 's'], 'ĠAfrican': ['ĠA', 'f', 'r', 'ic', 'an'], 'ĠChampionship': ['ĠC', 'h', 'a', 'm', 'p', 'ion', 's', 'h', 'i', 'p'], 'ĠGames': ['Ġ', 'G', 'a', 'm', 'es'], 'ĠConfederation': ['ĠC', 'on', 'f', 'ed', 'er', 'at', 'ion'], 'ĠFootball': ['Ġ', 'F', 'o', 'o', 't', 'b', 'al', 'l'], 'ĠAzerbaijan': ['ĠA', 'z', 'er', 'b', 'a', 'i', 'j', 'an'], 'Ġfielded': ['Ġf', 'i', 'el', 'd', 'ed'], 'Ġnarrowed': ['Ġ', 'n', 'ar', 'ro', 'w', 'ed'], 'Ġinitial': ['Ġin', 'i', 'ti', 'al'], 'Ġpool': ['Ġp', 'o', 'o', 'l'], 'Ġ49': ['Ġ', '4', '9'], 'Ġgirls': ['Ġ', 'g', 'i', 'r', 'l', 's'], 'ĠSOS': ['ĠS', 'O', 'S'], 'ĠVillage': ['Ġ', 'V', 'il', 'l', 'a', 'g', 'e'], 'ĠBakoteh': ['Ġ', 'B', 'a', 'k', 'o', 't', 'e', 'h'], 'ĠSierra': ['ĠS', 'i', 'er', 'ra'], 'ĠLeone': ['Ġ', 'L', 'e', 'on', 'e'], 'Ġqualifying': ['Ġ', 'q', 'u', 'al', 'i', 'f', 'y', 'ing'], 'Ġmatches': ['Ġm', 'at', 'c', 'h', 'es'], 'Ġtournament': ['Ġt', 'ou', 'r', 'n', 'a', 'm', 'ent'], 'ĠBanjul': ['Ġ', 'B', 'an', 'j', 'u', 'l'], 'Ġdelayed': ['Ġd', 'el', 'a', 'y', 'ed'], 'Ġhours': ['Ġh', 'ou', 'r', 's'], 'ĠMakeni': ['ĠM', 'a', 'k', 'en', 'i'], 'Ġbeat': ['Ġb', 'e', 'at'], 'Ġqualify': ['Ġ', 'q', 'u', 'al', 'i', 'f', 'y'], 'Ġfinal': ['Ġf', 'in', 'al'], 'Ġround': ['Ġ', 'r', 'ou', 'n', 'd'], 'ĠTunisia': ['Ġ', 'T', 'u', 'n', 'is', 'i', 'a'], 'ĠAdama': ['ĠA', 'd', 'a', 'm', 'a'], 'ĠTamba': ['Ġ', 'T', 'a', 'm', 'b', 'a'], 'ĠAwa': ['ĠA', 'w', 'a'], 'ĠDemba': ['Ġ', 'D', 'e', 'm', 'b', 'a'], 'Ġscored': ['Ġs', 'c', 'or', 'ed'], 'ĠGambian': ['Ġ', 'G', 'a', 'm', 'b', 'i', 'an'], 'Ġwin': ['Ġw', 'in'], 'Ġqualified': ['Ġ', 'q', 'u', 'al', 'i', 'f', 'i', 'ed'], 'Ġ2002': ['Ġ', '2', '0', '0', '2'], 'ĠMorocco': ['ĠM', 'or', 'o', 'c', 'c', 'o'], 'ĠBackground': ['Ġ', 'B', 'ac', 'k', 'g', 'r', 'ou', 'n', 'd'], 'Ġaccess': ['Ġa', 'c', 'c', 'es', 's'], 'Ġamongst': ['Ġa', 'm', 'on', 'g', 'st'], 'Ġinequalities': ['Ġin', 'e', 'q', 'u', 'al', 'i', 'ti', 'es'], 'Ġhuman': ['Ġh', 'u', 'm', 'an'], 'Ġrights': ['Ġ', 'r', 'i', 'g', 'h', 't', 's'], 'Ġabuses': ['Ġa', 'b', 'u', 's', 'es'], 'Ġtargeting': ['Ġt', 'ar', 'g', 'et', 'ing'], 'ĠFunding': ['Ġ', 'F', 'u', 'n', 'd', 'ing'], 'Ġimpacting': ['Ġ', 'i', 'm', 'p', 'ac', 't', 'ing'], 'Ġassistance': ['Ġa', 's', 's', 'is', 't', 'an', 'c', 'e'], 'Ġassociations': ['Ġa', 's', 's', 'o', 'c', 'i', 'at', 'ion', 's'], 'ĠAnother': ['ĠA', 'n', 'o', 't', 'h', 'er'], 'Ġchallenge': ['Ġc', 'h', 'al', 'l', 'en', 'g', 'e'], 'Ġretention': ['Ġre', 't', 'en', 'ti', 'on'], 'ĠMany': ['ĠM', 'an', 'y'], 'Ġfootballers': ['Ġf', 'o', 'o', 't', 'b', 'al', 'l', 'ers'], 'Ġleave': ['Ġ', 'le', 'a', 'v', 'e'], 'Ġcontinent': ['Ġc', 'on', 't', 'in', 'ent'], 'Ġseek': ['Ġs', 'e', 'e', 'k'], 'Ġgreater': ['Ġ', 'g', 're', 'at', 'er'], 'Ġopportunity': ['Ġ', 'o', 'p', 'p', 'or', 't', 'u', 'n', 'it', 'y'], 'ĠEurope': ['Ġ', 'E', 'u', 'ro', 'p', 'e'], 'Ġfounded': ['Ġf', 'ou', 'n', 'd', 'ed'], 'Ġ1952': ['Ġ1', '9', '5', '2'], 'Ġaffiliated': ['Ġa', 'f', 'f', 'il', 'i', 'at', 'ed'], 'Ġ1968': ['Ġ1', '9', '6', '8'], 'Ġorganized': ['Ġ', 'or', 'g', 'an', 'i', 'z', 'ed'], 'Ġlaunched': ['Ġ', 'l', 'a', 'u', 'n', 'c', 'h', 'ed'], 'Ġcourse': ['Ġc', 'ou', 'r', 's', 'e'], 'ĠCompetition': ['ĠC', 'om', 'p', 'e', 'ti', 'ti', 'on'], 'Ġactive': ['Ġa', 'c', 'ti', 'v', 'e'], 'Ġscholastic': ['Ġs', 'c', 'h', 'o', 'l', 'as', 'ti', 'c'], 'Ġlevels': ['Ġ', 'le', 'v', 'el', 's'], 'Ġ2009': ['Ġ', '2', '0', '0', '9'], 'Ġstaffers': ['Ġs', 't', 'a', 'f', 'f', 'ers'], 'Ġdedicated': ['Ġd', 'ed', 'ic', 'at', 'ed'], 'ĠAssociation': ['ĠA', 's', 's', 'o', 'c', 'i', 'at', 'ion'], 'Ġrepresentation': ['Ġre', 'p', 'r', 'es', 'ent', 'at', 'ion'], 'Ġboard': ['Ġb', 'o', 'ar', 'd'], 'Ġcharter': ['Ġc', 'h', 'ar', 't', 'er'], 'ĠPlain': ['ĠP', 'l', 'a', 'in'], 'Ġmaskray': ['Ġm', 'as', 'k', 'ra', 'y'], 'Ġplain': ['Ġp', 'l', 'a', 'in'], 'Ġbrown': ['Ġb', 'ro', 'w', 'n'], 'Ġstingray': ['Ġs', 't', 'ing', 'ra', 'y'], 'ĠNeotrygon': ['Ġ', 'N', 'e', 'o', 't', 'r', 'y', 'g', 'on'], 'Ġannotata': ['Ġ', 'an', 'n', 'o', 't', 'at', 'a'], 'Ġspecies': ['Ġs', 'p', 'ec', 'i', 'es'], 'ĠDasyatidae': ['Ġ', 'D', 'as', 'y', 'at', 'i', 'd', 'a', 'e'], 'Ġshallow': ['Ġs', 'h', 'al', 'lo', 'w'], 'Ġsoft': ['Ġs', 'o', 'f', 't'], 'Ġbottomed': ['Ġb', 'o', 't', 't', 'om', 'ed'], 'Ġhabitats': ['Ġh', 'a', 'b', 'it', 'at', 's'], 'Ġnorthern': ['Ġ', 'n', 'or', 't', 'h', 'er', 'n'], 'ĠAustralia': ['ĠA', 'u', 'st', 'r', 'al', 'i', 'a'], 'ĠReaching': ['Ġ', 'R', 'e', 'ac', 'h', 'ing'], 'Ġcm': ['Ġc', 'm'], 'Ġwidth': ['Ġw', 'i', 'd', 't', 'h'], 'Ġdiamond': ['Ġd', 'i', 'a', 'm', 'on', 'd'], 'Ġshaped': ['Ġs', 'h', 'a', 'p', 'ed'], 'Ġgrayish': ['Ġ', 'g', 'ra', 'y', 'is', 'h'], 'Ġgreen': ['Ġ', 'g', 're', 'en'], 'Ġpectoral': ['Ġp', 'ec', 't', 'or', 'al'], 'Ġfin': ['Ġf', 'in'], 'Ġdisc': ['Ġd', 'is', 'c'], 'Ġwhip': ['Ġw', 'h', 'i', 'p'], 'Ġtail': ['Ġt', 'a', 'il'], 'Ġalternating': ['Ġ', 'al', 't', 'er', 'n', 'at', 'ing'], 'Ġbands': ['Ġb', 'an', 'd', 's'], 'Ġfolds': ['Ġf', 'o', 'l', 'd', 's'], 'Ġbelow': ['Ġb', 'el', 'o', 'w'], 'Ġrows': ['Ġ', 'ro', 'w', 's'], 'Ġthorns': ['Ġt', 'h', 'or', 'n', 's'], 'Ġbase': ['Ġb', 'as', 'e'], 'Ġskin': ['Ġs', 'k', 'in'], 'Ġsmooth': ['Ġs', 'm', 'o', 'o', 't', 'h'], 'Ġpossesses': ['Ġp', 'o', 's', 's', 'es', 's', 'es'], 'Ġdark': ['Ġd', 'ar', 'k'], 'Ġmask': ['Ġm', 'as', 'k'], 'Ġpattern': ['Ġp', 'at', 't', 'er', 'n'], 'Ġeyes': ['Ġe', 'y', 'es'], 'Ġgenus': ['Ġ', 'g', 'en', 'u', 's'], 'Ġornately': ['Ġ', 'or', 'n', 'at', 'el', 'y'], 'Ġpatterned': ['Ġp', 'at', 't', 'er', 'n', 'ed'], 'Ġmaskrays': ['Ġm', 'as', 'k', 'ra', 'y', 's'], 'ĠBenthic': ['Ġ', 'B', 'ent', 'h', 'ic'], 'Ġnature': ['Ġ', 'n', 'at', 'u', 're'], 'Ġfeeds': ['Ġf', 'e', 'ed', 's'], 'Ġmainly': ['Ġm', 'a', 'in', 'ly'], 'Ġcaridean': ['Ġc', 'ar', 'i', 'd', 'e', 'an'], 'Ġshrimp': ['Ġs', 'h', 'r', 'i', 'm', 'p'], 'Ġpolychaete': ['Ġp', 'o', 'ly', 'c', 'h', 'a', 'et', 'e'], 'Ġworms': ['Ġw', 'or', 'm', 's'], 'Ġlesser': ['Ġ', 'l', 'es', 's', 'er'], 'Ġbony': ['Ġb', 'on', 'y'], 'Ġfishes': ['Ġf', 'is', 'h', 'es'], 'Ġviviparous': ['Ġ', 'v', 'i', 'v', 'i', 'p', 'ar', 'ou', 's'], 'Ġfemales': ['Ġf', 'e', 'm', 'al', 'es'], 'Ġproducing': ['Ġp', 'ro', 'd', 'u', 'c', 'ing'], 'Ġlitters': ['Ġ', 'l', 'it', 't', 'ers'], 'Ġnourished': ['Ġ', 'n', 'ou', 'r', 'is', 'h', 'ed'], 'Ġgestation': ['Ġ', 'g', 'es', 't', 'at', 'ion'], 'Ġvia': ['Ġ', 'v', 'i', 'a'], 'Ġhistotroph': ['Ġh', 'is', 't', 'o', 't', 'ro', 'p', 'h'], 'Ġuterine': ['Ġ', 'u', 't', 'er', 'in', 'e'], 'Ġmilk': ['Ġm', 'il', 'k'], 'Ġlacks': ['Ġ', 'l', 'ac', 'k', 's'], 'Ġeconomic': ['Ġ', 'ec', 'on', 'om', 'ic'], 'Ġvalue': ['Ġ', 'v', 'al', 'u', 'e'], 'Ġcaught': ['Ġc', 'a', 'u', 'g', 'h', 't'], 'Ġincidentally': ['Ġin', 'c', 'i', 'd', 'ent', 'al', 'ly'], 'Ġbottom': ['Ġb', 'o', 't', 't', 'om'], 'Ġtrawls': ['Ġt', 'ra', 'w', 'l', 's'], 'Ġable': ['Ġa', 'b', 'le'], 'Ġwithstand': ['Ġw', 'it', 'h', 'st', 'an', 'd'], 'Ġgracile': ['Ġ', 'g', 'r', 'ac', 'i', 'le'], 'Ġdistribution': ['Ġd', 'is', 't', 'r', 'i', 'b', 'u', 'ti', 'on'], 'Ġfecundity': ['Ġf', 'ec', 'u', 'n', 'd', 'it', 'y'], 'ĠInternational': ['Ġ', 'I', 'n', 't', 'er', 'n', 'at', 'ion', 'al'], 'ĠConservation': ['ĠC', 'on', 's', 'er', 'v', 'at', 'ion'], 'ĠNature': ['Ġ', 'N', 'at', 'u', 're'], 'ĠIUCN': ['Ġ', 'I', 'U', 'C', 'N'], 'ĠThreatened': ['Ġ', 'T', 'h', 're', 'at', 'en', 'ed'], 'ĠTaxonomy': ['Ġ', 'T', 'a', 'x', 'on', 'om', 'y'], 'Ġphylogeny': ['Ġp', 'h', 'y', 'lo', 'g', 'en', 'y'], 'Ġscientific': ['Ġs', 'c', 'i', 'en', 'ti', 'f', 'ic'], 'Ġdescription': ['Ġd', 'es', 'c', 'r', 'i', 'p', 'ti', 'on'], 'Ġauthored': ['Ġa', 'u', 't', 'h', 'or', 'ed'], 'ĠCommonwealth': ['ĠC', 'om', 'm', 'on', 'w', 'e', 'al', 't', 'h'], 'ĠScientific': ['ĠS', 'c', 'i', 'en', 'ti', 'f', 'ic'], 'ĠIndustrial': ['Ġ', 'I', 'n', 'd', 'u', 'st', 'r', 'i', 'al'], 'ĠResearch': ['Ġ', 'R', 'es', 'e', 'ar', 'c', 'h'], 'ĠOrganisation': ['Ġ', 'O', 'r', 'g', 'an', 'is', 'at', 'ion'], 'ĠCSIRO': ['ĠC', 'S', 'I', 'R', 'O'], 'Ġresearcher': ['Ġ', 'r', 'es', 'e', 'ar', 'c', 'h', 'er'], 'Ġ1987': ['Ġ1', '9', '8', '7'], 'ĠMemoirs': ['ĠM', 'e', 'm', 'o', 'i', 'r', 's'], 'ĠVictoria': ['Ġ', 'V', 'ic', 't', 'or', 'i', 'a'], 'Ġannotatus': ['Ġ', 'an', 'n', 'o', 't', 'at', 'u', 's'], 'ĠLatin': ['Ġ', 'L', 'at', 'in'], 'Ġnotatus': ['Ġ', 'n', 'o', 't', 'at', 'u', 's'], 'Ġmarked': ['Ġm', 'ar', 'k', 'ed'], 'Ġrefers': ['Ġre', 'f', 'ers'], 'Ġray': ['Ġ', 'ra', 'y'], 'Ġcoloration': ['Ġc', 'o', 'l', 'or', 'at', 'ion'], 'Ġholotype': ['Ġh', 'o', 'lo', 't', 'y', 'p', 'e'], 'Ġmale': ['Ġm', 'al', 'e'], 'Ġ21': ['Ġ', '2', '1'], 'ĠWestern': ['Ġ', 'W', 'es', 't', 'er', 'n'], 'Ġparatypes': ['Ġp', 'ar', 'at', 'y', 'p', 'es'], 'Ġtentatively': ['Ġt', 'ent', 'at', 'i', 'v', 'el', 'y'], 'ĠDasyatis': ['Ġ', 'D', 'as', 'y', 'at', 'is'], 'Ġgroup': ['Ġ', 'g', 'r', 'ou', 'p'], 'Ġbluespotted': ['Ġb', 'l', 'u', 'es', 'p', 'o', 't', 't', 'ed'], 'Ġkuhlii': ['Ġ', 'k', 'u', 'h', 'l', 'i', 'i'], 'ĠWilliam': ['Ġ', 'W', 'il', 'l', 'i', 'a', 'm'], 'ĠWhite': ['Ġ', 'W', 'h', 'it', 'e'], 'Ġelevated': ['Ġ', 'el', 'e', 'v', 'at', 'ed'], 'Ġbasis': ['Ġb', 'as', 'is'], 'Ġmorphological': ['Ġm', 'or', 'p', 'h', 'o', 'lo', 'g', 'ic', 'al'], 'Ġmolecular': ['Ġm', 'o', 'le', 'c', 'u', 'l', 'ar'], 'Ġphylogenetic': ['Ġp', 'h', 'y', 'lo', 'g', 'en', 'e', 'ti', 'c'], 'Ġanalysis': ['Ġ', 'an', 'al', 'y', 's', 'is'], 'Ġmitochondrial': ['Ġm', 'it', 'o', 'c', 'h', 'on', 'd', 'r', 'i', 'al'], 'Ġnuclear': ['Ġ', 'n', 'u', 'c', 'le', 'ar'], 'ĠDNA': ['Ġ', 'D', 'N', 'A'], 'ĠNingaloo': ['Ġ', 'N', 'ing', 'al', 'o', 'o'], 'ĠN': ['Ġ', 'N'], 'Ġningalooensis': ['Ġ', 'n', 'ing', 'al', 'o', 'o', 'en', 's', 'is'], 'Ġbasal': ['Ġb', 'as', 'al'], 'Ġdivergence': ['Ġd', 'i', 'v', 'er', 'g', 'en', 'c', 'e'], 'Ġlineage': ['Ġ', 'l', 'in', 'e', 'a', 'g', 'e'], 'Ġestimated': ['Ġ', 'es', 'ti', 'm', 'at', 'ed'], 'Ġoccurred': ['Ġ', 'o', 'c', 'c', 'ur', 'r', 'ed'], 'Ġ~': ['Ġ', '~'], 'ĠMa': ['ĠM', 'a'], 'ĠFurthermore': ['Ġ', 'F', 'ur', 't', 'h', 'er', 'm', 'or', 'e'], 'Ġindividuals': ['Ġin', 'd', 'i', 'v', 'i', 'd', 'u', 'al', 's'], 'Ġsequenced': ['Ġs', 'e', 'q', 'u', 'en', 'c', 'ed'], 'Ġstudy': ['Ġs', 't', 'u', 'd', 'y'], 'Ġsorted': ['Ġs', 'or', 't', 'ed'], 'Ġgenetically': ['Ġ', 'g', 'en', 'e', 'ti', 'c', 'al', 'ly'], 'Ġclades': ['Ġc', 'l', 'a', 'd', 'es'], 'Ġsuggesting': ['Ġs', 'u', 'g', 'g', 'es', 't', 'ing'], 'Ġcryptic': ['Ġc', 'r', 'y', 'p', 'ti', 'c'], 'Ġcomplex': ['Ġc', 'om', 'p', 'le', 'x'], 'Ġputative': ['Ġp', 'u', 't', 'at', 'i', 'v', 'e'], 'Ġdiverged': ['Ġd', 'i', 'v', 'er', 'g', 'ed'], 'Ġprecipitating': ['Ġp', 're', 'c', 'i', 'p', 'it', 'at', 'ing'], 'Ġevent': ['Ġe', 'v', 'ent'], 'Ġlikely': ['Ġ', 'l', 'i', 'k', 'el', 'y'], 'Ġsplitting': ['Ġs', 'p', 'l', 'it', 't', 'ing'], 'Ġancestral': ['Ġ', 'an', 'c', 'es', 't', 'r', 'al'], 'Ġpopulation': ['Ġp', 'o', 'p', 'u', 'l', 'at', 'ion'], 'Ġcoastline': ['Ġc', 'o', 'as', 't', 'l', 'in', 'e'], 'Ġchanges': ['Ġc', 'h', 'an', 'g', 'es'], 'ĠDescription': ['Ġ', 'D', 'es', 'c', 'r', 'i', 'p', 'ti', 'on'], 'Ġthin': ['Ġt', 'h', 'in'], 'Ġnarrowly': ['Ġ', 'n', 'ar', 'ro', 'w', 'ly'], 'Ġrounded': ['Ġ', 'r', 'ou', 'n', 'd', 'ed'], 'Ġouter': ['Ġ', 'ou', 't', 'er'], 'Ġcorners': ['Ġc', 'or', 'n', 'ers'], 'Ġmeasuring': ['Ġm', 'e', 'as', 'ur', 'ing'], 'Ġwide': ['Ġw', 'i', 'd', 'e'], 'Ġmargins': ['Ġm', 'ar', 'g', 'in', 's'], 'Ġgently': ['Ġ', 'g', 'ent', 'ly'], 'Ġconcave': ['Ġc', 'on', 'c', 'a', 'v', 'e'], 'Ġconverge': ['Ġc', 'on', 'v', 'er', 'g', 'e'], 'Ġbroad': ['Ġb', 'ro', 'a', 'd'], 'Ġangle': ['Ġ', 'an', 'g', 'le'], 'Ġpointed': ['Ġp', 'o', 'in', 't', 'ed'], 'Ġtip': ['Ġ', 'ti', 'p'], 'Ġsnout': ['Ġs', 'n', 'ou', 't'], 'Ġclose': ['Ġc', 'lo', 's', 'e'], 'Ġtogether': ['Ġt', 'o', 'g', 'et', 'h', 'er'], 'Ġspiracles': ['Ġs', 'p', 'i', 'r', 'ac', 'l', 'es'], 'Ġnostrils': ['Ġ', 'n', 'o', 'st', 'r', 'il', 's'], 'Ġelongated': ['Ġ', 'el', 'on', 'g', 'at', 'ed'], 'Ġskirt': ['Ġs', 'k', 'i', 'r', 't'], 'Ġflap': ['Ġf', 'l', 'a', 'p'], 'Ġmouth': ['Ġm', 'ou', 't', 'h'], 'Ġbears': ['Ġb', 'e', 'ar', 's'], 'Ġprominent': ['Ġp', 'ro', 'm', 'in', 'ent'], 'Ġfurrows': ['Ġf', 'ur', 'ro', 'w', 's'], 'Ġcontains': ['Ġc', 'on', 't', 'a', 'in', 's'], 'Ġslender': ['Ġs', 'l', 'en', 'd', 'er'], 'Ġpapillae': ['Ġp', 'a', 'p', 'il', 'l', 'a', 'e'], 'ĠSmall': ['ĠS', 'm', 'al', 'l'], 'Ġpairs': ['Ġp', 'a', 'i', 'r', 's'], 'Ġgill': ['Ġ', 'g', 'il', 'l'], 'Ġslits': ['Ġs', 'l', 'it', 's'], 'Ġpelvic': ['Ġp', 'el', 'v', 'ic'], 'Ġfins': ['Ġf', 'in', 's'], 'Ġfairly': ['Ġf', 'a', 'i', 'r', 'ly'], 'Ġbarely': ['Ġb', 'ar', 'el', 'y'], 'Ġexceeding': ['Ġe', 'x', 'c', 'e', 'ed', 'ing'], 'Ġintact': ['Ġin', 't', 'ac', 't'], 'Ġflattened': ['Ġf', 'l', 'at', 't', 'en', 'ed'], 'Ġusually': ['Ġ', 'u', 's', 'u', 'al', 'ly'], 'Ġstinging': ['Ġs', 't', 'ing', 'ing'], 'Ġspines': ['Ġs', 'p', 'in', 'es'], 'Ġstings': ['Ġs', 't', 'ing', 's'], 'Ġventral': ['Ġ', 'v', 'ent', 'r', 'al'], 'Ġfold': ['Ġf', 'o', 'l', 'd'], 'Ġshorter': ['Ġs', 'h', 'or', 't', 'er'], 'Ġdorsal': ['Ġd', 'or', 's', 'al'], 'Ġdermal': ['Ġd', 'er', 'm', 'al'], 'Ġdenticles': ['Ġd', 'en', 'ti', 'c', 'l', 'es'], 'Ġmidline': ['Ġm', 'i', 'd', 'l', 'in', 'e'], 'Ġrow': ['Ġ', 'ro', 'w'], 'Ġclosely': ['Ġc', 'lo', 's', 'el', 'y'], 'Ġspaced': ['Ġs', 'p', 'ac', 'ed'], 'Ġbecoming': ['Ġb', 'ec', 'om', 'ing'], 'Ġpinkish': ['Ġp', 'in', 'k', 'is', 'h'], 'Ġshape': ['Ġs', 'h', 'a', 'p', 'e'], 'Ġblotches': ['Ġb', 'lo', 't', 'c', 'h', 'es'], 'Ġvariable': ['Ġ', 'v', 'ar', 'i', 'a', 'b', 'le'], 'Ġunderside': ['Ġ', 'u', 'n', 'd', 'ers', 'i', 'd', 'e'], 'Ġgrows': ['Ġ', 'g', 'ro', 'w', 's'], 'Ġ45': ['Ġ', '4', '5'], 'ĠDistribution': ['Ġ', 'D', 'is', 't', 'r', 'i', 'b', 'u', 'ti', 'on'], 'Ġhabitat': ['Ġh', 'a', 'b', 'it', 'at'], 'Ġinhabits': ['Ġin', 'h', 'a', 'b', 'it', 's'], 'Ġcontinental': ['Ġc', 'on', 't', 'in', 'ent', 'al'], 'Ġshelf': ['Ġs', 'h', 'el', 'f'], 'ĠWellesley': ['Ġ', 'W', 'el', 'l', 'es', 'le', 'y'], 'ĠIslands': ['Ġ', 'I', 's', 'l', 'an', 'd', 's'], 'ĠQueensland': ['Ġ', 'Q', 'u', 'e', 'en', 's', 'l', 'an', 'd'], 'ĠBonaparte': ['Ġ', 'B', 'on', 'a', 'p', 'ar', 't', 'e'], 'ĠArchipelago': ['ĠA', 'r', 'c', 'h', 'i', 'p', 'el', 'a', 'g', 'o'], 'ĠGulf': ['Ġ', 'G', 'u', 'l', 'f'], 'ĠCarpentaria': ['ĠC', 'ar', 'p', 'ent', 'ar', 'i', 'a'], 'ĠTimor': ['Ġ', 'T', 'i', 'm', 'or'], 'ĠArafura': ['ĠA', 'ra', 'f', 'ur', 'a'], 'ĠSeas': ['ĠS', 'e', 'as'], 'Ġunsubstantiated': ['Ġ', 'u', 'n', 's', 'u', 'b', 'st', 'an', 'ti', 'at', 'ed'], 'Ġreports': ['Ġre', 'p', 'or', 't', 's'], 'Ġrange': ['Ġ', 'r', 'an', 'g', 'e'], 'Ġextends': ['Ġe', 'x', 't', 'en', 'd', 's'], 'ĠPapua': ['ĠP', 'a', 'p', 'u', 'a'], 'ĠGuinea': ['Ġ', 'G', 'u', 'in', 'e', 'a'], 'Ġleast': ['Ġ', 'le', 'as', 't'], 'Ġnative': ['Ġ', 'n', 'at', 'i', 'v', 'e'], 'Ġregion': ['Ġre', 'g', 'ion'], 'Ġdweller': ['Ġd', 'w', 'el', 'l', 'er'], 'Ġprefers': ['Ġp', 're', 'f', 'ers'], 'Ġfine': ['Ġf', 'in', 'e'], 'Ġsediment': ['Ġs', 'ed', 'i', 'm', 'ent'], 'Ġ62': ['Ġ', '6', '2'], 'Ġ39': ['Ġ', '3', '9'], 'Ġ203': ['Ġ', '2', '0', '3'], 'Ġdeep': ['Ġd', 'e', 'e', 'p'], 'Ġtends': ['Ġt', 'en', 'd', 's'], 'Ġfarther': ['Ġf', 'ar', 't', 'h', 'er'], 'Ġshore': ['Ġs', 'h', 'or', 'e'], 'ĠBiology': ['Ġ', 'B', 'i', 'o', 'lo', 'g', 'y'], 'Ġecology': ['Ġ', 'ec', 'o', 'lo', 'g', 'y'], 'Ġhunts': ['Ġh', 'u', 'n', 't', 's'], 'Ġsurface': ['Ġs', 'ur', 'f', 'ac', 'e'], 'Ġsubstrate': ['Ġs', 'u', 'b', 'st', 'r', 'at', 'e'], 'Ġdigging': ['Ġd', 'i', 'g', 'g', 'ing'], 'Ġprey': ['Ġp', 're', 'y'], 'Ġdiet': ['Ġd', 'i', 'et'], 'Ġconsists': ['Ġc', 'on', 's', 'is', 't', 's'], 'Ġpredominantly': ['Ġp', 'r', 'ed', 'om', 'in', 'an', 't', 'ly'], 'Ġeaten': ['Ġe', 'at', 'en'], 'Ġpenaeid': ['Ġp', 'en', 'a', 'e', 'i', 'd'], 'Ġprawn': ['Ġp', 'ra', 'w', 'n'], 'Ġamphipod': ['Ġa', 'm', 'p', 'h', 'i', 'p', 'o', 'd'], 'ĠLarger': ['Ġ', 'L', 'ar', 'g', 'er'], 'Ġrays': ['Ġ', 'ra', 'y', 's'], 'Ġconsume': ['Ġc', 'on', 's', 'u', 'm', 'e'], 'Ġvariety': ['Ġ', 'v', 'ar', 'i', 'et', 'y'], 'Ġrelatively': ['Ġre', 'l', 'at', 'i', 'v', 'el', 'y'], 'Ġcompared': ['Ġc', 'om', 'p', 'ar', 'ed'], 'Ġparasitized': ['Ġp', 'ar', 'as', 'i', 'ti', 'z', 'ed'], 'Ġtapeworm': ['Ġt', 'a', 'p', 'e', 'w', 'or', 'm'], 'ĠAcanthobothrium': ['ĠA', 'c', 'an', 't', 'h', 'o', 'b', 'o', 't', 'h', 'r', 'i', 'u', 'm'], 'Ġjonesi': ['Ġ', 'j', 'on', 'es', 'i'], 'Ġstingrays': ['Ġs', 't', 'ing', 'ra', 'y', 's'], 'Ġdeveloping': ['Ġd', 'e', 'v', 'el', 'o', 'p', 'ing'], 'Ġembryos': ['Ġe', 'm', 'b', 'r', 'y', 'o', 's'], 'Ġsustained': ['Ġs', 'u', 'st', 'a', 'in', 'ed'], 'Ġterm': ['Ġt', 'er', 'm'], 'ĠMature': ['ĠM', 'at', 'u', 're'], 'Ġfunctional': ['Ġf', 'u', 'n', 'c', 'ti', 'on', 'al'], 'Ġovary': ['Ġ', 'o', 'v', 'ar', 'y'], 'Ġuterus': ['Ġ', 'u', 't', 'er', 'u', 's'], 'ĠLitter': ['Ġ', 'L', 'it', 't', 'er'], 'Ġsize': ['Ġs', 'i', 'z', 'e'], 'Ġnewborns': ['Ġ', 'n', 'e', 'w', 'b', 'or', 'n', 's'], 'Ġmeasure': ['Ġm', 'e', 'as', 'u', 're'], 'ĠMales': ['ĠM', 'al', 'es'], 'Ġreach': ['Ġre', 'ac', 'h'], 'Ġsexual': ['Ġs', 'e', 'x', 'u', 'al'], 'Ġmaturity': ['Ġm', 'at', 'ur', 'it', 'y'], 'Ġwidths': ['Ġw', 'i', 'd', 't', 'h', 's'], 'Ġmaximum': ['Ġm', 'a', 'x', 'i', 'm', 'u', 'm'], 'Ġlifespan': ['Ġ', 'l', 'i', 'f', 'es', 'p', 'an'], 'Ġmales': ['Ġm', 'al', 'es'], 'ĠHuman': ['Ġ', 'H', 'u', 'm', 'an'], 'Ġinteractions': ['Ġin', 't', 'er', 'ac', 'ti', 'on', 's'], 'Ġconservation': ['Ġc', 'on', 's', 'er', 'v', 'at', 'ion'], 'Ġthreat': ['Ġt', 'h', 're', 'at'], 'Ġincidental': ['Ġin', 'c', 'i', 'd', 'ent', 'al'], 'Ġcapture': ['Ġc', 'a', 'p', 't', 'u', 're'], 'Ġcommercial': ['Ġc', 'om', 'm', 'er', 'c', 'i', 'al'], 'Ġtrawl': ['Ġt', 'ra', 'w', 'l'], 'Ġfisheries': ['Ġf', 'is', 'h', 'er', 'i', 'es'], 'Ġcaused': ['Ġc', 'a', 'u', 's', 'ed'], 'ĠNorthern': ['Ġ', 'N', 'or', 't', 'h', 'er', 'n'], 'ĠPrawn': ['ĠP', 'ra', 'w', 'n'], 'ĠFishery': ['Ġ', 'F', 'is', 'h', 'er', 'y'], 'Ġoperates': ['Ġ', 'o', 'p', 'er', 'at', 'es'], 'ĠAlthough': ['ĠA', 'l', 't', 'h', 'ou', 'g', 'h'], 'Ġdiscarded': ['Ġd', 'is', 'c', 'ar', 'd', 'ed'], 'Ġdelicate': ['Ġd', 'el', 'ic', 'at', 'e'], 'Ġbodied': ['Ġb', 'o', 'd', 'i', 'ed'], 'Ġthus': ['Ġt', 'h', 'u', 's'], 'Ġunlikely': ['Ġ', 'u', 'n', 'l', 'i', 'k', 'el', 'y'], 'Ġsurvive': ['Ġs', 'ur', 'v', 'i', 'v', 'e'], 'Ġencounters': ['Ġ', 'en', 'c', 'ou', 'n', 't', 'ers'], 'Ġtrawling': ['Ġt', 'ra', 'w', 'l', 'ing'], 'Ġgear': ['Ġ', 'g', 'e', 'ar'], 'ĠHistorically': ['Ġ', 'H', 'is', 't', 'or', 'ic', 'al', 'ly'], 'ĠChinese': ['ĠC', 'h', 'in', 'es', 'e'], 'ĠTaiwanese': ['Ġ', 'T', 'a', 'i', 'w', 'an', 'es', 'e'], 'Ġtrawlers': ['Ġt', 'ra', 'w', 'l', 'ers'], 'Ġfished': ['Ġf', 'is', 'h', 'ed'], 'Ġintensively': ['Ġin', 't', 'en', 's', 'i', 'v', 'el', 'y'], 'Ġ1959': ['Ġ1', '9', '5', '9'], 'Ġ1990': ['Ġ1', '9', '9', '0'], 'ĠThese': ['Ġ', 'T', 'h', 'es', 'e'], 'Ġfactors': ['Ġf', 'ac', 't', 'or', 's'], 'Ġcoupled': ['Ġc', 'ou', 'p', 'l', 'ed'], 'Ġreproductive': ['Ġre', 'p', 'ro', 'd', 'u', 'c', 'ti', 'v', 'e'], 'Ġrate': ['Ġ', 'r', 'at', 'e'], 'Ġresulted': ['Ġ', 'r', 'es', 'u', 'l', 't', 'ed'], 'Ġassessed': ['Ġa', 's', 's', 'es', 's', 'ed'], 'ĠColumbus': ['ĠC', 'o', 'l', 'u', 'm', 'b', 'u', 's'], 'ĠJackets': ['Ġ', 'J', 'ac', 'k', 'et', 's'], 'Ġseason': ['Ġs', 'e', 'as', 'on'], 'ĠHockey': ['Ġ', 'H', 'o', 'c', 'k', 'e', 'y'], 'ĠLeague': ['Ġ', 'L', 'e', 'a', 'g', 'u', 'e'], 'ĠNHL': ['Ġ', 'N', 'H', 'L'], 'Ġrecord': ['Ġre', 'c', 'or', 'd'], 'Ġnote': ['Ġ', 'n', 'o', 't', 'e'], 'Ġworst': ['Ġw', 'or', 'st'], 'Ġstraight': ['Ġs', 't', 'ra', 'i', 'g', 'h', 't'], 'Ġmissed': ['Ġm', 'is', 's', 'ed'], 'Ġplayoffs': ['Ġp', 'l', 'a', 'y', 'o', 'f', 'f', 's'], 'ĠConsequently': ['ĠC', 'on', 's', 'e', 'q', 'u', 'ent', 'ly'], 'Ġreceive': ['Ġre', 'c', 'e', 'i', 'v', 'e'], 'Ġselection': ['Ġs', 'el', 'ec', 'ti', 'on'], 'ĠEntry': ['Ġ', 'E', 'n', 't', 'r', 'y'], 'ĠDraft': ['Ġ', 'D', 'ra', 'f', 't'], 'Ġlottery': ['Ġ', 'lo', 't', 't', 'er', 'y'], 'ĠEdmonton': ['Ġ', 'E', 'd', 'm', 'on', 't', 'on'], 'ĠOilers': ['Ġ', 'O', 'il', 'ers'], 'Ġpick': ['Ġp', 'ic', 'k'], 'Ġstart': ['Ġs', 't', 'ar', 't'], 'ĠHead': ['Ġ', 'H', 'e', 'a', 'd'], 'ĠCoach': ['ĠC', 'o', 'ac', 'h'], 'ĠScott': ['ĠS', 'c', 'o', 't', 't'], 'ĠArniel': ['ĠA', 'r', 'n', 'i', 'el'], 'Ġfired': ['Ġf', 'i', 'r', 'ed'], 'Ġreplaced': ['Ġre', 'p', 'l', 'ac', 'ed'], 'ĠAssistant': ['ĠA', 's', 's', 'is', 't', 'an', 't'], 'ĠTodd': ['Ġ', 'T', 'o', 'd', 'd'], 'ĠRichards': ['Ġ', 'R', 'ic', 'h', 'ar', 'd', 's'], 'Ġpersonnel': ['Ġp', 'ers', 'on', 'n', 'el'], 'Ġtrade': ['Ġt', 'ra', 'd', 'e'], 'ĠStar': ['ĠS', 't', 'ar'], 'Ġforward': ['Ġf', 'or', 'w', 'ar', 'd'], 'ĠJeff': ['Ġ', 'J', 'e', 'f', 'f'], 'ĠCarter': ['ĠC', 'ar', 't', 'er'], 'Ġfanfare': ['Ġf', 'an', 'f', 'ar', 'e'], 'Ġprospect': ['Ġp', 'ro', 's', 'p', 'ec', 't'], 'Ġrebuild': ['Ġre', 'b', 'u', 'il', 'd'], 'Ġlooming': ['Ġ', 'lo', 'om', 'ing'], 'Ġcaptain': ['Ġc', 'a', 'p', 't', 'a', 'in'], 'ĠRick': ['Ġ', 'R', 'ic', 'k'], 'ĠNash': ['Ġ', 'N', 'as', 'h'], 'Ġrequested': ['Ġre', 'q', 'u', 'es', 't', 'ed'], 'Ġcontroversial': ['Ġc', 'on', 't', 'ro', 'v', 'ers', 'i', 'al'], 'Ġloss': ['Ġ', 'lo', 's', 's'], 'ĠLos': ['Ġ', 'L', 'o', 's'], 'ĠAngeles': ['ĠA', 'n', 'g', 'el', 'es'], 'ĠKings': ['Ġ', 'K', 'ing', 's'], 'ĠStaples': ['ĠS', 't', 'a', 'p', 'l', 'es'], 'Ġclock': ['Ġc', 'lo', 'c', 'k'], 'Ġappeared': ['Ġa', 'p', 'p', 'e', 'ar', 'ed'], 'Ġfreeze': ['Ġf', 're', 'e', 'z', 'e'], 'Ġseconds': ['Ġs', 'ec', 'on', 'd', 's'], 'Ġallowing': ['Ġ', 'al', 'lo', 'w', 'ing'], 'Ġscore': ['Ġs', 'c', 'or', 'e'], 'Ġtying': ['Ġt', 'y', 'ing'], 'Ġwinning': ['Ġw', 'in', 'n', 'ing'], 'Ġovertime': ['Ġ', 'o', 'v', 'er', 'ti', 'm', 'e'], 'Ġmanaged': ['Ġm', 'an', 'a', 'g', 'ed'], 'Ġstreaks': ['Ġs', 't', 're', 'a', 'k', 's'], 'Ġhelping': ['Ġh', 'el', 'p', 'ing'], 'Ġfinish': ['Ġf', 'in', 'is', 'h'], 'Ġ65': ['Ġ', '6', '5'], 'Ġtotal': ['Ġt', 'o', 't', 'al'], 'ĠOff': ['Ġ', 'O', 'f', 'f'], 'Ġchanged': ['Ġc', 'h', 'an', 'g', 'ed'], 'Ġmoving': ['Ġm', 'o', 'v', 'ing'], 'Ġdeal': ['Ġd', 'e', 'al'], 'ĠManager': ['ĠM', 'an', 'a', 'g', 'er'], 'ĠHowson': ['Ġ', 'H', 'o', 'w', 's', 'on'], 'Ġacquisition': ['Ġa', 'c', 'q', 'u', 'is', 'i', 'ti', 'on'], 'ĠJakub': ['Ġ', 'J', 'a', 'k', 'u', 'b'], 'ĠVoracek': ['Ġ', 'V', 'or', 'ac', 'e', 'k'], 'Ġdraft': ['Ġd', 'ra', 'f', 't'], 'Ġeighth': ['Ġe', 'i', 'g', 'h', 't', 'h'], 'ĠPhiladelphia': ['ĠP', 'h', 'il', 'a', 'd', 'el', 'p', 'h', 'i', 'a'], 'ĠFlyers': ['Ġ', 'F', 'ly', 'ers'], 'Ġexchange': ['Ġe', 'x', 'c', 'h', 'an', 'g', 'e'], 'Ġfans': ['Ġf', 'an', 's'], 'Ġmanagement': ['Ġm', 'an', 'a', 'g', 'e', 'm', 'ent'], 'Ġcenter': ['Ġc', 'ent', 'er'], 'Ġalongside': ['Ġ', 'al', 'on', 'g', 's', 'i', 'd', 'e'], 'ĠNext': ['Ġ', 'N', 'e', 'x', 't'], 'Ġnegotiating': ['Ġ', 'n', 'e', 'g', 'o', 'ti', 'at', 'ing'], 'Ġfree': ['Ġf', 're', 'e'], 'Ġagent': ['Ġa', 'g', 'ent'], 'ĠWisniewski': ['Ġ', 'W', 'is', 'n', 'i', 'e', 'w', 's', 'k', 'i'], 'Ġcareer': ['Ġc', 'ar', 'e', 'er'], 'Ġhigh': ['Ġh', 'i', 'g', 'h'], 'Ġ51': ['Ġ', '5', '1'], 'ĠYork': ['Ġ', 'Y', 'or', 'k'], 'ĠIslanders': ['Ġ', 'I', 's', 'l', 'an', 'd', 'ers'], 'ĠMontreal': ['ĠM', 'on', 't', 're', 'al'], 'ĠCanadiens': ['ĠC', 'an', 'a', 'd', 'i', 'en', 's'], 'Ġfifth': ['Ġf', 'i', 'f', 't', 'h'], 'Ġhighest': ['Ġh', 'i', 'g', 'h', 'es', 't'], 'Ġleague': ['Ġ', 'le', 'a', 'g', 'u', 'e'], 'Ġdefenseman': ['Ġd', 'e', 'f', 'en', 's', 'e', 'm', 'an'], 'Ġscoring': ['Ġs', 'c', 'or', 'ing'], 'ĠTobias': ['Ġ', 'T', 'o', 'b', 'i', 'as'], 'ĠEnstrom': ['Ġ', 'E', 'n', 'st', 'ro', 'm'], 'Ġterms': ['Ġt', 'er', 'm', 's'], 'Ġhour': ['Ġh', 'ou', 'r'], 'Ġprior': ['Ġp', 'r', 'i', 'or'], 'Ġsigning': ['Ġs', 'i', 'g', 'n', 'ing'], 'Ġ33': ['Ġ', '3', '3'], 'Ġmillion': ['Ġm', 'il', 'l', 'ion'], 'Ġformer': ['Ġf', 'or', 'm', 'er'], 'ĠNikita': ['Ġ', 'N', 'i', 'k', 'it', 'a'], 'ĠFilatov': ['Ġ', 'F', 'il', 'at', 'o', 'v'], 'ĠOttawa': ['Ġ', 'O', 't', 't', 'a', 'w', 'a'], 'ĠSenators': ['ĠS', 'en', 'at', 'or', 's'], 'Ġfailed': ['Ġf', 'a', 'il', 'ed'], 'Ġexpectations': ['Ġe', 'x', 'p', 'ec', 't', 'at', 'ion', 's'], 'Ġ44': ['Ġ', '4', '4'], 'Ġseasons': ['Ġs', 'e', 'as', 'on', 's'], 'Ġquestioned': ['Ġ', 'q', 'u', 'es', 'ti', 'on', 'ed'], 'Ġveteran': ['Ġ', 'v', 'et', 'er', 'an'], 'Ġgoaltender': ['Ġ', 'g', 'o', 'al', 't', 'en', 'd', 'er'], 'ĠSteve': ['ĠS', 't', 'e', 'v', 'e'], 'ĠMason': ['ĠM', 'as', 'on'], 'ĠCalder': ['ĠC', 'al', 'd', 'er'], 'ĠTrophy': ['Ġ', 'T', 'ro', 'p', 'h', 'y'], 'Ġwinner': ['Ġw', 'in', 'n', 'er'], 'Ġstruggled': ['Ġs', 't', 'r', 'u', 'g', 'g', 'l', 'ed'], 'Ġconsecutive': ['Ġc', 'on', 's', 'ec', 'u', 'ti', 'v', 'e'], 'ĠMark': ['ĠM', 'ar', 'k'], 'ĠDekanich': ['Ġ', 'D', 'e', 'k', 'an', 'ic', 'h'], 'Ġ50': ['Ġ', '5', '0'], 'Ġminutes': ['Ġm', 'in', 'u', 't', 'es'], 'Ġsign': ['Ġs', 'i', 'g', 'n'], 'ĠCurtis': ['ĠC', 'ur', 'ti', 's'], 'Ġstring': ['Ġs', 't', 'r', 'ing'], 'ĠAHL': ['ĠA', 'H', 'L'], 'Ġaffiliate': ['Ġa', 'f', 'f', 'il', 'i', 'at', 'e'], 'ĠSpringfield': ['ĠS', 'p', 'r', 'ing', 'f', 'i', 'el', 'd'], 'ĠFalcons': ['Ġ', 'F', 'al', 'c', 'on', 's'], 'Ġtraining': ['Ġt', 'ra', 'in', 'ing'], 'Ġankle': ['Ġ', 'an', 'k', 'le'], 'Ġsprain': ['Ġs', 'p', 'ra', 'in'], 'Ġline': ['Ġ', 'l', 'in', 'e'], 'ĠAdditionally': ['ĠA', 'd', 'd', 'i', 'ti', 'on', 'al', 'ly'], 'Ġgroin': ['Ġ', 'g', 'ro', 'in'], 'Ġinjury': ['Ġin', 'j', 'ur', 'y'], 'ĠAllen': ['ĠA', 'l', 'l', 'en'], 'Ġentering': ['Ġ', 'ent', 'er', 'ing'], 'ĠDecember': ['Ġ', 'D', 'ec', 'e', 'm', 'b', 'er'], 'Ġinjured': ['Ġin', 'j', 'ur', 'ed'], 'Ġlosing': ['Ġ', 'lo', 's', 'ing'], 'Ġstreak': ['Ġs', 't', 're', 'a', 'k'], 'Ġminute': ['Ġm', 'in', 'u', 't', 'e'], 'ĠJason': ['Ġ', 'J', 'as', 'on'], 'ĠSpezza': ['ĠS', 'p', 'e', 'z', 'z', 'a'], 'Ġtied': ['Ġ', 'ti', 'ed'], 'Ġpower': ['Ġp', 'o', 'w', 'er'], 'ĠMilan': ['ĠM', 'il', 'an'], 'ĠMichalek': ['ĠM', 'ic', 'h', 'al', 'e', 'k'], 'Ġnotched': ['Ġ', 'n', 'o', 't', 'c', 'h', 'ed'], 'Ġhelped': ['Ġh', 'el', 'p', 'ed'], 'Ġfutility': ['Ġf', 'u', 'ti', 'l', 'it', 'y'], 'ĠDetroit': ['Ġ', 'D', 'et', 'ro', 'it'], 'ĠRed': ['Ġ', 'R', 'ed'], 'ĠWings': ['Ġ', 'W', 'ing', 's'], 'Ġmilestones': ['Ġm', 'il', 'es', 't', 'on', 'es'], 'Ġreached': ['Ġre', 'ac', 'h', 'ed'], 'Ġdebut': ['Ġd', 'e', 'b', 'u', 't'], 'ĠJohansen': ['Ġ', 'J', 'o', 'h', 'an', 's', 'en'], 'ĠMoore': ['ĠM', 'o', 'or', 'e'], 'ĠGrant': ['Ġ', 'G', 'r', 'an', 't'], 'ĠClitsome': ['ĠC', 'l', 'it', 's', 'om', 'e'], 'Ġassists': ['Ġa', 's', 's', 'is', 't', 's'], 'Ġmomentum': ['Ġm', 'om', 'ent', 'u', 'm'], 'Ġstruggle': ['Ġs', 't', 'r', 'u', 'g', 'g', 'le'], 'Ġculminating': ['Ġc', 'u', 'l', 'm', 'in', 'at', 'ing'], 'Ġstruggling': ['Ġs', 't', 'r', 'u', 'g', 'g', 'l', 'ing'], 'Ġshake': ['Ġs', 'h', 'a', 'k', 'e'], 'Ġroster': ['Ġ', 'ro', 'st', 'er'], 'ĠLetestu': ['Ġ', 'L', 'et', 'es', 't', 'u'], 'ĠPittsburgh': ['ĠP', 'it', 't', 's', 'b', 'ur', 'g', 'h'], 'ĠPenguins': ['ĠP', 'en', 'g', 'u', 'in', 's'], 'ĠKris': ['Ġ', 'K', 'r', 'is'], 'ĠRussell': ['Ġ', 'R', 'u', 's', 's', 'el', 'l'], 'ĠBlues': ['Ġ', 'B', 'l', 'u', 'es'], 'ĠNikitin': ['Ġ', 'N', 'i', 'k', 'it', 'in'], 'Ġclubs': ['Ġc', 'l', 'u', 'b', 's'], 'Ġslow': ['Ġs', 'lo', 'w'], 'ĠKen': ['Ġ', 'K', 'en'], 'ĠHitchcock': ['Ġ', 'H', 'it', 'c', 'h', 'c', 'o', 'c', 'k'], 'Ġcoached': ['Ġc', 'o', 'ac', 'h', 'ed'], 'Ġplayoff': ['Ġp', 'l', 'a', 'y', 'o', 'f', 'f'], 'Ġcontract': ['Ġc', 'on', 't', 'r', 'ac', 't'], 'ĠBefore': ['Ġ', 'B', 'e', 'f', 'or', 'e'], 'Ġfruition': ['Ġf', 'r', 'u', 'i', 'ti', 'on'], 'Ġpermission': ['Ġp', 'er', 'm', 'is', 's', 'ion'], 'Ġhire': ['Ġh', 'i', 're'], 'Ġcoaching': ['Ġc', 'o', 'ac', 'h', 'ing'], 'Ġamassed': ['Ġa', 'm', 'as', 's', 'ed'], 'Ġframe': ['Ġf', 'ra', 'm', 'e'], 'ĠBoston': ['Ġ', 'B', 'o', 'st', 'on'], 'ĠBruins': ['Ġ', 'B', 'r', 'u', 'in', 's'], 'Ġshootout': ['Ġs', 'h', 'o', 'o', 't', 'ou', 't'], 'Ġposting': ['Ġp', 'o', 'st', 'ing'], 'Ġ38': ['Ġ', '3', '8'], 'Ġaverage': ['Ġa', 'v', 'er', 'a', 'g', 'e'], '947': ['9', '4', '7'], 'Ġpercentage': ['Ġp', 'er', 'c', 'ent', 'a', 'g', 'e'], 'Ġstarts': ['Ġs', 't', 'ar', 't', 's'], 'Ġmight': ['Ġm', 'i', 'g', 'h', 't'], 'Ġnumerous': ['Ġ', 'n', 'u', 'm', 'er', 'ou', 's'], 'Ġhit': ['Ġh', 'it'], 'Ġwarm': ['Ġw', 'ar', 'm'], 'Ġups': ['Ġ', 'u', 'p', 's'], 'Ġconcussion': ['Ġc', 'on', 'c', 'u', 's', 's', 'ion'], 'ĠVancouver': ['Ġ', 'V', 'an', 'c', 'ou', 'v', 'er'], 'ĠCanucks': ['ĠC', 'an', 'u', 'c', 'k', 's'], 'Ġsuffering': ['Ġs', 'u', 'f', 'f', 'er', 'ing'], 'Ġcramping': ['Ġc', 'ra', 'm', 'p', 'ing'], 'Ġtemporarily': ['Ġt', 'e', 'm', 'p', 'or', 'ar', 'il', 'y'], 'Ġbreaking': ['Ġb', 're', 'a', 'k', 'ing'], 'Ġseen': ['Ġs', 'e', 'en'], 'ĠHowever': ['Ġ', 'H', 'o', 'w', 'e', 'v', 'er'], 'Ġgoing': ['Ġ', 'g', 'o', 'ing'], 'Ġstretch': ['Ġs', 't', 're', 't', 'c', 'h'], 'Ġcontinuing': ['Ġc', 'on', 't', 'in', 'u', 'ing'], 'Ġtrading': ['Ġt', 'ra', 'd', 'ing'], 'Ġdiscussions': ['Ġd', 'is', 'c', 'u', 's', 's', 'ion', 's'], 'Ġinquired': ['Ġin', 'q', 'u', 'i', 'r', 'ed'], 'Ġbetter': ['Ġb', 'et', 't', 'er'], 'Ġwilling': ['Ġw', 'il', 'l', 'ing'], 'Ġwaive': ['Ġw', 'a', 'i', 'v', 'e'], 'Ġclause': ['Ġc', 'l', 'a', 'u', 's', 'e'], 'Ġpublicly': ['Ġp', 'u', 'b', 'l', 'ic', 'ly'], 'Ġintention': ['Ġin', 't', 'en', 'ti', 'on'], 'ĠMore': ['ĠM', 'or', 'e'], 'Ġattributed': ['Ġ', 'at', 't', 'r', 'i', 'b', 'u', 't', 'ed'], 'ĠRÃ©seau': ['Ġ', 'R', 'Ã', '©', 's', 'e', 'a', 'u'], 'Ġdes': ['Ġd', 'es'], 'Ġsports': ['Ġs', 'p', 'or', 't', 's'], 'Ġunhappy': ['Ġ', 'u', 'n', 'h', 'a', 'p', 'p', 'y'], 'Ġdemanded': ['Ġd', 'e', 'm', 'an', 'd', 'ed'], 'Ġever': ['Ġe', 'v', 'er'], 'Ġunsure': ['Ġ', 'u', 'n', 's', 'u', 're'], 'Ġdeadline': ['Ġd', 'e', 'a', 'd', 'l', 'in', 'e'], 'Ġapproaching': ['Ġa', 'p', 'p', 'ro', 'ac', 'h', 'ing'], 'Ġspeculation': ['Ġs', 'p', 'ec', 'u', 'l', 'at', 'ion'], 'Ġpicked': ['Ġp', 'ic', 'k', 'ed'], 'ĠReports': ['Ġ', 'R', 'e', 'p', 'or', 't', 's'], 'Ġtrying': ['Ġt', 'r', 'y', 'ing'], 'Ġ100': ['Ġ1', '0', '0'], 'Ġpercent': ['Ġp', 'er', 'c', 'ent'], 'Ġhalfway': ['Ġh', 'al', 'f', 'w', 'a', 'y'], 'Ġdouble': ['Ġd', 'ou', 'b', 'le'], 'Ġdigit': ['Ġd', 'i', 'g', 'it'], 'Ġwins': ['Ġw', 'in', 's'], 'Ġsitting': ['Ġs', 'it', 't', 'ing'], 'Ġinterim': ['Ġin', 't', 'er', 'i', 'm'], 'ĠMinnesota': ['ĠM', 'in', 'n', 'es', 'o', 't', 'a'], 'ĠPhoenix': ['ĠP', 'h', 'o', 'en', 'i', 'x'], 'ĠCoyotes': ['ĠC', 'o', 'y', 'o', 't', 'es'], 'Ġfortunes': ['Ġf', 'or', 't', 'u', 'n', 'es'], 'Ġbreak': ['Ġb', 're', 'a', 'k'], 'Ġowner': ['Ġ', 'o', 'w', 'n', 'er'], 'ĠP': ['ĠP'], 'ĠMcConnell': ['ĠM', 'c', 'C', 'on', 'n', 'el', 'l'], 'Ġletter': ['Ġ', 'le', 't', 't', 'er'], 'Ġstating': ['Ġs', 't', 'at', 'ing'], 'Ġunderstanding': ['Ġ', 'u', 'n', 'd', 'er', 'st', 'an', 'd', 'ing'], 'Ġfrustration': ['Ġf', 'r', 'u', 'st', 'r', 'at', 'ion'], 'Ġdisappointing': ['Ġd', 'is', 'a', 'p', 'p', 'o', 'in', 't', 'ing'], 'Ġcommitted': ['Ġc', 'om', 'm', 'it', 't', 'ed'], 'Ġproud': ['Ġp', 'r', 'ou', 'd'], 'Ġthanked': ['Ġt', 'h', 'an', 'k', 'ed'], 'Ġdedication': ['Ġd', 'ed', 'ic', 'at', 'ion'], 'Ġpassion': ['Ġp', 'as', 's', 'ion'], 'Ġreiterating': ['Ġre', 'it', 'er', 'at', 'ing'], 'Ġconsistently': ['Ġc', 'on', 's', 'is', 't', 'ent', 'ly'], 'Ġcompete': ['Ġc', 'om', 'p', 'et', 'e'], 'ĠStanley': ['ĠS', 't', 'an', 'le', 'y'], 'ĠDays': ['Ġ', 'D', 'a', 'y', 's'], 'Ġprotest': ['Ġp', 'ro', 't', 'es', 't'], 'ĠNationwide': ['Ġ', 'N', 'at', 'ion', 'w', 'i', 'd', 'e'], 'ĠArena': ['ĠA', 'r', 'en', 'a'], 'ĠFans': ['Ġ', 'F', 'an', 's'], 'Ġupset': ['Ġ', 'u', 'p', 's', 'et'], 'Ġcalling': ['Ġc', 'al', 'l', 'ing'], 'Ġprotested': ['Ġp', 'ro', 't', 'es', 't', 'ed'], 'Ġhost': ['Ġh', 'o', 'st'], 'Ġ2013': ['Ġ', '2', '0', '1', '3'], 'Ġrepresentative': ['Ġre', 'p', 'r', 'es', 'ent', 'at', 'i', 'v', 'e'], 'Ġstar': ['Ġs', 't', 'ar'], 'Ġrepresented': ['Ġre', 'p', 'r', 'es', 'ent', 'ed'], 'Ġrookie': ['Ġ', 'ro', 'o', 'k', 'i', 'e'], 'Ġparticipant': ['Ġp', 'ar', 'ti', 'c', 'i', 'p', 'an', 't'], 'ĠSuper': ['ĠS', 'u', 'p', 'er'], 'ĠSkills': ['ĠS', 'k', 'il', 'l', 's'], 'ĠAllstate': ['ĠA', 'l', 'l', 'st', 'at', 'e'], 'ĠInsurance': ['Ġ', 'I', 'n', 's', 'ur', 'an', 'c', 'e'], 'ĠBreakaway': ['Ġ', 'B', 're', 'a', 'k', 'a', 'w', 'a', 'y'], 'ĠChallenge': ['ĠC', 'h', 'al', 'l', 'en', 'g', 'e'], 'Ġjudged': ['Ġ', 'j', 'u', 'd', 'g', 'ed'], 'Ġ%': ['Ġ', '%'], 'Ġvote': ['Ġ', 'v', 'o', 't', 'e'], 'Ġroad': ['Ġ', 'ro', 'a', 'd'], 'ĠDrew': ['Ġ', 'D', 're', 'w'], 'ĠDoughty': ['Ġ', 'D', 'ou', 'g', 'h', 't', 'y'], 'ĠUpon': ['Ġ', 'U', 'p', 'on'], 'Ġfroze': ['Ġf', 'ro', 'z', 'e'], 'Ġexpiring': ['Ġe', 'x', 'p', 'i', 'r', 'ing'], 'ĠDean': ['Ġ', 'D', 'e', 'an'], 'ĠLombardi': ['Ġ', 'L', 'om', 'b', 'ar', 'd', 'i'], 'Ġcorrect': ['Ġc', 'or', 're', 'c', 't'], 'Ġextra': ['Ġe', 'x', 't', 'ra'], 'Ġcorrects': ['Ġc', 'or', 're', 'c', 't', 's'], 'Ġblog': ['Ġb', 'lo', 'g'], 'Ġamazing': ['Ġa', 'm', 'a', 'z', 'ing'], 'Ġcoincidence': ['Ġc', 'o', 'in', 'c', 'i', 'd', 'en', 'c', 'e'], 'Ġmad': ['Ġm', 'a', 'd'], 'Ġscramble': ['Ġs', 'c', 'ra', 'm', 'b', 'le'], 'Ġour': ['Ġ', 'ou', 'r'], 'Ġnet': ['Ġ', 'n', 'et'], 'Ġdying': ['Ġd', 'y', 'ing'], 'Ġhockey': ['Ġh', 'o', 'c', 'k', 'e', 'y'], 'Ġstopped': ['Ġs', 't', 'o', 'p', 'p', 'ed'], 'Ġadding': ['Ġa', 'd', 'd', 'ing'], 'ĠEither': ['Ġ', 'E', 'it', 'h', 'er'], 'Ġdeliberate': ['Ġd', 'el', 'i', 'b', 'er', 'at', 'e'], 'Ġstopping': ['Ġs', 't', 'o', 'p', 'p', 'ing'], 'Ġmalfunctioned': ['Ġm', 'al', 'f', 'u', 'n', 'c', 'ti', 'on', 'ed'], 'ĠSenior': ['ĠS', 'en', 'i', 'or'], 'ĠVice': ['Ġ', 'V', 'ic', 'e'], 'ĠOperations': ['Ġ', 'O', 'p', 'er', 'at', 'ion', 's'], 'ĠColin': ['ĠC', 'o', 'l', 'in'], 'ĠCampbell': ['ĠC', 'a', 'm', 'p', 'b', 'el', 'l'], 'Ġwronged': ['Ġw', 'r', 'on', 'g', 'ed'], 'Ġoutcome': ['Ġ', 'ou', 't', 'c', 'om', 'e'], 'Ġdelay': ['Ġd', 'el', 'a', 'y'], 'Ġnoticed': ['Ġ', 'n', 'o', 'ti', 'c', 'ed'], 'Ġice': ['Ġ', 'ic', 'e'], 'ĠToronto': ['Ġ', 'T', 'or', 'on', 't', 'o'], 'Ġpause': ['Ġp', 'a', 'u', 's', 'e'], 'Ġinvestigation': ['Ġin', 'v', 'es', 'ti', 'g', 'at', 'ion'], 'Ġtalking': ['Ġt', 'al', 'k', 'ing'], 'Ġmanufacturer': ['Ġm', 'an', 'u', 'f', 'ac', 't', 'ur', 'er'], 'Ġinterviewing': ['Ġin', 't', 'er', 'v', 'i', 'e', 'w', 'ing'], 'Ġweeks': ['Ġw', 'e', 'e', 'k', 's'], 'Ġunlike': ['Ġ', 'u', 'n', 'l', 'i', 'k', 'e'], 'Ġearlier': ['Ġe', 'ar', 'l', 'i', 'er'], 'Ġproposals': ['Ġp', 'ro', 'p', 'o', 's', 'al', 's'], 'Ġinvolving': ['Ġin', 'v', 'o', 'l', 'v', 'ing'], 'Ġactively': ['Ġa', 'c', 'ti', 'v', 'el', 'y'], 'Ġshopping': ['Ġs', 'h', 'o', 'p', 'p', 'ing'], 'Ġoptions': ['Ġ', 'o', 'p', 'ti', 'on', 's'], 'Ġimproving': ['Ġ', 'i', 'm', 'p', 'ro', 'v', 'ing'], 'ĠSpeculation': ['ĠS', 'p', 'ec', 'u', 'l', 'at', 'ion'], 'Ġask': ['Ġa', 's', 'k'], 'Ġcombination': ['Ġc', 'om', 'b', 'in', 'at', 'ion'], 'Ġproven': ['Ġp', 'ro', 'v', 'en'], 'Ġprospects': ['Ġp', 'ro', 's', 'p', 'ec', 't', 's'], 'Ġpicks': ['Ġp', 'ic', 'k', 's'], 'Ġdealt': ['Ġd', 'e', 'al', 't'], 'ĠAntoine': ['ĠA', 'n', 't', 'o', 'in', 'e'], 'ĠVermette': ['Ġ', 'V', 'er', 'm', 'et', 't', 'e'], 'ĠMcElhinney': ['ĠM', 'c', 'E', 'l', 'h', 'in', 'n', 'e', 'y'], 'ĠDespite': ['Ġ', 'D', 'es', 'p', 'it', 'e'], 'Ġbelieved': ['Ġb', 'el', 'i', 'e', 'v', 'ed'], 'Ġflexibility': ['Ġf', 'le', 'x', 'i', 'b', 'il', 'it', 'y'], 'ĠJack': ['Ġ', 'J', 'ac', 'k'], 'ĠJohnson': ['Ġ', 'J', 'o', 'h', 'n', 's', 'on'], 'ĠSamuel': ['ĠS', 'a', 'm', 'u', 'el'], 'ĠPahlsson': ['ĠP', 'a', 'h', 'l', 's', 's', 'on'], 'Ġfourth': ['Ġf', 'ou', 'r', 't', 'h'], 'ĠTaylor': ['Ġ', 'T', 'a', 'y', 'l', 'or'], 'ĠEllington': ['Ġ', 'E', 'l', 'l', 'ing', 't', 'on'], 'Ġrebuilding': ['Ġre', 'b', 'u', 'il', 'd', 'ing'], 'Ġphase': ['Ġp', 'h', 'as', 'e'], 'Ġhuge': ['Ġh', 'u', 'g', 'e'], 'Ġbringing': ['Ġb', 'r', 'ing', 'ing'], 'Ġassets': ['Ġa', 's', 's', 'et', 's'], 'Ġview': ['Ġ', 'v', 'i', 'e', 'w'], 'Ġthing': ['Ġt', 'h', 'ing'], 'Ġorganization': ['Ġ', 'or', 'g', 'an', 'i', 'z', 'at', 'ion'], 'Ġpersonally': ['Ġp', 'ers', 'on', 'al', 'ly'], 'Ġshutout': ['Ġs', 'h', 'u', 't', 'ou', 't'], 'ĠColorado': ['ĠC', 'o', 'l', 'or', 'a', 'd', 'o'], 'ĠAvalanche': ['ĠA', 'v', 'al', 'an', 'c', 'h', 'e'], 'Ġproceeded': ['Ġp', 'ro', 'c', 'e', 'ed', 'ed'], 'Ġposted': ['Ġp', 'o', 'st', 'ed'], 'Ġregulation': ['Ġre', 'g', 'u', 'l', 'at', 'ion'], 'Ġvictories': ['Ġ', 'v', 'ic', 't', 'or', 'i', 'es'], 'Ġdefeated': ['Ġd', 'e', 'f', 'e', 'at', 'ed'], 'Ġearn': ['Ġe', 'ar', 'n'], 'Ġimmediately': ['Ġ', 'i', 'm', 'm', 'ed', 'i', 'at', 'el', 'y'], 'Ġmatched': ['Ġm', 'at', 'c', 'h', 'ed'], 'Ġten': ['Ġt', 'en'], 'Ġeliminated': ['Ġ', 'el', 'i', 'm', 'in', 'at', 'ed'], 'Ġcontention': ['Ġc', 'on', 't', 'en', 'ti', 'on'], 'ĠShortly': ['ĠS', 'h', 'or', 't', 'ly'], 'Ġclinched': ['Ġc', 'l', 'in', 'c', 'h', 'ed'], 'ĠThree': ['Ġ', 'T', 'h', 're', 'e'], 'Ġskate': ['Ġs', 'k', 'at', 'e'], 'ĠGillies': ['Ġ', 'G', 'il', 'l', 'i', 'es'], 'ĠPlaying': ['ĠP', 'l', 'a', 'y', 'ing'], 'Ġsaves': ['Ġs', 'a', 'v', 'es'], 'Ġstarter': ['Ġs', 't', 'ar', 't', 'er'], 'Ġled': ['Ġ', 'l', 'ed'], 'Ġshots': ['Ġs', 'h', 'o', 't', 's'], 'ĠMike': ['ĠM', 'i', 'k', 'e'], 'Ġlowest': ['Ġ', 'lo', 'w', 'es', 't'], 'Ġshorthanded': ['Ġs', 'h', 'or', 't', 'h', 'an', 'd', 'ed'], 'Ġ64': ['Ġ', '6', '4'], 'Ġpenalty': ['Ġp', 'en', 'al', 't', 'y'], 'Ġkill': ['Ġ', 'k', 'il', 'l'], 'Ġ76': ['Ġ', '7', '6'], 'ĠFinishing': ['Ġ', 'F', 'in', 'is', 'h', 'ing'], 'Ġweighted': ['Ġw', 'e', 'i', 'g', 'h', 't', 'ed'], 'Ġ48': ['Ġ', '4', '8'], 'Ġdrafting': ['Ġd', 'ra', 'f', 't', 'ing'], 'Ġleapfrog': ['Ġ', 'le', 'a', 'p', 'f', 'ro', 'g'], 'Ġsecure': ['Ġs', 'ec', 'u', 're'], 'Ġdropped': ['Ġd', 'ro', 'p', 'p', 'ed'], 'Ġparticipations': ['Ġp', 'ar', 'ti', 'c', 'i', 'p', 'at', 'ion', 's'], 'Ġcoach': ['Ġc', 'o', 'ac', 'h'], 'Ġpress': ['Ġp', 'r', 'es', 's'], 'Ġconference': ['Ġc', 'on', 'f', 'er', 'en', 'c', 'e'], 'Ġcontinuously': ['Ġc', 'on', 't', 'in', 'u', 'ou', 's', 'ly'], 'Ġearned': ['Ġe', 'ar', 'n', 'ed'], 'ĠStandings': ['ĠS', 't', 'an', 'd', 'ing', 's'], 'Ġexpansion': ['Ġe', 'x', 'p', 'an', 's', 'ion'], 'ĠCentral': ['ĠC', 'ent', 'r', 'al'], 'ĠDivision': ['Ġ', 'D', 'i', 'v', 'is', 'ion'], 'ĠConference': ['ĠC', 'on', 'f', 'er', 'en', 'c', 'e'], 'ĠBlackhawks': ['Ġ', 'B', 'l', 'ac', 'k', 'h', 'a', 'w', 'k', 's'], 'ĠNashville': ['Ġ', 'N', 'as', 'h', 'v', 'il', 'le'], 'ĠPredators': ['ĠP', 'r', 'ed', 'at', 'or', 's'], 'Ġ36': ['Ġ', '3', '6'], 'ĠDivisions': ['Ġ', 'D', 'i', 'v', 'is', 'ion', 's'], 'ĠCE': ['ĠC', 'E'], 'ĠNW': ['Ġ', 'N', 'W'], 'ĠNorthwest': ['Ġ', 'N', 'or', 't', 'h', 'w', 'es', 't'], 'ĠPA': ['ĠP', 'A'], 'Ġbold': ['Ġb', 'o', 'l', 'd'], 'Ġy': ['Ġ', 'y'], 'ĠWon': ['Ġ', 'W', 'on'], 'Ġp': ['Ġp'], 'ĠPresidents': ['ĠP', 'r', 'es', 'i', 'd', 'ent', 's'], 'ĠSchedule': ['ĠS', 'c', 'h', 'ed', 'u', 'le'], 'Ġresults': ['Ġ', 'r', 'es', 'u', 'l', 't', 's'], 'Ġbackground': ['Ġb', 'ac', 'k', 'g', 'r', 'ou', 'n', 'd'], 'Ġindicates': ['Ġin', 'd', 'ic', 'at', 'es'], 'ĠSilver': ['ĠS', 'il', 'v', 'er'], 'ĠPlayer': ['ĠP', 'l', 'a', 'y', 'er'], 'Ġstatistics': ['Ġs', 't', 'at', 'is', 'ti', 'c', 's'], 'Ġcollectively': ['Ġc', 'o', 'l', 'le', 'c', 'ti', 'v', 'el', 'y'], 'ĠPenalty': ['ĠP', 'en', 'al', 't', 'y'], 'Ġinfractions': ['Ġin', 'f', 'r', 'ac', 'ti', 'on', 's'], 'Plus': ['P', 'l', 'u', 's'], 'Ġminus': ['Ġm', 'in', 'u', 's'], 'Ġstatistic': ['Ġs', 't', 'at', 'is', 'ti', 'c'], 'Ġeffect': ['Ġe', 'f', 'f', 'ec', 't'], 'ĠBelow': ['Ġ', 'B', 'el', 'o', 'w'], 'Ġlisting': ['Ġ', 'l', 'is', 't', 'ing'], 'ĠSkaters': ['ĠS', 'k', 'at', 'ers'], 'ĠPos': ['ĠP', 'o', 's'], 'ĠPosition': ['ĠP', 'o', 's', 'i', 'ti', 'on'], 'ĠGP': ['Ġ', 'G', 'P'], 'ĠG': ['Ġ', 'G'], 'ĠGoals': ['Ġ', 'G', 'o', 'al', 's'], 'ĠAssists': ['ĠA', 's', 's', 'is', 't', 's'], 'ĠPts': ['ĠP', 't', 's'], 'ĠPIM': ['ĠP', 'I', 'M'], 'Ġ+': ['Ġ', '+'], 'ĠPlus': ['ĠP', 'l', 'u', 's'], 'ĠGoaltenders': ['Ġ', 'G', 'o', 'al', 't', 'en', 'd', 'ers'], 'ĠPlayed': ['ĠP', 'l', 'a', 'y', 'ed'], 'ĠTOI': ['Ġ', 'T', 'O', 'I'], 'ĠTime': ['Ġ', 'T', 'i', 'm', 'e'], 'ĠIce': ['Ġ', 'I', 'c', 'e'], 'ĠWins': ['Ġ', 'W', 'in', 's'], 'ĠL': ['Ġ', 'L'], 'ĠLosses': ['Ġ', 'L', 'o', 's', 's', 'es'], 'ĠOT': ['Ġ', 'O', 'T'], 'ĠOvertime': ['Ġ', 'O', 'v', 'er', 'ti', 'm', 'e'], 'ĠGA': ['Ġ', 'G', 'A'], 'ĠAgainst': ['ĠA', 'g', 'a', 'in', 'st'], 'ĠGAA': ['Ġ', 'G', 'A', 'A'], 'ĠAverage': ['ĠA', 'v', 'er', 'a', 'g', 'e'], 'ĠSA': ['ĠS', 'A'], 'ĠShots': ['ĠS', 'h', 'o', 't', 's'], 'ĠSV': ['ĠS', 'V'], 'ĠSaves': ['ĠS', 'a', 'v', 'es'], 'ĠSv': ['ĠS', 'v'], 'ĠSave': ['ĠS', 'a', 'v', 'e'], 'ĠPercentage': ['ĠP', 'er', 'c', 'ent', 'a', 'g', 'e'], 'ĠSO': ['ĠS', 'O'], 'ĠShutouts': ['ĠS', 'h', 'u', 't', 'ou', 't', 's'], 'ĠâĢł': ['Ġ', 'â', 'Ģ', 'ł'], 'ĠDenotes': ['Ġ', 'D', 'en', 'o', 't', 'es'], 'Ġjoining': ['Ġ', 'j', 'o', 'in', 'ing'], 'ĠStats': ['ĠS', 't', 'at', 's'], 'Ġreflect': ['Ġre', 'f', 'le', 'c', 't'], 'ĠâĢ¡': ['Ġ', 'â', 'Ģ', '¡'], 'ĠTraded': ['Ġ', 'T', 'ra', 'd', 'ed'], 'Ġmid': ['Ġm', 'i', 'd'], 'ĠMilestones': ['ĠM', 'il', 'es', 't', 'on', 'es'], 'Ġremedy': ['Ġre', 'm', 'ed', 'y'], 'ĠUniversity': ['Ġ', 'U', 'n', 'i', 'v', 'ers', 'it', 'y'], 'ĠMichigan': ['ĠM', 'ic', 'h', 'i', 'g', 'an'], 'ĠShawn': ['ĠS', 'h', 'a', 'w', 'n'], 'ĠHunwick': ['Ġ', 'H', 'u', 'n', 'w', 'ic', 'k'], 'Ġtryout': ['Ġt', 'r', 'y', 'ou', 't'], 'ĠNCAA': ['Ġ', 'N', 'C', 'A', 'A'], 'ĠTournament': ['Ġ', 'T', 'ou', 'r', 'n', 'a', 'm', 'ent'], 'Ġskipped': ['Ġs', 'k', 'i', 'p', 'p', 'ed'], 'Ġastronomy': ['Ġa', 'st', 'r', 'on', 'om', 'y'], 'Ġdrove': ['Ġd', 'ro', 'v', 'e'], 'Ġworn': ['Ġw', 'or', 'n'], 'Ġ2003': ['Ġ', '2', '0', '0', '3'], 'ĠFord': ['Ġ', 'F', 'or', 'd'], 'ĠRanger': ['Ġ', 'R', 'an', 'g', 'er'], 'Ġdepth': ['Ġd', 'e', 'p', 't', 'h'], 'Ġchart': ['Ġc', 'h', 'ar', 't'], 'Ġbehest': ['Ġb', 'e', 'h', 'es', 't'], 'Ġteammates': ['Ġt', 'e', 'a', 'm', 'm', 'at', 'es'], 'Ġput': ['Ġp', 'u', 't'], 'Ġninth': ['Ġ', 'n', 'in', 't', 'h'], 'ĠConversely': ['ĠC', 'on', 'v', 'ers', 'el', 'y'], 'ĠVaclav': ['Ġ', 'V', 'ac', 'l', 'a', 'v'], 'ĠProspal': ['ĠP', 'ro', 's', 'p', 'al'], ',': [','], '000': ['0', '0', '0'], 'ĠTransactions': ['Ġ', 'T', 'r', 'an', 's', 'ac', 'ti', 'on', 's'], 'Ġparted': ['Ġp', 'ar', 't', 'ed'], 'Ġdefensemen': ['Ġd', 'e', 'f', 'en', 's', 'e', 'm', 'en'], 'ĠJan': ['Ġ', 'J', 'an'], 'ĠHejda': ['Ġ', 'H', 'e', 'j', 'd', 'a'], 'ĠAnton': ['ĠA', 'n', 't', 'on'], 'ĠStralman': ['ĠS', 't', 'r', 'al', 'm', 'an'], 'ĠSami': ['ĠS', 'a', 'm', 'i'], 'ĠLepisto': ['Ġ', 'L', 'e', 'p', 'is', 't', 'o'], 'ĠCommodore': ['ĠC', 'om', 'm', 'o', 'd', 'or', 'e'], 'Ġundervalued': ['Ġ', 'u', 'n', 'd', 'er', 'v', 'al', 'u', 'ed'], 'Ġoffers': ['Ġ', 'o', 'f', 'f', 'ers'], 'Ġunrestricted': ['Ġ', 'u', 'n', 'r', 'es', 't', 'r', 'ic', 't', 'ed'], 'Ġagents': ['Ġa', 'g', 'ent', 's'], 'Ġbig': ['Ġb', 'i', 'g'], 'Ġwaived': ['Ġw', 'a', 'i', 'v', 'ed'], 'Ġminors': ['Ġm', 'in', 'or', 's'], 'Ġreplace': ['Ġre', 'p', 'l', 'ac', 'e'], 'Ġdeparted': ['Ġd', 'e', 'p', 'ar', 't', 'ed'], 'ĠRadek': ['Ġ', 'R', 'a', 'd', 'e', 'k'], 'ĠMartinek': ['ĠM', 'ar', 't', 'in', 'e', 'k'], 'Ġmissing': ['Ġm', 'is', 's', 'ing'], 'ĠBrett': ['Ġ', 'B', 're', 't', 't'], 'ĠLebda': ['Ġ', 'L', 'e', 'b', 'd', 'a'], 'ĠGregorian': ['Ġ', 'G', 're', 'g', 'or', 'i', 'an'], 'ĠItalian': ['Ġ', 'I', 't', 'al', 'i', 'an'], 'ĠTorre': ['Ġ', 'T', 'or', 're'], 'ĠGregoriana': ['Ġ', 'G', 're', 'g', 'or', 'i', 'an', 'a'], 'ĠWinds': ['Ġ', 'W', 'in', 'd', 's'], 'Ġdei': ['Ġd', 'e', 'i'], 'ĠVenti': ['Ġ', 'V', 'en', 'ti'], 'ĠGallery': ['Ġ', 'G', 'al', 'l', 'er', 'y'], 'ĠMaps': ['ĠM', 'a', 'p', 's'], 'Ġconnects': ['Ġc', 'on', 'n', 'ec', 't', 's'], 'ĠVilla': ['Ġ', 'V', 'il', 'l', 'a'], 'ĠBelvedere': ['Ġ', 'B', 'el', 'v', 'ed', 'er', 'e'], 'ĠApostolic': ['ĠA', 'p', 'o', 'st', 'o', 'l', 'ic'], 'ĠPalace': ['ĠP', 'al', 'ac', 'e'], 'ĠVatican': ['Ġ', 'V', 'at', 'ic', 'an'], 'Ġ1578': ['Ġ1', '5', '7', '8'], 'Ġ1580': ['Ġ1', '5', '8', '0'], 'ĠBolognese': ['Ġ', 'B', 'o', 'lo', 'g', 'n', 'es', 'e'], 'Ġarchitect': ['Ġ', 'ar', 'c', 'h', 'it', 'ec', 't'], 'ĠOttaviano': ['Ġ', 'O', 't', 't', 'a', 'v', 'i', 'an', 'o'], 'ĠMascherino': ['ĠM', 'as', 'c', 'h', 'er', 'in', 'o'], 'Ġcredited': ['Ġc', 'r', 'ed', 'it', 'ed'], 'ĠCalendar': ['ĠC', 'al', 'en', 'd', 'ar'], 'ĠReform': ['Ġ', 'R', 'e', 'f', 'or', 'm'], 'Ġcommissioned': ['Ġc', 'om', 'm', 'is', 's', 'ion', 'ed'], 'ĠPope': ['ĠP', 'o', 'p', 'e'], 'ĠGregory': ['Ġ', 'G', 're', 'g', 'or', 'y'], 'ĠXIII': ['Ġ', 'X', 'I', 'I', 'I'], 'Ġpromulgated': ['Ġp', 'ro', 'm', 'u', 'l', 'g', 'at', 'ed'], 'Ġ1582': ['Ġ1', '5', '8', '2'], 'ĠSpecola': ['ĠS', 'p', 'ec', 'o', 'l', 'a'], 'ĠAstronomica': ['ĠA', 'st', 'r', 'on', 'om', 'ic', 'a'], 'ĠVaticana': ['Ġ', 'V', 'at', 'ic', 'an', 'a'], 'ĠObservatory': ['Ġ', 'O', 'b', 's', 'er', 'v', 'at', 'or', 'y'], 'ĠFour': ['Ġ', 'F', 'ou', 'r'], 'Ġstages': ['Ġs', 't', 'a', 'g', 'es'], 'Ġprogressive': ['Ġp', 'ro', 'g', 'r', 'es', 's', 'i', 'v', 'e'], 'Ġedifice': ['Ġ', 'ed', 'i', 'f', 'ic', 'e'], 'Ġastronomical': ['Ġa', 'st', 'r', 'on', 'om', 'ic', 'al'], 'Ġobservations': ['Ġ', 'o', 'b', 's', 'er', 'v', 'at', 'ion', 's'], 'Ġsundial': ['Ġs', 'u', 'n', 'd', 'i', 'al'], 'Ġconfirmation': ['Ġc', 'on', 'f', 'i', 'r', 'm', 'at', 'ion'], 'Ġreform': ['Ġre', 'f', 'or', 'm'], 'ĠJulian': ['Ġ', 'J', 'u', 'l', 'i', 'an'], 'Ġcalendar': ['Ġc', 'al', 'en', 'd', 'ar'], 'Ġstage': ['Ġs', 't', 'a', 'g', 'e'], 'ĠLeo': ['Ġ', 'L', 'e', 'o'], 'Ġmotu': ['Ġm', 'o', 't', 'u'], 'Ġproprio': ['Ġp', 'ro', 'p', 'r', 'i', 'o'], 'ĠUt': ['Ġ', 'U', 't'], 'Ġmysticam': ['Ġm', 'y', 's', 'ti', 'c', 'a', 'm'], 'Ġ1891': ['Ġ1', '8', '9', '1'], 'Ġ1572': ['Ġ1', '5', '7', '2'], 'Ġ1585': ['Ġ1', '5', '8', '5'], 'Ġdirective': ['Ġd', 'i', 're', 'c', 'ti', 'v', 'e'], 'Ġequip': ['Ġe', 'q', 'u', 'i', 'p'], 'Ġgreatest': ['Ġ', 'g', 're', 'at', 'es', 't'], 'Ġexperts': ['Ġe', 'x', 'p', 'er', 't', 's'], 'Ġappointed': ['Ġa', 'p', 'p', 'o', 'in', 't', 'ed'], 'ĠBC': ['Ġ', 'B', 'C'], 'Ġverify': ['Ġ', 'v', 'er', 'i', 'f', 'y'], 'Ġreforms': ['Ġre', 'f', 'or', 'm', 's'], 'ĠFr': ['Ġ', 'F', 'r'], 'ĠChristoph': ['ĠC', 'h', 'r', 'is', 't', 'o', 'p', 'h'], 'ĠClavius': ['ĠC', 'l', 'a', 'v', 'i', 'u', 's'], 'ĠJesuit': ['Ġ', 'J', 'es', 'u', 'it'], 'Ġmathematician': ['Ġm', 'at', 'h', 'e', 'm', 'at', 'ic', 'i', 'an'], 'ĠRoman': ['Ġ', 'R', 'om', 'an'], 'ĠCollege': ['ĠC', 'o', 'l', 'le', 'g', 'e'], 'Ġexpert': ['Ġe', 'x', 'p', 'er', 't'], 'Ġcommittee': ['Ġc', 'om', 'm', 'it', 't', 'e', 'e'], 'Ġsuggested': ['Ġs', 'u', 'g', 'g', 'es', 't', 'ed'], 'Ġ73': ['Ġ', '7', '3'], 'Ġmetres': ['Ġm', 'et', 'r', 'es'], 'Ġ240': ['Ġ', '2', '4', '0'], 'Ġflanked': ['Ġf', 'l', 'an', 'k', 'ed'], 'Ġdella': ['Ġd', 'el', 'l', 'a'], 'ĠPigna': ['ĠP', 'i', 'g', 'n', 'a'], 'Ġcourtyards': ['Ġc', 'ou', 'r', 't', 'y', 'ar', 'd', 's'], 'Ġinstrumentation': ['Ġin', 'st', 'r', 'u', 'm', 'ent', 'at', 'ion'], 'Ġobservation': ['Ġ', 'o', 'b', 's', 'er', 'v', 'at', 'ion'], 'Ġsun': ['Ġs', 'u', 'n'], 'Ġfalling': ['Ġf', 'al', 'l', 'ing'], 'Ġmeridian': ['Ġm', 'er', 'i', 'd', 'i', 'an'], 'ĠIgnazio': ['Ġ', 'I', 'g', 'n', 'a', 'z', 'i', 'o'], 'ĠDanti': ['Ġ', 'D', 'an', 'ti'], 'ĠPerugia': ['ĠP', 'er', 'u', 'g', 'i', 'a'], 'Ġcircular': ['Ġc', 'i', 'r', 'c', 'u', 'l', 'ar'], 'Ġmarble': ['Ġm', 'ar', 'b', 'le'], 'Ġplate': ['Ġp', 'l', 'at', 'e'], 'Ġcentre': ['Ġc', 'ent', 're'], 'Ġembellished': ['Ġe', 'm', 'b', 'el', 'l', 'is', 'h', 'ed'], 'Ġremains': ['Ġre', 'm', 'a', 'in', 's'], 'Ġundergone': ['Ġ', 'u', 'n', 'd', 'er', 'g', 'on', 'e'], 'Ġcenturies': ['Ġc', 'ent', 'ur', 'i', 'es'], 'Ġlibrarian': ['Ġ', 'l', 'i', 'b', 'r', 'ar', 'i', 'an'], 'ĠMgr': ['ĠM', 'g', 'r'], 'ĠFilippo': ['Ġ', 'F', 'il', 'i', 'p', 'p', 'o'], 'ĠLuigi': ['Ġ', 'L', 'u', 'i', 'g', 'i'], 'ĠGilii': ['Ġ', 'G', 'il', 'i', 'i'], 'Ġclergyman': ['Ġc', 'l', 'er', 'g', 'y', 'm', 'an'], 'ĠBasilica': ['Ġ', 'B', 'as', 'il', 'ic', 'a'], 'ĠEarlier': ['Ġ', 'E', 'ar', 'l', 'i', 'er'], 'Ġ1797': ['Ġ1', '7', '9', '7'], 'ĠPius': ['ĠP', 'i', 'u', 's'], 'ĠVI': ['Ġ', 'V', 'I'], 'Ġapproval': ['Ġa', 'p', 'p', 'ro', 'v', 'al'], 'Ġinscription': ['Ġin', 's', 'c', 'r', 'i', 'p', 'ti', 'on'], 'ĠSpecula': ['ĠS', 'p', 'ec', 'u', 'l', 'a'], 'Ġimplemented': ['Ġ', 'i', 'm', 'p', 'le', 'm', 'ent', 'ed'], 'ĠCardinal': ['ĠC', 'ar', 'd', 'in', 'al'], 'ĠZelada': ['Ġ', 'Z', 'el', 'a', 'd', 'a'], 'Ġenhance': ['Ġ', 'en', 'h', 'an', 'c', 'e'], 'Ġobservatory': ['Ġ', 'o', 'b', 's', 'er', 'v', 'at', 'or', 'y'], 'Ġapart': ['Ġa', 'p', 'ar', 't'], 'Ġnormal': ['Ġ', 'n', 'or', 'm', 'al'], 'Ġdevices': ['Ġd', 'e', 'v', 'ic', 'es'], 'Ġmeteorological': ['Ġm', 'et', 'e', 'or', 'o', 'lo', 'g', 'ic', 'al'], 'Ġmagnetic': ['Ġm', 'a', 'g', 'n', 'e', 'ti', 'c'], 'Ġseismograph': ['Ġs', 'e', 'is', 'm', 'o', 'g', 'ra', 'p', 'h'], 'Ġtransit': ['Ġt', 'r', 'an', 's', 'it'], 'Ġpendulum': ['Ġp', 'en', 'd', 'u', 'l', 'u', 'm'], 'ĠDolland': ['Ġ', 'D', 'o', 'l', 'l', 'an', 'd'], 'ĠTelescope': ['Ġ', 'T', 'el', 'es', 'c', 'o', 'p', 'e'], 'Ġfacilitated': ['Ġf', 'ac', 'il', 'it', 'at', 'ed'], 'Ġrecording': ['Ġre', 'c', 'or', 'd', 'ing'], 'Ġoccurrences': ['Ġ', 'o', 'c', 'c', 'ur', 'r', 'en', 'c', 'es'], 'Ġeclipse': ['Ġ', 'ec', 'l', 'i', 'p', 's', 'e'], 'Ġcomets': ['Ġc', 'om', 'et', 's'], 'ĠSatellites': ['ĠS', 'at', 'el', 'l', 'it', 'es'], 'ĠJupiter': ['Ġ', 'J', 'u', 'p', 'it', 'er'], 'ĠMercury': ['ĠM', 'er', 'c', 'ur', 'y'], 'Ġpatronage': ['Ġp', 'at', 'r', 'on', 'a', 'g', 'e'], 'Ġrotary': ['Ġ', 'ro', 't', 'ar', 'y'], 'Ġdomes': ['Ġd', 'om', 'es'], 'Ġstrategic': ['Ġs', 't', 'r', 'at', 'e', 'g', 'ic'], 'Ġlocations': ['Ġ', 'lo', 'c', 'at', 'ion', 's'], 'Ġ300': ['Ġ', '3', '0', '0'], 'Ġ400': ['Ġ', '4', '0', '0'], 'Ġfortification': ['Ġf', 'or', 'ti', 'f', 'ic', 'at', 'ion'], 'Ġthousand': ['Ġt', 'h', 'ou', 's', 'an', 'd'], 'Ġrespected': ['Ġ', 'r', 'es', 'p', 'ec', 't', 'ed'], 'Ġpolyglot': ['Ġp', 'o', 'ly', 'g', 'lo', 't'], 'Ġphysics': ['Ġp', 'h', 'y', 's', 'ic', 's'], 'Ġbiology': ['Ġb', 'i', 'o', 'lo', 'g', 'y'], 'Ġarcheology': ['Ġ', 'ar', 'c', 'h', 'e', 'o', 'lo', 'g', 'y'], 'ĠHebrew': ['Ġ', 'H', 'e', 'b', 're', 'w'], 'Ġlanguage': ['Ġ', 'l', 'an', 'g', 'u', 'a', 'g', 'e'], 'Ġ1821': ['Ġ1', '8', '2', '1'], 'Ġcontinuous': ['Ġc', 'on', 't', 'in', 'u', 'ou', 's'], 'Ġtwice': ['Ġt', 'w', 'ic', 'e'], 'ĠAM': ['ĠA', 'M'], 'ĠPM': ['ĠP', 'M'], 'Ġconforming': ['Ġc', 'on', 'f', 'or', 'm', 'ing'], 'Ġprogramme': ['Ġp', 'ro', 'g', 'ra', 'm', 'm', 'e'], 'ĠMannheim': ['ĠM', 'an', 'n', 'h', 'e', 'i', 'm'], 'ĠMeteorological': ['ĠM', 'et', 'e', 'or', 'o', 'lo', 'g', 'ic', 'al'], 'Ġmanuscript': ['Ġm', 'an', 'u', 's', 'c', 'r', 'i', 'p', 't'], 'Ġpreserved': ['Ġp', 'r', 'es', 'er', 'v', 'ed'], 'ĠSubsequent': ['ĠS', 'u', 'b', 's', 'e', 'q', 'u', 'ent'], 'Ġdiscontinued': ['Ġd', 'is', 'c', 'on', 't', 'in', 'u', 'ed'], 'ĠEstablished': ['Ġ', 'E', 'st', 'a', 'b', 'l', 'is', 'h', 'ed'], 'Ġ1787': ['Ġ1', '7', '8', '7'], 'ĠThird': ['Ġ', 'T', 'h', 'i', 'r', 'd'], 'Ġrevival': ['Ġre', 'v', 'i', 'v', 'al'], 'Ġinitiated': ['Ġin', 'i', 'ti', 'at', 'ed'], 'ĠBarnabite': ['Ġ', 'B', 'ar', 'n', 'a', 'b', 'it', 'e'], 'ĠFrancesco': ['Ġ', 'F', 'r', 'an', 'c', 'es', 'c', 'o'], 'ĠDenza': ['Ġ', 'D', 'en', 'z', 'a'], 'ĠHigh': ['Ġ', 'H', 'i', 'g', 'h'], 'Ġgenerous': ['Ġ', 'g', 'en', 'er', 'ou', 's'], 'Ġdonations': ['Ġd', 'on', 'at', 'ion', 's'], 'ĠHicks': ['Ġ', 'H', 'ic', 'k', 's'], 'ĠLondon': ['Ġ', 'L', 'on', 'd', 'on'], 'Ġautomatic': ['Ġa', 'u', 't', 'om', 'at', 'ic'], 'ĠParis': ['ĠP', 'ar', 'is'], 'Ġinch': ['Ġin', 'c', 'h'], 'Ġequatorial': ['Ġe', 'q', 'u', 'at', 'or', 'i', 'al'], 'Ġinstrument': ['Ġin', 'st', 'r', 'u', 'm', 'ent'], 'Ġclocks': ['Ġc', 'lo', 'c', 'k', 's'], 'Ġchronometers': ['Ġc', 'h', 'r', 'on', 'om', 'et', 'ers'], 'ĠModena': ['ĠM', 'o', 'd', 'en', 'a'], 'Ġ1888': ['Ġ1', '8', '8', '8'], 'Ġgift': ['Ġ', 'g', 'i', 'f', 't'], 'Ġtelescope': ['Ġt', 'el', 'es', 'c', 'o', 'p', 'e'], 'ĠFather': ['Ġ', 'F', 'at', 'h', 'er'], 'Ġjoined': ['Ġ', 'j', 'o', 'in', 'ed'], 'Ġ1889': ['Ġ1', '8', '8', '9'], 'Ġupgraded': ['Ġ', 'u', 'p', 'g', 'ra', 'd', 'ed'], 'Ġoverlooking': ['Ġ', 'o', 'v', 'er', 'lo', 'o', 'k', 'ing'], 'Ġborder': ['Ġb', 'or', 'd', 'er'], 'Ġdiameter': ['Ġd', 'i', 'a', 'm', 'et', 'er'], 'Ġ56': ['Ġ', '5', '6'], 'Ġthickness': ['Ġt', 'h', 'ic', 'k', 'n', 'es', 's'], 'Ġbear': ['Ġb', 'e', 'ar'], 'Ġload': ['Ġ', 'lo', 'a', 'd'], 'Ġphotographic': ['Ġp', 'h', 'o', 't', 'o', 'g', 'ra', 'p', 'h', 'ic'], 'Ġrefractor': ['Ġre', 'f', 'r', 'ac', 't', 'or'], 'ĠAugustinian': ['ĠA', 'u', 'g', 'u', 'st', 'in', 'i', 'an'], 'ĠRodriguez': ['Ġ', 'R', 'o', 'd', 'r', 'i', 'g', 'u', 'e', 'z'], 'Ġmeteorologist': ['Ġm', 'et', 'e', 'or', 'o', 'lo', 'g', 'is', 't'], 'Ġ1898': ['Ġ1', '8', '9', '8'], 'Ġ1905': ['Ġ1', '9', '0', '5'], 'Ġpromulgating': ['Ġp', 'ro', 'm', 'u', 'l', 'g', 'at', 'ing'], 'Ġseat': ['Ġs', 'e', 'at'], 'Ġdecision': ['Ġd', 'ec', 'is', 'ion'], 'Ġaltering': ['Ġ', 'al', 't', 'er', 'ing'], 'Ġroof': ['Ġ', 'ro', 'o', 'f'], 'Ġterrace': ['Ġt', 'er', 'r', 'ac', 'e'], 'ĠFourth': ['Ġ', 'F', 'ou', 'r', 't', 'h'], 'Ġremedying': ['Ġre', 'm', 'ed', 'y', 'ing'], 'Ġcommunicating': ['Ġc', 'om', 'm', 'u', 'n', 'ic', 'at', 'ing'], 'Ġtowers': ['Ġt', 'o', 'w', 'ers'], 'Ġhistorical': ['Ġh', 'is', 't', 'or', 'ic', 'al'], 'Ġcarry': ['Ġc', 'ar', 'r', 'y'], 'Ġlinking': ['Ġ', 'l', 'in', 'k', 'ing'], 'Ġfortified': ['Ġf', 'or', 'ti', 'f', 'i', 'ed'], 'Ġ83': ['Ġ', '8', '3'], 'Ġ272': ['Ġ', '2', '7', '2'], 'Ġbridge': ['Ġb', 'r', 'i', 'd', 'g', 'e'], 'Ġspanning': ['Ġs', 'p', 'an', 'n', 'ing'], 'Ġgap': ['Ġ', 'g', 'a', 'p'], 'Ġsemicircular': ['Ġs', 'e', 'm', 'ic', 'i', 'r', 'c', 'u', 'l', 'ar'], 'Ġbastion': ['Ġb', 'as', 'ti', 'on'], 'Ġgendarmes': ['Ġ', 'g', 'en', 'd', 'ar', 'm', 'es'], 'Ġheliograph': ['Ġh', 'el', 'i', 'o', 'g', 'ra', 'p', 'h'], 'Ġcamera': ['Ġc', 'a', 'm', 'er', 'a'], 'Ġphotoheliograph': ['Ġp', 'h', 'o', 't', 'o', 'h', 'el', 'i', 'o', 'g', 'ra', 'p', 'h'], 'ĠPio': ['ĠP', 'i', 'o'], 'Ġerected': ['Ġ', 'er', 'ec', 't', 'ed'], 'Ġresult': ['Ġ', 'r', 'es', 'u', 'l', 't'], 'Ġmodifications': ['Ġm', 'o', 'd', 'i', 'f', 'ic', 'at', 'ion', 's'], 'ĠPontifical': ['ĠP', 'on', 'ti', 'f', 'ic', 'al'], 'ĠAcademy': ['ĠA', 'c', 'a', 'd', 'e', 'm', 'y'], 'ĠLincei': ['Ġ', 'L', 'in', 'c', 'e', 'i'], 'Ġseismic': ['Ġs', 'e', 'is', 'm', 'ic'], 'Ġshifted': ['Ġs', 'h', 'i', 'f', 't', 'ed'], 'ĠValle': ['Ġ', 'V', 'al', 'le'], 'Ġdi': ['Ġd', 'i'], 'ĠPompei': ['ĠP', 'om', 'p', 'e', 'i'], 'ĠAstronomical': ['ĠA', 'st', 'r', 'on', 'om', 'ic', 'al'], 'Ġrooms': ['Ġ', 'ro', 'om', 's'], 'ĠRepsold': ['Ġ', 'R', 'e', 'p', 's', 'o', 'l', 'd'], 'Ġmachines': ['Ġm', 'ac', 'h', 'in', 'es'], 'Ġastrographic': ['Ġa', 'st', 'ro', 'g', 'ra', 'p', 'h', 'ic'], 'Ġplates': ['Ġp', 'l', 'at', 'es'], 'Ġexplanatory': ['Ġe', 'x', 'p', 'l', 'an', 'at', 'or', 'y'], 'Ġnotes': ['Ġ', 'n', 'o', 't', 'es'], 'Ġatlas': ['Ġ', 'at', 'l', 'as'], 'Ġstars': ['Ġs', 't', 'ar', 's'], 'ĠCharts': ['ĠC', 'h', 'ar', 't', 's'], 'Ġprinted': ['Ġp', 'r', 'in', 't', 'ed'], 'Ġsilver': ['Ġs', 'il', 'v', 'er'], 'Ġbromide': ['Ġb', 'ro', 'm', 'i', 'd', 'e'], 'ĠFeatures': ['Ġ', 'F', 'e', 'at', 'ur', 'es'], 'Ġmezzanine': ['Ġm', 'e', 'z', 'z', 'an', 'in', 'e'], 'Ġfamous': ['Ġf', 'a', 'm', 'ou', 's'], 'ĠSundial': ['ĠS', 'u', 'n', 'd', 'i', 'al'], 'ĠMeridian': ['ĠM', 'er', 'i', 'd', 'i', 'an'], 'Ġloggia': ['Ġ', 'lo', 'g', 'g', 'i', 'a'], 'ĠUrban': ['Ġ', 'U', 'r', 'b', 'an'], 'ĠVIII': ['Ġ', 'V', 'I', 'I', 'I'], 'Ġenclosed': ['Ġ', 'en', 'c', 'lo', 's', 'ed'], 'Ġsubsequently': ['Ġs', 'u', 'b', 's', 'e', 'q', 'u', 'ent', 'ly'], 'Ġdecorated': ['Ġd', 'ec', 'or', 'at', 'ed'], 'Ġsequences': ['Ġs', 'e', 'q', 'u', 'en', 'c', 'es'], 'Ġfrescoes': ['Ġf', 'r', 'es', 'c', 'o', 'es'], 'ĠLagi': ['Ġ', 'L', 'a', 'g', 'i'], 'ĠFlemish': ['Ġ', 'F', 'le', 'm', 'is', 'h'], 'ĠPaul': ['ĠP', 'a', 'u', 'l'], 'ĠMatthijs': ['ĠM', 'at', 't', 'h', 'i', 'j', 's'], 'ĠBril': ['Ġ', 'B', 'r', 'il'], 'ĠToday': ['Ġ', 'T', 'o', 'd', 'a', 'y'], 'ĠCristoforo': ['ĠC', 'r', 'is', 't', 'o', 'f', 'or', 'o'], 'ĠRoncalli': ['Ġ', 'R', 'on', 'c', 'al', 'l', 'i'], 'ĠMatteino': ['ĠM', 'at', 't', 'e', 'in', 'o'], 'Ġda': ['Ġd', 'a'], 'ĠSiena': ['ĠS', 'i', 'en', 'a'], 'ĠChristina': ['ĠC', 'h', 'r', 'is', 't', 'in', 'a'], 'ĠSweden': ['ĠS', 'w', 'ed', 'en'], 'ĠCatholicism': ['ĠC', 'at', 'h', 'o', 'l', 'ic', 'is', 'm'], 'Ġmodified': ['Ġm', 'o', 'd', 'i', 'f', 'i', 'ed'], 'Ġadditions': ['Ġa', 'd', 'd', 'i', 'ti', 'on', 's'], 'Ġcurrent': ['Ġc', 'ur', 'r', 'ent'], 'Ġsophisticated': ['Ġs', 'o', 'p', 'h', 'is', 'ti', 'c', 'at', 'ed'], 'Ġanemoscope': ['Ġ', 'an', 'e', 'm', 'o', 's', 'c', 'o', 'p', 'e'], 'Ġfixed': ['Ġf', 'i', 'x', 'ed'], 'Ġceiling': ['Ġc', 'e', 'il', 'ing'], 'Ġpapal': ['Ġp', 'a', 'p', 'al'], 'Ġcosmographer': ['Ġc', 'o', 's', 'm', 'o', 'g', 'ra', 'p', 'h', 'er'], 'Ġrunning': ['Ġ', 'r', 'u', 'n', 'n', 'ing'], 'Ġheight': ['Ġh', 'e', 'i', 'g', 'h', 't'], 'Ġnoon': ['Ġ', 'n', 'o', 'on'], 'Ġaccording': ['Ġa', 'c', 'c', 'or', 'd', 'ing'], 'Ġcontrast': ['Ġc', 'on', 't', 'r', 'as', 't'], 'Ġmechanism': ['Ġm', 'ec', 'h', 'an', 'is', 'm'], 'Ġstrength': ['Ġs', 't', 'r', 'en', 'g', 't', 'h'], 'Ġwind': ['Ġw', 'in', 'd'], 'Ġfunctioning': ['Ġf', 'u', 'n', 'c', 'ti', 'on', 'ing'], 'ĠAthens': ['ĠA', 't', 'h', 'en', 's'], 'Ġsource': ['Ġs', 'ou', 'r', 'c', 'e'], 'Ġinspiration': ['Ġin', 's', 'p', 'i', 'r', 'at', 'ion'], 'Ġhall': ['Ġh', 'al', 'l'], 'Ġrichly': ['Ġ', 'r', 'ic', 'h', 'ly'], 'Ġcases': ['Ġc', 'as', 'es'], 'Ġgaudy': ['Ġ', 'g', 'a', 'u', 'd', 'y'], 'Ġhills': ['Ġh', 'il', 'l', 's'], 'Ġcountryside': ['Ġc', 'ou', 'n', 't', 'r', 'y', 's', 'i', 'd', 'e'], 'ĠPantheons': ['ĠP', 'an', 't', 'h', 'e', 'on', 's'], 'Ġshipwrecks': ['Ġs', 'h', 'i', 'p', 'w', 're', 'c', 'k', 's'], 'ĠJesus': ['Ġ', 'J', 'es', 'u', 's'], 'Ġcalming': ['Ġc', 'al', 'm', 'ing'], 'Ġstorm': ['Ġs', 't', 'or', 'm'], 'Ġforth': ['Ġf', 'or', 't', 'h'], 'ĠGot': ['Ġ', 'G', 'o', 't'], 'ĠBe': ['Ġ', 'B', 'e'], 'ĠWay': ['Ġ', 'W', 'a', 'y'], 'Ġsongwriter': ['Ġs', 'on', 'g', 'w', 'r', 'it', 'er'], 'ĠMariah': ['ĠM', 'ar', 'i', 'a', 'h'], 'ĠCarey': ['ĠC', 'ar', 'e', 'y'], 'Ġtitled': ['Ġ', 'ti', 't', 'l', 'ed'], 'Ġalbum': ['Ġ', 'al', 'b', 'u', 'm'], 'ĠColumbia': ['ĠC', 'o', 'l', 'u', 'm', 'b', 'i', 'a'], 'ĠKingdom': ['Ġ', 'K', 'ing', 'd', 'om'], 'ĠRic': ['Ġ', 'R', 'ic'], 'ĠWake': ['Ġ', 'W', 'a', 'k', 'e'], 'Ġsession': ['Ġs', 'es', 's', 'ion'], 'Ġcomposition': ['Ġc', 'om', 'p', 'o', 's', 'i', 'ti', 'on'], 'Ġtrack': ['Ġt', 'r', 'ac', 'k'], 'Ġsocio': ['Ġs', 'o', 'c', 'i', 'o'], 'Ġpolitical': ['Ġp', 'o', 'l', 'i', 'ti', 'c', 'al'], 'Ġconscious': ['Ġc', 'on', 's', 'c', 'i', 'ou', 's'], 'ĠR': ['Ġ', 'R'], 'Ġpop': ['Ġp', 'o', 'p'], 'Ġaddresses': ['Ġa', 'd', 'd', 'r', 'es', 's', 'es'], 'Ġexistence': ['Ġe', 'x', 'is', 't', 'en', 'c', 'e'], 'Ġracism': ['Ġ', 'r', 'ac', 'is', 'm'], 'Ġaspirational': ['Ġa', 's', 'p', 'i', 'r', 'at', 'ion', 'al'], 'Ġgarnered': ['Ġ', 'g', 'ar', 'n', 'er', 'ed'], 'Ġmixed': ['Ġm', 'i', 'x', 'ed'], 'Ġreception': ['Ġre', 'c', 'e', 'p', 'ti', 'on'], 'Ġvocals': ['Ġ', 'v', 'o', 'c', 'al', 's'], 'Ġhighlights': ['Ġh', 'i', 'g', 'h', 'l', 'i', 'g', 'h', 't', 's'], 'Ġinjustices': ['Ġin', 'j', 'u', 's', 'ti', 'c', 'es'], 'ĠSingles': ['ĠS', 'ing', 'l', 'es'], 'ĠChart': ['ĠC', 'h', 'ar', 't'], 'ĠCo': ['ĠC', 'o'], 'ĠNarada': ['Ġ', 'N', 'ar', 'a', 'd', 'a'], 'ĠMichael': ['ĠM', 'ic', 'h', 'a', 'el'], 'ĠWalden': ['Ġ', 'W', 'al', 'd', 'en'], 'Ġappears': ['Ġa', 'p', 'p', 'e', 'ar', 's'], 'Ġengineered': ['Ġ', 'en', 'g', 'in', 'e', 'er', 'ed'], 'ĠBob': ['Ġ', 'B', 'o', 'b'], 'ĠCadway': ['ĠC', 'a', 'd', 'w', 'a', 'y'], 'ĠCove': ['ĠC', 'o', 'v', 'e'], 'ĠSound': ['ĠS', 'ou', 'n', 'd'], 'ĠStudios': ['ĠS', 't', 'u', 'd', 'i', 'o', 's'], 'ĠPower': ['ĠP', 'o', 'w', 'er'], 'Ġassisted': ['Ġa', 's', 's', 'is', 't', 'ed'], 'ĠDana': ['Ġ', 'D', 'an', 'a'], 'ĠJon': ['Ġ', 'J', 'on'], 'ĠChappelle': ['ĠC', 'h', 'a', 'p', 'p', 'el', 'le'], 'ĠDavid': ['Ġ', 'D', 'a', 'v', 'i', 'd'], 'ĠFrazer': ['Ġ', 'F', 'ra', 'z', 'er'], 'ĠTarpan': ['Ġ', 'T', 'ar', 'p', 'an'], 'ĠSan': ['ĠS', 'an'], 'ĠRafael': ['Ġ', 'R', 'a', 'f', 'a', 'el'], 'Ġkeyboards': ['Ġ', 'k', 'e', 'y', 'b', 'o', 'ar', 'd', 's'], 'Ġrhythm': ['Ġ', 'r', 'h', 'y', 't', 'h', 'm'], 'Ġengineering': ['Ġ', 'en', 'g', 'in', 'e', 'er', 'ing'], 'ĠBiancaniello': ['Ġ', 'B', 'i', 'an', 'c', 'an', 'i', 'el', 'lo'], 'ĠJoe': ['Ġ', 'J', 'o', 'e'], 'ĠFranco': ['Ġ', 'F', 'r', 'an', 'c', 'o'], 'ĠVernon': ['Ġ', 'V', 'er', 'n', 'on'], 'ĠRich': ['Ġ', 'R', 'ic', 'h'], 'ĠTancredo': ['Ġ', 'T', 'an', 'c', 'r', 'ed', 'o'], 'Ġperforming': ['Ġp', 'er', 'f', 'or', 'm', 'ing'], 'ĠAfanasieff': ['ĠA', 'f', 'an', 'as', 'i', 'e', 'f', 'f'], 'Ġsynth': ['Ġs', 'y', 'n', 't', 'h'], 'Ġhorns': ['Ġh', 'or', 'n', 's'], 'ĠBilly': ['Ġ', 'B', 'il', 'ly'], 'ĠT': ['Ġ', 'T'], 'ĠJamiliah': ['Ġ', 'J', 'a', 'm', 'il', 'i', 'a', 'h'], 'ĠMuhammed': ['ĠM', 'u', 'h', 'a', 'm', 'm', 'ed'], 'ĠEnsemble': ['Ġ', 'E', 'n', 's', 'e', 'm', 'b', 'le'], 'ĠCD': ['ĠC', 'D'], 'Ġremixes': ['Ġre', 'm', 'i', 'x', 'es'], 'Ġvinyl': ['Ġ', 'v', 'in', 'y', 'l'], 'ĠComposition': ['ĠC', 'om', 'p', 'o', 's', 'i', 'ti', 'on'], 'Ġgospel': ['Ġ', 'g', 'o', 's', 'p', 'el'], 'Ġactivism': ['Ġa', 'c', 'ti', 'v', 'is', 'm'], 'Ġgot': ['Ġ', 'g', 'o', 't'], 'Ġconnect': ['Ġc', 'on', 'n', 'ec', 't'], 'Ġbegins': ['Ġb', 'e', 'g', 'in', 's'], 'Ġdenouncing': ['Ġd', 'en', 'ou', 'n', 'c', 'ing'], 'Ġuplifting': ['Ġ', 'u', 'p', 'l', 'i', 'f', 't', 'ing'], 'Ġwe': ['Ġw', 'e'], 'Ġtolerant': ['Ġt', 'o', 'l', 'er', 'an', 't'], 'Ġresort': ['Ġ', 'r', 'es', 'or', 't'], 'ĠCouldn': ['ĠC', 'ou', 'l', 'd', 'n'], 'Ġaccept': ['Ġa', 'c', 'c', 'e', 'p', 't'], 'ĠCan': ['ĠC', 'an'], 'Ġourselves': ['Ġ', 'ou', 'r', 's', 'el', 'v', 'es'], 'Ġaware': ['Ġa', 'w', 'ar', 'e'], 'ĠCritical': ['ĠC', 'r', 'i', 'ti', 'c', 'al'], 'ĠChristgau': ['ĠC', 'h', 'r', 'is', 't', 'g', 'a', 'u'], 'Ġbrave': ['Ġb', 'ra', 'v', 'e'], 'Ġidealistic': ['Ġ', 'i', 'd', 'e', 'al', 'is', 'ti', 'c'], 'Ġdestitution': ['Ġd', 'es', 'ti', 't', 'u', 'ti', 'on'], 'ĠRalph': ['Ġ', 'R', 'al', 'p', 'h'], 'ĠNovak': ['Ġ', 'N', 'o', 'v', 'a', 'k'], 'ĠHiltbrand': ['Ġ', 'H', 'il', 't', 'b', 'r', 'an', 'd'], 'ĠGrogan': ['Ġ', 'G', 'ro', 'g', 'an'], 'Ġtestimony': ['Ġt', 'es', 'ti', 'm', 'on', 'y'], 'Ġtalent': ['Ġt', 'al', 'ent'], 'Ġwrite': ['Ġw', 'r', 'it', 'e'], 'Ġclarity': ['Ġc', 'l', 'ar', 'it', 'y'], 'Ġmakes': ['Ġm', 'a', 'k', 'es'], 'Ġmesmerizing': ['Ġm', 'es', 'm', 'er', 'i', 'z', 'ing'], 'Ġmark': ['Ġm', 'ar', 'k'], 'Ġtwenty': ['Ġt', 'w', 'ent', 'y'], 'ĠBillboard': ['Ġ', 'B', 'il', 'l', 'b', 'o', 'ar', 'd'], 'ĠTrevor': ['Ġ', 'T', 're', 'v', 'or'], 'ĠAnderson': ['ĠA', 'n', 'd', 'ers', 'on'], 'Ġ2015': ['Ġ', '2', '0', '1', '5'], 'Ġmelodic': ['Ġm', 'el', 'o', 'd', 'ic'], 'Ġopener': ['Ġ', 'o', 'p', 'en', 'er'], 'ĠVision': ['Ġ', 'V', 'is', 'ion'], 'ĠLove': ['Ġ', 'L', 'o', 'v', 'e'], 'Ġhighlighted': ['Ġh', 'i', 'g', 'h', 'l', 'i', 'g', 'h', 't', 'ed'], 'Ġstark': ['Ġs', 't', 'ar', 'k'], 'Ġlyrical': ['Ġ', 'ly', 'r', 'ic', 'al'], 'Ġdifferences': ['Ġd', 'i', 'f', 'f', 'er', 'en', 'c', 'es'], 'Ġwriting': ['Ġw', 'r', 'it', 'ing'], 'Ġdeploys': ['Ġd', 'e', 'p', 'lo', 'y', 's'], 'Ġwhistle': ['Ġw', 'h', 'is', 't', 'le'], 'Ġaim': ['Ġa', 'i', 'm'], 'Ġmemorable': ['Ġm', 'e', 'm', 'or', 'a', 'b', 'le'], 'Ġempty': ['Ġe', 'm', 'p', 't', 'y'], 'Ġstreet': ['Ġs', 't', 're', 'et'], 'Ġfollowed': ['Ġf', 'o', 'l', 'lo', 'w', 'ed'], 'Ġclips': ['Ġc', 'l', 'i', 'p', 's'], 'Ġdisadvantaged': ['Ġd', 'is', 'a', 'd', 'v', 'an', 't', 'a', 'g', 'ed'], 'Ġpoorer': ['Ġp', 'o', 'or', 'er'], 'Ġdaily': ['Ġd', 'a', 'il', 'y'], 'Ġdominoes': ['Ġd', 'om', 'in', 'o', 'es'], 'Ġwooden': ['Ġw', 'o', 'o', 'd', 'en'], 'Ġcrate': ['Ġc', 'r', 'at', 'e'], 'Ġgang': ['Ġ', 'g', 'an', 'g'], 'Ġfun': ['Ġf', 'u', 'n'], 'Ġelderly': ['Ġ', 'el', 'd', 'er', 'ly'], 'Ġhanging': ['Ġh', 'an', 'g', 'ing'], 'Ġnewspapers': ['Ġ', 'n', 'e', 'w', 's', 'p', 'a', 'p', 'ers'], 'Ġobese': ['Ġ', 'o', 'b', 'es', 'e'], 'Ġwalks': ['Ġw', 'al', 'k', 's'], 'ĠClips': ['ĠC', 'l', 'i', 'p', 's'], 'Ġleaning': ['Ġ', 'le', 'an', 'ing'], 'Ġsteps': ['Ġs', 't', 'e', 'p', 's'], 'Ġlooking': ['Ġ', 'lo', 'o', 'k', 'ing'], 'Ġhappening': ['Ġh', 'a', 'p', 'p', 'en', 'ing'], 'Ġshown': ['Ġs', 'h', 'o', 'w', 'n'], 'Ġchorus': ['Ġc', 'h', 'or', 'u', 's'], 'Ġeveryone': ['Ġe', 'v', 'er', 'y', 'on', 'e'], 'Ġdance': ['Ġd', 'an', 'c', 'e'], 'Ġjoyfully': ['Ġ', 'j', 'o', 'y', 'f', 'u', 'l', 'ly'], 'Ġchoir': ['Ġc', 'h', 'o', 'i', 'r'], 'Ġcrowded': ['Ġc', 'ro', 'w', 'd', 'ed'], 'Ġages': ['Ġa', 'g', 'es'], 'Ġbackgrounds': ['Ġb', 'ac', 'k', 'g', 'r', 'ou', 'n', 'd', 's'], 'Ġrejoicing': ['Ġre', 'j', 'o', 'ic', 'ing'], 'Ġneon': ['Ġ', 'n', 'e', 'on'], 'Ġsays': ['Ġs', 'a', 'y', 's'], 'ĠTrack': ['Ġ', 'T', 'r', 'ac', 'k'], 'Ġlistings': ['Ġ', 'l', 'is', 't', 'ing', 's'], 'ĠOriginal': ['Ġ', 'O', 'r', 'i', 'g', 'in', 'al'], 'Ġversion': ['Ġ', 'v', 'ers', 'ion'], 'Ġ52': ['Ġ', '5', '2'], 'Ġremix': ['Ġre', 'm', 'i', 'x'], 'ĠAlternative': ['ĠA', 'l', 't', 'er', 'n', 'at', 'i', 'v', 'e'], 'ĠVocal': ['Ġ', 'V', 'o', 'c', 'al'], 'ĠDub': ['Ġ', 'D', 'u', 'b'], 'ĠMix': ['ĠM', 'i', 'x'], 'ĠNebraska': ['Ġ', 'N', 'e', 'b', 'r', 'as', 'k', 'a'], 'ĠHighway': ['Ġ', 'H', 'i', 'g', 'h', 'w', 'a', 'y'], 'Ġ88': ['Ġ', '8', '8'], 'Ġhighway': ['Ġh', 'i', 'g', 'h', 'w', 'a', 'y'], 'Ġnorthwestern': ['Ġ', 'n', 'or', 't', 'h', 'w', 'es', 't', 'er', 'n'], 'Ġterminus': ['Ġt', 'er', 'm', 'in', 'u', 's'], 'ĠWyoming': ['Ġ', 'W', 'y', 'om', 'ing'], 'Ġ151': ['Ġ1', '5', '1'], 'ĠWYO': ['Ġ', 'W', 'Y', 'O'], 'Ġtravels': ['Ġt', 'ra', 'v', 'el', 's'], 'Ġeastward': ['Ġe', 'as', 't', 'w', 'ar', 'd'], 'Ġ71': ['Ġ', '7', '1'], 'ĠBridgeport': ['Ġ', 'B', 'r', 'i', 'd', 'g', 'e', 'p', 'or', 't'], 'Ġends': ['Ġ', 'en', 'd', 's'], 'Ġintersection': ['Ġin', 't', 'ers', 'ec', 'ti', 'on'], 'Ġ385': ['Ġ', '3', '8', '5'], 'Ġ92': ['Ġ', '9', '2'], 'Ġ1986': ['Ġ1', '9', '8', '6'], 'ĠRoute': ['Ġ', 'R', 'ou', 't', 'e'], 'ĠCounty': ['ĠC', 'ou', 'n', 't', 'y'], 'Ġnortheast': ['Ġ', 'n', 'or', 't', 'h', 'e', 'as', 't'], 'Ġbends': ['Ġb', 'en', 'd', 's'], 'Ġmile': ['Ġm', 'i', 'le'], 'Ġ32': ['Ġ', '3', '2'], 'Ġintersects': ['Ġin', 't', 'ers', 'ec', 't', 's'], 'Ġstreets': ['Ġs', 't', 're', 'et', 's'], 'Ġrural': ['Ġ', 'r', 'ur', 'al'], 'Ġfarmland': ['Ġf', 'ar', 'm', 'l', 'an', 'd'], 'Ġconcurrent': ['Ġc', 'on', 'c', 'ur', 'r', 'ent'], 'Ġconcurrency': ['Ġc', 'on', 'c', 'ur', 'r', 'en', 'c', 'y'], 'Ġtravel': ['Ġt', 'ra', 'v', 'el'], 'Ġsixteen': ['Ġs', 'i', 'x', 't', 'e', 'en'], 'Ġenters': ['Ġ', 'ent', 'ers'], 'ĠMorrill': ['ĠM', 'or', 'r', 'il', 'l'], 'Ġcrosses': ['Ġc', 'ro', 's', 's', 'es'], 'ĠPumpkin': ['ĠP', 'u', 'm', 'p', 'k', 'in'], 'ĠCreek': ['ĠC', 're', 'e', 'k'], 'Ġunincorporated': ['Ġ', 'u', 'n', 'in', 'c', 'or', 'p', 'or', 'at', 'ed'], 'Ġcommunity': ['Ġc', 'om', 'm', 'u', 'n', 'it', 'y'], 'ĠRedington': ['Ġ', 'R', 'ed', 'ing', 't', 'on'], 'Ġrock': ['Ġ', 'ro', 'c', 'k'], 'Ġformations': ['Ġf', 'or', 'm', 'at', 'ion', 's'], 'ĠCourthouse': ['ĠC', 'ou', 'r', 't', 'h', 'ou', 's', 'e'], 'ĠJail': ['Ġ', 'J', 'a', 'il'], 'ĠRocks': ['Ġ', 'R', 'o', 'c', 'k', 's'], 'Ġvisible': ['Ġ', 'v', 'is', 'i', 'b', 'le'], 'Ġtoward': ['Ġt', 'o', 'w', 'ar', 'd'], 'Ġrailroad': ['Ġ', 'ra', 'il', 'ro', 'a', 'd'], 'ĠBNSF': ['Ġ', 'B', 'N', 'S', 'F'], 'ĠRailway': ['Ġ', 'R', 'a', 'il', 'w', 'a', 'y'], 'ĠRoads': ['Ġ', 'R', 'o', 'a', 'd', 's'], 'ĠNDOR': ['Ġ', 'N', 'D', 'O', 'R'], 'Ġcalculated': ['Ġc', 'al', 'c', 'u', 'l', 'at', 'ed'], 'Ġ410': ['Ġ', '4', '1', '0'], 'Ġtraveling': ['Ġt', 'ra', 'v', 'el', 'ing'], 'Ġ315': ['Ġ', '3', '1', '5'], 'Ġcounty': ['Ġc', 'ou', 'n', 't', 'y'], 'Ġexpressed': ['Ġe', 'x', 'p', 'r', 'es', 's', 'ed'], 'Ġannual': ['Ġ', 'an', 'n', 'u', 'al'], 'Ġtraffic': ['Ġt', 'ra', 'f', 'f', 'ic'], 'ĠAADT': ['ĠA', 'A', 'D', 'T'], 'ĠOnly': ['Ġ', 'O', 'n', 'ly'], 'ĠSystem': ['ĠS', 'y', 'st', 'e', 'm'], 'ĠNHS': ['Ġ', 'N', 'H', 'S'], 'Ġnetwork': ['Ġ', 'n', 'et', 'w', 'or', 'k'], 'Ġhighways': ['Ġh', 'i', 'g', 'h', 'w', 'a', 'y', 's'], 'Ġidentified': ['Ġ', 'i', 'd', 'en', 'ti', 'f', 'i', 'ed'], 'Ġimportant': ['Ġ', 'i', 'm', 'p', 'or', 't', 'an', 't'], 'Ġeconomy': ['Ġ', 'ec', 'on', 'om', 'y'], 'Ġmobility': ['Ġm', 'o', 'b', 'il', 'it', 'y'], 'Ġdefense': ['Ġd', 'e', 'f', 'en', 's', 'e'], 'Ġunofficially': ['Ġ', 'u', 'n', 'o', 'f', 'f', 'ic', 'i', 'al', 'ly'], 'Ġconnecting': ['Ġc', 'on', 'n', 'ec', 't', 'ing'], 'Ġ86': ['Ġ', '8', '6'], 'Ġadequate': ['Ġa', 'd', 'e', 'q', 'u', 'at', 'e'], 'Ġlegal': ['Ġ', 'le', 'g', 'al'], 'Ġdefine': ['Ġd', 'e', 'f', 'in', 'e'], 'Ġrenumbered': ['Ġ', 'r', 'en', 'u', 'm', 'b', 'er', 'ed'], 'Ġrerouted': ['Ġ', 'r', 'er', 'ou', 't', 'ed'], 'Ġalignment': ['Ġ', 'al', 'i', 'g', 'n', 'm', 'ent'], 'ĠBetween': ['Ġ', 'B', 'et', 'w', 'e', 'en'], 'Ġ1981': ['Ġ1', '9', '8', '1'], 'Ġ82': ['Ġ', '8', '2'], 'Ġextending': ['Ġe', 'x', 't', 'en', 'd', 'ing'], 'Ġintersections': ['Ġin', 't', 'ers', 'ec', 'ti', 'on', 's'], 'ĠUSS': ['Ġ', 'U', 'S', 'S'], 'ĠAtlanta': ['ĠA', 't', 'l', 'an', 't', 'a'], 'Ġcasemate': ['Ġc', 'as', 'e', 'm', 'at', 'e'], 'ĠNavies': ['Ġ', 'N', 'a', 'v', 'i', 'es'], 'ĠScottish': ['ĠS', 'c', 'o', 't', 'ti', 's', 'h'], 'Ġblockade': ['Ġb', 'lo', 'c', 'k', 'a', 'd', 'e'], 'Ġrunner': ['Ġ', 'r', 'u', 'n', 'n', 'er'], 'ĠFingal': ['Ġ', 'F', 'ing', 'al'], 'ĠConfederacy': ['ĠC', 'on', 'f', 'ed', 'er', 'ac', 'y'], 'Ġrun': ['Ġ', 'r', 'u', 'n'], 'ĠSavannah': ['ĠS', 'a', 'v', 'an', 'n', 'a', 'h'], 'ĠGeorgia': ['Ġ', 'G', 'e', 'or', 'g', 'i', 'a'], 'Ġattempts': ['Ġ', 'at', 't', 'e', 'm', 'p', 't', 's'], 'Ġblockaders': ['Ġb', 'lo', 'c', 'k', 'a', 'd', 'ers'], 'Ġship': ['Ġs', 'h', 'i', 'p'], 'Ġcaptured': ['Ġc', 'a', 'p', 't', 'ur', 'ed'], 'Ġmonitors': ['Ġm', 'on', 'it', 'or', 's'], 'Ġaground': ['Ġa', 'g', 'r', 'ou', 'n', 'd'], 'Ġfloated': ['Ġf', 'lo', 'at', 'ed'], 'Ġrearmed': ['Ġre', 'ar', 'm', 'ed'], 'Ġdeployed': ['Ġd', 'e', 'p', 'lo', 'y', 'ed'], 'Ġsupporting': ['Ġs', 'u', 'p', 'p', 'or', 't', 'ing'], 'Ġ1865': ['Ġ1', '8', '6', '5'], 'Ġreserve': ['Ġ', 'r', 'es', 'er', 'v', 'e'], 'ĠSeveral': ['ĠS', 'e', 'v', 'er', 'al'], 'ĠHaiti': ['Ġ', 'H', 'a', 'i', 'ti'], 'Ġsea': ['Ġs', 'e', 'a'], 'Ġ1869': ['Ġ1', '8', '6', '9'], 'Ġvoyage': ['Ġ', 'v', 'o', 'y', 'a', 'g', 'e'], 'Ġmerchantman': ['Ġm', 'er', 'c', 'h', 'an', 't', 'm', 'an'], 'ĠThomson': ['Ġ', 'T', 'h', 'om', 's', 'on'], 'ĠClyde': ['ĠC', 'ly', 'd', 'e'], 'ĠBank': ['Ġ', 'B', 'an', 'k'], 'ĠIron': ['Ġ', 'I', 'r', 'on'], 'ĠShipyard': ['ĠS', 'h', 'i', 'p', 'y', 'ar', 'd'], 'ĠGovan': ['Ġ', 'G', 'o', 'v', 'an'], 'ĠGlasgow': ['Ġ', 'G', 'l', 'as', 'g', 'o', 'w'], 'ĠScotland': ['ĠS', 'c', 'o', 't', 'l', 'an', 'd'], 'ĠMidshipman': ['ĠM', 'i', 'd', 's', 'h', 'i', 'p', 'm', 'an'], 'ĠDabney': ['Ġ', 'D', 'a', 'b', 'n', 'e', 'y'], 'ĠScales': ['ĠS', 'c', 'al', 'es'], 'Ġmasted': ['Ġm', 'as', 't', 'ed'], 'Ġhulled': ['Ġh', 'u', 'l', 'l', 'ed'], 'Ġ189': ['Ġ1', '8', '9'], 'Ġ57': ['Ġ', '5', '7'], 'Ġbeam': ['Ġb', 'e', 'a', 'm'], 'Ġtonnage': ['Ġt', 'on', 'n', 'a', 'g', 'e'], 'Ġ700': ['Ġ', '7', '0', '0'], 'Ġtons': ['Ġt', 'on', 's'], 'Ġbm': ['Ġb', 'm'], 'Ġequipped': ['Ġe', 'q', 'u', 'i', 'p', 'p', 'ed'], 'Ġvertical': ['Ġ', 'v', 'er', 'ti', 'c', 'al'], 'Ġcylinder': ['Ġc', 'y', 'l', 'in', 'd', 'er'], 'Ġdirect': ['Ġd', 'i', 're', 'c', 't'], 'Ġacting': ['Ġa', 'c', 't', 'ing'], 'Ġsteam': ['Ġs', 't', 'e', 'a', 'm'], 'Ġengines': ['Ġ', 'en', 'g', 'in', 'es'], 'Ġgenerated': ['Ġ', 'g', 'en', 'er', 'at', 'ed'], 'Ġflue': ['Ġf', 'l', 'u', 'e'], 'Ġtubular': ['Ġt', 'u', 'b', 'u', 'l', 'ar'], 'Ġboiler': ['Ġb', 'o', 'il', 'er'], 'Ġspeed': ['Ġs', 'p', 'e', 'ed'], 'Ġknots': ['Ġ', 'k', 'n', 'o', 't', 's'], 'Ġh': ['Ġh'], 'Ġmph': ['Ġm', 'p', 'h'], 'Ġbore': ['Ġb', 'or', 'e'], 'Ġinches': ['Ġin', 'c', 'h', 'es'], 'Ġ991': ['Ġ', '9', '9', '1'], 'Ġmm': ['Ġm', 'm'], 'Ġstroke': ['Ġs', 't', 'ro', 'k', 'e'], 'Ġ762': ['Ġ', '7', '6', '2'], 'Ġports': ['Ġp', 'or', 't', 's'], 'ĠHutcheson': ['Ġ', 'H', 'u', 't', 'c', 'h', 'es', 'on'], 'ĠHighland': ['Ġ', 'H', 'i', 'g', 'h', 'l', 'an', 'd'], 'ĠService': ['ĠS', 'er', 'v', 'ic', 'e'], 'ĠD': ['Ġ', 'D'], 'ĠBulloch': ['Ġ', 'B', 'u', 'l', 'lo', 'c', 'h'], 'Ġprimary': ['Ġp', 'r', 'i', 'm', 'ar', 'y'], 'ĠBritain': ['Ġ', 'B', 'r', 'it', 'a', 'in'], 'Ġdeliver': ['Ġd', 'el', 'i', 'v', 'er'], 'Ġsupplies': ['Ġs', 'u', 'p', 'p', 'l', 'i', 'es'], 'Ġdisguise': ['Ġd', 'is', 'g', 'u', 'is', 'e'], 'Ġcargo': ['Ġc', 'ar', 'g', 'o'], 'Ġcrew': ['Ġc', 're', 'w'], 'ĠBermuda': ['Ġ', 'B', 'er', 'm', 'u', 'd', 'a'], 'ĠNassau': ['Ġ', 'N', 'as', 's', 'a', 'u'], 'ĠBahamas': ['Ġ', 'B', 'a', 'h', 'a', 'm', 'as'], 'Ġloaded': ['Ġ', 'lo', 'a', 'd', 'ed'], 'ĠGreenock': ['Ġ', 'G', 're', 'en', 'o', 'c', 'k'], 'ĠBullock': ['Ġ', 'B', 'u', 'l', 'lo', 'c', 'k'], 'Ġpassengers': ['Ġp', 'as', 's', 'en', 'g', 'ers'], 'Ġattempt': ['Ġ', 'at', 't', 'e', 'm', 'p', 't'], 'Ġrendezvoused': ['Ġ', 'r', 'en', 'd', 'e', 'z', 'v', 'ou', 's', 'ed'], 'ĠHolyhead': ['Ġ', 'H', 'o', 'ly', 'h', 'e', 'a', 'd'], 'Ġnight': ['Ġ', 'n', 'i', 'g', 'h', 't'], 'Ġslowly': ['Ġs', 'lo', 'w', 'ly'], 'Ġrounding': ['Ġ', 'r', 'ou', 'n', 'd', 'ing'], 'Ġbreakwater': ['Ġb', 're', 'a', 'k', 'w', 'at', 'er'], 'Ġrammed': ['Ġ', 'ra', 'm', 'm', 'ed'], 'Ġsank': ['Ġs', 'an', 'k'], 'ĠAustrian': ['ĠA', 'u', 'st', 'r', 'i', 'an'], 'Ġbrig': ['Ġb', 'r', 'i', 'g'], 'ĠSiccardi': ['ĠS', 'ic', 'c', 'ar', 'd', 'i'], 'Ġswinging': ['Ġs', 'w', 'ing', 'ing'], 'Ġanchor': ['Ġ', 'an', 'c', 'h', 'or'], 'Ġlights': ['Ġ', 'l', 'i', 'g', 'h', 't', 's'], 'Ġembarked': ['Ġe', 'm', 'b', 'ar', 'k', 'ed'], 'Ġsteamer': ['Ġs', 't', 'e', 'a', 'm', 'er'], 'Ġinstructing': ['Ġin', 'st', 'r', 'u', 'c', 't', 'ing'], 'Ġsettle': ['Ġs', 'et', 't', 'le'], 'Ġdamages': ['Ġd', 'a', 'm', 'a', 'g', 'es'], 'Ġowners': ['Ġ', 'o', 'w', 'n', 'ers'], 'Ġafford': ['Ġa', 'f', 'f', 'or', 'd'], 'Ġaffair': ['Ġa', 'f', 'f', 'a', 'i', 'r'], 'Ġlest': ['Ġ', 'l', 'es', 't'], 'Ġdetained': ['Ġd', 'et', 'a', 'in', 'ed'], 'Ġport': ['Ġp', 'or', 't'], 'Ġanyone': ['Ġ', 'an', 'y', 'on', 'e'], 'Ġobjected': ['Ġ', 'o', 'b', 'j', 'ec', 't', 'ed'], 'Ġplan': ['Ġp', 'l', 'an'], 'Ġjoin': ['Ġ', 'j', 'o', 'in'], 'Ġslip': ['Ġs', 'l', 'i', 'p'], 'Ġsafely': ['Ġs', 'a', 'f', 'el', 'y'], 'Ġestuary': ['Ġ', 'es', 't', 'u', 'ar', 'y'], 'Ġfog': ['Ġf', 'o', 'g'], 'Ġsighting': ['Ġs', 'i', 'g', 'h', 't', 'ing'], 'Ġdischarging': ['Ġd', 'is', 'c', 'h', 'ar', 'g', 'ing'], 'Ġwent': ['Ġw', 'ent'], 'ĠRichmond': ['Ġ', 'R', 'ic', 'h', 'm', 'on', 'd'], 'Ġconfer': ['Ġc', 'on', 'f', 'er'], 'ĠStephen': ['ĠS', 't', 'e', 'p', 'h', 'en'], 'ĠMallory': ['ĠM', 'al', 'l', 'or', 'y'], 'ĠSecretary': ['ĠS', 'ec', 're', 't', 'ar', 'y'], 'Ġendorsed': ['Ġ', 'en', 'd', 'or', 's', 'ed'], 'Ġcotton': ['Ġc', 'o', 't', 't', 'on'], 'Ġsell': ['Ġs', 'el', 'l'], 'Ġships': ['Ġs', 'h', 'i', 'p', 's'], 'Ġcoal': ['Ġc', 'o', 'al'], 'Ġimpossible': ['Ġ', 'i', 'm', 'p', 'o', 's', 's', 'i', 'b', 'le'], 'Ġcontrolled': ['Ġc', 'on', 't', 'ro', 'l', 'l', 'ed'], 'Ġevery': ['Ġe', 'v', 'er', 'y'], 'Ġchannel': ['Ġc', 'h', 'an', 'n', 'el'], 'Ġaided': ['Ġa', 'i', 'd', 'ed'], 'Ġoccupation': ['Ġ', 'o', 'c', 'c', 'u', 'p', 'at', 'ion'], 'ĠTybee': ['Ġ', 'T', 'y', 'b', 'e', 'e'], 'ĠIsland': ['Ġ', 'I', 's', 'l', 'an', 'd'], 'Ġhopeless': ['Ġh', 'o', 'p', 'el', 'es', 's'], 'Ġbrothers': ['Ġb', 'ro', 't', 'h', 'ers'], 'ĠAsa': ['ĠA', 's', 'a'], 'ĠNelson': ['Ġ', 'N', 'el', 's', 'on'], 'ĠTift': ['Ġ', 'T', 'i', 'f', 't'], 'Ġconvert': ['Ġc', 'on', 'v', 'er', 't'], 'Ġfinanced': ['Ġf', 'in', 'an', 'c', 'ed'], 'Ġcontributions': ['Ġc', 'on', 't', 'r', 'i', 'b', 'u', 'ti', 'on', 's'], 'Ġcut': ['Ġc', 'u', 't'], 'Ġdeck': ['Ġd', 'ec', 'k'], 'Ġsponsons': ['Ġs', 'p', 'on', 's', 'on', 's'], 'Ġsides': ['Ġs', 'i', 'd', 'es'], 'Ġhull': ['Ġh', 'u', 'l', 'l'], 'Ġconversion': ['Ġc', 'on', 'v', 'ers', 'ion'], 'Ġ204': ['Ġ', '2', '0', '4'], 'Ġ41': ['Ġ', '4', '1'], 'Ġdisplaced': ['Ġd', 'is', 'p', 'l', 'ac', 'ed'], 'Ġ006': ['Ġ', '0', '0', '6'], 'Ġ022': ['Ġ', '0', '2', '2'], 'Ġt': ['Ġt'], 'Ġarmor': ['Ġ', 'ar', 'm', 'or'], 'Ġangled': ['Ġ', 'an', 'g', 'l', 'ed'], 'ĠÂ°': ['Ġ', 'Â', '°'], 'Ġhorizontal': ['Ġh', 'or', 'i', 'z', 'on', 't', 'al'], 'Ġlayers': ['Ġ', 'l', 'a', 'y', 'ers'], 'Ġrails': ['Ġ', 'ra', 'il', 's'], 'Ġrolled': ['Ġ', 'ro', 'l', 'l', 'ed'], 'Ġ180': ['Ġ1', '8', '0'], 'Ġlayer': ['Ġ', 'l', 'a', 'y', 'er'], 'Ġvertically': ['Ġ', 'v', 'er', 'ti', 'c', 'al', 'ly'], 'Ġinner': ['Ġin', 'n', 'er'], 'Ġhorizontally': ['Ġh', 'or', 'i', 'z', 'on', 't', 'al', 'ly'], 'Ġbacked': ['Ġb', 'ac', 'k', 'ed'], 'Ġoak': ['Ġ', 'o', 'a', 'k'], 'Ġoriented': ['Ġ', 'or', 'i', 'ent', 'ed'], 'Ġ191': ['Ġ1', '9', '1'], 'Ġpine': ['Ġp', 'in', 'e'], 'Ġ508': ['Ġ', '5', '0', '8'], 'Ġwaterline': ['Ġw', 'at', 'er', 'l', 'in', 'e'], 'Ġ59': ['Ġ', '5', '9'], 'Ġpyramidal': ['Ġp', 'y', 'ra', 'm', 'i', 'd', 'al'], 'Ġpilothouse': ['Ġp', 'il', 'o', 't', 'h', 'ou', 's', 'e'], 'Ġarmored': ['Ġ', 'ar', 'm', 'or', 'ed'], 'Ġrectangular': ['Ġre', 'c', 't', 'an', 'g', 'u', 'l', 'ar'], 'Ġpierced': ['Ġp', 'i', 'er', 'c', 'ed'], 'Ġnarrow': ['Ġ', 'n', 'ar', 'ro', 'w'], 'Ġbow': ['Ġb', 'o', 'w'], 'Ġstern': ['Ġs', 't', 'er', 'n'], 'Ġprotected': ['Ġp', 'ro', 't', 'ec', 't', 'ed'], 'Ġshutter': ['Ġs', 'h', 'u', 't', 't', 'er'], 'Ġriveted': ['Ġ', 'r', 'i', 'v', 'et', 'ed'], 'Ġelevate': ['Ġ', 'el', 'e', 'v', 'at', 'e'], 'Ġbanded': ['Ġb', 'an', 'd', 'ed'], 'Ġ178': ['Ġ1', '7', '8'], 'ĠBrooke': ['Ġ', 'B', 'ro', 'o', 'k', 'e'], 'Ġpivot': ['Ġp', 'i', 'v', 'o', 't'], 'Ġmounts': ['Ġm', 'ou', 'n', 't', 's'], 'Ġoccupied': ['Ġ', 'o', 'c', 'c', 'u', 'p', 'i', 'ed'], 'Ġ163': ['Ġ1', '6', '3'], 'Ġweighed': ['Ġw', 'e', 'i', 'g', 'h', 'ed'], 'Ġpounds': ['Ġp', 'ou', 'n', 'd', 's'], 'Ġ800': ['Ġ', '8', '0', '0'], 'Ġkg': ['Ġ', 'k', 'g'], 'Ġ80': ['Ġ', '8', '0'], 'Ġpound': ['Ġp', 'ou', 'n', 'd'], 'Ġpiercing': ['Ġp', 'i', 'er', 'c', 'ing'], 'Ġbolts': ['Ġb', 'o', 'l', 't', 's'], 'Ġ110': ['Ġ1', '1', '0'], 'Ġexplosive': ['Ġe', 'x', 'p', 'lo', 's', 'i', 'v', 'e'], 'Ġshells': ['Ġs', 'h', 'el', 'l', 's'], 'Ġequivalent': ['Ġe', 'q', 'u', 'i', 'v', 'al', 'ent'], 'Ġsolid': ['Ġs', 'o', 'l', 'i', 'd'], 'Ġram': ['Ġ', 'ra', 'm'], 'Ġreinforced': ['Ġre', 'in', 'f', 'or', 'c', 'ed'], 'Ġsteel': ['Ġs', 't', 'e', 'el'], 'Ġbars': ['Ġb', 'ar', 's'], 'Ġspar': ['Ġs', 'p', 'ar'], 'Ġtorpedo': ['Ġt', 'or', 'p', 'ed', 'o'], 'Ġpowder': ['Ġp', 'o', 'w', 'd', 'er'], 'Ġpole': ['Ġp', 'o', 'le'], 'Ġconnected': ['Ġc', 'on', 'n', 'ec', 't', 'ed'], 'Ġlever': ['Ġ', 'le', 'v', 'er'], 'Ġlowered': ['Ġ', 'lo', 'w', 'er', 'ed'], 'Ġmeans': ['Ġm', 'e', 'an', 's'], 'Ġpulleys': ['Ġp', 'u', 'l', 'le', 'y', 's'], 'ĠJuly': ['Ġ', 'J', 'u', 'ly'], 'ĠCharles': ['ĠC', 'h', 'ar', 'l', 'es'], 'ĠMcBlair': ['ĠM', 'c', 'B', 'l', 'a', 'i', 'r'], 'Ġtrials': ['Ġt', 'r', 'i', 'al', 's'], 'ĠPulaski': ['ĠP', 'u', 'l', 'as', 'k', 'i'], 'Ġdifficult': ['Ġd', 'i', 'f', 'f', 'ic', 'u', 'l', 't'], 'Ġsteer': ['Ġs', 't', 'e', 'er'], 'Ġweight': ['Ġw', 'e', 'i', 'g', 'h', 't'], 'Ġsignificantly': ['Ġs', 'i', 'g', 'n', 'i', 'f', 'ic', 'an', 't', 'ly'], 'Ġreduced': ['Ġ', 'r', 'ed', 'u', 'c', 'ed'], 'Ġwaters': ['Ġw', 'at', 'ers'], 'Ġleaked': ['Ġ', 'le', 'a', 'k', 'ed'], 'Ġvirtually': ['Ġ', 'v', 'i', 'r', 't', 'u', 'al', 'ly'], 'Ġair': ['Ġa', 'i', 'r'], 'Ġcirculation': ['Ġc', 'i', 'r', 'c', 'u', 'l', 'at', 'ion'], 'Ġreport': ['Ġre', 'p', 'or', 't'], 'Ġintolerable': ['Ġin', 't', 'o', 'l', 'er', 'a', 'b', 'le'], 'Ġventilation': ['Ġ', 'v', 'en', 'ti', 'l', 'at', 'ion'], 'Ġheat': ['Ġh', 'e', 'at'], 'Ġintense': ['Ġin', 't', 'en', 's', 'e'], 'Ġcommented': ['Ġc', 'om', 'm', 'ent', 'ed'], 'Ġdiary': ['Ġd', 'i', 'ar', 'y'], 'ĠWhat': ['Ġ', 'W', 'h', 'at'], 'Ġcomfortless': ['Ġc', 'om', 'f', 'or', 't', 'l', 'es', 's'], 'Ġinfernal': ['Ġin', 'f', 'er', 'n', 'al'], 'ĠGod': ['Ġ', 'G', 'o', 'd'], 'Ġforsaken': ['Ġf', 'or', 's', 'a', 'k', 'en'], 'Ġ!': ['Ġ', '!'], 'ĠAttempts': ['ĠA', 't', 't', 'e', 'm', 'p', 't', 's'], 'Ġfix': ['Ġf', 'i', 'x'], 'Ġleaks': ['Ġ', 'le', 'a', 'k', 's'], 'Ġ22': ['Ġ', '2', '2'], 'Ġflagship': ['Ġf', 'l', 'a', 'g', 's', 'h', 'i', 'p'], 'ĠFlag': ['Ġ', 'F', 'l', 'a', 'g'], 'ĠOfficer': ['Ġ', 'O', 'f', 'f', 'ic', 'er'], 'ĠJosiah': ['Ġ', 'J', 'o', 's', 'i', 'a', 'h'], 'ĠTattnall': ['Ġ', 'T', 'at', 't', 'n', 'al', 'l'], 'Ġdefenses': ['Ġd', 'e', 'f', 'en', 's', 'es'], 'ĠUnder': ['Ġ', 'U', 'n', 'd', 'er'], 'Ġpressure': ['Ġp', 'r', 'es', 's', 'u', 're'], 'Ġblockading': ['Ġb', 'lo', 'c', 'k', 'a', 'd', 'ing'], 'Ġironclads': ['Ġ', 'i', 'r', 'on', 'c', 'l', 'a', 'd', 's'], 'Ġarrived': ['Ġ', 'ar', 'r', 'i', 'v', 'ed'], 'Ġengineers': ['Ġ', 'en', 'g', 'in', 'e', 'ers'], 'Ġclear': ['Ġc', 'le', 'ar'], 'Ġobstacles': ['Ġ', 'o', 'b', 'st', 'ac', 'l', 'es'], 'Ġblocking': ['Ġb', 'lo', 'c', 'k', 'ing'], 'Ġtimely': ['Ġ', 'ti', 'm', 'el', 'y'], 'Ġmanner': ['Ġm', 'an', 'n', 'er'], 'Ġcoordination': ['Ġc', 'o', 'or', 'd', 'in', 'at', 'ion'], 'Ġactually': ['Ġa', 'c', 't', 'u', 'al', 'ly'], 'ĠNonetheless': ['Ġ', 'N', 'on', 'et', 'h', 'el', 'es', 's'], 'Ġpass': ['Ġp', 'as', 's'], 'Ġobstructions': ['Ġ', 'o', 'b', 'st', 'r', 'u', 'c', 'ti', 'on', 's'], 'Ġtide': ['Ġ', 'ti', 'd', 'e'], 'Ġwinds': ['Ġw', 'in', 'd', 's'], 'Ġprevented': ['Ġp', 're', 'v', 'ent', 'ed'], 'Ġwater': ['Ġw', 'at', 'er'], 'Ġrising': ['Ġ', 'r', 'is', 'ing'], 'Ġallow': ['Ġ', 'al', 'lo', 'w'], 'Ġpassed': ['Ġp', 'as', 's', 'ed'], 'ĠPort': ['ĠP', 'or', 't'], 'ĠRoyal': ['Ġ', 'R', 'o', 'y', 'al'], 'ĠCarolina': ['ĠC', 'ar', 'o', 'l', 'in', 'a'], 'Ġattacking': ['Ġ', 'at', 't', 'ac', 'k', 'ing'], 'ĠCharleston': ['ĠC', 'h', 'ar', 'l', 'es', 't', 'on'], 'ĠDeserters': ['Ġ', 'D', 'es', 'er', 't', 'ers'], 'ĠTatnall': ['Ġ', 'T', 'at', 'n', 'al', 'l'], 'Ġwaiting': ['Ġw', 'a', 'it', 'ing'], 'ĠWassaw': ['Ġ', 'W', 'as', 's', 'a', 'w'], 'Ġretreat': ['Ġre', 't', 're', 'at'], 'Ġaugmented': ['Ġa', 'u', 'g', 'm', 'ent', 'ed'], 'ĠDissatisfied': ['Ġ', 'D', 'is', 's', 'at', 'is', 'f', 'i', 'ed'], 'Ġlack': ['Ġ', 'l', 'ac', 'k'], 'Ġaggressiveness': ['Ġa', 'g', 'g', 'r', 'es', 's', 'i', 'v', 'en', 'es', 's'], 'Ġsquadron': ['Ġs', 'q', 'u', 'a', 'd', 'r', 'on'], 'ĠCommander': ['ĠC', 'om', 'm', 'an', 'd', 'er'], 'ĠPage': ['ĠP', 'a', 'g', 'e'], 'Ġrelieved': ['Ġre', 'l', 'i', 'e', 'v', 'ed'], 'ĠWebb': ['Ġ', 'W', 'e', 'b', 'b'], 'Ġdemonstrated': ['Ġd', 'e', 'm', 'on', 'st', 'r', 'at', 'ed'], 'Ġsortie': ['Ġs', 'or', 'ti', 'e'], 'Ġbroke': ['Ġb', 'ro', 'k', 'e'], 'Ġpull': ['Ġp', 'u', 'l', 'l'], 'Ġrejecting': ['Ġre', 'j', 'ec', 't', 'ing'], 'Ġcomplete': ['Ġc', 'om', 'p', 'le', 't', 'e'], 'Ġmeantime': ['Ġm', 'e', 'an', 'ti', 'm', 'e'], 'ĠRear': ['Ġ', 'R', 'e', 'ar'], 'ĠAdmiral': ['ĠA', 'd', 'm', 'i', 'r', 'al'], 'ĠF': ['Ġ', 'F'], 'ĠDu': ['Ġ', 'D', 'u'], 'ĠPont': ['ĠP', 'on', 't'], 'ĠAtlantic': ['ĠA', 't', 'l', 'an', 'ti', 'c'], 'ĠBlockading': ['Ġ', 'B', 'lo', 'c', 'k', 'a', 'd', 'ing'], 'ĠSquadron': ['ĠS', 'q', 'u', 'a', 'd', 'r', 'on'], 'ĠWeehawken': ['Ġ', 'W', 'e', 'e', 'h', 'a', 'w', 'k', 'en'], 'ĠNahant': ['Ġ', 'N', 'a', 'h', 'an', 't'], 'ĠRodgers': ['Ġ', 'R', 'o', 'd', 'g', 'ers'], 'ĠWilmington': ['Ġ', 'W', 'il', 'm', 'ing', 't', 'on'], 'Ġcoaling': ['Ġc', 'o', 'al', 'ing'], 'Ġconcealed': ['Ġc', 'on', 'c', 'e', 'al', 'ed'], 'Ġeasy': ['Ġe', 'as', 'y'], 'Ġsink': ['Ġs', 'in', 'k'], 'ĠIsondiga': ['Ġ', 'I', 's', 'on', 'd', 'i', 'g', 'a'], 'Ġtugboat': ['Ġt', 'u', 'g', 'b', 'o', 'at'], 'ĠResolute': ['Ġ', 'R', 'es', 'o', 'l', 'u', 't', 'e'], 'Ġaccompany': ['Ġa', 'c', 'c', 'om', 'p', 'an', 'y'], 'Ġtow': ['Ġt', 'o', 'w'], 'Ġlookout': ['Ġ', 'lo', 'o', 'k', 'ou', 't'], 'Ġaboard': ['Ġa', 'b', 'o', 'ar', 'd'], 'Ġspotted': ['Ġs', 'p', 'o', 't', 't', 'ed'], 'Ġ04': ['Ġ', '0', '4'], 'Ġlanded': ['Ġ', 'l', 'an', 'd', 'ed'], 'Ġsandbar': ['Ġs', 'an', 'd', 'b', 'ar'], 'Ġpushed': ['Ġp', 'u', 's', 'h', 'ed'], 'Ġonto': ['Ġ', 'on', 't', 'o'], 'Ġget': ['Ġ', 'g', 'et'], 'Ġ200': ['Ġ', '2', '0', '0'], 'Ġyards': ['Ġ', 'y', 'ar', 'd', 's'], 'Ġ270': ['Ġ', '2', '7', '0'], 'Ġ279': ['Ġ', '2', '7', '9'], 'Ġ381': ['Ġ', '3', '8', '1'], 'Ġstruck': ['Ġs', 't', 'r', 'u', 'c', 'k'], 'Ġpenetrated': ['Ġp', 'en', 'et', 'r', 'at', 'ed'], 'Ġbacking': ['Ġb', 'ac', 'k', 'ing'], 'Ġspraying': ['Ġs', 'p', 'ra', 'y', 'ing'], 'Ġsplinters': ['Ġs', 'p', 'l', 'in', 't', 'ers'], 'Ġfragments': ['Ġf', 'ra', 'g', 'm', 'ent', 's'], 'Ġdisabled': ['Ġd', 'is', 'a', 'b', 'l', 'ed'], 'Ġcleanly': ['Ġc', 'le', 'an', 'ly'], 'Ġpenetrate': ['Ġp', 'en', 'et', 'r', 'at', 'e'], 'ĠDahlgren': ['Ġ', 'D', 'a', 'h', 'l', 'g', 'r', 'en'], 'Ġleak': ['Ġ', 'le', 'a', 'k'], 'Ġglanced': ['Ġ', 'g', 'l', 'an', 'c', 'ed'], 'Ġstarboard': ['Ġs', 't', 'ar', 'b', 'o', 'ar', 'd'], 'Ġwounding': ['Ġw', 'ou', 'n', 'd', 'ing'], 'Ġpilots': ['Ġp', 'il', 'o', 't', 's'], 'Ġhard': ['Ġh', 'ar', 'd'], 'Ġmaneuver': ['Ġm', 'an', 'e', 'u', 'v', 'er'], 'Ġpositions': ['Ġp', 'o', 's', 'i', 'ti', 'on', 's'], 'Ġreply': ['Ġre', 'p', 'ly'], 'Ġdamage': ['Ġd', 'a', 'm', 'a', 'g', 'e'], 'Ġinflicted': ['Ġin', 'f', 'l', 'ic', 't', 'ed'], 'Ġresistance': ['Ġ', 'r', 'es', 'is', 't', 'an', 'c', 'e'], 'Ġ124': ['Ġ1', '2', '4'], 'Ġwounded': ['Ġw', 'ou', 'n', 'd', 'ed'], 'Ġbadly': ['Ġb', 'a', 'd', 'ly'], 'Ġrequire': ['Ġre', 'q', 'u', 'i', 're'], 'Ġhospitalization': ['Ġh', 'o', 's', 'p', 'it', 'al', 'i', 'z', 'at', 'ion']}\n"
          ]
        }
      ]
    },
    {
      "cell_type": "markdown",
      "metadata": {
        "id": "j8m-wRcB2EBg"
      },
      "source": [
        "We provide the tokenize function to you"
      ]
    },
    {
      "cell_type": "code",
      "execution_count": null,
      "metadata": {
        "colab": {
          "base_uri": "https://localhost:8080/"
        },
        "id": "cblln3YG2Dbd",
        "outputId": "ed48f793-1e75-473e-a6e5-0e982bbbf87a"
      },
      "outputs": [
        {
          "output_type": "stream",
          "name": "stdout",
          "text": [
            "['D', 'ar', 'm', 'st', 'a', 'd', 't', 'Ġh', 'o', 'l', 'd', 's', 'Ġt', 'h', 'e', 'Ġ', 'o', 'f', 'f', 'ic', 'i', 'al', 'Ġ', 'ti', 't', 'le', 'ĠC', 'it', 'y', 'Ġ', 'o', 'f', 'ĠS', 'c', 'i', 'en', 'c', 'e', 'Ġ', '(', 'G', 'er', 'm', 'an', ':', 'Ġ', 'W', 'is', 's', 'en', 's', 'c', 'h', 'a', 'f', 't', 's', 'st', 'a', 'd', 't', ')', 'Ġa', 's', 'Ġ', 'it', 'Ġ', 'is', 'Ġa', 'Ġm', 'a', 'j', 'or', 'Ġc', 'ent', 're', 'Ġ', 'o', 'f', 'Ġs', 'c', 'i', 'en', 'ti', 'f', 'ic', 'Ġin', 's', 'ti', 't', 'u', 'ti', 'on', 's', ',', 'Ġ', 'u', 'n', 'i', 'v', 'ers', 'i', 'ti', 'es', ',', 'Ġ', 'an', 'd', 'Ġh', 'i', 'g', 'h', '-', 't', 'ec', 'h', 'n', 'o', 'lo', 'g', 'y', 'Ġc', 'om', 'p', 'an', 'i', 'es', '.']\n",
            "Length with vocab size of 200 == 128\n"
          ]
        }
      ],
      "source": [
        "sentence_example = \"Darmstadt holds the official title City of Science (German: Wissenschaftsstadt) as it is a major centre of scientific institutions, universities, and high-technology companies.\"\n",
        "def tokenize(text):\n",
        "    pre_tokenize_result = tokenizer._tokenizer.pre_tokenizer.pre_tokenize_str(text)\n",
        "    pre_tokenized_text = [word for word, offset in pre_tokenize_result]\n",
        "    splits = [[l for l in word] for word in pre_tokenized_text]\n",
        "    for pair, merge in merges.items():\n",
        "        for idx, split in enumerate(splits):\n",
        "            i = 0\n",
        "            while i < len(split) - 1:\n",
        "                if split[i] == pair[0] and split[i + 1] == pair[1]:\n",
        "                    split = split[:i] + [merge] + split[i + 2 :]\n",
        "                else:\n",
        "                    i += 1\n",
        "            splits[idx] = split\n",
        "\n",
        "    return sum(splits, [])\n",
        "print(tokenize(sentence_example))\n",
        "print(f\"Length with vocab size of 200 == {len(tokenize(sentence_example))}\")"
      ]
    },
    {
      "cell_type": "markdown",
      "metadata": {
        "id": "7hhrzhK92Snp"
      },
      "source": [
        "### Task 1.6\n",
        "Now, repeat the byte pair encoding for vocab sizes of 1000 and 5000. What do you notice?\n",
        "\n",
        "Our observation reveals that increasing the vocabulary size leads to an improved learning of the tokenizer, as it gains access to a greater number of BPE rules. Our findings confirm this statement, as the total length of the sentence after tokenization is reduced when utilizing a larger vocabulary and a greater number of BPE rules. Please refer to the provided prints for the respective lengths at the end of this block."
      ]
    },
    {
      "cell_type": "code",
      "execution_count": null,
      "metadata": {
        "id": "meRyvt-02ydt"
      },
      "outputs": [],
      "source": [
        "# Use this chunk for the answer\n",
        "vocab_size = 1000\n",
        "merges = {(\"i\", \"n\"): \"in\"}\n",
        "vocab.append(\"in\")\n",
        "while len(vocab) < vocab_size:\n",
        "    pair_freqs = compute_pair_freqs(splits_1000)\n",
        "    best_pair = \"\"\n",
        "    max_freq = None\n",
        "    for pair, freq in pair_freqs.items():\n",
        "        if max_freq is None or max_freq < freq:\n",
        "            best_pair = pair\n",
        "            max_freq = freq\n",
        "    splits_1000 = merge_pair(*best_pair, splits_1000)\n",
        "    merges[best_pair] = best_pair[0] + best_pair[1]\n",
        "    vocab.append(best_pair[0] + best_pair[1])"
      ]
    },
    {
      "cell_type": "code",
      "source": [
        "print(tokenize(sentence_example))\n",
        "print(f\"Length with vocab size of 1000 == {len(tokenize(sentence_example))}\")"
      ],
      "metadata": {
        "colab": {
          "base_uri": "https://localhost:8080/"
        },
        "id": "8WpVWVA5y6QY",
        "outputId": "74356d31-9c4a-4879-a003-288d9314402a"
      },
      "execution_count": null,
      "outputs": [
        {
          "output_type": "stream",
          "name": "stdout",
          "text": [
            "['D', 'ar', 'm', 'st', 'ad', 't', 'Ġh', 'old', 's', 'Ġth', 'e', 'Ġoffic', 'ial', 'Ġ', 'tit', 'le', 'ĠC', 'ity', 'Ġo', 'f', 'ĠS', 'ci', 'ence', 'Ġ', '(', 'G', 'er', 'man', ':', 'ĠW', 'iss', 'ens', 'ch', 'a', 'f', 'ts', 'st', 'ad', 't', ')', 'Ġas', 'Ġ', 'it', 'Ġ', 'is', 'Ġa', 'Ġma', 'j', 'or', 'Ġcent', 're', 'Ġo', 'f', 'Ġs', 'ci', 'enti', 'f', 'ic', 'Ġin', 's', 'tit', 'u', 'tions', ',', 'Ġun', 'iv', 'ers', 'ities', ',', 'Ġ', 'and', 'Ġhigh', '-', 't', 'ech', 'n', 'ology', 'Ġcomp', 'an', 'ies', '.']\n",
            "Length with vocab size of 1000 == 81\n"
          ]
        }
      ]
    },
    {
      "cell_type": "code",
      "execution_count": null,
      "metadata": {
        "id": "kal8RQFO2261"
      },
      "outputs": [],
      "source": [
        "# Use this chunk for the answer\n",
        "vocab_size = 5000\n",
        "merges = {(\"i\", \"n\"): \"in\"}\n",
        "vocab.append(\"in\")\n",
        "while len(vocab) < vocab_size:\n",
        "    pair_freqs = compute_pair_freqs(splits_5000)\n",
        "    best_pair = \"\"\n",
        "    max_freq = None\n",
        "    for pair, freq in pair_freqs.items():\n",
        "        if max_freq is None or max_freq < freq:\n",
        "            best_pair = pair\n",
        "            max_freq = freq\n",
        "    splits_5000 = merge_pair(*best_pair, splits_5000)\n",
        "    merges[best_pair] = best_pair[0] + best_pair[1]\n",
        "    vocab.append(best_pair[0] + best_pair[1])"
      ]
    },
    {
      "cell_type": "code",
      "source": [
        "print(tokenize(sentence_example))\n",
        "print(f\"Length with vocab size of 5000 == {len(tokenize(sentence_example))}\")"
      ],
      "metadata": {
        "colab": {
          "base_uri": "https://localhost:8080/"
        },
        "id": "VsD_TtvLxy0V",
        "outputId": "be9c3911-d9d8-4802-b3b5-a0b2835de8eb"
      },
      "execution_count": null,
      "outputs": [
        {
          "output_type": "stream",
          "name": "stdout",
          "text": [
            "['D', 'ar', 'm', 'st', 'ad', 't', 'Ġhold', 's', 'Ġthe', 'Ġofficial', 'Ġtitle', 'ĠC', 'ity', 'Ġof', 'ĠSci', 'ence', 'Ġ(', 'G', 'er', 'man', ':', 'ĠW', 'iss', 'ens', 'ch', 'a', 'f', 'ts', 'st', 'ad', 't', ')', 'Ġas', 'Ġit', 'Ġis', 'Ġa', 'Ġmajor', 'Ġcent', 're', 'Ġof', 'Ġs', 'ci', 'entific', 'Ġins', 'tit', 'u', 'tions', ',', 'Ġun', 'iv', 'ers', 'ities', ',', 'Ġand', 'Ġhigh', '-', 't', 'ech', 'n', 'ology', 'Ġcomp', 'an', 'ies', '.']\n",
            "Length with vocab size of 5000 == 64\n"
          ]
        }
      ]
    },
    {
      "cell_type": "markdown",
      "metadata": {
        "id": "5ghNlhsff965"
      },
      "source": [
        "# **Task 2: Getting to Know Foundation Models**"
      ]
    },
    {
      "cell_type": "markdown",
      "metadata": {
        "id": "aV17kklOgivY"
      },
      "source": [
        "In this task, we want to load two different versions of GPT-2 and compare their performance."
      ]
    },
    {
      "cell_type": "markdown",
      "metadata": {
        "id": "USWKMnuJhF9D"
      },
      "source": [
        "### Task 2.1\n",
        "\n",
        "After we imported transformers from Huggingface, your first task is to initialize the GPT2LMHead Model. This model should be a gpt2 model from huggingface under the variable model. Also define the GPT2 tokenizer.\n",
        "\n",
        "While we have seen the transformers in the lectures, you should print a single GPT2Block to the console for the 10th layer. Then, count the parameters of the model."
      ]
    },
    {
      "cell_type": "code",
      "execution_count": null,
      "metadata": {
        "id": "Qgu9ahxzzcAf"
      },
      "outputs": [],
      "source": [
        "# initialize model and tokenizer\n",
        "model_small = GPT2LMHeadModel.from_pretrained(\"gpt2\")\n",
        "tokenizer_gpt2 = GPT2Tokenizer.from_pretrained(\"gpt2\")"
      ]
    },
    {
      "cell_type": "code",
      "execution_count": null,
      "metadata": {
        "colab": {
          "base_uri": "https://localhost:8080/"
        },
        "id": "oFrpwjZ7iUv1",
        "outputId": "82484f13-1f83-4744-aaf4-061599173784"
      },
      "outputs": [
        {
          "output_type": "stream",
          "name": "stdout",
          "text": [
            "10th layer of GPT2LMHead: \n",
            "GPT2Block(\n",
            "  (ln_1): LayerNorm((768,), eps=1e-05, elementwise_affine=True)\n",
            "  (attn): GPT2Attention(\n",
            "    (c_attn): Conv1D()\n",
            "    (c_proj): Conv1D()\n",
            "    (attn_dropout): Dropout(p=0.1, inplace=False)\n",
            "    (resid_dropout): Dropout(p=0.1, inplace=False)\n",
            "  )\n",
            "  (ln_2): LayerNorm((768,), eps=1e-05, elementwise_affine=True)\n",
            "  (mlp): GPT2MLP(\n",
            "    (c_fc): Conv1D()\n",
            "    (c_proj): Conv1D()\n",
            "    (act): NewGELUActivation()\n",
            "    (dropout): Dropout(p=0.1, inplace=False)\n",
            "  )\n",
            ")\n",
            "The model has 124,439,808 trainable parameters\n"
          ]
        }
      ],
      "source": [
        "# Print a GPT2Block in the 10th layer\n",
        "# There are 12 layers, the index begins at 0, there the 10th layer has an index of 9\n",
        "print(f\"10th layer of GPT2LMHead: \\n{model_small.transformer.h[9]}\")\n",
        "\n",
        "def count_parameters(model):\n",
        "    #YOUR CODE HERE\n",
        "    #trainable are equal to total in this case\n",
        "    return sum(p.numel() for p in model.parameters() if p.requires_grad)\n",
        "\n",
        "# GPT2_small parameter trainable parameters:\n",
        "print(f\"The model has {count_parameters(model_small):,} trainable parameters\")"
      ]
    },
    {
      "cell_type": "markdown",
      "metadata": {
        "id": "K5aP7qz1jTB8"
      },
      "source": [
        "### Task 2.2\n",
        "Because we want to compare two versions of GPT, you now also load the gpt2-large from huggingface as model. As evaluation dataset you import the dataset \"wikitext-2-raw-v1\" from huggingface. (like in Task1) Make sure to use the 200 first entries of the test dataset and print an entry. Also print the parameters of the gpt2-large model"
      ]
    },
    {
      "cell_type": "code",
      "execution_count": null,
      "metadata": {
        "id": "M2HiN-Tw5p7s"
      },
      "outputs": [],
      "source": [
        "# Load the gpt2-large model from huggingface\n",
        "model_large = GPT2LMHeadModel.from_pretrained(\"gpt2-large\")\n",
        "tokenizer_gpt2_large = GPT2Tokenizer.from_pretrained(\"gpt2-large\")"
      ]
    },
    {
      "cell_type": "code",
      "execution_count": null,
      "metadata": {
        "colab": {
          "base_uri": "https://localhost:8080/",
          "height": 138,
          "referenced_widgets": [
            "a29b4980f83e4f94bb9777275375cbd4",
            "1992b050c6cf4049a139aa5ce5d5d121",
            "4323a5c7ec9e4e76b366447d0a97bc62",
            "88c6cb0a0f1f42359fc424ec3c98300d",
            "6a20218258d34e88b077da6d9758ccb8",
            "73f356feb81b436abc0d912945f69ec0",
            "14545ffc0dd442f88047ca75ad5e0744",
            "0ded83c8988647faa7e51d44a230dfab",
            "c25c16702959458fa110f0dfdae3810c",
            "7861524320264b819d8e45f80d14b78c",
            "cfa48f5364294bebad5789f2266f6939"
          ]
        },
        "id": "o65wiL-ljSXD",
        "outputId": "d81d2e07-debe-45de-f740-3ca720b43867"
      },
      "outputs": [
        {
          "output_type": "stream",
          "name": "stderr",
          "text": [
            "WARNING:datasets.builder:Found cached dataset wikitext (/root/.cache/huggingface/datasets/wikitext/wikitext-2-raw-v1/1.0.0/a241db52902eaf2c6aa732210bead40c090019a499ceb13bcbfa3f8ab646a126)\n"
          ]
        },
        {
          "output_type": "display_data",
          "data": {
            "text/plain": [
              "  0%|          | 0/3 [00:00<?, ?it/s]"
            ],
            "application/vnd.jupyter.widget-view+json": {
              "version_major": 2,
              "version_minor": 0,
              "model_id": "a29b4980f83e4f94bb9777275375cbd4"
            }
          },
          "metadata": {}
        },
        {
          "output_type": "stream",
          "name": "stdout",
          "text": [
            "Second entry:  = Robert Boulter = \n",
            "\n",
            "The GPT2-LARGE model has 774,030,080 trainable parameters\n"
          ]
        }
      ],
      "source": [
        "# Load the dataset\n",
        "whole_dataset = load_dataset(\"wikitext\", \"wikitext-2-raw-v1\")\n",
        "test_dataset = whole_dataset[\"test\"][\"text\"][:200]\n",
        "# Print any single entry\n",
        "print(f'Second entry: {test_dataset[1]}')\n",
        "# Print Trainable parameters of huggingface gpt2-large\n",
        "print(f\"The GPT2-LARGE model has {count_parameters(model_large):,} trainable parameters\")"
      ]
    },
    {
      "cell_type": "markdown",
      "metadata": {
        "id": "PE8eAYwllUXd"
      },
      "source": [
        "### Task 2.3\n",
        "As a next step, we define an evaluation metric to calculate predictions. Remember the perplexity funciton from the lecture. The function should take a model, tokenizer and a text and return the perplexity score for the given text.\n",
        "\n",
        "Hint: you should encode the text, generate outputs for inputs and corresponding labels and then calculate perplexity."
      ]
    },
    {
      "cell_type": "code",
      "execution_count": null,
      "metadata": {
        "id": "GoW8ALAclTNd"
      },
      "outputs": [],
      "source": [
        "# useful article: https://medium.com/@priyankads/perplexity-of-language-models-41160427ed72\n",
        "def calculate_perplexity(model, tokenizer, text):\n",
        "    # YOUR CODE HERE\n",
        "    inputs = tokenizer(text, return_tensors=\"pt\")\n",
        "    loss = model(input_ids=inputs[\"input_ids\"], labels=inputs[\"input_ids\"]).loss\n",
        "    ppl = torch.exp(loss)\n",
        "    #only return the loss value without the backpropagation item\n",
        "    return ppl.item()"
      ]
    },
    {
      "cell_type": "code",
      "source": [
        "import numpy as np\n",
        "from tqdm import tqdm\n",
        "\n",
        "perplexities_small = []\n",
        "perplexities_large = []\n",
        "\n",
        "# Loop over the dataset, append scores to the lists\n",
        "for idx, sent in enumerate(tqdm(test_dataset, desc=\"Processing\")):\n",
        "  try:\n",
        "    perplexities_large.append(calculate_perplexity(model=model_large, tokenizer=tokenizer_gpt2_large, text=sent))\n",
        "  except Exception as e:\n",
        "    perplexities_large.append(np.nan)\n",
        "\n",
        "  try:\n",
        "    perplexities_small.append(calculate_perplexity(model=model_small, tokenizer=tokenizer_gpt2, text=sent))\n",
        "  except Exception as e:\n",
        "    perplexities_small.append(np.nan)\n",
        "\n",
        "# Calculate and print average perplexities\n",
        "print(\"\\nAverage perplexity (GPT2): \", np.nanmean(perplexities_small))\n",
        "print(\"Average perplexity (GPT2 large): \", np.nanmean(perplexities_large))"
      ],
      "metadata": {
        "id": "3Agsnf_MBqYo",
        "colab": {
          "base_uri": "https://localhost:8080/"
        },
        "outputId": "af9591c0-54c1-45bd-eb12-559fdb6ba066"
      },
      "execution_count": null,
      "outputs": [
        {
          "output_type": "stream",
          "name": "stderr",
          "text": [
            "Processing: 100%|██████████| 200/200 [10:12<00:00,  3.06s/it]"
          ]
        },
        {
          "output_type": "stream",
          "name": "stdout",
          "text": [
            "\n",
            "Average perplexity (GPT2):  509.78572745477\n",
            "Average perplexity (GPT2 large):  433.0942020723897\n"
          ]
        },
        {
          "output_type": "stream",
          "name": "stderr",
          "text": [
            "\n"
          ]
        }
      ]
    },
    {
      "cell_type": "markdown",
      "metadata": {
        "id": "rZo_eKSyo3Xv"
      },
      "source": [
        "What do you notice? Please explain.\n",
        "\n",
        "We notice that the GPT2 large model has a lower perplexity value than the small model.\n",
        "\n",
        "The lower perplexity value of the GPT2 large model suggests that it has a better ability to predict the next word in a given sequence compared to the GPT2 small model. This improvement can be attributed to the larger size or more advanced architecture of the GPT2 large model due to the bigger number of trainable parameters, which enables it to capture more intricate language patterns and dependencies.\n",
        "\n",
        "In summary, based on the perplexity results, the GPT2 large model demonstrates better performance in terms of language modeling compared to the GPT2 small model."
      ]
    },
    {
      "cell_type": "markdown",
      "metadata": {
        "id": "rVsco9sDpFuq"
      },
      "source": [
        "### Task 2.4 Masking attention\n",
        "What is an attention mask? When and why is it usually used?"
      ]
    },
    {
      "cell_type": "markdown",
      "metadata": {
        "id": "Ab6inZye-TbO"
      },
      "source": [
        "Your answer here:\n",
        "\n",
        "An attention mask is a binary mask (list of 0s and 1s) used in attention mechanisms, particularly in transformer-based models, to indicate which tokens in the input sequence should be taken into consideration (valid tokens) and which should be ignored (padding tokens).\n",
        "\n",
        "By using attention masks, the model can effectively handle sequences of different lengths while maintaining accurate attention and avoiding interference from irrelevant tokens.\n"
      ]
    },
    {
      "cell_type": "markdown",
      "metadata": {
        "id": "PPaOYCMj_EB6"
      },
      "source": [
        "Your task is now to run a prompt in regular inference, but with an attention mask. You can reuse the gpt2_small model"
      ]
    },
    {
      "cell_type": "code",
      "execution_count": null,
      "metadata": {
        "colab": {
          "base_uri": "https://localhost:8080/"
        },
        "id": "_sKRNynD_DTO",
        "outputId": "0b5d580a-bc22-4cc3-a1b7-49678f16fdba"
      },
      "outputs": [
        {
          "output_type": "stream",
          "name": "stderr",
          "text": [
            "Setting `pad_token_id` to `eos_token_id`:50256 for open-end generation.\n"
          ]
        },
        {
          "output_type": "stream",
          "name": "stdout",
          "text": [
            "\n",
            "Text Prompt: The sun was setting behind\n",
            "Generated Text: The sun was setting behind the only thing that could stop him.\n",
            "\n",
            "\"I'm sorry,\n"
          ]
        }
      ],
      "source": [
        "text_prompt = \"The sun was setting behind\"\n",
        "\n",
        "# Step 1: Implement attention masking\n",
        "def apply_attention_mask(input_ids, mask_start_idx, mask_end_idx):\n",
        "    # -----------------------\n",
        "    #YOUR CODE HERE\n",
        "    # -----------------------\n",
        "    attention_mask = torch.ones(input_ids.shape)\n",
        "    # mask the given positions\n",
        "    attention_mask[:, mask_start_idx : mask_end_idx + 1] = 0\n",
        "    return attention_mask\n",
        "\n",
        "# Step 2: Apply attention masks\n",
        "mask_start = 3  # Start index of the region to mask\n",
        "mask_end = 5  # End index of the region to mask\n",
        "tokenizer_small = AutoTokenizer.from_pretrained(\"gpt2\")\n",
        "input_ids = tokenizer_small.encode(text_prompt, return_tensors='pt')\n",
        "attention_mask = apply_attention_mask(input_ids, mask_start, mask_end)\n",
        "\n",
        "# Step 3: Generate output using modified attention mechanism\n",
        "with torch.no_grad():\n",
        "    outputs = model_small.generate(input_ids, attention_mask=attention_mask)\n",
        "    generated_text = tokenizer_small.decode(outputs[0], skip_special_tokens=True)\n",
        "\n",
        "# Step 4: Compare and analyze the generated outputs\n",
        "print(\"\\nText Prompt:\", text_prompt)\n",
        "print(\"Generated Text:\", generated_text)"
      ]
    },
    {
      "cell_type": "code",
      "execution_count": null,
      "metadata": {
        "colab": {
          "base_uri": "https://localhost:8080/"
        },
        "id": "H5QQUlgY3XOF",
        "outputId": "19c0a46a-84c9-44f4-e8d5-4bb4a93c2b99"
      },
      "outputs": [
        {
          "output_type": "stream",
          "name": "stderr",
          "text": [
            "The attention mask and the pad token id were not set. As a consequence, you may observe unexpected behavior. Please pass your input's `attention_mask` to obtain reliable results.\n",
            "Setting `pad_token_id` to `eos_token_id`:50256 for open-end generation.\n"
          ]
        },
        {
          "output_type": "stream",
          "name": "stdout",
          "text": [
            "\n",
            "Text Prompt: The sun was setting behind\n",
            "Generated Text NO ATTENTION MASK: The sun was setting behind the clouds, and the wind was blowing in the direction of the sun.\n"
          ]
        }
      ],
      "source": [
        "# Step 5: Run the same prompt without attention mask\n",
        "\n",
        "# YOUR CODE HERE\n",
        "with torch.no_grad():\n",
        "    outputs = model_small.generate(input_ids)\n",
        "    generated_text = tokenizer_small.decode(outputs[0], skip_special_tokens=True)\n",
        "\n",
        "# Step 4: Compare and analyze the generated outputs\n",
        "print(\"\\nText Prompt:\", text_prompt)\n",
        "print(\"Generated Text NO ATTENTION MASK:\", generated_text)"
      ]
    },
    {
      "cell_type": "markdown",
      "metadata": {
        "id": "-cBpnyCRAD5v"
      },
      "source": [
        "Step 6: Compare the two outputs and describe it in one to two sentences"
      ]
    },
    {
      "cell_type": "markdown",
      "metadata": {
        "id": "DWIZC2WAAEXT"
      },
      "source": [
        "Your answer here:\n",
        "\n",
        "The output of the model without applying the attention mask is more suitable for our input because it uses the entire sentence as context, whereas applying this specific attention mask would take off a lot of the context of the sentence which makes it harder for the model to predict the next words."
      ]
    }
  ],
  "metadata": {
    "colab": {
      "provenance": []
    },
    "kernelspec": {
      "display_name": "Python 3",
      "name": "python3"
    },
    "language_info": {
      "name": "python"
    },
    "widgets": {
      "application/vnd.jupyter.widget-state+json": {
        "3712c0b7503d40f59ceafbef768e6b14": {
          "model_module": "@jupyter-widgets/controls",
          "model_name": "HBoxModel",
          "model_module_version": "1.5.0",
          "state": {
            "_dom_classes": [],
            "_model_module": "@jupyter-widgets/controls",
            "_model_module_version": "1.5.0",
            "_model_name": "HBoxModel",
            "_view_count": null,
            "_view_module": "@jupyter-widgets/controls",
            "_view_module_version": "1.5.0",
            "_view_name": "HBoxView",
            "box_style": "",
            "children": [
              "IPY_MODEL_7159a820a1c948f6afd652366513de48",
              "IPY_MODEL_081aa9b819e34b68984c56d72c6746c0",
              "IPY_MODEL_90bed65d322246488792f42a90b9d12d"
            ],
            "layout": "IPY_MODEL_6cb6c549a0b14a68a8927ccfab41fb06"
          }
        },
        "7159a820a1c948f6afd652366513de48": {
          "model_module": "@jupyter-widgets/controls",
          "model_name": "HTMLModel",
          "model_module_version": "1.5.0",
          "state": {
            "_dom_classes": [],
            "_model_module": "@jupyter-widgets/controls",
            "_model_module_version": "1.5.0",
            "_model_name": "HTMLModel",
            "_view_count": null,
            "_view_module": "@jupyter-widgets/controls",
            "_view_module_version": "1.5.0",
            "_view_name": "HTMLView",
            "description": "",
            "description_tooltip": null,
            "layout": "IPY_MODEL_0a9c00ef55224833b40f41d31abb993d",
            "placeholder": "​",
            "style": "IPY_MODEL_7c15cc0c63454299b8862ec9a5351edb",
            "value": "100%"
          }
        },
        "081aa9b819e34b68984c56d72c6746c0": {
          "model_module": "@jupyter-widgets/controls",
          "model_name": "FloatProgressModel",
          "model_module_version": "1.5.0",
          "state": {
            "_dom_classes": [],
            "_model_module": "@jupyter-widgets/controls",
            "_model_module_version": "1.5.0",
            "_model_name": "FloatProgressModel",
            "_view_count": null,
            "_view_module": "@jupyter-widgets/controls",
            "_view_module_version": "1.5.0",
            "_view_name": "ProgressView",
            "bar_style": "success",
            "description": "",
            "description_tooltip": null,
            "layout": "IPY_MODEL_4682977937124058803f93c64013d2b3",
            "max": 3,
            "min": 0,
            "orientation": "horizontal",
            "style": "IPY_MODEL_e20adc936c2543ed9738156336760813",
            "value": 3
          }
        },
        "90bed65d322246488792f42a90b9d12d": {
          "model_module": "@jupyter-widgets/controls",
          "model_name": "HTMLModel",
          "model_module_version": "1.5.0",
          "state": {
            "_dom_classes": [],
            "_model_module": "@jupyter-widgets/controls",
            "_model_module_version": "1.5.0",
            "_model_name": "HTMLModel",
            "_view_count": null,
            "_view_module": "@jupyter-widgets/controls",
            "_view_module_version": "1.5.0",
            "_view_name": "HTMLView",
            "description": "",
            "description_tooltip": null,
            "layout": "IPY_MODEL_51d52b9d80cd4edb8b8d63262bb5ee5e",
            "placeholder": "​",
            "style": "IPY_MODEL_f47813d17c44403db051e2b1fde0c0e0",
            "value": " 3/3 [00:00&lt;00:00, 51.41it/s]"
          }
        },
        "6cb6c549a0b14a68a8927ccfab41fb06": {
          "model_module": "@jupyter-widgets/base",
          "model_name": "LayoutModel",
          "model_module_version": "1.2.0",
          "state": {
            "_model_module": "@jupyter-widgets/base",
            "_model_module_version": "1.2.0",
            "_model_name": "LayoutModel",
            "_view_count": null,
            "_view_module": "@jupyter-widgets/base",
            "_view_module_version": "1.2.0",
            "_view_name": "LayoutView",
            "align_content": null,
            "align_items": null,
            "align_self": null,
            "border": null,
            "bottom": null,
            "display": null,
            "flex": null,
            "flex_flow": null,
            "grid_area": null,
            "grid_auto_columns": null,
            "grid_auto_flow": null,
            "grid_auto_rows": null,
            "grid_column": null,
            "grid_gap": null,
            "grid_row": null,
            "grid_template_areas": null,
            "grid_template_columns": null,
            "grid_template_rows": null,
            "height": null,
            "justify_content": null,
            "justify_items": null,
            "left": null,
            "margin": null,
            "max_height": null,
            "max_width": null,
            "min_height": null,
            "min_width": null,
            "object_fit": null,
            "object_position": null,
            "order": null,
            "overflow": null,
            "overflow_x": null,
            "overflow_y": null,
            "padding": null,
            "right": null,
            "top": null,
            "visibility": null,
            "width": null
          }
        },
        "0a9c00ef55224833b40f41d31abb993d": {
          "model_module": "@jupyter-widgets/base",
          "model_name": "LayoutModel",
          "model_module_version": "1.2.0",
          "state": {
            "_model_module": "@jupyter-widgets/base",
            "_model_module_version": "1.2.0",
            "_model_name": "LayoutModel",
            "_view_count": null,
            "_view_module": "@jupyter-widgets/base",
            "_view_module_version": "1.2.0",
            "_view_name": "LayoutView",
            "align_content": null,
            "align_items": null,
            "align_self": null,
            "border": null,
            "bottom": null,
            "display": null,
            "flex": null,
            "flex_flow": null,
            "grid_area": null,
            "grid_auto_columns": null,
            "grid_auto_flow": null,
            "grid_auto_rows": null,
            "grid_column": null,
            "grid_gap": null,
            "grid_row": null,
            "grid_template_areas": null,
            "grid_template_columns": null,
            "grid_template_rows": null,
            "height": null,
            "justify_content": null,
            "justify_items": null,
            "left": null,
            "margin": null,
            "max_height": null,
            "max_width": null,
            "min_height": null,
            "min_width": null,
            "object_fit": null,
            "object_position": null,
            "order": null,
            "overflow": null,
            "overflow_x": null,
            "overflow_y": null,
            "padding": null,
            "right": null,
            "top": null,
            "visibility": null,
            "width": null
          }
        },
        "7c15cc0c63454299b8862ec9a5351edb": {
          "model_module": "@jupyter-widgets/controls",
          "model_name": "DescriptionStyleModel",
          "model_module_version": "1.5.0",
          "state": {
            "_model_module": "@jupyter-widgets/controls",
            "_model_module_version": "1.5.0",
            "_model_name": "DescriptionStyleModel",
            "_view_count": null,
            "_view_module": "@jupyter-widgets/base",
            "_view_module_version": "1.2.0",
            "_view_name": "StyleView",
            "description_width": ""
          }
        },
        "4682977937124058803f93c64013d2b3": {
          "model_module": "@jupyter-widgets/base",
          "model_name": "LayoutModel",
          "model_module_version": "1.2.0",
          "state": {
            "_model_module": "@jupyter-widgets/base",
            "_model_module_version": "1.2.0",
            "_model_name": "LayoutModel",
            "_view_count": null,
            "_view_module": "@jupyter-widgets/base",
            "_view_module_version": "1.2.0",
            "_view_name": "LayoutView",
            "align_content": null,
            "align_items": null,
            "align_self": null,
            "border": null,
            "bottom": null,
            "display": null,
            "flex": null,
            "flex_flow": null,
            "grid_area": null,
            "grid_auto_columns": null,
            "grid_auto_flow": null,
            "grid_auto_rows": null,
            "grid_column": null,
            "grid_gap": null,
            "grid_row": null,
            "grid_template_areas": null,
            "grid_template_columns": null,
            "grid_template_rows": null,
            "height": null,
            "justify_content": null,
            "justify_items": null,
            "left": null,
            "margin": null,
            "max_height": null,
            "max_width": null,
            "min_height": null,
            "min_width": null,
            "object_fit": null,
            "object_position": null,
            "order": null,
            "overflow": null,
            "overflow_x": null,
            "overflow_y": null,
            "padding": null,
            "right": null,
            "top": null,
            "visibility": null,
            "width": null
          }
        },
        "e20adc936c2543ed9738156336760813": {
          "model_module": "@jupyter-widgets/controls",
          "model_name": "ProgressStyleModel",
          "model_module_version": "1.5.0",
          "state": {
            "_model_module": "@jupyter-widgets/controls",
            "_model_module_version": "1.5.0",
            "_model_name": "ProgressStyleModel",
            "_view_count": null,
            "_view_module": "@jupyter-widgets/base",
            "_view_module_version": "1.2.0",
            "_view_name": "StyleView",
            "bar_color": null,
            "description_width": ""
          }
        },
        "51d52b9d80cd4edb8b8d63262bb5ee5e": {
          "model_module": "@jupyter-widgets/base",
          "model_name": "LayoutModel",
          "model_module_version": "1.2.0",
          "state": {
            "_model_module": "@jupyter-widgets/base",
            "_model_module_version": "1.2.0",
            "_model_name": "LayoutModel",
            "_view_count": null,
            "_view_module": "@jupyter-widgets/base",
            "_view_module_version": "1.2.0",
            "_view_name": "LayoutView",
            "align_content": null,
            "align_items": null,
            "align_self": null,
            "border": null,
            "bottom": null,
            "display": null,
            "flex": null,
            "flex_flow": null,
            "grid_area": null,
            "grid_auto_columns": null,
            "grid_auto_flow": null,
            "grid_auto_rows": null,
            "grid_column": null,
            "grid_gap": null,
            "grid_row": null,
            "grid_template_areas": null,
            "grid_template_columns": null,
            "grid_template_rows": null,
            "height": null,
            "justify_content": null,
            "justify_items": null,
            "left": null,
            "margin": null,
            "max_height": null,
            "max_width": null,
            "min_height": null,
            "min_width": null,
            "object_fit": null,
            "object_position": null,
            "order": null,
            "overflow": null,
            "overflow_x": null,
            "overflow_y": null,
            "padding": null,
            "right": null,
            "top": null,
            "visibility": null,
            "width": null
          }
        },
        "f47813d17c44403db051e2b1fde0c0e0": {
          "model_module": "@jupyter-widgets/controls",
          "model_name": "DescriptionStyleModel",
          "model_module_version": "1.5.0",
          "state": {
            "_model_module": "@jupyter-widgets/controls",
            "_model_module_version": "1.5.0",
            "_model_name": "DescriptionStyleModel",
            "_view_count": null,
            "_view_module": "@jupyter-widgets/base",
            "_view_module_version": "1.2.0",
            "_view_name": "StyleView",
            "description_width": ""
          }
        },
        "a29b4980f83e4f94bb9777275375cbd4": {
          "model_module": "@jupyter-widgets/controls",
          "model_name": "HBoxModel",
          "model_module_version": "1.5.0",
          "state": {
            "_dom_classes": [],
            "_model_module": "@jupyter-widgets/controls",
            "_model_module_version": "1.5.0",
            "_model_name": "HBoxModel",
            "_view_count": null,
            "_view_module": "@jupyter-widgets/controls",
            "_view_module_version": "1.5.0",
            "_view_name": "HBoxView",
            "box_style": "",
            "children": [
              "IPY_MODEL_1992b050c6cf4049a139aa5ce5d5d121",
              "IPY_MODEL_4323a5c7ec9e4e76b366447d0a97bc62",
              "IPY_MODEL_88c6cb0a0f1f42359fc424ec3c98300d"
            ],
            "layout": "IPY_MODEL_6a20218258d34e88b077da6d9758ccb8"
          }
        },
        "1992b050c6cf4049a139aa5ce5d5d121": {
          "model_module": "@jupyter-widgets/controls",
          "model_name": "HTMLModel",
          "model_module_version": "1.5.0",
          "state": {
            "_dom_classes": [],
            "_model_module": "@jupyter-widgets/controls",
            "_model_module_version": "1.5.0",
            "_model_name": "HTMLModel",
            "_view_count": null,
            "_view_module": "@jupyter-widgets/controls",
            "_view_module_version": "1.5.0",
            "_view_name": "HTMLView",
            "description": "",
            "description_tooltip": null,
            "layout": "IPY_MODEL_73f356feb81b436abc0d912945f69ec0",
            "placeholder": "​",
            "style": "IPY_MODEL_14545ffc0dd442f88047ca75ad5e0744",
            "value": "100%"
          }
        },
        "4323a5c7ec9e4e76b366447d0a97bc62": {
          "model_module": "@jupyter-widgets/controls",
          "model_name": "FloatProgressModel",
          "model_module_version": "1.5.0",
          "state": {
            "_dom_classes": [],
            "_model_module": "@jupyter-widgets/controls",
            "_model_module_version": "1.5.0",
            "_model_name": "FloatProgressModel",
            "_view_count": null,
            "_view_module": "@jupyter-widgets/controls",
            "_view_module_version": "1.5.0",
            "_view_name": "ProgressView",
            "bar_style": "success",
            "description": "",
            "description_tooltip": null,
            "layout": "IPY_MODEL_0ded83c8988647faa7e51d44a230dfab",
            "max": 3,
            "min": 0,
            "orientation": "horizontal",
            "style": "IPY_MODEL_c25c16702959458fa110f0dfdae3810c",
            "value": 3
          }
        },
        "88c6cb0a0f1f42359fc424ec3c98300d": {
          "model_module": "@jupyter-widgets/controls",
          "model_name": "HTMLModel",
          "model_module_version": "1.5.0",
          "state": {
            "_dom_classes": [],
            "_model_module": "@jupyter-widgets/controls",
            "_model_module_version": "1.5.0",
            "_model_name": "HTMLModel",
            "_view_count": null,
            "_view_module": "@jupyter-widgets/controls",
            "_view_module_version": "1.5.0",
            "_view_name": "HTMLView",
            "description": "",
            "description_tooltip": null,
            "layout": "IPY_MODEL_7861524320264b819d8e45f80d14b78c",
            "placeholder": "​",
            "style": "IPY_MODEL_cfa48f5364294bebad5789f2266f6939",
            "value": " 3/3 [00:00&lt;00:00, 46.64it/s]"
          }
        },
        "6a20218258d34e88b077da6d9758ccb8": {
          "model_module": "@jupyter-widgets/base",
          "model_name": "LayoutModel",
          "model_module_version": "1.2.0",
          "state": {
            "_model_module": "@jupyter-widgets/base",
            "_model_module_version": "1.2.0",
            "_model_name": "LayoutModel",
            "_view_count": null,
            "_view_module": "@jupyter-widgets/base",
            "_view_module_version": "1.2.0",
            "_view_name": "LayoutView",
            "align_content": null,
            "align_items": null,
            "align_self": null,
            "border": null,
            "bottom": null,
            "display": null,
            "flex": null,
            "flex_flow": null,
            "grid_area": null,
            "grid_auto_columns": null,
            "grid_auto_flow": null,
            "grid_auto_rows": null,
            "grid_column": null,
            "grid_gap": null,
            "grid_row": null,
            "grid_template_areas": null,
            "grid_template_columns": null,
            "grid_template_rows": null,
            "height": null,
            "justify_content": null,
            "justify_items": null,
            "left": null,
            "margin": null,
            "max_height": null,
            "max_width": null,
            "min_height": null,
            "min_width": null,
            "object_fit": null,
            "object_position": null,
            "order": null,
            "overflow": null,
            "overflow_x": null,
            "overflow_y": null,
            "padding": null,
            "right": null,
            "top": null,
            "visibility": null,
            "width": null
          }
        },
        "73f356feb81b436abc0d912945f69ec0": {
          "model_module": "@jupyter-widgets/base",
          "model_name": "LayoutModel",
          "model_module_version": "1.2.0",
          "state": {
            "_model_module": "@jupyter-widgets/base",
            "_model_module_version": "1.2.0",
            "_model_name": "LayoutModel",
            "_view_count": null,
            "_view_module": "@jupyter-widgets/base",
            "_view_module_version": "1.2.0",
            "_view_name": "LayoutView",
            "align_content": null,
            "align_items": null,
            "align_self": null,
            "border": null,
            "bottom": null,
            "display": null,
            "flex": null,
            "flex_flow": null,
            "grid_area": null,
            "grid_auto_columns": null,
            "grid_auto_flow": null,
            "grid_auto_rows": null,
            "grid_column": null,
            "grid_gap": null,
            "grid_row": null,
            "grid_template_areas": null,
            "grid_template_columns": null,
            "grid_template_rows": null,
            "height": null,
            "justify_content": null,
            "justify_items": null,
            "left": null,
            "margin": null,
            "max_height": null,
            "max_width": null,
            "min_height": null,
            "min_width": null,
            "object_fit": null,
            "object_position": null,
            "order": null,
            "overflow": null,
            "overflow_x": null,
            "overflow_y": null,
            "padding": null,
            "right": null,
            "top": null,
            "visibility": null,
            "width": null
          }
        },
        "14545ffc0dd442f88047ca75ad5e0744": {
          "model_module": "@jupyter-widgets/controls",
          "model_name": "DescriptionStyleModel",
          "model_module_version": "1.5.0",
          "state": {
            "_model_module": "@jupyter-widgets/controls",
            "_model_module_version": "1.5.0",
            "_model_name": "DescriptionStyleModel",
            "_view_count": null,
            "_view_module": "@jupyter-widgets/base",
            "_view_module_version": "1.2.0",
            "_view_name": "StyleView",
            "description_width": ""
          }
        },
        "0ded83c8988647faa7e51d44a230dfab": {
          "model_module": "@jupyter-widgets/base",
          "model_name": "LayoutModel",
          "model_module_version": "1.2.0",
          "state": {
            "_model_module": "@jupyter-widgets/base",
            "_model_module_version": "1.2.0",
            "_model_name": "LayoutModel",
            "_view_count": null,
            "_view_module": "@jupyter-widgets/base",
            "_view_module_version": "1.2.0",
            "_view_name": "LayoutView",
            "align_content": null,
            "align_items": null,
            "align_self": null,
            "border": null,
            "bottom": null,
            "display": null,
            "flex": null,
            "flex_flow": null,
            "grid_area": null,
            "grid_auto_columns": null,
            "grid_auto_flow": null,
            "grid_auto_rows": null,
            "grid_column": null,
            "grid_gap": null,
            "grid_row": null,
            "grid_template_areas": null,
            "grid_template_columns": null,
            "grid_template_rows": null,
            "height": null,
            "justify_content": null,
            "justify_items": null,
            "left": null,
            "margin": null,
            "max_height": null,
            "max_width": null,
            "min_height": null,
            "min_width": null,
            "object_fit": null,
            "object_position": null,
            "order": null,
            "overflow": null,
            "overflow_x": null,
            "overflow_y": null,
            "padding": null,
            "right": null,
            "top": null,
            "visibility": null,
            "width": null
          }
        },
        "c25c16702959458fa110f0dfdae3810c": {
          "model_module": "@jupyter-widgets/controls",
          "model_name": "ProgressStyleModel",
          "model_module_version": "1.5.0",
          "state": {
            "_model_module": "@jupyter-widgets/controls",
            "_model_module_version": "1.5.0",
            "_model_name": "ProgressStyleModel",
            "_view_count": null,
            "_view_module": "@jupyter-widgets/base",
            "_view_module_version": "1.2.0",
            "_view_name": "StyleView",
            "bar_color": null,
            "description_width": ""
          }
        },
        "7861524320264b819d8e45f80d14b78c": {
          "model_module": "@jupyter-widgets/base",
          "model_name": "LayoutModel",
          "model_module_version": "1.2.0",
          "state": {
            "_model_module": "@jupyter-widgets/base",
            "_model_module_version": "1.2.0",
            "_model_name": "LayoutModel",
            "_view_count": null,
            "_view_module": "@jupyter-widgets/base",
            "_view_module_version": "1.2.0",
            "_view_name": "LayoutView",
            "align_content": null,
            "align_items": null,
            "align_self": null,
            "border": null,
            "bottom": null,
            "display": null,
            "flex": null,
            "flex_flow": null,
            "grid_area": null,
            "grid_auto_columns": null,
            "grid_auto_flow": null,
            "grid_auto_rows": null,
            "grid_column": null,
            "grid_gap": null,
            "grid_row": null,
            "grid_template_areas": null,
            "grid_template_columns": null,
            "grid_template_rows": null,
            "height": null,
            "justify_content": null,
            "justify_items": null,
            "left": null,
            "margin": null,
            "max_height": null,
            "max_width": null,
            "min_height": null,
            "min_width": null,
            "object_fit": null,
            "object_position": null,
            "order": null,
            "overflow": null,
            "overflow_x": null,
            "overflow_y": null,
            "padding": null,
            "right": null,
            "top": null,
            "visibility": null,
            "width": null
          }
        },
        "cfa48f5364294bebad5789f2266f6939": {
          "model_module": "@jupyter-widgets/controls",
          "model_name": "DescriptionStyleModel",
          "model_module_version": "1.5.0",
          "state": {
            "_model_module": "@jupyter-widgets/controls",
            "_model_module_version": "1.5.0",
            "_model_name": "DescriptionStyleModel",
            "_view_count": null,
            "_view_module": "@jupyter-widgets/base",
            "_view_module_version": "1.2.0",
            "_view_name": "StyleView",
            "description_width": ""
          }
        }
      }
    }
  },
  "nbformat": 4,
  "nbformat_minor": 0
}